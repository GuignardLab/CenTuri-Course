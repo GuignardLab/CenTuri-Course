{
 "cells": [
  {
   "cell_type": "markdown",
   "id": "075636fb",
   "metadata": {},
   "source": [
    "# Table of contents\n",
    "0. [Introduction](0-Introduction.ipynb)\n",
    "1. [Variables](1-Variables.ipynb)\n",
    "2. [Data structures](2-Data-Structures.ipynb) $\\leftarrow$\n",
    "3. [Conditional statements and loops](3-Conditional-Statements-Loops.ipynb)\n",
    "4. [Some exercises](4-Some-Exercises.ipynb)\n",
    "5. [Introduction to functions](5-0-Introduction-function.ipynb)\n",
    "    1. [File manipulation](5-1-File-manipulation.ipynb)\n",
    "6. [From 0D to 1D](6-1-From-0D-to-1D.ipynb)\n",
    "    1. [Adding lateral diffusion](6-2-Adding-lateral-diffusion.ipynb)\n",
    "7. [From 1D to 2D](7-From-1D-to-2D.ipynb)\n",
    "8. [Playing with the model](8-Playing-with-the-model.ipynb)"
   ]
  },
  {
   "cell_type": "markdown",
   "id": "12768ce3",
   "metadata": {},
   "source": [
    "## 2. Data structures\n",
    "---\n",
    "When coding, different data types and data structures can be used. For example we already saw few data types:\n",
    "- Integers (referred to as `int` in Python): `0`, `1`, `-10`, ...\n",
    "- Floating numbers (referred to as `float` in Python): `0.01`, `1.0`, `1.2e10`, ...\n",
    "- Strings (referred to as `str` in Python): `'Hello'`, `\"world\"`, `'12+34'`, ...\n",
    "\n",
    "But of course other data types exist:\n",
    "- Lists (`list`): `[1, 2, 3]`, `[1, None, 0.4]`, `[1, [1, 2], [3], ['Hello'], 'World']`, ...\n",
    "- Tuples (`tuple`): `(1, 2, 3)`, `(1, None, 0.4)`, ...\n",
    "- Dictionaries (`dict`): `{'a': 10, 3:[2, 3, 4], '5': -0.2}`, ..."
   ]
  },
  {
   "cell_type": "markdown",
   "id": "89e9381a",
   "metadata": {},
   "source": [
    "### 2.1 The lists: `list`\n",
    "As their name suggests a `list` allows to store a list of elements. These elements can then be accessed via their position, starting at `0`.\n",
    "\n",
    "There is a lot of possible operations on lists that can be found [there](https://docs.python.org/3/tutorial/datastructures.html#more-on-lists)\n",
    "\n",
    "The Python language is so that a `list` is surrounded by brackets:"
   ]
  },
  {
   "cell_type": "code",
   "execution_count": 5,
   "id": "661a5403",
   "metadata": {},
   "outputs": [
    {
     "name": "stdout",
     "output_type": "stream",
     "text": [
      "l1      = [1, 2, 3, 4]\n",
      "positions: 0  1  2  3\n",
      "l1[0] = 1\n",
      "l1[3] = 4\n"
     ]
    }
   ],
   "source": [
    "l1 = [1, 2, 3, 4]\n",
    "print(f'{l1      = }')\n",
    "print(f'positions: 0  1  2  3')\n",
    "print(f'{l1[0] = }')\n",
    "print(f'{l1[3] = }')"
   ]
  },
  {
   "cell_type": "markdown",
   "id": "51359cbd",
   "metadata": {},
   "source": [
    "It is also possible to access to the values in a list using negative numbers, `-1` being the last element, `-2` the one before last and so on and so forth:"
   ]
  },
  {
   "cell_type": "code",
   "execution_count": 6,
   "id": "3cbac8a2",
   "metadata": {},
   "outputs": [
    {
     "name": "stdout",
     "output_type": "stream",
     "text": [
      "l1       = [1, 2, 3, 4]\n",
      "positions: -4 -3 -2 -1\n",
      "l1[-1] = 4\n",
      "l1[-3] = 2\n"
     ]
    }
   ],
   "source": [
    "print(f'{l1       = }')\n",
    "print(f'positions: -4 -3 -2 -1')\n",
    "print(f'{l1[-1] = }')\n",
    "print(f'{l1[-3] = }')"
   ]
  },
  {
   "cell_type": "markdown",
   "id": "904eb0fd",
   "metadata": {},
   "source": [
    "It is also possible to access part of the list, it is called a slice.\n",
    "\n",
    "To do so the syntax is the following:\n",
    "```\n",
    "list[start:stop:step]\n",
    "```\n",
    "`start` is included, `stop` is not, `step` is the step size."
   ]
  },
  {
   "cell_type": "code",
   "execution_count": 7,
   "id": "f89861d7",
   "metadata": {},
   "outputs": [
    {
     "name": "stdout",
     "output_type": "stream",
     "text": [
      "l1          = [3, 4, 5, 6, 7, 8, 9, 10, 11, 12]\n",
      "positions --> [0, 1, 2, 3, 4, 5, 6, 7, 8, 9]\n",
      "l1[3:7]     = [6, 7, 8, 9]\n",
      "l1[:2]      = [3, 4]\n",
      "l1[6:]      = [9, 10, 11, 12]\n",
      "l1[1:7:2]   = [4, 6, 8]\n"
     ]
    }
   ],
   "source": [
    "l1 = list(range(3, 13))\n",
    "print(f'{l1          = }')\n",
    "print(f'positions --> {list(range(len(l1)))}')\n",
    "print(f'{l1[3:7]     = }')\n",
    "print(f'{l1[:2]      = }')\n",
    "print(f'{l1[6:]      = }')\n",
    "print(f'{l1[1:7:2]   = }')"
   ]
  },
  {
   "cell_type": "markdown",
   "id": "a579920c",
   "metadata": {},
   "source": [
    "A `list` can be modified by adding values into them using the method `append`:"
   ]
  },
  {
   "cell_type": "code",
   "execution_count": 8,
   "id": "8a3ea59f",
   "metadata": {},
   "outputs": [
    {
     "name": "stdout",
     "output_type": "stream",
     "text": [
      "l1    = [1, 2, 3, 4]\n",
      "l1    = [1, 2, 3, 4, 'hello']\n",
      "l1[4] = 'hello'\n"
     ]
    }
   ],
   "source": [
    "l1 = [1, 2, 3, 4]\n",
    "print(f'{l1    = }')\n",
    "l1.append('hello')\n",
    "print(f'{l1    = }')\n",
    "print(f'{l1[4] = }')"
   ]
  },
  {
   "cell_type": "markdown",
   "id": "b263a77f",
   "metadata": {},
   "source": [
    "They can also be modified by removing elements from it using the method `pop` which removes the last element of the list by default:"
   ]
  },
  {
   "cell_type": "code",
   "execution_count": 9,
   "id": "2e22bcb2",
   "metadata": {},
   "outputs": [
    {
     "name": "stdout",
     "output_type": "stream",
     "text": [
      "l1 = [1, 2, 3, 4]\n",
      "l1 = [1, 2, 3]\n"
     ]
    }
   ],
   "source": [
    "l1 = [1, 2, 3, 4]\n",
    "print(f'{l1 = }')\n",
    "l1.pop()\n",
    "print(f'{l1 = }')"
   ]
  },
  {
   "cell_type": "markdown",
   "id": "112f674f",
   "metadata": {},
   "source": [
    "By removing a specific element of the list using the method `remove`:"
   ]
  },
  {
   "cell_type": "code",
   "execution_count": 10,
   "id": "1785e3b6",
   "metadata": {},
   "outputs": [
    {
     "name": "stdout",
     "output_type": "stream",
     "text": [
      "l1 = [4, 5, 6, 7]\n",
      "l1 = [4, 6, 7]\n"
     ]
    }
   ],
   "source": [
    "l1 = [4, 5, 6, 7]\n",
    "print(f'{l1 = }')\n",
    "l1.remove(5)\n",
    "print(f'{l1 = }')"
   ]
  },
  {
   "cell_type": "markdown",
   "id": "25906a1a",
   "metadata": {},
   "source": [
    "Or by modifying already existing values by accessing them:"
   ]
  },
  {
   "cell_type": "code",
   "execution_count": 11,
   "id": "d15b396a",
   "metadata": {},
   "outputs": [
    {
     "name": "stdout",
     "output_type": "stream",
     "text": [
      "l1 = [1, 2, 3, 4]\n",
      "l1 = [1, 3, 3, 4]\n",
      "l1 = [1, 3, 2, 4]\n"
     ]
    }
   ],
   "source": [
    "l1 = [1, 2, 3, 4]\n",
    "print(f'{l1 = }')\n",
    "l1[1] = 3\n",
    "print(f'{l1 = }')\n",
    "l1[2] = l1[0]+1\n",
    "print(f'{l1 = }')"
   ]
  },
  {
   "cell_type": "markdown",
   "id": "6d2febfa",
   "metadata": {},
   "source": [
    "Two lists can be concatenated together either by using the method `extend` or the `+` operator.\n",
    "\n",
    "> ⚠️ It is important to remember that the `extend` method is performed 'in place' meaning that it modifies the list from which it is called from ⚠️"
   ]
  },
  {
   "cell_type": "code",
   "execution_count": 12,
   "id": "d0ced940",
   "metadata": {},
   "outputs": [
    {
     "name": "stdout",
     "output_type": "stream",
     "text": [
      "l3 = [1, 2, 3, 4, 'a', 'b', 'c', 'd']\n",
      "l1 = [1, 2, 3, 4, 'a', 'b', 'c', 'd']\n",
      "l4 = [1, 2, 3, 4, 'a', 'b', 'c', 'd', 'a', 'b', 'c', 'd']\n"
     ]
    }
   ],
   "source": [
    "l1 = [1, 2, 3, 4]\n",
    "l2 = ['a', 'b', 'c', 'd']\n",
    "l3 = l1 + l2\n",
    "print(f'{l3 = }')\n",
    "l1.extend(l2)\n",
    "print(f'{l1 = }')\n",
    "l4 = l1 + l2\n",
    "print(f'{l4 = }')"
   ]
  },
  {
   "cell_type": "markdown",
   "id": "6ae43d84",
   "metadata": {},
   "source": [
    "### 2.2 The dictionaries: `dict`\n",
    "A dictionary is a data structure that maps a key to a value. It is somewhat similar to a `list` except that instead of referring to a value by its position in the `list` it is referred to by its key.\n",
    "\n",
    "Dictionaries are defined using curved brackets `{}`:"
   ]
  },
  {
   "cell_type": "code",
   "execution_count": 13,
   "id": "748d4cc9",
   "metadata": {},
   "outputs": [
    {
     "name": "stdout",
     "output_type": "stream",
     "text": [
      "d1      = {4: '1', '3': 'Hello'}\n",
      "d1[4]   = '1'\n",
      "d1['3'] = 'Hello'\n"
     ]
    }
   ],
   "source": [
    "d1 = {4: '1', '3':'Hello'}\n",
    "print(f'{d1      = }')\n",
    "print(f'{d1[4]   = }')\n",
    "print(f\"{d1['3'] = }\")"
   ]
  },
  {
   "cell_type": "markdown",
   "id": "626e8e03",
   "metadata": {},
   "source": [
    "For reasons that we will not explain here, a `list` cannot be used as a key for a dictionary (though it can be used as values):"
   ]
  },
  {
   "cell_type": "code",
   "execution_count": 14,
   "id": "0ce51435",
   "metadata": {},
   "outputs": [
    {
     "name": "stdout",
     "output_type": "stream",
     "text": [
      "d1 = {1: [1, 2, 3, 4], 4: 4}\n"
     ]
    }
   ],
   "source": [
    "d1 = {1: [1, 2, 3, 4], 4:4}\n",
    "print(f'{d1 = }')"
   ]
  },
  {
   "cell_type": "code",
   "execution_count": 15,
   "id": "56419211",
   "metadata": {},
   "outputs": [
    {
     "name": "stdout",
     "output_type": "stream",
     "text": [
      "The error was:\n",
      "\tunhashable type: 'list'\n"
     ]
    }
   ],
   "source": [
    "try:\n",
    "    d1 = {[1, 2]: 1}\n",
    "except Exception as e:\n",
    "    print(f'The error was:\\n\\t{e}')"
   ]
  },
  {
   "cell_type": "markdown",
   "id": "c0dcbdf9",
   "metadata": {},
   "source": [
    "Dictionaries can be modified but cannot be sliced (since there is no explicit order on the keys):"
   ]
  },
  {
   "cell_type": "code",
   "execution_count": 16,
   "id": "982d5c84",
   "metadata": {},
   "outputs": [
    {
     "name": "stdout",
     "output_type": "stream",
     "text": [
      "d1 = {1: [1, 2, 3, 4], 4: 4}\n",
      "d1 = {1: [1, 2, 3, 4, 5], 4: 4, 3: 5}\n"
     ]
    }
   ],
   "source": [
    "d1 = {1: [1, 2, 3, 4], 4:4}\n",
    "print(f'{d1 = }')\n",
    "d1[3] = 5\n",
    "d1[1].append(5)\n",
    "print(f'{d1 = }')"
   ]
  },
  {
   "cell_type": "markdown",
   "id": "8eb47b8f",
   "metadata": {},
   "source": [
    "You can find more information about dictionaries [there](https://docs.python.org/3/tutorial/datastructures.html#dictionaries)"
   ]
  },
  {
   "cell_type": "markdown",
   "id": "1515c40b",
   "metadata": {},
   "source": [
    "### 2.3 The numpy arrays `ndarray`\n",
    "A very useful data structure is the `ndarray` from [NumPy](https://numpy.org/). It is usually very fast and allows you to manipulate arrays of $n$ dimensions (hence the name).\n",
    "\n",
    "`ndarray` are complex data structures and we will not go in depth into what you can do with them here, we will only look at what we need along the class.\n",
    "> _**To go a little bit further (not required):**_\n",
    ">\n",
    "> You can find more information about `ndarray` [there](https://numpy.org/doc/stable/reference/arrays.ndarray.html)\n",
    ">\n",
    "> If you want to learn interactively about `ndarray`, you can check out the [following exercises](https://www.machinelearningplus.com/python/101-numpy-exercises-python/).\n",
    "\n",
    "Note that the previous exercises are not required but they could be very useful for the following classes.\n",
    "\n",
    "To use `ndarray`, it is necessary to load the NumPy library (and therefore for it to be installed):"
   ]
  },
  {
   "cell_type": "code",
   "execution_count": 17,
   "id": "2a99ee7f",
   "metadata": {},
   "outputs": [],
   "source": [
    "import numpy as np"
   ]
  },
  {
   "cell_type": "markdown",
   "id": "f3cd756a",
   "metadata": {},
   "source": [
    "Then, one can create a `ndarray` the following ways (note that many other ways exist):"
   ]
  },
  {
   "cell_type": "code",
   "execution_count": 18,
   "id": "f5a55b28",
   "metadata": {},
   "outputs": [
    {
     "name": "stdout",
     "output_type": "stream",
     "text": [
      "arr1 -->\n",
      "[[1 2 3]\n",
      " [2 3 4]]\n",
      "arr2 -->\n",
      "[[0. 0. 0. 0.]\n",
      " [0. 0. 0. 0.]\n",
      " [0. 0. 0. 0.]\n",
      " [0. 0. 0. 0.]]\n",
      "arr3 -->\n",
      "[0 1 2 3 4 5 6 7 8 9]\n"
     ]
    }
   ],
   "source": [
    "arr1 = np.array([[1, 2, 3], [2, 3, 4]]) # Create an array from a list\n",
    "arr2 = np.zeros((4, 4))                 # Create an array filled with 0s of size 4x4\n",
    "arr3 = np.arange(10)                    # Create a 1d array with values from 0 to 9\n",
    "print(f'arr1 -->\\n{arr1}')\n",
    "print(f'arr2 -->\\n{arr2}')\n",
    "print(f'arr3 -->\\n{arr3}')"
   ]
  },
  {
   "cell_type": "markdown",
   "id": "6c02f7f8",
   "metadata": {},
   "source": [
    "`ndarray` are useful because many operations can be performed on them in a direct and optimised way.\n",
    "\n",
    "The same access operations and slicing as the ones for the `list` exists for the `ndarray`.\n",
    "\n",
    "But on top of that, one can add a scalar to all the values in the array with the `+` operator."
   ]
  },
  {
   "cell_type": "code",
   "execution_count": 19,
   "id": "21513145",
   "metadata": {},
   "outputs": [
    {
     "name": "stdout",
     "output_type": "stream",
     "text": [
      "arr1 -->\n",
      "[[ 0  1  2  3]\n",
      " [ 4  5  6  7]\n",
      " [ 8  9 10 11]\n",
      " [12 13 14 15]]\n",
      "arr1 -->\n",
      "[[ 2  3  4  5]\n",
      " [ 6  7  8  9]\n",
      " [10 11 12 13]\n",
      " [14 15 16 17]]\n"
     ]
    }
   ],
   "source": [
    "arr1 = np.arange(16).reshape(4, 4)\n",
    "print(f'arr1 -->\\n{arr1}')\n",
    "arr1 = arr1 + 2\n",
    "print(f'arr1 -->\\n{arr1}')"
   ]
  },
  {
   "cell_type": "markdown",
   "id": "4b2de0f0",
   "metadata": {},
   "source": [
    "Note the use of the function `reshape` which allows to change the dimensions (`shape`) of an array:"
   ]
  },
  {
   "cell_type": "code",
   "execution_count": 20,
   "id": "e4dd2c17",
   "metadata": {},
   "outputs": [
    {
     "name": "stdout",
     "output_type": "stream",
     "text": [
      "arr1 -->\n",
      "[ 0  1  2  3  4  5  6  7  8  9 10 11 12 13 14 15]\n",
      "arr1 (reshape(4,  4)) -->\n",
      "[[ 0  1  2  3]\n",
      " [ 4  5  6  7]\n",
      " [ 8  9 10 11]\n",
      " [12 13 14 15]]\n",
      "arr1 (reshape(2, -1)) -->\n",
      "[[ 0  1  2  3  4  5  6  7]\n",
      " [ 8  9 10 11 12 13 14 15]]\n"
     ]
    }
   ],
   "source": [
    "arr1 = np.arange(16)\n",
    "print(f'arr1 -->\\n{arr1}')\n",
    "print(f'arr1 (reshape(4,  4)) -->\\n{arr1.reshape(4, 4)}')\n",
    "print(f'arr1 (reshape(2, -1)) -->\\n{arr1.reshape(2, -1)}')"
   ]
  },
  {
   "cell_type": "markdown",
   "id": "c6ac0606",
   "metadata": {},
   "source": [
    "Similar operations exist for the subtraction, multiplication or division or exponent (`**` in Python):"
   ]
  },
  {
   "cell_type": "code",
   "execution_count": 21,
   "id": "ebff050c",
   "metadata": {},
   "outputs": [
    {
     "name": "stdout",
     "output_type": "stream",
     "text": [
      "arr1 -->\n",
      "[[ 0  1  2  3]\n",
      " [ 4  5  6  7]\n",
      " [ 8  9 10 11]\n",
      " [12 13 14 15]]\n",
      "arr1 * 2 -->\n",
      "[[ 0  2  4  6]\n",
      " [ 8 10 12 14]\n",
      " [16 18 20 22]\n",
      " [24 26 28 30]]\n",
      "arr1 ** 2 -->\n",
      "[[  0   1   4   9]\n",
      " [ 16  25  36  49]\n",
      " [ 64  81 100 121]\n",
      " [144 169 196 225]]\n"
     ]
    }
   ],
   "source": [
    "arr1 = np.arange(16).reshape(4, 4)\n",
    "print(f'arr1 -->\\n{arr1}')\n",
    "arr2 = arr1 * 2\n",
    "print(f'arr1 * 2 -->\\n{arr2}')\n",
    "arr3 = arr1 ** 2\n",
    "print(f'arr1 ** 2 -->\\n{arr3}')"
   ]
  },
  {
   "cell_type": "markdown",
   "id": "2fdc031a",
   "metadata": {},
   "source": [
    "Operations between arrays are also possible.\n",
    "\n",
    "The `*` will multiply all term of an array to their corresponding terms (note that it means that the two arrays need to be of the same size):"
   ]
  },
  {
   "cell_type": "code",
   "execution_count": 22,
   "id": "5cc5c923",
   "metadata": {},
   "outputs": [
    {
     "name": "stdout",
     "output_type": "stream",
     "text": [
      "arr1 -->\n",
      "[[ 0  1  2  3]\n",
      " [ 4  5  6  7]\n",
      " [ 8  9 10 11]\n",
      " [12 13 14 15]]\n",
      "arr2 -->\n",
      "[[16 17 18 19]\n",
      " [20 21 22 23]\n",
      " [24 25 26 27]\n",
      " [28 29 30 31]]\n",
      "arr1 * arr2 -->\n",
      "[[  0  17  36  57]\n",
      " [ 80 105 132 161]\n",
      " [192 225 260 297]\n",
      " [336 377 420 465]]\n"
     ]
    }
   ],
   "source": [
    "arr1 = np.arange(16).reshape(4, 4)\n",
    "arr2 = np.arange(16, 32).reshape(4, 4)\n",
    "arr3 = arr1 * arr2\n",
    "print(f'arr1 -->\\n{arr1}')\n",
    "print(f'arr2 -->\\n{arr2}')\n",
    "print(f'arr1 * arr2 -->\\n{arr3}')"
   ]
  },
  {
   "cell_type": "markdown",
   "id": "06c8f516",
   "metadata": {},
   "source": [
    "The matrix multiplication operator is the following: `@`.\n",
    "\n",
    "Note: Again, when performing matrix multiplication, one has to remember that the matrix dimensions have to be matching.\n",
    "\n",
    "Moreover, the `dot` function also exists, doing `A @ B` is equivalent to `np.dot(A, B)`."
   ]
  },
  {
   "cell_type": "code",
   "execution_count": 23,
   "id": "2ec20e6a",
   "metadata": {},
   "outputs": [
    {
     "name": "stdout",
     "output_type": "stream",
     "text": [
      "arr1 -->\n",
      "[[0 1 2 3]\n",
      " [4 5 6 7]]\n",
      "arr2 -->\n",
      "[[0 1]\n",
      " [2 3]\n",
      " [4 5]\n",
      " [6 7]]\n",
      "arr1 @ arr2 -->\n",
      "[[28 34]\n",
      " [76 98]]\n",
      "np.dot(arr1, arr2) -->\n",
      "[[28 34]\n",
      " [76 98]]\n",
      "arr2 @ arr1 -->\n",
      "[[ 4  5  6  7]\n",
      " [12 17 22 27]\n",
      " [20 29 38 47]\n",
      " [28 41 54 67]]\n"
     ]
    }
   ],
   "source": [
    "arr1 = np.arange(8).reshape(2, 4)\n",
    "arr2 = np.arange(8).reshape(4, 2)\n",
    "arr3 = arr1 @ arr2\n",
    "arr4 = arr2 @ arr1\n",
    "print(f'arr1 -->\\n{arr1}')\n",
    "print(f'arr2 -->\\n{arr2}')\n",
    "print(f'arr1 @ arr2 -->\\n{arr3}')\n",
    "print(f'np.dot(arr1, arr2) -->\\n{np.dot(arr1, arr2)}')\n",
    "print(f'arr2 @ arr1 -->\\n{arr4}')"
   ]
  },
  {
   "cell_type": "markdown",
   "id": "6ffa29c5",
   "metadata": {},
   "source": [
    "A lot of operations on `ndarray`s are available, for example computing the determinant (`np.linalg.det`) of a matrix or inversing (`np.linalg.inv`) it:"
   ]
  },
  {
   "cell_type": "code",
   "execution_count": 24,
   "id": "64187a3e",
   "metadata": {},
   "outputs": [
    {
     "name": "stdout",
     "output_type": "stream",
     "text": [
      "arr1 -->\n",
      "[[ 6  1  1  3]\n",
      " [ 4 -2  5  1]\n",
      " [ 2  8  7  6]\n",
      " [ 3  1  9  7]]\n",
      "\n",
      "arr1 determinant -->\n",
      "-1308.9999999999993\n",
      "\n",
      "arr1_inv -->\n",
      "[[ 0.13368984  0.10695187  0.02139037 -0.09090909]\n",
      " [-0.00229183  0.02673797  0.14820474 -0.12987013]\n",
      " [-0.12987013  0.18181818  0.06493506 -0.02597403]\n",
      " [ 0.11000764 -0.28342246 -0.11382735  0.23376623]]\n",
      "\n",
      "arr1 . arr1_inv -->\n",
      "[[ 1.  0.  0. -0.]\n",
      " [-0.  1.  0.  0.]\n",
      " [ 0.  0.  1.  0.]\n",
      " [-0. -0.  0.  1.]]\n",
      "\n"
     ]
    }
   ],
   "source": [
    "arr1 = np.array([[6, 1, 1, 3],\n",
    "                 [4, -2, 5, 1],\n",
    "                 [2, 8, 7, 6],\n",
    "                 [3, 1, 9, 7]])\n",
    "print(f'arr1 -->\\n{arr1}\\n')\n",
    "det = np.linalg.det(arr1)\n",
    "arr1_inv = np.linalg.inv(arr1)\n",
    "print(f'arr1 determinant -->\\n{det}\\n')\n",
    "print(f'arr1_inv -->\\n{arr1_inv}\\n')\n",
    "print(f'arr1 . arr1_inv -->\\n{np.round(arr1 @ arr1_inv)}\\n')"
   ]
  }
 ],
 "metadata": {
  "kernelspec": {
   "display_name": "Python 3 (ipykernel)",
   "language": "python",
   "name": "python3"
  },
  "language_info": {
   "codemirror_mode": {
    "name": "ipython",
    "version": 3
   },
   "file_extension": ".py",
   "mimetype": "text/x-python",
   "name": "python",
   "nbconvert_exporter": "python",
   "pygments_lexer": "ipython3",
   "version": "3.10.4"
  }
 },
 "nbformat": 4,
 "nbformat_minor": 5
}
