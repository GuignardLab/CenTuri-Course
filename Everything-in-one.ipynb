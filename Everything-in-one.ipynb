{
 "cells": [
  {
   "cell_type": "markdown",
   "id": "45fc64df",
   "metadata": {},
   "source": [
    "# Introduction to Python using Turing patterns"
   ]
  },
  {
   "cell_type": "markdown",
   "id": "c0deffdb",
   "metadata": {},
   "source": [
    "## 1. Introduction\n",
    "---\n",
    "**First of, within this course [this page](https://docs.python.org/3/tutorial/index.html) will be mentioned a lot. It is a really good (maybe a bit crude) source for information and it is the official Python page so it should also be quite accurate.**\n",
    "\n",
    "**Moreover, if you would like to read more about python, you can find a good list of books about Python [there](https://wiki.python.org/moin/PythonBooks) (not all of them are free).**\n",
    "\n",
    "**Here are two free online books that could be worth reading to go further:**\n",
    "- **[IPython Cookbook, Second Edition (2018)](https://ipython-books.github.io/) In depth book about python. While the book is of general interest and definitely worth reading, [that](https://ipython-books.github.io/124-simulating-a-partial-differential-equation-reaction-diffusion-systems-and-turing-patterns/) part was especially helpful for this course**\n",
    "- **[From Python to Numpy](https://www.labri.fr/perso/nrougier/from-python-to-numpy/) Especially useful when wanting to use Numpy, which you probably should!**"
   ]
  },
  {
   "cell_type": "markdown",
   "id": "c8e75217",
   "metadata": {},
   "source": [
    "### 1.1 Goal of this course\n",
    "This course aims at teaching the basics of coding using reaction diffusion simulations as a support, more specifically the Turing patterns.\n",
    "Understanding the mathematics or the biology behind the Turing patterns is not necessary but it might help to understand better what is happening behind the hood.\n",
    "\n",
    "At the end of the course, we would like you to be able to write small pieces of code to do basic data analysis.\n",
    "No computation level is required though it is good to keep in mind that at the time being, this notebook alone might not be enough: the teachers are still necessary (unfortunately?) to introduce the concepts and to help answer the potential questions."
   ]
  },
  {
   "cell_type": "markdown",
   "id": "2b150799",
   "metadata": {},
   "source": [
    "### 1.2 Coding in Python\n",
    "The goal of this course is for you to learn the basics of __coding__ in __Python__, but what does that really mean, or more specifically, what do we (the \"teachers\") mean?\n",
    "\n",
    "#### 1.2.1 What is coding?\n",
    "Coding is giving a set of instructions to a computer for it to do a task.\n",
    "The tasks can be as trivial as:\n",
    "```\n",
    "Give the result of 1 + 0\n",
    "```\n",
    "or, slightly more complex:\n",
    "```\n",
    "If the key 'a' from the keyboard is stroke, display the letter 'a' on the screen\n",
    "```\n",
    "or quite complex:\n",
    "```\n",
    "Help proving the 4-colour theorem\n",
    "```\n",
    "(see [Computer-assisted proofs](https://en.wikipedia.org/wiki/Computer-assisted_proof))\n",
    "\n",
    "#### 1.2.2 Programmation language\n",
    "To communicate and give instructions to a computer and mainly the Computer Processing Unit (CPU), it is necessary to write the said instructions in a language that the CPU can indeed understand.\n",
    "\n",
    "There is an extremely large number of programming languages (635 listed on this [wikipedia page](https://en.wikipedia.org/wiki/List_of_programming_languages)). For example C++, Visual Basic, Java, R, Go, ...\n",
    "\n",
    "In this class we will use Python as our language of choice.\n",
    "This choice that was mainly driven by three reasons:\n",
    "- it is the language that I and many teachers of this class are most comfortable with\n",
    "- it is an open source language\n",
    "- it is probably the open source language that is today the mostly used in biology and data science\n",
    "\n",
    "Supporting the previous claims, the [TIOBE Programming Community index rank](https://www.tiobe.com/tiobe-index/) ranks python in the top 3 of the currently most popular programming languages.\n",
    "\n",
    "#### 1.2.3 What computers are good and not so good at\n",
    "It is also important to understand what computers are good at and not so good at.\n",
    "Computers have strengths and weaknesses. They are especially good at:\n",
    "- performing basic operations: additions, multiplications, ...\n",
    "- accessing their short and long term memory\n",
    "\n",
    "For example, current common processors are working at $2.5GHz\\simeq 2.5\\times 10^9$ actions per second, meaning that if you would perform 1 action every second it would take you about 800 years to perform as many actions as a computer is doing in one second.\n",
    "\n",
    "Computers are also good at storing information and accessing it.\n",
    "Computers can store about 1TB of data in \"slow-to-access\" memory and about 32GB of data in fast access memory (RAM).\n",
    "To put that in context, 1 hour of Netflix movie in HD weighs about 3GB, so 3TB is 1000 hours of Netflix movie which is about 42 days of film.\n",
    "\n",
    "On top of that, computers can access the data in memory quickly.\n",
    "Computers can read from 80 to 160MB per second, Solid State Drives (SSD) can read at a speed of 550MB per seconds.\n",
    "In other words, a computer can learn \"by heart\" the whole _A song of Ice and Fire_ series in about a second.\n",
    "Finally, Random Access Memory (RAM), which is the memory that directly exchanges information with the CPUs read at a speed of about 1500MHz.\n",
    "(Note that for read/write intensive processes it can become a limiting factor for the overall processing speed)\n",
    "\n",
    "On the flip side, computers are not good at everything. For example, they are bad at:\n",
    "- Pattern recognition\n",
    "- Being creative (building hypotheses, making jokes, writing good novels, ...)\n",
    "- Anything that doesn’t have pre-existing data for\n",
    "\n",
    "Though, these limitations have been pushed back significantly recently thanks to the artificial intelligence and deep learning revolution:\n",
    "One very notable, recent example: [AlphaGO](https://www.deepmind.com/research/highlighted-research/alphago), the first program that beat a human at the GO game. For the first time, computers could have intuition-like behaviours that are better than humans and even that we cannot understand.\n",
    "\n",
    "#### 1.2.4 Learning a programming language\n",
    "Therefore, to code, you need to learn a programming language (here Python).\n",
    "Programming languages are all at least somewhat different and have specific rules but most of them rely on a common set of paradigms:\n",
    "- they have variables\n",
    "- they have data structures (list, heaps, hashmaps, ...)\n",
    "- they have conditional statements\n",
    "- they have functions (not always)\n",
    "\n",
    "Before being able to write some code, it is important to go through these basic and mostly common \"rules\""
   ]
  },
  {
   "cell_type": "markdown",
   "id": "fa350e1f",
   "metadata": {},
   "source": [
    "### 1.3 Turing patterns\n",
    "Now about Turing patterns, they were introduced by Alan Turing in the article [The Chemical Basis of Morphogenesis](https://www.dna.caltech.edu/courses/cs191/paperscs191/turing.pdf).\n",
    "They will not be much discussed here but feel free to ask questions or to look over [there](https://en.wikipedia.org/wiki/Reaction%E2%80%93diffusion_system) for more information.\n",
    "\n",
    "What is important to keep in mind is that in its simplest form, a Turing pattern is the result of the interaction between an activator and its inhibitor and their co-diffusion across a set of cells.\n",
    "\n",
    "It is this interaction and diffusion that we will model in this course. We will also learn how to graphically represent these patterns.\n",
    "\n",
    "A little bit of knowledge about how to model these interactions is necessary to better understand the remainder of the course.\n",
    "First, we will be talking about an activator that will name $A$ and an inhibitor that will name $I$. Their concentration values will be refered to as $a$ and $i$ respectively.\n",
    "\n",
    "The gene regulation network that we are considering here is the simple one where $A$ auto-activates and activates $I$ and $I$ inhibits $A$:\n",
    "\n",
    "<img src=\"Images/GRN.png\" alt=\"Gene Regulation Network\" width=\"200\"/>\n",
    "\n",
    "> _**To go a little bit further (not required):**_\n",
    ">\n",
    "> From this network, we can extract the interaction between activator $A$ and an inhibitor $I$ as follow:\n",
    ">\n",
    "> $A \\rightarrow A$ ($A$ is auto activated)\n",
    ">\n",
    "> $A \\rightarrow I$ ($A$ activates $I$)\n",
    ">\n",
    "> $I \\dashv A$ ($I$ inhibits $A$)\n",
    ">\n",
    "> These interactions can be modelled multiple ways.\n",
    "> We decided here to use the [FitzHugh–Nagumo model](https://en.wikipedia.org/wiki/FitzHugh%E2%80%93Nagumo_model) (for no particular reason) resulting in the following equations:\n",
    ">\n",
    "> $\\frac{\\delta a}{\\delta t} = \\mu_a\\Delta a + a - a^3 - i + k$ [1]\n",
    ">\n",
    "> $\\tau \\frac{\\delta i}{\\delta t} = \\mu_i\\Delta i + a - i$ [2]\n",
    ">\n",
    "> These are partial differential equations that represent the change of concentration of $A$ ($\\delta a$) or $I$ ($\\delta i$) in time ($\\delta t$).\n",
    ">\n",
    "> In equation [1], $\\Delta a$ is the potential diffusion $A$ and $\\mu_a$ is the diffusion coefficient.\n",
    "> $+ a$ is the auto-activation of $A$, $-a^3$ is the degradation, $-i$ is the inhibition from $I$ and $k$ is a constant to determine whether $A$ acts as a source ($0<k$), a sink ($k<0$) or is neutral ($k=0$).\n",
    ">\n",
    "> In equation [2], $\\Delta i$ is the potential diffusion of $I$ and $\\mu_i$ is the diffusion coefficient.\n",
    "> $+a$ is the activation from $A$, $-i$ is the degradation and $\\tau$ allows to modulate the amplitude of change of concentration of $I$ compared to the one of the activator $A$.\n",
    "\n",
    "It is important to know that to model the previous network it is necessary to decide on some values, the parameters of the model:\n",
    "- the diffusion coefficients $\\mu_a$ and $\\mu_i$ (referred to as `mu_a` and `mu_i` in the code)\n",
    "- the constant $\\tau$ (referred to as `tau`)\n",
    "- the constant $k$ (referred to as `k`)\n",
    "\n",
    "Because we will solve the differential equations numerically (as opposed to analytically) using \"simple\" numerical models, we will fix the value of $\\delta t$. Therefore:\n",
    "- $\\delta t$ is a parameter (referred to as `dt`)\n",
    "\n",
    "Moreover other values are necessary for the computation also need to be decided:\n",
    "- the size of the grid we will be working on, ie the number of cells considered (referred to as `size`)\n",
    "- the distance between two cells (ie the space step: `dx` and `dy`)\n",
    "- the total time of the simulation (`T`)\n",
    "- the number of iterations (`n`, which is determined by the ratio of `T` over `dt`)"
   ]
  },
  {
   "cell_type": "markdown",
   "id": "f2eda5a7",
   "metadata": {},
   "source": [
    "## 2. Variables\n",
    "---\n",
    "Variables are symbolic names where information or values can be stored.\n",
    "\n",
    "They are the cornerstone of coding, they allow you to store in memory values and to access them later on. In our example the variables have been described earlier (`mu_a`, `tau`, `size`, ...)\n",
    "\n",
    "To assign an information to a variable, the `=` operator is used.\n",
    "\n",
    "> ⚠️ be careful, `=` is the assignment operator. To check the equality between two variables, the required operator is `==` ⚠️\n",
    "\n",
    "For example after the following line of code is ran:"
   ]
  },
  {
   "cell_type": "code",
   "execution_count": null,
   "id": "831989c5",
   "metadata": {},
   "outputs": [],
   "source": [
    "a_number = 0\n",
    "a_number = 10\n",
    "another_number = 1"
   ]
  },
  {
   "cell_type": "markdown",
   "id": "68e9198d",
   "metadata": {},
   "source": [
    "The variable `a_number` used to contain the value `0` and now contains the value `10`.\n",
    "\n",
    "The variable `another_number` contains the values `1`.\n",
    "\n",
    "It is possible to display what is contained in a variable using the function `print` for example:"
   ]
  },
  {
   "cell_type": "code",
   "execution_count": null,
   "id": "e31c1885",
   "metadata": {},
   "outputs": [],
   "source": [
    "print(f'{a_number = }')"
   ]
  },
  {
   "cell_type": "markdown",
   "id": "2baf5349",
   "metadata": {},
   "source": [
    "The content of a variable can be stored in another variable and then changed without altering it:"
   ]
  },
  {
   "cell_type": "code",
   "execution_count": null,
   "id": "fb6fb574",
   "metadata": {},
   "outputs": [],
   "source": [
    "a_number = 5\n",
    "another_number = a_number\n",
    "a_number = 1\n",
    "print(f'{another_number = }')\n",
    "print(f'{a_number = }')"
   ]
  },
  {
   "cell_type": "markdown",
   "id": "9fe69e0a",
   "metadata": {},
   "source": [
    "Variables can contain most (computational) things (especially in Python).\n",
    "For example they can contain different types of data such as `list`, `dictionary` or `ndarray` (we will see what they are right after)\n",
    "\n",
    "In variables can also be stored the result of an operation:"
   ]
  },
  {
   "cell_type": "code",
   "execution_count": null,
   "id": "9916108b",
   "metadata": {},
   "outputs": [],
   "source": [
    "nb1 = 1\n",
    "nb2 = 3\n",
    "sum_nb1_2 = nb1 + nb2\n",
    "print(f'{nb1 = }')\n",
    "print(f'{nb2 = }')\n",
    "print(f'{sum_nb1_2 = }')"
   ]
  },
  {
   "cell_type": "markdown",
   "id": "5b42be7b",
   "metadata": {},
   "source": [
    "### 2.1 Exercises:\n",
    "Before any exercise, import the `Correction` module which allows you to check out the correction of the exercises the following way:\n",
    "```python\n",
    "Correction(<exo_num>)\n",
    "```\n",
    "You can import the function as shown just below. It needs to be imported only once."
   ]
  },
  {
   "cell_type": "code",
   "execution_count": 1,
   "id": "61b43c36",
   "metadata": {},
   "outputs": [],
   "source": [
    "from Resources.Answers import answer"
   ]
  },
  {
   "cell_type": "markdown",
   "id": "357f2d7c",
   "metadata": {},
   "source": [
    "#### Exercise 1\n",
    "Set the value of the variables necessary for the model as follow:\n",
    "- mu_a: 0.0002.8\n",
    "- mu_i: 0.005\n",
    "- tau: 0.1\n",
    "- k: -0.005\n",
    "- size: 100 \n",
    "- dx: 2 divided by the size of the grid\n",
    "- dy: 2 divided by the size of the grid\n",
    "- T: 9\n",
    "- dt: 0.001\n",
    "- n: number of iterations which is the total time `T` divided by the time step `dt`"
   ]
  },
  {
   "cell_type": "code",
   "execution_count": null,
   "id": "4e33ad64",
   "metadata": {},
   "outputs": [],
   "source": [
    "### Write the answer of the previous question here.\n",
    "# You can check the answer by running answer(1)"
   ]
  },
  {
   "cell_type": "markdown",
   "id": "b7a7be3b",
   "metadata": {},
   "source": [
    "#### Exercise 2\n",
    "Given a variable `nb1` and a variable `nb2`, put the values of each other variables in the other one\n",
    "\n",
    "(Note that we are using the library `random` to generate random numbers)"
   ]
  },
  {
   "cell_type": "code",
   "execution_count": null,
   "id": "f12a5734",
   "metadata": {},
   "outputs": [],
   "source": [
    "from random import randint # To generate random numbers so you can't really cheat\n",
    "nb1 = randint(0, 5)\n",
    "nb2 = randint(6, 10)\n",
    "print('before')\n",
    "print(f'{nb1 = }')\n",
    "print(f'{nb2 = }')\n",
    "'''\n",
    "To do: swap a and b values\n",
    "'''\n",
    "print('after:')\n",
    "print(f'{nb1 = }')\n",
    "print(f'{nb2 = }')"
   ]
  },
  {
   "cell_type": "markdown",
   "id": "12768ce3",
   "metadata": {},
   "source": [
    "## 3. Data structures\n",
    "---\n",
    "When coding, different data types and data structures can be used. For example we already saw few data types:\n",
    "- Integers (referred to as `int` in Python): `0`, `1`, `-10`, ...\n",
    "- Floating numbers (referred to as `float` in Python): `0.01`, `1.0`, `1.2e10`, ...\n",
    "- Strings (referred to as `str` in Python): `'Hello'`, `\"world\"`, `'12+34'`, ...\n",
    "\n",
    "But of course other data types exist:\n",
    "- Lists (`list`): `[1, 2, 3]`, `[1, None, 0.4]`, `[1, [1, 2], [3], ['Hello'], 'World']`, ...\n",
    "- Tuples (`tuple`): `(1, 2, 3)`, `(1, None, 0.4)`, ...\n",
    "- Dictionaries (`dict`): `{'a': 10, 3:[2, 3, 4], '5': -0.2}`, ..."
   ]
  },
  {
   "cell_type": "markdown",
   "id": "89e9381a",
   "metadata": {},
   "source": [
    "### 3.1 The lists: `list`\n",
    "As their name suggests a `list` allows to store a list of elements. These elements can then be accessed via their position, starting at `0`.\n",
    "\n",
    "There is a lot of possible operations on lists that can be found [there](https://docs.python.org/3/tutorial/datastructures.html#more-on-lists)\n",
    "\n",
    "The Python language is so that a `list` is surrounded by brackets:"
   ]
  },
  {
   "cell_type": "code",
   "execution_count": null,
   "id": "661a5403",
   "metadata": {},
   "outputs": [],
   "source": [
    "l1 = [1, 2, 3, 4]\n",
    "print(f'{l1      = }')\n",
    "print(f'positions: 0  1  2  3')\n",
    "print(f'{l1[0] = }')\n",
    "print(f'{l1[3] = }')"
   ]
  },
  {
   "cell_type": "markdown",
   "id": "51359cbd",
   "metadata": {},
   "source": [
    "It is also possible to access to the values in a list using negative numbers, `-1` being the last element, `-2` the one before last and so on and so forth:"
   ]
  },
  {
   "cell_type": "code",
   "execution_count": null,
   "id": "3cbac8a2",
   "metadata": {},
   "outputs": [],
   "source": [
    "print(f'{l1       = }')\n",
    "print(f'positions: -4 -3 -2 -1')\n",
    "print(f'{l1[-1] = }')\n",
    "print(f'{l1[-3] = }')"
   ]
  },
  {
   "cell_type": "markdown",
   "id": "904eb0fd",
   "metadata": {},
   "source": [
    "It is also possible to access part of the list, it is called a slice.\n",
    "\n",
    "To do so the syntax is the following:\n",
    "```\n",
    "list[start:stop:step]\n",
    "```\n",
    "`start` is included, `stop` is not, `step` is the step size."
   ]
  },
  {
   "cell_type": "code",
   "execution_count": null,
   "id": "f89861d7",
   "metadata": {},
   "outputs": [],
   "source": [
    "l1 = list(range(3, 13))\n",
    "print(f'{l1          = }')\n",
    "print(f'positions --> {list(range(len(l1)))}')\n",
    "print(f'{l1[3:7]     = }')\n",
    "print(f'{l1[:2]      = }')\n",
    "print(f'{l1[6:]      = }')\n",
    "print(f'{l1[1:7:2]   = }')"
   ]
  },
  {
   "cell_type": "markdown",
   "id": "a579920c",
   "metadata": {},
   "source": [
    "A `list` can be modified by adding values into them using the method `append`:"
   ]
  },
  {
   "cell_type": "code",
   "execution_count": null,
   "id": "8a3ea59f",
   "metadata": {},
   "outputs": [],
   "source": [
    "l1 = [1, 2, 3, 4]\n",
    "print(f'{l1    = }')\n",
    "l1.append('hello')\n",
    "print(f'{l1    = }')\n",
    "print(f'{l1[4] = }')"
   ]
  },
  {
   "cell_type": "markdown",
   "id": "b263a77f",
   "metadata": {},
   "source": [
    "They can also be modified by removing elements from it using the method `pop` which removes the last element of the list by default:"
   ]
  },
  {
   "cell_type": "code",
   "execution_count": null,
   "id": "2e22bcb2",
   "metadata": {},
   "outputs": [],
   "source": [
    "l1 = [1, 2, 3, 4]\n",
    "print(f'{l1 = }')\n",
    "l1.pop()\n",
    "print(f'{l1 = }')"
   ]
  },
  {
   "cell_type": "markdown",
   "id": "112f674f",
   "metadata": {},
   "source": [
    "By removing a specific element of the list using the method `remove`:"
   ]
  },
  {
   "cell_type": "code",
   "execution_count": null,
   "id": "1785e3b6",
   "metadata": {},
   "outputs": [],
   "source": [
    "l1 = [4, 5, 6, 7]\n",
    "print(f'{l1 = }')\n",
    "l1.remove(5)\n",
    "print(f'{l1 = }')"
   ]
  },
  {
   "cell_type": "markdown",
   "id": "25906a1a",
   "metadata": {},
   "source": [
    "Or by modifying already existing values by accessing them:"
   ]
  },
  {
   "cell_type": "code",
   "execution_count": null,
   "id": "d15b396a",
   "metadata": {},
   "outputs": [],
   "source": [
    "l1 = [1, 2, 3, 4]\n",
    "print(f'{l1 = }')\n",
    "l1[1] = 3\n",
    "print(f'{l1 = }')\n",
    "l1[2] = l1[0]+1\n",
    "print(f'{l1 = }')"
   ]
  },
  {
   "cell_type": "markdown",
   "id": "6d2febfa",
   "metadata": {},
   "source": [
    "Two lists can be concatenated together either by using the method `extend` or the `+` operator.\n",
    "\n",
    "> ⚠️ It is important to remember that the `extend` method is performed 'in place' meaning that it modifies the list from which it is called from ⚠️"
   ]
  },
  {
   "cell_type": "code",
   "execution_count": null,
   "id": "d0ced940",
   "metadata": {},
   "outputs": [],
   "source": [
    "l1 = [1, 2, 3, 4]\n",
    "l2 = ['a', 'b', 'c', 'd']\n",
    "l3 = l1 + l2\n",
    "print(f'{l3 = }')\n",
    "l1.extend(l2)\n",
    "print(f'{l1 = }')\n",
    "l4 = l1 + l2\n",
    "print(f'{l4 = }')"
   ]
  },
  {
   "cell_type": "markdown",
   "id": "6ae43d84",
   "metadata": {},
   "source": [
    "### 3.2 The dictionaries: `dict`\n",
    "A dictionary is a data structure that maps a key to a value. It is somewhat similar to a `list` except that instead of referring to a value by its position in the `list` it is referred to by its key.\n",
    "\n",
    "Dictionaries are defined using curved brackets `{}`:"
   ]
  },
  {
   "cell_type": "code",
   "execution_count": null,
   "id": "748d4cc9",
   "metadata": {},
   "outputs": [],
   "source": [
    "d1 = {4: '1', '3':'Hello'}\n",
    "print(f'{d1      = }')\n",
    "print(f'{d1[4]   = }')\n",
    "print(f\"{d1['3'] = }\")"
   ]
  },
  {
   "cell_type": "markdown",
   "id": "626e8e03",
   "metadata": {},
   "source": [
    "For reasons that we will not explain here, a `list` cannot be used as a key for a dictionary (though it can be used as values):"
   ]
  },
  {
   "cell_type": "code",
   "execution_count": null,
   "id": "0ce51435",
   "metadata": {},
   "outputs": [],
   "source": [
    "d1 = {1: [1, 2, 3, 4], 4:4}\n",
    "print(f'{d1 = }')"
   ]
  },
  {
   "cell_type": "code",
   "execution_count": null,
   "id": "56419211",
   "metadata": {},
   "outputs": [],
   "source": [
    "try:\n",
    "    d1 = {[1, 2]: 1}\n",
    "except Exception as e:\n",
    "    print(f'The error was:\\n\\t{e}')"
   ]
  },
  {
   "cell_type": "markdown",
   "id": "c0dcbdf9",
   "metadata": {},
   "source": [
    "Dictionaries can be modified but cannot be sliced (since there is no explicit order on the keys):"
   ]
  },
  {
   "cell_type": "code",
   "execution_count": null,
   "id": "982d5c84",
   "metadata": {},
   "outputs": [],
   "source": [
    "d1 = {1: [1, 2, 3, 4], 4:4}\n",
    "print(f'{d1 = }')\n",
    "d1[3] = 5\n",
    "d1[1].append(5)\n",
    "print(f'{d1 = }')"
   ]
  },
  {
   "cell_type": "markdown",
   "id": "8eb47b8f",
   "metadata": {},
   "source": [
    "You can find more information about dictionaries [there](https://docs.python.org/3/tutorial/datastructures.html#dictionaries)"
   ]
  },
  {
   "cell_type": "markdown",
   "id": "1515c40b",
   "metadata": {},
   "source": [
    "### 3.3 The numpy arrays `ndarray`\n",
    "A very useful data structure is the `ndarray` from [NumPy](https://numpy.org/). It is usually very fast and allows you to manipulate arrays of $n$ dimensions (hence the name).\n",
    "\n",
    "`ndarray` are complex data structures and we will not go in depth into what you can do with them here, we will only look at what we need along the class.\n",
    "> _**To go a little bit further (not required):**_\n",
    ">\n",
    "> You can find more information about `ndarray` [there](https://numpy.org/doc/stable/reference/arrays.ndarray.html)\n",
    ">\n",
    "> If you want to learn interactively about `ndarray`, you can check out the [following exercises](https://www.machinelearningplus.com/python/101-numpy-exercises-python/).\n",
    "\n",
    "Note that the previous exercises are not required but they could be very useful for the following classes.\n",
    "\n",
    "To use `ndarray`, it is necessary to load the NumPy library (and therefore for it to be installed):"
   ]
  },
  {
   "cell_type": "code",
   "execution_count": null,
   "id": "2a99ee7f",
   "metadata": {},
   "outputs": [],
   "source": [
    "import numpy as np"
   ]
  },
  {
   "cell_type": "markdown",
   "id": "f3cd756a",
   "metadata": {},
   "source": [
    "Then, one can create a `ndarray` the following ways (note that many other ways exist):"
   ]
  },
  {
   "cell_type": "code",
   "execution_count": null,
   "id": "f5a55b28",
   "metadata": {},
   "outputs": [],
   "source": [
    "arr1 = np.array([[1, 2, 3], [2, 3, 4]]) # Create an array from a list\n",
    "arr2 = np.zeros((4, 4))                 # Create an array filled with 0s of size 4x4\n",
    "arr3 = np.arange(10)                    # Create a 1d array with values from 0 to 9\n",
    "print(f'arr1 -->\\n{arr1}')\n",
    "print(f'arr2 -->\\n{arr2}')\n",
    "print(f'arr3 -->\\n{arr3}')"
   ]
  },
  {
   "cell_type": "markdown",
   "id": "6c02f7f8",
   "metadata": {},
   "source": [
    "`ndarray` are useful because many operations can be performed on them in a direct and optimised way.\n",
    "\n",
    "The same access operations and slicing as the ones for the `list` exists for the `ndarray`.\n",
    "\n",
    "But on top of that, one can add a scalar to all the values in the array with the `+` operator."
   ]
  },
  {
   "cell_type": "code",
   "execution_count": null,
   "id": "21513145",
   "metadata": {},
   "outputs": [],
   "source": [
    "arr1 = np.arange(16).reshape(4, 4)\n",
    "print(f'arr1 -->\\n{arr1}')\n",
    "arr1 = arr1 + 2\n",
    "print(f'arr1 -->\\n{arr1}')"
   ]
  },
  {
   "cell_type": "markdown",
   "id": "4b2de0f0",
   "metadata": {},
   "source": [
    "Note the use of the function `reshape` which allows to change the dimensions (`shape`) of an array:"
   ]
  },
  {
   "cell_type": "code",
   "execution_count": null,
   "id": "e4dd2c17",
   "metadata": {},
   "outputs": [],
   "source": [
    "arr1 = np.arange(16)\n",
    "print(f'arr1 -->\\n{arr1}')\n",
    "print(f'arr1 (reshape(4,  4)) -->\\n{arr1.reshape(4, 4)}')\n",
    "print(f'arr1 (reshape(2, -1)) -->\\n{arr1.reshape(2, -1)}')"
   ]
  },
  {
   "cell_type": "markdown",
   "id": "c6ac0606",
   "metadata": {},
   "source": [
    "Similar operations exist for the subtraction, multiplication or division or exponent (`**` in Python):"
   ]
  },
  {
   "cell_type": "code",
   "execution_count": null,
   "id": "ebff050c",
   "metadata": {},
   "outputs": [],
   "source": [
    "arr1 = np.arange(16).reshape(4, 4)\n",
    "print(f'arr1 -->\\n{arr1}')\n",
    "arr2 = arr1 * 2\n",
    "print(f'arr1 * 2 -->\\n{arr2}')\n",
    "arr3 = arr1 ** 2\n",
    "print(f'arr1 ** 2 -->\\n{arr3}')"
   ]
  },
  {
   "cell_type": "markdown",
   "id": "2fdc031a",
   "metadata": {},
   "source": [
    "Operations between arrays are also possible.\n",
    "\n",
    "The `*` will multiply all term of an array to their corresponding terms (note that it means that the two arrays need to be of the same size):"
   ]
  },
  {
   "cell_type": "code",
   "execution_count": null,
   "id": "5cc5c923",
   "metadata": {},
   "outputs": [],
   "source": [
    "arr1 = np.arange(16).reshape(4, 4)\n",
    "arr2 = np.arange(16, 32).reshape(4, 4)\n",
    "arr3 = arr1 * arr2\n",
    "print(f'arr1 -->\\n{arr1}')\n",
    "print(f'arr2 -->\\n{arr2}')\n",
    "print(f'arr1 * arr2 -->\\n{arr3}')"
   ]
  },
  {
   "cell_type": "markdown",
   "id": "06c8f516",
   "metadata": {},
   "source": [
    "The matrix multiplication operator is the following: `@`.\n",
    "\n",
    "Note: Again, when performing matrix multiplication, one has to remember that the matrix dimensions have to be matching.\n",
    "\n",
    "Moreover, the `dot` function also exists, doing `A @ B` is equivalent to `np.dot(A, B)`."
   ]
  },
  {
   "cell_type": "code",
   "execution_count": null,
   "id": "2ec20e6a",
   "metadata": {},
   "outputs": [],
   "source": [
    "arr1 = np.arange(8).reshape(2, 4)\n",
    "arr2 = np.arange(8).reshape(4, 2)\n",
    "arr3 = arr1 @ arr2\n",
    "arr4 = arr2 @ arr1\n",
    "print(f'arr1 -->\\n{arr1}')\n",
    "print(f'arr2 -->\\n{arr2}')\n",
    "print(f'arr1 @ arr2 -->\\n{arr3}')\n",
    "print(f'np.dot(arr1, arr2) -->\\n{np.dot(arr1, arr2)}')\n",
    "print(f'arr2 @ arr1 -->\\n{arr4}')"
   ]
  },
  {
   "cell_type": "markdown",
   "id": "6ffa29c5",
   "metadata": {},
   "source": [
    "A lot of operations on `ndarray`s are available, for example computing the determinant (`np.linalg.det`) of a matrix or inversing (`np.linalg.inv`) it:"
   ]
  },
  {
   "cell_type": "code",
   "execution_count": null,
   "id": "64187a3e",
   "metadata": {},
   "outputs": [],
   "source": [
    "arr1 = np.array([[6, 1, 1, 3],\n",
    "                 [4, -2, 5, 1],\n",
    "                 [2, 8, 7, 6],\n",
    "                 [3, 1, 9, 7]])\n",
    "print(f'arr1 -->\\n{arr1}\\n')\n",
    "det = np.linalg.det(arr1)\n",
    "arr1_inv = np.linalg.inv(arr1)\n",
    "print(f'arr1 determinant -->\\n{det}\\n')\n",
    "print(f'arr1_inv -->\\n{arr1_inv}\\n')\n",
    "print(f'arr1 . arr1_inv -->\\n{np.round(arr1 @ arr1_inv)}\\n')"
   ]
  },
  {
   "cell_type": "markdown",
   "id": "e34b0d59",
   "metadata": {},
   "source": [
    "## 3. Conditional statements\n",
    "---\n",
    "Another important part of coding are the conditional statements.\n",
    "\n",
    "Conditional statements allow you to perform a given set of instruction(s) if a statement is true.\n",
    "\n",
    "If necessary, it is possible to run a different set of instructions when the statement is false.\n",
    "\n",
    "More information about conditional statements can be found [there](https://docs.python.org/3/tutorial/datastructures.html#more-on-conditions) for example\n",
    "\n",
    "This is usually called an `if`/`else` statement:"
   ]
  },
  {
   "cell_type": "code",
   "execution_count": null,
   "id": "e36864b3",
   "metadata": {},
   "outputs": [],
   "source": [
    "a_number = eval(input('Please enter a number and press enter: '))\n",
    "if a_number == 2:\n",
    "    print('the number is equal to 2')\n",
    "else:\n",
    "    print('the number is not equal to 2')"
   ]
  },
  {
   "cell_type": "markdown",
   "id": "bcb9b80f",
   "metadata": {},
   "source": [
    "Note the function `input` which allows the user to ask for an input.\n",
    "Note also the function `eval` which allows you to evaluate the input from the user.\n",
    "In place of `eval` could be used the function `int` which would transform the input into an integer.\n",
    "If that was the case, the Python interpreter could not take as an input a decimal value like `0.9` for example.\n",
    "To do so the function `float` could have been used. Now, with `eval`, one can even enter an operation such as `1+1` and it will be evaluated and then treated as `2` in that case.\n",
    "\n",
    "You can try to play with the function `eval` with the example above.\n",
    "\n",
    "If multiple conditions need to be checked, the `elif` statement can be used:"
   ]
  },
  {
   "cell_type": "code",
   "execution_count": null,
   "id": "741c4e3f",
   "metadata": {},
   "outputs": [],
   "source": [
    "a_number = eval(input('Please enter a number and press enter: '))\n",
    "if a_number < 2:\n",
    "    print('the number is stricly smaller than 2')\n",
    "elif a_number == 2:\n",
    "    print('the number is equal to 2')\n",
    "elif 2 < a_number < 10:\n",
    "    print('the number is strictly between 2 and 10')\n",
    "else:\n",
    "    print('the number is larger or equal to 10')"
   ]
  },
  {
   "cell_type": "markdown",
   "id": "6be9292d",
   "metadata": {},
   "source": [
    "> _**To go a little bit further:**_\n",
    ">\n",
    "> `if`/`else` statements can be used within a line of code to assign values for example:"
   ]
  },
  {
   "cell_type": "code",
   "execution_count": null,
   "id": "e28befeb",
   "metadata": {},
   "outputs": [],
   "source": [
    "previous_number = eval(input('Please enter a number and press enter: '))\n",
    "a_number = 1 if 10 <= previous_number else 'Strictly smaller than 10'\n",
    "print(f'a_number --> {a_number}')\n",
    "\n",
    "# The previous line is equivalent to the following ones:\n",
    "if 10 < previous_number:\n",
    "    a_number = 1\n",
    "else:\n",
    "    a_number = 'Strictly smaller than 10'"
   ]
  },
  {
   "cell_type": "markdown",
   "id": "18186653",
   "metadata": {},
   "source": [
    "## 4. Loops\n",
    "---\n",
    "Loops are probably the core of coding! They are the reason why computers are so useful!\n",
    "\n",
    "In Python two types of loops exist: the `for` loop and the `while` loop.\n",
    "The difference between the two kinds of loops can be small but basically you can almost alway make one with the other though making some `while` loops using `for` loops is sometimes a bit convoluted (but these are thoughts for another time).\n",
    "\n",
    "A `for` loop in Python allows you to iterate over the items of any sequence (`list`, `str` for example). Note that it is different from loops in C, C++ or Pascal for example.\n",
    "\n",
    "A `while` loop allows you to iterate as long as a given condition is `True`.\n",
    "\n",
    "The syntax for a `for` loop is the following:\n",
    "```python\n",
    "for item in sequence:\n",
    "    # do_something\n",
    "```\n",
    "\n",
    "The syntax for a `while` loop is the following:\n",
    "```python\n",
    "while condition:\n",
    "    # do_something\n",
    "```\n",
    "\n",
    "Here is an example of a `for` loop:"
   ]
  },
  {
   "cell_type": "code",
   "execution_count": null,
   "id": "812075de",
   "metadata": {},
   "outputs": [],
   "source": [
    "words = ['Hello,', 'how', 'are', 'you?']\n",
    "for w in words:\n",
    "    print(w, end=' ')"
   ]
  },
  {
   "cell_type": "markdown",
   "id": "1d2edc10",
   "metadata": {},
   "source": [
    "Here the loop iterates over the items of the sequence `words` (which is a `list`) and prints them.\n",
    "\n",
    "The equivalent with a `while` loop would look like that:"
   ]
  },
  {
   "cell_type": "code",
   "execution_count": null,
   "id": "5db9f020",
   "metadata": {},
   "outputs": [],
   "source": [
    "i = 0\n",
    "while i<len(words):\n",
    "    print(words[i], end=' ')\n",
    "    i = i + 1"
   ]
  },
  {
   "cell_type": "markdown",
   "id": "32a75eab",
   "metadata": {},
   "source": [
    "One can easily see that in that context, the `while` loop is a bit more convoluted.\n",
    "\n",
    "Now, here is an example where the `while` loop is _better_."
   ]
  },
  {
   "cell_type": "code",
   "execution_count": null,
   "id": "9a591f35",
   "metadata": {},
   "outputs": [],
   "source": [
    "stopping_value = 35\n",
    "i = 0\n",
    "number_sum = 0\n",
    "while number_sum < stopping_value:\n",
    "    i += 1\n",
    "    number_sum += i\n",
    "print(f'{i = }, {number_sum = }')"
   ]
  },
  {
   "cell_type": "markdown",
   "id": "15f38912",
   "metadata": {},
   "source": [
    "The equivalent `for` loop would be the following:"
   ]
  },
  {
   "cell_type": "code",
   "execution_count": null,
   "id": "bdaa65c9",
   "metadata": {},
   "outputs": [],
   "source": [
    "number_sum = 0\n",
    "for i in range(stopping_value+1): # Here we assume that the maximum value\n",
    "                                  # necessary to stop is the stopping value itself\n",
    "    number_sum += i\n",
    "    if stopping_value <= number_sum:\n",
    "        break\n",
    "print(f'{i = }, {number_sum = }')"
   ]
  },
  {
   "cell_type": "markdown",
   "id": "d1a69879",
   "metadata": {},
   "source": [
    "Note that in the case of the `for`, it is necessary to use the ```break``` statement to stop the loop according to a given condition.\n",
    "\n",
    "> _**To go a little bit further (not required):**_\n",
    "> Note that if you exchange lines 5 and 6 in the `while` loop you do not get the same result, can you find out why?"
   ]
  },
  {
   "cell_type": "code",
   "execution_count": null,
   "id": "73cb3cc3",
   "metadata": {},
   "outputs": [],
   "source": [
    "i = 0\n",
    "number_sum = 0\n",
    "while number_sum < stopping_value:\n",
    "    number_sum += i\n",
    "    i += 1\n",
    "print(f'{i = }, {number_sum = }')"
   ]
  },
  {
   "cell_type": "markdown",
   "id": "7fb32891",
   "metadata": {},
   "source": [
    "**More on `for` loops can be found [there](https://docs.python.org/3/tutorial/controlflow.html#for-statements)**"
   ]
  },
  {
   "cell_type": "markdown",
   "id": "520c7851",
   "metadata": {},
   "source": [
    "## 4. Some exercises\n",
    "---\n",
    "Now, you should have enough to go through a small batch of exercises 🥳 🥳 🥳.\n",
    "\n",
    "They might be a bit hard, but that's normal, please don't hesitate to ask us if you have any trouble understanding something.\n",
    "\n",
    "The answers are still accessible using the `answer` function with the number of the question as an argument.\n",
    "Also, for some of the following questions, hints are available, run the command `hint(<question_number>)` to access the hint. For example, for a hint for question 3, you can run `hint(3)`.\n",
    "\n",
    "Moreover, you will need a bit of help for the next exercises so we wrote some functions that will be useful.\n",
    "We will describe how they work and how to use them.\n",
    "To load the said function, please run the line below.\n",
    "\n",
    "Note: If you feel like it, you can try to implement these functions yourself."
   ]
  },
  {
   "cell_type": "code",
   "execution_count": null,
   "id": "2e09bff8",
   "metadata": {},
   "outputs": [],
   "source": [
    "from Resources.UsefulFunctions import *\n",
    "from Resources.Answers import answer, hint"
   ]
  },
  {
   "cell_type": "markdown",
   "id": "f3cc9e16",
   "metadata": {},
   "source": [
    "Moreover, we need the parameters described earlier, even though it might not be necessary, we rewrite them here for commodity"
   ]
  },
  {
   "cell_type": "code",
   "execution_count": null,
   "id": "0b0beb91",
   "metadata": {},
   "outputs": [],
   "source": [
    "mu_a = 2.8e-4\n",
    "mu_i = 5e-3\n",
    "tau = .1\n",
    "k = -.005\n",
    "size = 100\n",
    "dx = dy = 2. / size\n",
    "T = 9.0\n",
    "dt = .001\n",
    "n = int(T / dt)"
   ]
  },
  {
   "cell_type": "markdown",
   "id": "86128ed1",
   "metadata": {},
   "source": [
    "### \"Small\" exercise that does not count\n",
    "\n",
    "Write a loop that computes the sum of the even numbers between 0 and 30."
   ]
  },
  {
   "cell_type": "code",
   "execution_count": null,
   "id": "5aebd220",
   "metadata": {},
   "outputs": [],
   "source": [
    "# Write the loop here"
   ]
  },
  {
   "cell_type": "markdown",
   "id": "bc0d8386",
   "metadata": {},
   "source": [
    "Before creating a working 2D Turing pattern, let work out how to make the concentration within a given cell change over time according to the function we defined earlier.\n",
    "\n",
    "### Exercise 3\n",
    "Write a loop that increments the concentration value of the concentration `a` according to the function `da_alone`.\n",
    "\n",
    "The function `da_alone` implements the change of concentration ($\\delta a$) according to $a$, $\\delta t$ and $k$:\n",
    "\n",
    "$$\\delta a = \\delta t (a - a^3 +k)$$\n",
    "\n",
    "`da_alone` takes as parameters the initial concentration value $a$ (`a`), the $\\delta t$ parameter (`dt`) and the $k$ parameter (`k`) and outputs the differential of concentration $\\delta a$ for that specific initial concentration."
   ]
  },
  {
   "cell_type": "code",
   "execution_count": null,
   "id": "23cd797b",
   "metadata": {},
   "outputs": [],
   "source": [
    "a = 0.1\n",
    "# Write here the code necessary\n",
    "print(f'{a                            = }')\n",
    "print( 'Expected value (for a = 0.1) : 0.9974896544606241')"
   ]
  },
  {
   "cell_type": "markdown",
   "id": "756789b4",
   "metadata": {},
   "source": [
    "### Exercise 3 (bonus)\n",
    "If you feel like it, you can write the function `da_alone`.\n",
    "\n",
    "For a solution you can type `da_alone??` to have access to its implementation."
   ]
  },
  {
   "cell_type": "code",
   "execution_count": null,
   "id": "925392f9",
   "metadata": {},
   "outputs": [],
   "source": [
    "# da_alone??"
   ]
  },
  {
   "cell_type": "markdown",
   "id": "36e5e15b",
   "metadata": {},
   "source": [
    "### Exercise 4\n",
    "Now we have access to the last value of the concentration but we would like to be able to access all the values in order to plot them.\n",
    "\n",
    "To do so, write a piece of code that stores all the intermediary results in a list."
   ]
  },
  {
   "cell_type": "code",
   "execution_count": null,
   "id": "e7b74a1a",
   "metadata": {},
   "outputs": [],
   "source": [
    "A = [.01]\n",
    "print(f'Last value of A (A[-1])           --> {A[-1]}')\n",
    "print( 'Expected value (for A[-1] = 0.01) --> 0.9971706727639877')"
   ]
  },
  {
   "cell_type": "markdown",
   "id": "f3fa5109",
   "metadata": {},
   "source": [
    "Given the list of concentrations, one can plot its evolution over time using the function `plot_concentration_1cell`:"
   ]
  },
  {
   "cell_type": "code",
   "execution_count": null,
   "id": "bacf182f",
   "metadata": {},
   "outputs": [],
   "source": [
    "# plot_concentration_1cell(A)"
   ]
  },
  {
   "cell_type": "markdown",
   "id": "621ea709",
   "metadata": {},
   "source": [
    "### Exercise 5\n",
    "Now that we know how to compute the evolution of a given concentration, we want to compute the co-evolution of an activator and its inhibitor.\n",
    "\n",
    "To do so we can use the functions `da` and `di` that implements the following equations:\n",
    "\n",
    "$$\\delta a = \\delta t(a-a^3-i+k)$$\n",
    "$$\\delta i = \\frac{\\delta t}{\\tau}(a -i)$$\n",
    "Note that the function `da` is slightly different to `da_alone` since it incorporates the inhibitor action $-i$.\n",
    "\n",
    "The function `da` takes as an input the original concentration $a$ (`a`), the time increment parameter $\\delta t$ (`dt`), the constant $k$ (`k`) as for the function `da_alone` but also the original inhibitor concentration $i$ (`i`).\n",
    "\n",
    "The function `di` takes as an input the original concentration $i$ (`i`), the time increment parameter $\\delta t$, the constant $\\tau$ (`tau`) and the original activator concentration $a$ (`a`).\n",
    "\n",
    "**Write code to store in two lists the evolution of the concentrations of the activator and the inhibitor.**"
   ]
  },
  {
   "cell_type": "code",
   "execution_count": null,
   "id": "a5ee43b4",
   "metadata": {},
   "outputs": [],
   "source": [
    "A = [0.4]\n",
    "I = [0.15]\n",
    "# Write the code here\n",
    "print('For the starting values of A[0]=0.4 and I[0]=0.15:')\n",
    "print(f'Last value of A --> {A[-1]}')\n",
    "print( 'Expected value  --> 0.17217946292184916')\n",
    "print(f'Last value of I --> {I[-1]}')\n",
    "print( 'Expected value  --> 0.1733148395515316')"
   ]
  },
  {
   "cell_type": "markdown",
   "id": "c4c0b69a",
   "metadata": {},
   "source": [
    "As before, it is possible to plot the values of the concentrations over time using the function `plot_concentration_1cell`.\n",
    "\n",
    "> _**Side note !**_\n",
    ">\n",
    "> If you were not able to solve the previous question, or if you cannot wait before looking at what the graph looks like, the function `answer_results` is there for you!\n",
    ">\n",
    "> You can call it the following way:\n",
    ">\n",
    "> `answer_results(<question_number>, <param_name>=<param_value>, ...)`\n",
    ">\n",
    "> For example, to get the values of A and I from question 4 you can call `answer_results` the following way:\n",
    "> ```python\n",
    "> A, I = answer_results(4, A=0.4, I=0.15, dt=dt, k=k, tau=tau, n=n)\n",
    "> ```\n",
    ">\n",
    "> If you don't know what parameters to give, you can just call `answer_results(<question_number>)` and hopefully it will help ...\n",
    "\n",
    "Now, you can call the function `plot_concentration_1cell` with input `A` and `I` to see the concentration evolution!"
   ]
  },
  {
   "cell_type": "code",
   "execution_count": null,
   "id": "e3d01ac9",
   "metadata": {},
   "outputs": [],
   "source": [
    "# Uncomment the following line if you have not computed yet A and I\n",
    "A, I = answer_results(4, A=0.4, I=0.15, dt=dt, k=k, tau=tau, n=n)\n",
    "plot_concentration_1cell(A, I)"
   ]
  },
  {
   "cell_type": "markdown",
   "id": "b086c3a5",
   "metadata": {},
   "source": [
    "## 4. Introduction to functions\n",
    "---\n",
    "You have seen some functions previously, for example the functions `print`, `eval`, `input` or `range` for example which are `builtin` functions, functions that are \"in\" Python. You've also seen the functions `answer`, `hint`, `da_alone`, `da` or `di` which are function that have been imported (here via the commands `from Resources.UsefulFunctions import *` and `from Resources.Answers import answer, hint`)\n",
    "\n",
    "A function is a piece of code that can be called at any time once defined. Functions are especially useful as you may have noticed, when you know that you will want to call a piece of code multiple times, maybe with different inputs. For example, you called the function `print` with many different inputs.\n",
    "\n",
    "Functions are extremely powerful and can be manipulated in an extremely precise way. You can find all about that [there](https://docs.python.org/3/tutorial/controlflow.html#defining-functions).\n",
    "\n",
    "That being said, the main idea is that a function can be defined the following way:\n",
    "```python\n",
    "def fib(n):\n",
    "    \"\"\"\n",
    "    This function returns the highest fibonacci\n",
    "    number which is lower than n.\n",
    "    \n",
    "    Args:\n",
    "        n (int): upper boundary for the fibonacci number\n",
    "    \n",
    "    Returns:\n",
    "        (int): higher fibo number lower than n\n",
    "    \"\"\"\n",
    "    a, b = 0, 1\n",
    "    while b < n:\n",
    "        a, b = b, a+b\n",
    "    return a\n",
    "```\n",
    "As explained, this function has to do with Fibonacci numbers (they are pretty cool, you can find out more [here](https://en.wikipedia.org/wiki/Fibonacci_number)).\n",
    "\n",
    "The first line:\n",
    "```python\n",
    "def fib(n):\n",
    "```\n",
    "is the name of the function (`fib`) followed by the sequence of arguments of the function (here there is only one: `n`).\n",
    "\n",
    "The following lines:\n",
    "```python\n",
    "    \"\"\"\n",
    "    This function returns the highest fibonacci\n",
    "    number which is lower than n.\n",
    "    \n",
    "    Args:\n",
    "        n (int): upper boundary for the fibonacci number\n",
    "    \n",
    "    Returns:\n",
    "        (int): higher fibo number lower than n\n",
    "    \"\"\"\n",
    "```\n",
    "are the description of the function.\n",
    "\n",
    "Then, there is the code of the function:\n",
    "```python\n",
    "    a, b = 0, 1\n",
    "    while b < n:\n",
    "        a, b = b, a+b\n",
    "```\n",
    "\n",
    "And finally the last last line:\n",
    "```python\n",
    "    return a\n",
    "```\n",
    "which informs the program what the function will return.\n",
    "\n",
    "You can run the code below to define the function and to test it:"
   ]
  },
  {
   "cell_type": "code",
   "execution_count": null,
   "id": "b42612fa",
   "metadata": {},
   "outputs": [],
   "source": [
    "def fib(n):\n",
    "    \"\"\"\n",
    "    This function returns the highest fibonacci\n",
    "    number which is lower than n.\n",
    "    \n",
    "    Args:\n",
    "        n (int): upper boundary for the fibonacci number\n",
    "    \n",
    "    Returns:\n",
    "        (int): higher fibo number lower than n\n",
    "    \"\"\"\n",
    "    a, b = 0, 1\n",
    "    while b<n:\n",
    "        a, b = b, a+b\n",
    "    return a\n",
    "\n",
    "fib(2000)\n",
    "fib?"
   ]
  },
  {
   "cell_type": "markdown",
   "id": "7855f443",
   "metadata": {},
   "source": [
    "### Exercise 6\n",
    "Write a function that returns the lists of concentrations `A` and `I` given the parameters `dt`, `k`, `tau` and `n` and the initial concentrations `a` and `i`."
   ]
  },
  {
   "cell_type": "code",
   "execution_count": null,
   "id": "1b5a5937",
   "metadata": {},
   "outputs": [],
   "source": [
    "def compute_AI(): # Don't forget to add arguments\n",
    "    # A, I = [a], [i] \n",
    "    # Uncoment above and\n",
    "    # Do something here\n",
    "    return A, I\n",
    "\n",
    "A, I = compute_AI()\n",
    "plot_concentration_1cell(A, I)"
   ]
  },
  {
   "cell_type": "markdown",
   "id": "487f9b64",
   "metadata": {},
   "source": [
    "> __*To go (a little bit) further*__\n",
    ">\n",
    "> If one wants to use a function, especially a function that you have not written yourself, it is extremely important to document the function.\n",
    "> You might have seen earlier one way to document a function (the function `fib`).\n",
    "> It is one way to help a user to understand what your function is doing, what should be the parameters given as an input and what the user should expect as an output.\n",
    "> To write comments, there are rules that can be followed, you can find a version of these rules there: [Google Python Style Guide](https://google.github.io/styleguide/pyguide.html#38-comments-and-docstrings).\n",
    "> Another way to help the user is by specifying the types of the input and outputs in the function name like that for example:\n",
    "> ```python\n",
    "> def fib(n: int) -> int:\n",
    ">     \"\"\"\n",
    ">     This function returns the highest fibonacci\n",
    ">     number which is lower than n.\n",
    ">     \n",
    ">     Args:\n",
    ">         n (int): upper boundary for the fibonacci number\n",
    ">     \n",
    ">     Returns:\n",
    ">         (int): higher fibo number lower than n\n",
    ">     \"\"\"\n",
    ">     a, b = 0, 1\n",
    ">     while b<n:\n",
    ">         a, b = b, a+b\n",
    ">     return a\n",
    "> ```\n",
    "> Another example:\n",
    "> ```python\n",
    "> def foo(a: int, b: np.ndarray, c: bool, d: str) -> (dict, list, float):\n",
    ">     # Function that does something\n",
    ">     a, b, c = {1:2}, [1, 2], 3.14\n",
    ">     return a, b, c\n",
    "> ```\n",
    "> Note that here, for the format of b (np.ndarray) to work, numpy has to be imported first."
   ]
  },
  {
   "cell_type": "code",
   "execution_count": null,
   "id": "e49df557",
   "metadata": {},
   "outputs": [],
   "source": [
    "import numpy as np\n",
    "def foo(a: int, b: np.ndarray, c: bool, d: str) -> (dict, list, float):\n",
    "    # Function that does something\n",
    "    a, b, c = {1:2}, [1, 2], 3.14\n",
    "    return a, b, c\n",
    "foo?"
   ]
  },
  {
   "cell_type": "markdown",
   "id": "308f4e1d",
   "metadata": {},
   "source": [
    "### Exercise 7\n",
    "**(With an intermezzo about file manipulation)**\n",
    "\n",
    "You can play with the different parameters to see how the concentration dynamics change according to these parameters.\n",
    "\n",
    "Here we would like you to systematically try different parameters and save the produced plots as png files with names containing the parameter values (for example `'test_a0.4_i0.15_dt0.001_k-0.005_tau0.1.png'`).\n",
    "\n",
    "To save the produced plots, you can use the argument `save_path` of the function `plot_concentration_1cell`.\n",
    "If you set its value to the file name and path you want to create, it will save it there under its name.\n",
    "\n",
    "Before being able to do so, you might need some information about how to manipulate strings.\n",
    "In the previous exercises you might have seen that it is possible to insert values from variables within a string using the curved brackets `{` and `}`.\n",
    "\n",
    "Simply put, the way it works is by putting the character `f` before your string and then everything within curved brackets will be transformed into string if possible.\n",
    "For example:\n",
    "```python\n",
    "f'test_a{A[0]}_i{I[0]}_dt{dt}'\n",
    "```\n",
    "will produce the following string:\n",
    "```python\n",
    "'test_a0.4_i0.15_dt0.001'\n",
    "```\n",
    "Note that if the `f` is not in front of the string, the curved brackets will be interpreted as normal characters.\n",
    "\n",
    "**For more on string manipulation, you can read [there](https://docs.python.org/3/tutorial/inputoutput.html#input-and-output)**"
   ]
  },
  {
   "cell_type": "code",
   "execution_count": null,
   "id": "9d50f8b1",
   "metadata": {},
   "outputs": [],
   "source": [
    "print(f'test_a{A[0]}_i{I[0]}_dt{dt}')\n",
    "print('test_a{A[0]}_i{I[0]}_dt{dt}')"
   ]
  },
  {
   "cell_type": "markdown",
   "id": "7a0eef70",
   "metadata": {},
   "source": [
    "#### Avoiding cramping up you current folder\n",
    "If you want to be a little bit cleaner, you can create a folder in which you will save your images.\n",
    "\n",
    "You can create such a folder directly in python using `Path` from the `pathlib` library and the command:\n",
    "```python\n",
    "Path.mkdir('<folder_name>')\n",
    "```\n",
    "For example, to create a folder named `question_7` one could run the command\n",
    "```python\n",
    "Path.mkdir('question_7')\n",
    "```\n",
    "\n",
    "Though, if the folder already exists, the command line will not work and stop the notebook from running.\n",
    "To avoid such a problem, it is possible to check whether the folder already exists using the method `exists` of `Path` as shown below.\n",
    "\n",
    "Let's create the folder `question_7`:"
   ]
  },
  {
   "cell_type": "code",
   "execution_count": null,
   "id": "c484937e",
   "metadata": {},
   "outputs": [],
   "source": [
    "from pathlib import Path\n",
    "folder = Path('question_7')\n",
    "if not folder.exists():\n",
    "    Path.mkdir(folder)"
   ]
  },
  {
   "cell_type": "markdown",
   "id": "a079292d",
   "metadata": {},
   "source": [
    "#### Path manipulation\n",
    "Some of you might already be aware that playing with paths can be a pain.\n",
    "The problem comes from the fact that Windows has a different way to represent a path to a folder than Linux and MacOs.\n",
    "\n",
    "> **_Side Note: what's a path?!_**\n",
    ">\n",
    "> In a computer the folders and files are organised hierarchically.\n",
    "> What it means is that each file or folder except for one, the root, is in a folder.\n",
    "> For example, the folder you created earlier (`question_7`) is itself in a folder.\n",
    ">\n",
    "> To access a file or folder, it is sometimes necessary to know the sequence of folders it is in so there is no ambiguity for the computer.\n",
    "> The sequence of folders a folder or a file belongs to is the **path** and it can be represented as a string.\n",
    "> For example, you can call the function `Path.cwd` (for the current working directory).\n",
    "> To query the list of directories your notebook is running in:"
   ]
  },
  {
   "cell_type": "code",
   "execution_count": null,
   "id": "112df024",
   "metadata": {},
   "outputs": [],
   "source": [
    "print('Our current path:')\n",
    "print(Path.cwd())"
   ]
  },
  {
   "cell_type": "markdown",
   "id": "b3ac3ae1",
   "metadata": {},
   "source": [
    "> You can maybe see that the folders are separated by a `/` (or a `\\` for Windows).\n",
    "> This difference between Linux or MacOs and Windows has been quite a source of trouble, some of you might have experienced it.\n",
    "\n",
    "Now, to save an image in the folder `'question_7'`, as we would like to do, we just need to concatenate the image name to the folder name:\n",
    "```python\n",
    "folder / 'test_a0.4_i0.15_dt0.001.png'\n",
    "```\n",
    "\n",
    "Note that the `/` in this case is a concatenation operator specific to the objects of the `path` library. The operator concatenates two `Path` or a `Path` and a `str` putting the operating specific folder separator (\n",
    "`/` or `\\`).\n",
    "\n",
    "**More info about the `pathlib` can be found [there](https://docs.python.org/3/library/pathlib.html)**"
   ]
  },
  {
   "cell_type": "code",
   "execution_count": null,
   "id": "86dfab72",
   "metadata": {},
   "outputs": [],
   "source": [
    "## folder is the path previously created\n",
    "# Concatenation of two Paths\n",
    "print(folder / Path('test_a0.4_i0.15_dt0.001.png'))\n",
    "# Concatenation of a Path and a str (same result)\n",
    "print(folder / 'test_a0.4_i0.15_dt0.001.png')"
   ]
  },
  {
   "cell_type": "markdown",
   "id": "f33f9d39",
   "metadata": {},
   "source": [
    "Now we can *cleanly* answer question 6.\n",
    "Let assumes that we want the following values:\n",
    "- `tau` changes from `0.05` to `3` and that we want `5` values within that interval\n",
    "- `k` changes from `-1` to `1` and that we also want `5` values within that interval\n",
    "- and a fixed `dt=0.01`\n",
    "\n",
    "**Write some lines of code to compute and save the requested plots**\n",
    "\n",
    "Note: you can use the function `np.linspace` to generate the desired values"
   ]
  },
  {
   "cell_type": "code",
   "execution_count": null,
   "id": "ca889228",
   "metadata": {},
   "outputs": [],
   "source": [
    "import numpy as np\n",
    "folder = Path('question_7')\n",
    "for test_tau in np.linspace(.05, 1, 5):\n",
    "    for test_k in np.linspace(-1, 1, 5):\n",
    "        A, I = answer_results(4, A=0.4, I=0.15, dt=dt, k=test_k, tau=test_tau, n=n)\n",
    "        plot_concentration_1cell(A, I,\n",
    "                                 save_path=folder / f'k{test_k}_tau{test_tau}.png')"
   ]
  },
  {
   "cell_type": "markdown",
   "id": "e7fb6bff",
   "metadata": {},
   "source": [
    "An interesting configuration where we can see some oscillations:\n",
    "- `dt=0.01`\n",
    "- `k=0.05`\n",
    "- `tau=2`\n",
    "\n",
    "You can manually change the parameters to try to find other *weird* configurations"
   ]
  },
  {
   "cell_type": "code",
   "execution_count": null,
   "id": "e233dafe",
   "metadata": {},
   "outputs": [],
   "source": [
    "A, I = answer_results(4, A=0.4, I=0.15, dt=.01, k=.05, tau=2, n=n)\n",
    "plot_concentration_1cell(A, I)"
   ]
  },
  {
   "cell_type": "markdown",
   "id": "3fe7da7b",
   "metadata": {},
   "source": [
    "### Exercise 8\n",
    "**This exercise is difficult, it might take a bit longer to solve. If you are stuck, don't hesitate to look at the following cells for some help**\n",
    "\n",
    "For this exercise, we will discuss about file manipulation, in other words how to move files automatically.\n",
    "\n",
    "**Attention here! Proceed with caution for this exercise but also in general. Files removed using Python (or the shell for example) do not end up in the trash but are directly removed!**\n",
    "\n",
    "In this exercise we would like to sort the files created in the previous exercise. We would like to group the plots generated previously in folders by values of `k` and so that the folders are named according to that `k` value.\n",
    "\n",
    "For example if you had the following files in your `exercise_7` folder:\n",
    "```\n",
    "exercise_7:\n",
    " | k0_tau0.png\n",
    " | k0_tau1.png\n",
    " | k0_tau2.png\n",
    " | k1_tau0.png\n",
    " | k1_tau1.png\n",
    " | k1_tau2.png\n",
    " | k2_tau0.png\n",
    " | k2_tau1.png\n",
    " | k2_tau2.png\n",
    "```\n",
    "We would like you to create the following hierarchy:\n",
    "```\n",
    "exercise_7:\n",
    " | k0:\n",
    "   | k0_tau0.png\n",
    "   | k0_tau1.png\n",
    "   | k0_tau2.png\n",
    " | k1:\n",
    "   | k1_tau0.png\n",
    "   | k1_tau1.png\n",
    "   | k1_tau2.png\n",
    " | k2:\n",
    "   | k2_tau0.png\n",
    "   | k2_tau1.png\n",
    "   | k2_tau2.png\n",
    "```\n",
    "\n",
    "To do so you can use the following functions (assuming `p` is a `Path`):\n",
    "- `Path.iterdir` allows to loop through all the files of a directory\n",
    "- `p.name` retrieves the name of the file in `p` as a `str`\n",
    "- `str.split` splits a string\n",
    "- `Path.exists` see above\n",
    "- `p.rename` allows to rename (and therefore move) `p`\n",
    "\n",
    "Do not hesitate to look at the help of each of these functions (you should do it!)."
   ]
  },
  {
   "cell_type": "code",
   "execution_count": null,
   "id": "fe84cd04",
   "metadata": {},
   "outputs": [],
   "source": [
    "p = Path('question_7')\n",
    "for file in p.iterdir():\n",
    "    ## Do things here\n",
    "    print(file)"
   ]
  },
  {
   "cell_type": "markdown",
   "id": "60aa0ed9",
   "metadata": {},
   "source": [
    "### Help for exercise 8\n",
    "Because the difficulty increased significantly with this exercise, here are some leads that hopefully will help you solve the exercise!\n",
    "\n",
    "One way to solve a coding problem is to decompose it in multiple smaller problems.\n",
    "There are often multiple ways to decompose a problem, we will show you one here, it might not be the optimal one (regardless of the optimal metric used) but it should be a working one.\n",
    "To build that decomposition, it can sometimes be useful to rephrase the problem in terms of what you want the code to do:\n",
    "\n",
    "<details>\n",
    "    <summary><b>Click here to display the pseudo-code<b/></summary>\n",
    "    \n",
    "```\n",
    "for each file in folder do (1)\n",
    "    if the file is a png file do (2)\n",
    "        k_value <- get what is the value of k for that file (3)\n",
    "        if folder with k value does not exist do (4)\n",
    "            create new folder with k value\n",
    "        end if\n",
    "        move file to folder with k value (5)\n",
    "    end if\n",
    "end for\n",
    "```\n",
    "\n",
    "</details>\n",
    "\n",
    "\n",
    "This decomposition allows to identify the important points in the code and to organise the code to be produced.\n",
    "Here, we want to loop on the files (1), check if the file is a file of interest (2), retrieve the value of `k` in the file name (3), create a folder with the `k` value if necessary (4) and move the file in the appropriate folder (5).\n",
    "        \n",
    "Now, one can try to solve the 5 problems independently and ultimately assemble them to answer the question."
   ]
  },
  {
   "cell_type": "markdown",
   "id": "09795fe5",
   "metadata": {},
   "source": [
    "## 5. From 0D to 1D !\n",
    "---\n",
    "Now, back to our Turing patterns!\n",
    "\n",
    "We have seen how to model the concentration of an activator and inhibitor when they are expressed simultaneously.\n",
    "\n",
    "This is the very beginning of Turing patterns but it is of course not enough!\n",
    "The modelling that we have done was focused on time.\n",
    "Because we only had one cell (so much so that we did not even mention that it was a cell), we did not look at the interaction with the neighbours and by extension, we did not look at the spatial dimension.\n",
    "\n",
    "So in this part we will integrate the spatial dimension to our model.\n",
    "\n",
    "### 5.1 Representing a row of cells that are behaving independently.\n",
    "First thing first, before playing with diffusion, we will display a row of cells that each have the previous small model embedded within but with a different, random, starting point.\n",
    "\n",
    "To do so, we will use a `ndarray`.\n",
    "Our `ndarray` will have two dimensions.\n",
    "The first dimension will be our spatial dimension, the second dimension will be the time.\n",
    "\n",
    "To initialise an `ndarray` it is necessary to set its size. In our case, it will be the number of cells `size` and the number of time points `n`.\n",
    "\n",
    "### Exercise 9\n",
    "Using the function `np.zeros` build an array named `A` (for activator) of dimensions `size * n`"
   ]
  },
  {
   "cell_type": "code",
   "execution_count": null,
   "id": "2d490913",
   "metadata": {},
   "outputs": [],
   "source": [
    "A = np.array([0])\n",
    "print(f'A -->\\n{A}\\n')\n",
    "print(f\"\"\"expected A -->\n",
    "[[0. 0. 0. ... 0. 0. 0.]\n",
    " [0. 0. 0. ... 0. 0. 0.]\n",
    " [0. 0. 0. ... 0. 0. 0.]\n",
    " ...\n",
    " [0. 0. 0. ... 0. 0. 0.]\n",
    " [0. 0. 0. ... 0. 0. 0.]\n",
    " [0. 0. 0. ... 0. 0. 0.]]\\n\"\"\")\n",
    "print(f'A.shape          --> {A.shape}')\n",
    "print(f'expected A.shape --> (100, 9000)')"
   ]
  },
  {
   "cell_type": "markdown",
   "id": "14b3b472",
   "metadata": {},
   "source": [
    "This table represents the concentration of your activator `A` at each time-point.\n",
    "\n",
    "For example `A[0, 100]` gives you the concentration of the cell `0` at time-point `100`. It is sometimes confusing to me whether the cell is first or the gene concentration. One way to remember is to look at the `shape` of the table (which is its dimension). Here the shape is `(100, 9000)`, so the first component is the cell (since there are 100 of them).\n",
    "\n",
    "### Exercise 10\n",
    "\n",
    "Access the values of the 4 first time-points for the last 3 cells"
   ]
  },
  {
   "cell_type": "code",
   "execution_count": null,
   "id": "2d56bfdb",
   "metadata": {},
   "outputs": [],
   "source": [
    "# get a random table, but always the same oO\n",
    "# It helps making sure that you are actually\n",
    "# slincing in the correct position in the array\n",
    "out = get_random_table(100, 900)\n",
    "spliced_out = out[:]\n",
    "print(f'your spliced_out -->\\n{spliced_out}\\n')\n",
    "print(f\"\"\"expected spliced_out -->\n",
    "[[0.39945761 0.11419206 0.1451694  0.71413739]\n",
    " [0.64262546 0.81164219 0.2139838  0.74270111]\n",
    " [0.86262341 0.36115707 0.31575497 0.39177027]]\n",
    " \"\"\")"
   ]
  },
  {
   "cell_type": "markdown",
   "id": "993ac56b",
   "metadata": {},
   "source": [
    "Now that you can access some places in your table, it is good to know that you can also modify the values that you are accessing.\n",
    "\n",
    "For example we saw previously that you can add values to an array, well you can do so too for splices of an array:"
   ]
  },
  {
   "cell_type": "code",
   "execution_count": null,
   "id": "91673082",
   "metadata": {},
   "outputs": [],
   "source": [
    "A = np.zeros((size, n))\n",
    "print(f\"A -->\\n{A}\\n\")\n",
    "print(f\"A[:5, :5] -->\\n{A[:5, :5]}\\n\")\n",
    "\n",
    "# Adding 1 to the five first time points of the five first cells\n",
    "A[:5, :5] = A[:5, :5] + 1\n",
    "print('A[:5, :5] = A[:5, :5] + 1\\n')\n",
    "print(f\"A[:5, :5] -->\\n{A[:5, :5]}\\n\")\n",
    "print(f\"A -->\\n{A}\\n\")"
   ]
  },
  {
   "cell_type": "markdown",
   "id": "886f1cff",
   "metadata": {},
   "source": [
    "You can also use the `+=`, `*=`, `/=`, ... operators:"
   ]
  },
  {
   "cell_type": "code",
   "execution_count": null,
   "id": "4f8abd50",
   "metadata": {},
   "outputs": [],
   "source": [
    "A = np.zeros((size, n))\n",
    "print(f\"A[:5, :5] -->\\n{A[:5, :5]}\\n\")\n",
    "\n",
    "# Adding 1 to the five first time points of the five first cells\n",
    "A[:5, :5] += 1\n",
    "\n",
    "print(f\"A[:5, :5] -->\\n{A[:5, :5]}\\n\")"
   ]
  },
  {
   "cell_type": "markdown",
   "id": "4fea0fc0",
   "metadata": {},
   "source": [
    "Not only you can add values but you can also assign the values of another array (which is, if you think about it, what we actually already did with the line `A[:5, :5] = A[:5, :5] + 1`):"
   ]
  },
  {
   "cell_type": "code",
   "execution_count": null,
   "id": "2636151c",
   "metadata": {},
   "outputs": [],
   "source": [
    "A = np.zeros((size, n))\n",
    "print(f\"A -->\\n{A}\\n\")\n",
    "\n",
    "# Changing the values to values from 0 to 24\n",
    "A[:5, :5] = np.arange(5*5).reshape(5, 5)\n",
    "print('A[:5, :5] = np.arange(5*5).reshape(5, 5)\\n')\n",
    "print(f\"A[:5, :5] -->\\n{A[:5, :5]}\\n\")\n",
    "print(f\"A -->\\n{A}\\n\")"
   ]
  },
  {
   "cell_type": "markdown",
   "id": "ae765829",
   "metadata": {},
   "source": [
    "**_Important here:_**\n",
    "\n",
    "**_The shape of the array you are modifying must match the shape of the array you are modifying it with:_**"
   ]
  },
  {
   "cell_type": "code",
   "execution_count": null,
   "id": "20d4f6d7",
   "metadata": {
    "scrolled": true
   },
   "outputs": [],
   "source": [
    "A = np.zeros((size, n))\n",
    "try:\n",
    "    A[:5, :5] = np.ones((5, 4))\n",
    "except Exception as e:\n",
    "    print(\"The previous line did not work!\")\n",
    "    print(\"Here is the error output:\")\n",
    "    print(f\"\\t{e}\")"
   ]
  },
  {
   "cell_type": "markdown",
   "id": "02da3f5f",
   "metadata": {},
   "source": [
    "Now, we know a little bit better how to manipulate arrays, we want to initialise the values of the cells at the first time-point at \"random\" (note that there is no real random with computers).\n",
    "\n",
    "To do so we can use the function `random` from `np.random`. The function takes as an input the size of the table to create for example:"
   ]
  },
  {
   "cell_type": "code",
   "execution_count": null,
   "id": "debd1a1f",
   "metadata": {},
   "outputs": [],
   "source": [
    "np.random.random((4, 4))\n",
    "np.random.random?"
   ]
  },
  {
   "cell_type": "markdown",
   "id": "07d69c6d",
   "metadata": {},
   "source": [
    "creates a `4*4` array filled with uniformly distributed random numbers between 0 and 1.\n",
    "\n",
    "> **_To go further_**\n",
    ">\n",
    "> For reasons that we will not expose here, it can be mathematically proven that any known random distribution can be simulated using a uniform distribution in [0, 1), (`)` means the 1 is excluded).\n",
    "\n",
    "### Exercise 11\n",
    "Now, we want to fill the values, at the first time point, for all the cells with random floating numbers between 0 and 1.\n",
    "> Notice the line `np.random.seed(0)`, it allows to control the \"randomness\" of the generation so you can compare your result to what should be expected"
   ]
  },
  {
   "cell_type": "code",
   "execution_count": null,
   "id": "658e8d5e",
   "metadata": {},
   "outputs": [],
   "source": [
    "A = np.zeros((size, n))\n",
    "np.random.seed(0) # Note the seeding here, changing the value will create different results\n",
    "# Do your thing bellow\n",
    "\n",
    "# Checking the results at random positions\n",
    "rand_pos = np.round(np.random.random()*100).astype(int)\n",
    "print(f\"A[rand_pos, 0]           --> {A[rand_pos, 0]}\")\n",
    "print(f\"Expected A[rand_pos, 0]  --> {0.8379449074988039}\")\n",
    "rand_pos = np.round(np.random.random()*100).astype(int)\n",
    "print(f\"A[rand_pos, 0]           --> {A[rand_pos, 0]}\")\n",
    "print(f\"Expected A[rand_pos, 0]  --> {0.9446689170495839}\")\n",
    "\n",
    "print(f\"All other values are 0s? --> {np.all(A[:, 1:]==0)} (should be True)\" )"
   ]
  },
  {
   "cell_type": "markdown",
   "id": "894a7409",
   "metadata": {},
   "source": [
    "> **_Side note_**\n",
    ">\n",
    "> In the previous examples we used `np.random.random` or `np.random.seed`.\n",
    "> When using several functions from a sub library (as it is the case here, `random` is a sub library of numpy), one can import it directly like so for example:\n",
    "> ```python\n",
    "> import numpy.random\n",
    "> ```\n",
    "> or that way (which is equivalent):\n",
    "> ```python\n",
    "> from numpy import random\n",
    "> ```"
   ]
  },
  {
   "cell_type": "markdown",
   "id": "d728a818",
   "metadata": {},
   "source": [
    "Now we have initialised our array for the activator with random values at the first time-point. Remains to fill the other time-points but to do so, one has to first initialise the inhibitor array.\n",
    "\n",
    "### Exercise 12\n",
    "Initialise the inhibitor array `I` as you did for the activator array (we will fixe our seed to 1 this time to have different values)"
   ]
  },
  {
   "cell_type": "code",
   "execution_count": null,
   "id": "d2d65e42",
   "metadata": {},
   "outputs": [],
   "source": [
    "I = np.zeros((size, n))\n",
    "np.random.seed(1) # again, the seed here to ensure the results\n",
    "# Do your stuff below\n",
    "\n",
    "rand_pos = np.round(np.random.random()*100).astype(int)\n",
    "print(f\"I[rand_pos, 0]           --> {I[rand_pos, 0]}\")\n",
    "print(f\"Expected A[rand_pos, 0]  --> {0.5331652849730171}\")\n",
    "rand_pos = np.round(np.random.random()*100).astype(int)\n",
    "print(f\"I[rand_pos, 0]           --> {I[rand_pos, 0]}\")\n",
    "print(f\"Expected I[rand_pos, 0]  --> {0.2655466593722262}\")\n",
    "\n",
    "print(f\"All other values are 0s? --> {np.all(I[:, 1:]==0)} (should be True)\" )"
   ]
  },
  {
   "cell_type": "markdown",
   "id": "3132c67f",
   "metadata": {},
   "source": [
    "Now we have our row of cells for the inhibitor and activator, we have initialised the first time-point for each of the cells, and left is to fill the values for the remaining time-points.\n",
    "\n",
    "To do so we can use the function `compute_AI` that we defined earlier:\n",
    "<details>\n",
    "    <summary><b>Click here to show the answer to question 6</b></summary>\n",
    "    \n",
    "    \n",
    "```python\n",
    "def compute_AI(a, i, dt, k, tau, n):\n",
    "    A, I = [a], [i]\n",
    "    for t in range(n-1): # the -1 is because the first value\n",
    "                         # is already in the array\n",
    "        new_A = A[-1] + da(A[-1], I[-1], dt, k)\n",
    "        new_I = I[-1] + di(I[-1], A[-1], dt, tau)\n",
    "        I.append(new_I)\n",
    "        A.append(new_A)\n",
    "    return A, I\n",
    "```\n",
    "    \n",
    "</details>\n",
    "\n",
    "To recover this function you can run the following code:\n",
    "```python\n",
    "compute_AI = retrieve_compute_AI()\n",
    "```\n",
    "\n",
    "As a reminder, the function `compute_AI` takes as an input the parameters of the model (`dt`, `k`, `tau` and `n`) together with initial values of activator and inhibitor concentrations and returns a list of the evolution of all the `n` values over time.\n",
    "\n",
    "### Exercise 13\n",
    "Write a `for` loop that fills all the array cells using the function `compute_AI`"
   ]
  },
  {
   "cell_type": "code",
   "execution_count": null,
   "id": "c7d9c485",
   "metadata": {},
   "outputs": [],
   "source": [
    "compute_AI = retrieve_compute_AI()\n",
    "A = np.zeros((size, n))\n",
    "I = np.zeros((size, n))\n",
    "np.random.seed(0)\n",
    "A[:, 0] = np.random.random(100)\n",
    "np.random.seed(1)\n",
    "I[:, 0] = np.random.random(100)\n",
    "\n",
    "# Code the loop here"
   ]
  },
  {
   "cell_type": "markdown",
   "id": "b4388406",
   "metadata": {},
   "source": [
    "You can check your results by comparing the tables you obtained with the table you get with the function `answer_results`.\n",
    "\n",
    "To compare two tables you can use the `==` sign or the function `np.allclose` for example."
   ]
  },
  {
   "cell_type": "code",
   "execution_count": null,
   "id": "274e962f",
   "metadata": {},
   "outputs": [],
   "source": [
    "A_ans, I_ans = answer_results(13, A=A, I=I, dt=dt, k=k, tau=tau, n=n)\n",
    "\n",
    "if np.alltrue(A_ans==A) and np.alltrue(I_ans==I):\n",
    "    print('My results are the same as what is expected')\n",
    "elif np.allclose(A_ans, A) and np.allclose(I_ans, I):\n",
    "    print('My results are all close to what is expected')\n",
    "else:\n",
    "    print('My results are different to what was expected')"
   ]
  },
  {
   "cell_type": "markdown",
   "id": "9307609b",
   "metadata": {},
   "source": [
    "Now, the concentration over time of the activator or the inhibitor of each cell are in the arrays `A` and `I`.\n",
    "You can plot these values for each cell using the previously shown function `plot_concentration_1cell`. Here is an example for the 50$^{th}$ and 3$^{rd}$ cells:"
   ]
  },
  {
   "cell_type": "code",
   "execution_count": null,
   "id": "9cbb6d13",
   "metadata": {},
   "outputs": [],
   "source": [
    "plot_concentration_1cell(A[49], I[49])\n",
    "plot_concentration_1cell(A[3], I[3])"
   ]
  },
  {
   "cell_type": "markdown",
   "id": "5020c340",
   "metadata": {},
   "source": [
    "Using the previous plots to visualise all the cells at the same time is not really convenient.\n",
    "\n",
    "One problem is that on a screen we are mostly bounded to two dimensions.\n",
    "In the previous plot we use one dimension for the time and the other one for the level of concentration so we don't have any remaining dimension for space (our cells).\n",
    "\n",
    "One way around that is to use colours for the level of concentration so we have space and time as our dimensions.\n",
    "\n",
    "This is what is done in the function `plot_concentration_1D`:"
   ]
  },
  {
   "cell_type": "code",
   "execution_count": null,
   "id": "eea5a986",
   "metadata": {},
   "outputs": [],
   "source": [
    "plot_concentration_1D(A_ans, I_ans, step=100)\n",
    "plot_concentration_1D(A_ans, step=300)"
   ]
  },
  {
   "cell_type": "markdown",
   "id": "77023efd",
   "metadata": {},
   "source": [
    "Now we can have a look at the result with the oscillatory parameters found earlier:"
   ]
  },
  {
   "cell_type": "code",
   "execution_count": null,
   "id": "cce29073",
   "metadata": {},
   "outputs": [],
   "source": [
    "A = np.zeros((size, n))\n",
    "I = np.zeros((size, n))\n",
    "np.random.seed(0)\n",
    "A[:, 0] = np.random.random(100)\n",
    "np.random.seed(1)\n",
    "I[:, 0] = np.random.random(100)\n",
    "A_osci, I_osci = answer_results(13, A=A, I=I, dt=.01, k=.05, tau=2, n=n)"
   ]
  },
  {
   "cell_type": "code",
   "execution_count": null,
   "id": "f16d117a",
   "metadata": {},
   "outputs": [],
   "source": [
    "plot_concentration_1D(A_osci, I_osci, step=100)"
   ]
  },
  {
   "cell_type": "markdown",
   "id": "c77ca9fb",
   "metadata": {},
   "source": [
    "### 5.2 Adding lateral diffusion\n",
    "Now, we are going to start doing real 1D!\n",
    "\n",
    "The idea is that, up to now, we are able to have a row of cells that are acting next to each other but independently. We want to add to that the diffusion process of the Turing patterns: the $\\mu_a\\Delta a$ and $\\mu_i\\Delta i$.\n",
    "\n",
    "We model the lateral diffusion for a given cell as simply as possible. The diffusion is a proportion (the parameters $\\mu_a$ and $\\mu_i$) of concentration that a cell receive from its direct neighbours minus what that cell gives to its neighbour, which is twice a given proportion of its own concentration (the proportion being $\\mu_a$ for the activator and $\\mu_i$ for the inhibitor).\n",
    "\n",
    "Now, if $a_x$ is the activator concentration in the cell at the position $x$, we can formalise the previous sentence as follow:\n",
    "$$\n",
    "\\mu_a\\Delta a_x = \\mu_a \\frac{a_{x+\\delta x} + a_{x-\\delta x} - 2a_x}{\\delta x}\n",
    "$$\n",
    "\n",
    "Therefore, after diffusion for a given time $\\delta t$, the concentration $a_x$ becomes is:\n",
    "$$\n",
    "a_{x, t+\\delta t} = a_{x, t} + \\delta t\\mu_a\\Delta a_{x,t} = a_{x,t} + \\delta t\\mu_a \\frac{a_{x+\\delta x, t} + a_{x-\\delta x, t} - 2a_{x, t}}{\\delta x}\n",
    "$$\n",
    "We tried to explain that with the following figure:\n",
    "<img src=\"Images/Diffusion.png\" alt=\"Diffusion\" width=\"500\"/>"
   ]
  },
  {
   "cell_type": "markdown",
   "id": "c7aa72fe",
   "metadata": {},
   "source": [
    "Now that we have explained the theory (which might look a bit scary at first glance), let's see how we can implement that in practice.\n",
    "\n",
    "As before, we need to compute the concentration of $A$ and $I$ for each cell.\n",
    "The difference is that before it was only depending on what was in that cell, now it also depends on what was in the neighbouring cells.\n",
    "\n",
    "Before (no neighbourhood interaction), i:\n",
    "```python\n",
    "A[i, t] = A[i, t-1] + dt * (A[i, t-1] - A[i, t-1]**3 - I[i, t-1] + k)\n",
    "I[i, t] = I[i, t-1] + dt/tau * (A[i, t-1] - I[i, t-1])\n",
    "```\n",
    "\n",
    "After (with neighbourhood interaction):\n",
    "```python\n",
    "A[i, t] = A[i, t-1] + dt * (mu_a*(A[i-1, t-1] + A[i-1, t+1] - 2*A[i, t-1]) +\\\n",
    "                            A[i, t-1] - A[i, t-1]**3 - I[i, t-1] + k)\n",
    "I[i, t] = I[i, t-1] + dt/tau * (mu_i*(I[i-1, t-1] + I[i-1, t+1] - 2*I[i, t-1]) +\\\n",
    "                                A[i, t-1] - I[i, t-1])\n",
    "```\n",
    "\n",
    "What it means in practice is that, to compute the concentration of the activator or the inhibitor for a given cell, not only we need to know what was happening at the previous time in that cell but we also need to know what was happening in the neighbouring cells."
   ]
  },
  {
   "cell_type": "markdown",
   "id": "8312b728",
   "metadata": {},
   "source": [
    "### Exercise 14 (kind of a tough one 😨)\n",
    "\n",
    "Because we are adding a new dimension to our problem, most of what we have developed until now becomes obsolete ...\n",
    "\n",
    "This is because our two base functions (`da` and `di`) on which we built everything else do not take neighbouring cells as a parameter.\n",
    "\n",
    "So ... we now have to rewrite the functions `da` and `di` so that they do take into account lateral diffusion. And because we are now a bit more advanced, we will write them into one function that takes as input a row of cells at $t$ and outputs the new row of cells at $t+\\delta t$.\n",
    "\n",
    "The function will therefore have the following header:\n",
    "```python\n",
    "def dA_I(A: np.array, I: np.array, dt: float, k: float, tau: float,\n",
    "         dx: float, mu_a: float, mu_i: float) -> (np.array, np.array):\n",
    "    new_A = np.zeros_like(A)\n",
    "    new_I = np.zeros_like(I)\n",
    "    ## Do the correct thing\n",
    "    return new_A, new_I\n",
    "```"
   ]
  },
  {
   "cell_type": "code",
   "execution_count": null,
   "id": "0f2def74",
   "metadata": {},
   "outputs": [],
   "source": [
    "np.random.seed(0)\n",
    "A = np.random.random(100)\n",
    "np.random.seed(1)\n",
    "I = np.random.random(100)\n",
    "\n",
    "def dA_I(A, I, dt, k, tau, dx, mu_a, mu_i):\n",
    "    new_A = np.zeros_like(A)\n",
    "    new_I = np.zeros_like(I)\n",
    "    new_A[1:-1] = (A[1:-1] +\n",
    "                   dt * (1/dx*mu_a*(A[:-2] + A[2:] - 2*A[1:-1]) + \n",
    "                         A[1:-1] - A[1:-1]**3 - I[1:-1] + k))\n",
    "    new_A[0] = (A[0] +\n",
    "                dt * (1/dx*mu_a*(A[1] - A[0]) + \n",
    "                      A[0] - A[0]**3 - I[0] + k))\n",
    "    new_A[-1] = (new_A[-1] + \n",
    "                 dt * (dx*mu_a*(A[-2] - A[-1]) + \n",
    "                       A[-1] - A[-1]**3 - I[-1] + k))\n",
    "\n",
    "    new_I[1:-1] = (I[1:-1] +\n",
    "                   dt/tau * (1/dx*mu_i*(I[:-2] + I[2:] - 2*I[1:-1]) + \n",
    "                             A[1:-1] - I[1:-1]))\n",
    "    new_I[0] = (I[0] + \n",
    "                dt/tau * (1/dx*mu_i*(I[1] - I[0]) + \n",
    "                          A[0] - I[0]))\n",
    "    new_I[-1] = (I[-1] + \n",
    "                 dt/tau * (1/dx*mu_i*(I[-2] - I[-1]) + \n",
    "                           A[-1] - I[-1]))\n",
    "    return new_A, new_I\n",
    "\n",
    "new_A, new_I = dA_I(A, I, dt=dt, k=k, tau=tau,\n",
    "                    dx=dx, mu_a=mu_a, mu_i=mu_i)"
   ]
  },
  {
   "cell_type": "code",
   "execution_count": null,
   "id": "7648300c",
   "metadata": {},
   "outputs": [],
   "source": [
    "## Checking wether your results are correct:\n",
    "A_ans, I_ans = answer_results(14, A=A, I=I, dt=dt, k=k, tau=tau,\n",
    "                              dx=dx, mu_a=mu_a, mu_i=mu_i)\n",
    "\n",
    "if np.alltrue(A_ans==new_A) and np.alltrue(I_ans==new_I):\n",
    "    print('My results are the same as what is expected')\n",
    "elif np.allclose(A_ans, new_A) and np.allclose(I_ans, new_I):\n",
    "    print('My results are all close to what is expected')\n",
    "else:\n",
    "    print('My results are different to what was expected')"
   ]
  },
  {
   "cell_type": "markdown",
   "id": "0991747c",
   "metadata": {},
   "source": [
    "Now, the function `dA_I` gives us the value of `A` and `I` from one time to the next with lateral diffusion.\n",
    "The next step is to write a `for` loop that allows to compute our systems over all the necessary time-points.\n",
    "\n",
    "### Exercise 15\n",
    "Write a `for` loop that computes the concentration of a row of cells over `n` time-points."
   ]
  },
  {
   "cell_type": "code",
   "execution_count": null,
   "id": "06588d64",
   "metadata": {},
   "outputs": [],
   "source": [
    "A = np.zeros((size, n))\n",
    "I = np.zeros((size, n))\n",
    "np.random.seed(0)\n",
    "A[:, 0] = np.random.random(100)\n",
    "np.random.seed(1)\n",
    "I[:, 0] = np.random.random(100)\n",
    "\n",
    "for t in range(1, n):\n",
    "    # do what is necessary\n",
    "    A[:, t], I[:, t] = dA_I(A[:, t-1], I[:, t-1], dt=dt, k=k, tau=tau,\n",
    "                            dx=dx, mu_a=mu_a, mu_i=mu_i)"
   ]
  },
  {
   "cell_type": "code",
   "execution_count": null,
   "id": "f85caf6e",
   "metadata": {},
   "outputs": [],
   "source": [
    "plot_concentration_1D(A, step=100)"
   ]
  },
  {
   "cell_type": "markdown",
   "id": "07d0a21d",
   "metadata": {},
   "source": [
    "While the result is different from what we had before, it is not by a lot.\n",
    "We can now start playing with the parameters a little bit and check what would be happening to the oscillatory behaviour we found earlier:"
   ]
  },
  {
   "cell_type": "code",
   "execution_count": null,
   "id": "ba1e96b4",
   "metadata": {},
   "outputs": [],
   "source": [
    "A = np.zeros((size, n))\n",
    "I = np.zeros((size, n))\n",
    "np.random.seed(0)\n",
    "A[:, 0] = np.random.random(100)\n",
    "np.random.seed(1)\n",
    "I[:, 0] = np.random.random(100)\n",
    "\n",
    "for t in range(1, n):\n",
    "    # do what is necessary\n",
    "    A[:, t], I[:, t] = dA_I(A[:, t-1], I[:, t-1], dt=.01, k=.05, tau=2,\n",
    "                            dx=.0005, mu_a=mu_a, mu_i=mu_i)\n",
    "plot_concentration_1D(A, step=100)"
   ]
  },
  {
   "cell_type": "markdown",
   "id": "8837acc8",
   "metadata": {},
   "source": [
    "We can see the cells actually synchronising!\n",
    "\n",
    "You can now play a bit more with the different parameters before starting the final part: the \"real\" Turing patterns, in 2D."
   ]
  },
  {
   "cell_type": "code",
   "execution_count": null,
   "id": "0ab83bb4",
   "metadata": {},
   "outputs": [],
   "source": [
    "# You can \"play\" here"
   ]
  },
  {
   "cell_type": "markdown",
   "id": "3a60c847",
   "metadata": {},
   "source": [
    "## From 1 to 2D!\n",
    "---\n",
    "Now, we've seen diffusion in 1 dimension, expanding it to 2 dimensions is not that complicated.\n",
    "\n",
    "First we need to create our array of cells. This is an array of dimension `(size, size, n)`. We will therefore have `size*size` cells over `n` time-points:"
   ]
  },
  {
   "cell_type": "code",
   "execution_count": null,
   "id": "1e9f92d9",
   "metadata": {},
   "outputs": [],
   "source": [
    "A = np.zeros((size, size, n))\n",
    "I = np.zeros((size, size, n))"
   ]
  },
  {
   "cell_type": "markdown",
   "id": "0455dea7",
   "metadata": {},
   "source": [
    "Then, initialise the first time-point:"
   ]
  },
  {
   "cell_type": "code",
   "execution_count": null,
   "id": "24f79ede",
   "metadata": {},
   "outputs": [],
   "source": [
    "np.random.seed(0)\n",
    "A[:, :, 0] = np.random.random((size, size))\n",
    "np.random.seed(1)\n",
    "I[:, :, 0] = np.random.random((size, size))"
   ]
  },
  {
   "cell_type": "markdown",
   "id": "a8f18c3a",
   "metadata": {},
   "source": [
    "Now, the non-diffusive term of our equation are \"simple\":\n",
    "```python\n",
    "A[:, :, t] = A[:, :, t-1] + dt*(A[:, :, t-1] - A[:, :, t-1]**3 + k)\n",
    "```\n",
    "and\n",
    "```python\n",
    "I[:, :, t] = I[:, :, t-1] + dt/tau*(A[:, :, t-1] - I[:, :, t-1])\n",
    "```\n",
    "\n",
    "The diffusion term is slightly more complex since we have to look in the two dimensions as opposed to only one dimension as we did before.\n",
    "\n",
    "Within each cell at a given position `i, j` at time `t` we want to add the concentration of the cells directly next to it at time `t-1`, this is the diffusion of the neighbouring cells to that cell:\n",
    "```python\n",
    "diff_A[i, j] = A[i-1, j, t-1] + A[i+1, j, t-1] + A[i, j-1, t-1] + A[i, j+1, t-1]\n",
    "```\n",
    "- `A[i-1, j  , t-1]` is the concentration value at time `t-1` of the left hand cell.\n",
    "- `A[i+1, j  , t-1]` is the concentration value at time `t-1` of the right hand cell.\n",
    "- `A[i  , j-1, t-1]` is the concentration value at time `t-1` of the lower cell.\n",
    "- `A[i  , j+1, t-1]` is the concentration value at time `t-1` of the upper cell.\n",
    "\n",
    "We then need to subtract 4 times the value at the concentration of that cell, this is the diffusion of that cell towards its 4 neighbours:\n",
    "\n",
    "```python\n",
    "diff_A[i, j] = diff_A[i, j] - 4*A[i, j, t-1]\n",
    "```\n",
    "\n",
    "This value needs to be normalised by the diffusion coefficient $mu_a$ or $mu_i$, the time step $\\delta t$ and the spatial resolution in x and y $\\delta x$ and $\\delta y$:\n",
    "```python\n",
    "diff_A[i, j] = dt*mu_a(  A[i-1, j  , t-1]\n",
    "                       + A[i+1, j  , t-1]\n",
    "                       + A[i  , j-1, t-1]\n",
    "                       + A[i  , j+1, t-1]\n",
    "                       - 4*A[i, j, t-1])/(dx*dy)\n",
    "```\n",
    "\n",
    "(Note that the diffusion is shown for the activator `A` but it is similarly computed for the inhibitor `I`)\n",
    "\n",
    "Now, there are two important things to notice in the computation of `diff_A` (resp. `diff_I`):\n",
    "- we are adding the value of the cells around\n",
    "- we are subtracting the value of the current cell as many times as it has neighbours.\n",
    "\n",
    "There is a way to \"directly\" compute how much a cell is receiving from its neighbours by using the convolution operator.\n",
    "\n",
    "For example, given an image `I` and a kernel `k`:\n",
    "```python\n",
    "k = [[ 0, .5,  0],\n",
    "     [.5,  2, .5],\n",
    "     [ 0, .5,  0]]\n",
    "```\n",
    "convolving `I` by `k` (giving the image `cI`) means that each pixel of `I` will be have a new value:\n",
    "```python\n",
    "cI[i, j] =(   .5 * I[i-1, j  ]\n",
    "            + .5 * I[i+1, j  ]\n",
    "            + .5 * I[i  , j-1]\n",
    "            + .5 * I[i  , j+1]\n",
    "            +  2 * I[i  , j  ] )\n",
    "```\n",
    "\n",
    "This is really close to what we want to do for our diffusion term."
   ]
  },
  {
   "cell_type": "markdown",
   "id": "6b91c142",
   "metadata": {},
   "source": [
    "What would be the kernel that we would like to have to compute the diffusion of neighbouring cells to any given cell?"
   ]
  },
  {
   "cell_type": "code",
   "execution_count": null,
   "id": "34baa8a6",
   "metadata": {},
   "outputs": [],
   "source": [
    "# Write here the kernel\n",
    "# kernel = [[0, 0, 0],\n",
    "#           [0, 0, 0],\n",
    "#           [0, 0, 0]]\n",
    "kernel = np.array([[0, 1, 0],\n",
    "                   [1, 0, 1],\n",
    "                   [0, 1, 0]])\n",
    "    "
   ]
  },
  {
   "cell_type": "markdown",
   "id": "b0d7bd66",
   "metadata": {},
   "source": [
    "Now we have our kernel and our initial image, we can use the convolve function from scipy:"
   ]
  },
  {
   "cell_type": "code",
   "execution_count": null,
   "id": "ef0bb1de",
   "metadata": {},
   "outputs": [],
   "source": [
    "from scipy.ndimage import convolve\n",
    "convolve?"
   ]
  },
  {
   "cell_type": "markdown",
   "id": "790b29d1",
   "metadata": {},
   "source": [
    "We can use it the following way:"
   ]
  },
  {
   "cell_type": "code",
   "execution_count": null,
   "id": "cb09d351",
   "metadata": {},
   "outputs": [],
   "source": [
    "to_cell = convolve(A[..., 0], kernel, mode='constant', cval=0)"
   ]
  },
  {
   "cell_type": "markdown",
   "id": "19ea5699",
   "metadata": {},
   "source": [
    "Now, because we don't alway have the same number of neighbours, we need to calculate it before subtracting to have our full diffusion term.\n",
    "\n",
    "Using the convolution, can you think of a way to count the number of neighbours for each cell?"
   ]
  },
  {
   "cell_type": "code",
   "execution_count": null,
   "id": "06d1ec70",
   "metadata": {},
   "outputs": [],
   "source": [
    "# Think about how to do it\n",
    "nb_neighbs = ..."
   ]
  },
  {
   "cell_type": "markdown",
   "id": "6ef8167b",
   "metadata": {},
   "source": [
    "Assuming that we have computed the number of neighbours we can compute our diffusion term as follow:"
   ]
  },
  {
   "cell_type": "code",
   "execution_count": null,
   "id": "1c0b98af",
   "metadata": {},
   "outputs": [],
   "source": [
    "# to_cell = convolve(A[..., 0], k, mode='constant', cval=0)\n",
    "# from_cell = nb_neighbs * A[..., 0]\n",
    "# diff_A = to_cell - from_cell"
   ]
  },
  {
   "cell_type": "markdown",
   "id": "7edd2186",
   "metadata": {},
   "source": [
    "### Exercise 16\n",
    "Write a function `diffusion` that takes as an input an array of cells `arr`, the number of neighbours `nb_neighbs`, a kernel `kernel` a diffusion coefficient `mu` and the `dx` and `dy` resolution and outputs the diffusion term."
   ]
  },
  {
   "cell_type": "code",
   "execution_count": null,
   "id": "575e96ad",
   "metadata": {},
   "outputs": [],
   "source": [
    "## Here you write the function\n",
    "def diffusion(arr, nb_neighbs, kernel, mu, dx, dy):\n",
    "    arr_diff = np.zeros_like(arr)\n",
    "    return arr_diff\n",
    "    "
   ]
  },
  {
   "cell_type": "code",
   "execution_count": null,
   "id": "8f85a4e0",
   "metadata": {},
   "outputs": [],
   "source": [
    "np.random.seed(0)\n",
    "A[:, :, 0] = np.random.random((size, size))\n",
    "np.random.seed(1)\n",
    "I[:, :, 0] = np.random.random((size, size))\n",
    "\n",
    "kernel = np.array([[0, 1, 0],\n",
    "                   [1, 0, 1],\n",
    "                   [0, 1, 0]])\n",
    "mask = np.ones_like(A[:, :, 0])\n",
    "nb_neighbs = convolve(mask, kernel, mode='constant', cval=0)\n",
    "\n",
    "diff_A = diffusion(A[..., 0], nb_neighbs, kernel, mu_a, dx, dy)\n",
    "diff_I = diffusion(I[..., 0], nb_neighbs, kernel, mu_i, dx, dy)\n",
    "test_diff_A = answer_results(16, arr=A[:, :, 0], \n",
    "                             nb_neighbs=nb_neighbs,\n",
    "                             kernel=kernel, mu=mu_a,\n",
    "                             dx=dx, dy=dy)\n",
    "test_diff_I = answer_results(16, arr=I[:, :, 0], \n",
    "                             nb_neighbs=nb_neighbs,\n",
    "                             kernel=kernel, mu=mu_i,\n",
    "                             dx=dx, dy=dy)\n",
    "if np.alltrue(diff_A==test_diff_A) and np.alltrue(diff_I==test_diff_I):\n",
    "    print('My results are the same as what is expected')\n",
    "elif np.allclose(diff_A, test_diff_A) and np.allclose(diff_I, test_diff_I):\n",
    "    print('My results are all close to what is expected')\n",
    "else:\n",
    "    print('My results are different to what was expected')"
   ]
  },
  {
   "cell_type": "markdown",
   "id": "cd8a1f0f",
   "metadata": {},
   "source": [
    "### Almost there!\n",
    "Now, we know how to compute all the terms of the equation for both the activator and the inhibitor.\n",
    "\n",
    "### Exercise 17\n",
    "Write a function that takes as an input the parameters of the model and returns two arrays of size `size x size x n` with all the computed states of our turing model."
   ]
  },
  {
   "cell_type": "code",
   "execution_count": null,
   "id": "f25247a6",
   "metadata": {},
   "outputs": [],
   "source": [
    "import numpy as np\n",
    "from scipy.ndimage import convolve\n",
    "mu_a = 2.8e-4\n",
    "mu_i = 5e-3\n",
    "tau = .1\n",
    "k = -.005\n",
    "size = 100\n",
    "dx = dy = 2. / size\n",
    "T = 9.0\n",
    "dt = .001\n",
    "\n",
    "def diffusion(arr, nb_neighbs, kernel, mu, dx, dy):\n",
    "    to_cell = convolve(arr, kernel, mode='constant', cval=0)\n",
    "    from_cell = nb_neighbs*arr\n",
    "    out = mu*(to_cell - from_cell)/(dx*dy)\n",
    "    return out\n",
    "\n",
    "# Write the function here:\n",
    "def compute_turing(dt, k, tau, size, T,\n",
    "                   mu_a, mu_i, dx, dy, seed=0):\n",
    "    ...\n",
    "    \n",
    "# A, I = compute_turing(dt, k, tau, size, T, mu_a, mu_i, dx, dy)"
   ]
  },
  {
   "cell_type": "markdown",
   "id": "22240249",
   "metadata": {},
   "source": [
    "## Displaying the result\n",
    "---\n",
    "We can now display the result of our modeling using matplotlib.\n",
    "\n",
    "Though it is not completely trivial since it is a 3D data (2D + time).\n",
    "\n",
    "First of, we can at least look at some specific time points using the function imshow of matplotlib:"
   ]
  },
  {
   "cell_type": "code",
   "execution_count": null,
   "id": "31f09d6b",
   "metadata": {},
   "outputs": [],
   "source": [
    "import matplotlib.pyplot as plt\n",
    "# Recomputing the previous results if necessary. Comment if it is not necessary.\n",
    "A, I = answer_results(17, dt=dt, k=k, tau=tau,\n",
    "                      size=size, T=T, mu_a=mu_a,\n",
    "                      mu_i=mu_i, dx=dx, dy=dy)"
   ]
  },
  {
   "cell_type": "code",
   "execution_count": null,
   "id": "f903e703",
   "metadata": {},
   "outputs": [],
   "source": [
    "plt.imshow(A[..., -1])"
   ]
  },
  {
   "cell_type": "markdown",
   "id": "b3fdb9ef",
   "metadata": {},
   "source": [
    "We can improve a bit the display:"
   ]
  },
  {
   "cell_type": "code",
   "execution_count": null,
   "id": "c16a9eab",
   "metadata": {},
   "outputs": [],
   "source": [
    "fig, ax = plt.subplots(figsize=(6, 6))\n",
    "ax.imshow(A[..., -1])\n",
    "ax.set_axis_off()\n",
    "fig.tight_layout()"
   ]
  },
  {
   "cell_type": "markdown",
   "id": "00341013",
   "metadata": {},
   "source": [
    "We can show multiple time points at a time:"
   ]
  },
  {
   "cell_type": "code",
   "execution_count": null,
   "id": "807b1345",
   "metadata": {},
   "outputs": [],
   "source": [
    "nb_TP = 9\n",
    "n = A.shape[-1]\n",
    "x_dim = int(nb_TP**.5)\n",
    "y_dim = nb_TP//x_dim\n",
    "if  x_dim*y_dim < nb_TP:\n",
    "    y_dim += 1\n",
    "fig, axes = plt.subplots(x_dim, y_dim, figsize=(6, 6))\n",
    "for i, ax in enumerate(axes.flatten()):\n",
    "    ax.imshow(A[..., int(i*n/nb_TP)])\n",
    "    ax.set_axis_off()\n",
    "    ax.set_title(f'Time {int(i*n/nb_TP)*dt}')\n",
    "fig.tight_layout()\n",
    "# int(nb_TP**.5)"
   ]
  },
  {
   "cell_type": "markdown",
   "id": "cb05f742",
   "metadata": {},
   "source": [
    "Now, we can also build animation of the model:"
   ]
  },
  {
   "cell_type": "code",
   "execution_count": null,
   "id": "fc4a6d6b",
   "metadata": {},
   "outputs": [],
   "source": [
    "from matplotlib import animation\n",
    "from IPython.display import HTML\n",
    "\n",
    "fig, ax = plt.subplots(figsize=(5, 5))\n",
    "ax.axis('off')\n",
    "im = ax.imshow(A[..., 0], interpolation='bilinear');\n",
    "fig.tight_layout()\n",
    "\n",
    "def init():\n",
    "    im.set_data(A_anim[..., 0]);\n",
    "    return(im,)\n",
    "\n",
    "def animate(i):\n",
    "    im.set_data(A_anim[...,i]);\n",
    "    return(im,)\n",
    "\n",
    "nb_times_im = 100\n",
    "A_anim = A[..., ::A.shape[-1]//nb_times_im]\n",
    "anim = animation.FuncAnimation(fig, animate, init_func=init,\n",
    "                               frames=nb_times_im, interval=25, \n",
    "                               blit=True);\n",
    "\n",
    "HTML(anim.to_jshtml())"
   ]
  },
  {
   "cell_type": "markdown",
   "id": "d094568e",
   "metadata": {},
   "source": [
    "## Playing with the model, its parameters"
   ]
  },
  {
   "cell_type": "code",
   "execution_count": null,
   "id": "ccd48929",
   "metadata": {},
   "outputs": [],
   "source": [
    "T = 40\n",
    "dt = .01\n",
    "tau = 2\n",
    "k = .05\n",
    "A, I = answer_results(17, dt=dt, k=k, tau=tau,\n",
    "                      size=size, T=T, mu_a=mu_a,\n",
    "                      mu_i=mu_i, dx=dx, dy=dy)\n"
   ]
  },
  {
   "cell_type": "code",
   "execution_count": null,
   "id": "2f163f91",
   "metadata": {},
   "outputs": [],
   "source": [
    "from matplotlib import animation\n",
    "from IPython.display import HTML\n",
    "\n",
    "fig, ax = plt.subplots(figsize=(5, 5))\n",
    "ax.axis('off')\n",
    "im = ax.imshow(A[..., 0], interpolation='bilinear')\n",
    "fig.tight_layout()\n",
    "\n",
    "def init():\n",
    "    im.set_data(A_anim[..., 0])\n",
    "    return(im,)\n",
    "\n",
    "def animate(i):\n",
    "    im.set_data(A_anim[...,i])\n",
    "    return(im,)\n",
    "\n",
    "nb_times_im = 50\n",
    "A_anim = A[..., ::A.shape[-1]//nb_times_im]\n",
    "anim = animation.FuncAnimation(fig, animate, init_func=init,\n",
    "                               frames=nb_times_im, interval=25, \n",
    "                               blit=True)\n",
    "\n",
    "HTML(anim.to_jshtml())"
   ]
  },
  {
   "cell_type": "markdown",
   "id": "36b2ed13",
   "metadata": {},
   "source": [
    "## Oriented diffusion\n",
    "\n",
    "The kernel we defined earlier shows a diffusion that is uniform in each direction.\n",
    "\n",
    "We can change it to simulate oriented diffusion:\n",
    "\n",
    "```python\n",
    "kernel = np.array([[0, .5, 0],\n",
    "                   [1,  0, 0],\n",
    "                   [0, .5, 0]])\n",
    "```\n",
    "The kernel above just means that there is no diffusion from any cell to their right hand neighbors and that the \"up\" and \"down\" diffusion are twice as low as the diffusion towards the left.\n",
    "\n",
    "Let see what it does to our model:"
   ]
  },
  {
   "cell_type": "code",
   "execution_count": null,
   "id": "c3d55b53",
   "metadata": {},
   "outputs": [],
   "source": [
    "def compute_turing_kernel(dt, k, tau, size, T,\n",
    "                          mu_a, mu_i, dx, dy,\n",
    "                          kernel, seed=0):\n",
    "    n = int(T/dt)\n",
    "    A = np.zeros((size, size, n))\n",
    "    I = np.zeros((size, size, n))\n",
    "    np.random.seed(seed)\n",
    "    A[:, :, 0] = np.random.random((size, size))\n",
    "    np.random.seed(seed+1)\n",
    "    I[:, :, 0] = np.random.random((size, size))\n",
    "\n",
    "    mask = np.ones_like(A[:, :, 0])\n",
    "    nb_neighbs = convolve(mask, kernel, mode='constant', cval=0)\n",
    "\n",
    "    for t in range(1, n):\n",
    "        diff_A = diffusion(A[:, :, t-1], nb_neighbs, kernel, mu_a, dx, dy)\n",
    "        A[..., t] = A[..., t-1] + dt*(diff_A + A[..., t-1] - A[..., t-1]**3 - I[..., t-1] + k)\n",
    "        diff_I = diffusion(I[:, :, t-1], nb_neighbs, kernel, mu_i, dx, dy)\n",
    "        I[..., t] = I[..., t-1] + dt/tau*(diff_I + A[..., t-1] - I[..., t-1])\n",
    "\n",
    "\n",
    "    return A, I\n",
    "\n",
    "T = 200\n",
    "dt = .025\n",
    "tau = 2\n",
    "k = .05\n",
    "kernel = [[0,  .5,  0],\n",
    "          [1,   0,  0],\n",
    "          [0,  .5,  0]]\n",
    "A, I = compute_turing_kernel(dt, k, tau, size, T, mu_a, mu_i, dx, dy, kernel)\n",
    "#Note that the only change we made was to change the kernel"
   ]
  },
  {
   "cell_type": "code",
   "execution_count": null,
   "id": "76a9e7af",
   "metadata": {},
   "outputs": [],
   "source": [
    "fig, ax = plt.subplots(figsize=(5, 5))\n",
    "ax.axis('off')\n",
    "im = ax.imshow(A[..., 0], interpolation='bilinear')\n",
    "fig.tight_layout()\n",
    "\n",
    "def init():\n",
    "    im.set_data(A_anim[..., 0])\n",
    "    return(im,)\n",
    "\n",
    "def animate(i):\n",
    "    im.set_data(A_anim[...,i])\n",
    "    return(im,)\n",
    "\n",
    "nb_times_im = 100\n",
    "A_anim = A[..., ::A.shape[-1]//nb_times_im]\n",
    "anim = animation.FuncAnimation(fig, animate, init_func=init,\n",
    "                               frames=nb_times_im, interval=25, \n",
    "                               blit=True)\n",
    "\n",
    "HTML(anim.to_jshtml())"
   ]
  },
  {
   "cell_type": "markdown",
   "id": "2ed77dab",
   "metadata": {},
   "source": [
    "Now there is two perpendicular patterns.\n",
    "The thing is that the right handside pattern might be due to odd things happening because we are at the edge and there is only latteral diffusion without any source effect.\n",
    "\n",
    "Instead of a source effect we can actually make our sheet a \"tube\".\n",
    "To do so, the only thing we have to do is to say that any intensity that is present in the left hand side of our grid is duplicated to the right hand side.\n",
    "In practice, what it means is that the left and right most columns are actually the same in our model.\n",
    "\n",
    "To copy such values we can simply do it the following way:\n",
    "```python\n",
    "A[:, -1, t] = A[:, 0, t]\n",
    "I[:, -1, t] = I[:, 0, t]\n",
    "```"
   ]
  },
  {
   "cell_type": "code",
   "execution_count": null,
   "id": "b8c7d1c7",
   "metadata": {},
   "outputs": [],
   "source": [
    "def compute_turing_kernel(dt, k, tau, size, T,\n",
    "                          mu_a, mu_i, dx, dy,\n",
    "                          kernel, seed=0):\n",
    "    n = int(T/dt)\n",
    "    A = np.zeros((size, size, n))\n",
    "    I = np.zeros((size, size, n))\n",
    "    np.random.seed(seed)\n",
    "    A[:, :, 0] = np.random.random((size, size))\n",
    "    np.random.seed(seed+1)\n",
    "    I[:, :, 0] = np.random.random((size, size))\n",
    "\n",
    "    mask = np.ones_like(A[:, :, 0])\n",
    "    nb_neighbs = convolve(mask, kernel, mode='constant', cval=0)\n",
    "\n",
    "    for t in range(1, n):\n",
    "        diff_A = diffusion(A[:, :, t-1], nb_neighbs, kernel, mu_a, dx, dy)\n",
    "        A[..., t] = A[..., t-1] + dt*(diff_A + A[..., t-1] - A[..., t-1]**3 - I[..., t-1] + k)\n",
    "        diff_I = diffusion(I[:, :, t-1], nb_neighbs, kernel, mu_i, dx, dy)\n",
    "        I[..., t] = I[..., t-1] + dt/tau*(diff_I + A[..., t-1] - I[..., t-1])\n",
    "        # Here is our simple addition\n",
    "        A[:, -1, t] = A[:, 0, t]\n",
    "        I[:, -1, t] = I[:, 0, t]\n",
    "\n",
    "\n",
    "    return A, I\n",
    "\n",
    "T = 600\n",
    "dt = .1\n",
    "tau = 3\n",
    "k = .05\n",
    "kernel = [[0,  .5,  0],\n",
    "          [1,   0,  0],\n",
    "          [0,  .5,  0]]\n",
    "A, I = compute_turing_kernel(dt, k, tau, size, T, mu_a, mu_i, dx, dy, kernel)"
   ]
  },
  {
   "cell_type": "code",
   "execution_count": null,
   "id": "d9ccbf95",
   "metadata": {},
   "outputs": [],
   "source": [
    "fig, ax = plt.subplots(figsize=(5, 5))\n",
    "ax.axis('off')\n",
    "im = ax.imshow(A[..., 0], interpolation='bilinear')\n",
    "fig.tight_layout()\n",
    "\n",
    "def init():\n",
    "    im.set_data(A_anim[..., 0])\n",
    "    return(im,)\n",
    "\n",
    "def animate(i):\n",
    "    im.set_data(A_anim[...,i])\n",
    "    return(im,)\n",
    "\n",
    "nb_times_im = 100\n",
    "A_anim = A[..., ::A.shape[-1]//nb_times_im]\n",
    "anim = animation.FuncAnimation(fig, animate, init_func=init,\n",
    "                               frames=nb_times_im, interval=25, \n",
    "                               blit=True)\n",
    "\n",
    "HTML(anim.to_jshtml())"
   ]
  },
  {
   "cell_type": "markdown",
   "id": "74a9e3a8",
   "metadata": {},
   "source": [
    "### Changing the seed"
   ]
  },
  {
   "cell_type": "code",
   "execution_count": null,
   "id": "fd081935",
   "metadata": {},
   "outputs": [],
   "source": [
    "A, I = compute_turing_kernel(dt, k, tau, size, T, mu_a, mu_i, dx, dy, kernel, seed=2)"
   ]
  },
  {
   "cell_type": "code",
   "execution_count": null,
   "id": "0f08bf5f",
   "metadata": {},
   "outputs": [],
   "source": [
    "fig, ax = plt.subplots(figsize=(5, 5))\n",
    "ax.axis('off')\n",
    "im = ax.imshow(A[..., 0], interpolation='bilinear')\n",
    "fig.tight_layout()\n",
    "\n",
    "def init():\n",
    "    im.set_data(A_anim[..., 0])\n",
    "    return(im,)\n",
    "\n",
    "def animate(i):\n",
    "    im.set_data(A_anim[...,i])\n",
    "    return(im,)\n",
    "\n",
    "nb_times_im = 100\n",
    "A_anim = A[..., ::A.shape[-1]//nb_times_im]\n",
    "anim = animation.FuncAnimation(fig, animate, init_func=init,\n",
    "                               frames=nb_times_im, interval=25, \n",
    "                               blit=True)\n",
    "\n",
    "HTML(anim.to_jshtml())"
   ]
  }
 ],
 "metadata": {
  "kernelspec": {
   "display_name": "Python 3 (ipykernel)",
   "language": "python",
   "name": "python3"
  },
  "language_info": {
   "codemirror_mode": {
    "name": "ipython",
    "version": 3
   },
   "file_extension": ".py",
   "mimetype": "text/x-python",
   "name": "python",
   "nbconvert_exporter": "python",
   "pygments_lexer": "ipython3",
   "version": "3.10.4"
  }
 },
 "nbformat": 4,
 "nbformat_minor": 5
}
