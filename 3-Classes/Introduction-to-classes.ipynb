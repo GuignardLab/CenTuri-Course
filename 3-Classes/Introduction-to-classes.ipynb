{
 "cells": [
  {
   "cell_type": "markdown",
   "id": "1636611c",
   "metadata": {},
   "source": [
    "# Introduction to classes\n",
    "\n",
    "Classes are \"just\" a way to organise your code.\n",
    "\n",
    "You've probably been exposed to classes already.\n",
    "\n",
    "For example, a `ndarray` from `numpy` is a class.\n",
    "\n",
    "## A little bit of semantics (from the [Python official page](https://docs.python.org/3/tutorial/classes.html)):\n",
    "Creating a new class creates a new _type_ of object, allowing new _instances_ of that type to be made. Each class instance can have attributes attached to it for maintaining its state. Class instances can also have methods (defined by its class) for modifying its state.\n",
    "\n",
    "## What is the use of classes?\n",
    "As mentioned before, classes are:\n",
    "1. a different (better?) way to organise your code.\n",
    "2. a way of storing attributes/parameters more efficiently\n",
    "3. a way aggregate data and methods together\n",
    "\n",
    "For example, you need to work with cells that have several metrics attached to them. Let say surface, volume and position. Without a class one way to maintain a list of such cells could be the following:"
   ]
  },
  {
   "cell_type": "code",
   "execution_count": null,
   "id": "9809ec18",
   "metadata": {},
   "outputs": [],
   "source": [
    "# We have for cells with ids 0, 1, 2, 3\n",
    "cell_ids = [0, 1, 2, 3]\n",
    "\n",
    "# The surfaces (resp. volumes and positions) are stored as a dictionary\n",
    "# that maps to a cell id its measured surface (resp. volume and position)\n",
    "surface = {\n",
    "    0: 2,\n",
    "    1: 4,\n",
    "    4: 6,\n",
    "    5: 8\n",
    "}\n",
    "\n",
    "volume = {\n",
    "    0: 10,\n",
    "    1: 20,\n",
    "    2: 30,\n",
    "    3: 40\n",
    "}\n",
    "\n",
    "position = {\n",
    "    0: [1, 2],\n",
    "    1: [2, 5],\n",
    "    2: [0, 2],\n",
    "    3: [3, 1],\n",
    "    \n",
    "}"
   ]
  },
  {
   "cell_type": "markdown",
   "id": "e29a02d0",
   "metadata": {},
   "source": [
    "Now, if one wants to add a cell to the list they need to make sure to update all the dictionaries together:"
   ]
  },
  {
   "cell_type": "code",
   "execution_count": null,
   "id": "ad577020",
   "metadata": {},
   "outputs": [],
   "source": [
    "cell_ids.append(4)\n",
    "surface[4] = 10\n",
    "volume[4] = 50\n",
    "position[4] = [2, 1]"
   ]
  },
  {
   "cell_type": "markdown",
   "id": "9b354e56",
   "metadata": {},
   "source": [
    "Another way might be like that:"
   ]
  },
  {
   "cell_type": "code",
   "execution_count": null,
   "id": "0ac7d778",
   "metadata": {},
   "outputs": [],
   "source": [
    "cells = {}\n",
    "cells[0] = {}\n",
    "cells[0]['surface'] = 2\n",
    "cells[0]['volume'] = 10\n",
    "cells[0]['position'] = [1, 2]\n",
    "...\n",
    "print(cells)"
   ]
  },
  {
   "cell_type": "markdown",
   "id": "8d6dc847",
   "metadata": {},
   "source": [
    "And to add a cell:"
   ]
  },
  {
   "cell_type": "code",
   "execution_count": null,
   "id": "c8ad0775",
   "metadata": {},
   "outputs": [],
   "source": [
    "cells[1] = {}\n",
    "cells[1]['surface'] = 4\n",
    "cells[1]['volume'] = 20\n",
    "cells[1]['position'] = [2, 5]\n",
    "print(cells)"
   ]
  },
  {
   "cell_type": "markdown",
   "id": "07b6c717",
   "metadata": {},
   "source": [
    "Instead of carrying all the dictionaries we can rather create a class `Cell` that will have as attribute the surface, volume and position."
   ]
  },
  {
   "cell_type": "markdown",
   "id": "de457767",
   "metadata": {},
   "source": [
    "## How to create a class\n",
    "\n",
    "The syntax to create a class is the following:"
   ]
  },
  {
   "cell_type": "code",
   "execution_count": null,
   "id": "bbfe6de0",
   "metadata": {},
   "outputs": [],
   "source": [
    "class Cell:\n",
    "    '''\n",
    "    <statment-1>\n",
    "    ...\n",
    "    <statment-n>\n",
    "    '''\n",
    "    ..."
   ]
  },
  {
   "cell_type": "markdown",
   "id": "c3452bd8",
   "metadata": {},
   "source": [
    "We now have a class named `Cell`. You can create/instantiate a new object the following way:"
   ]
  },
  {
   "cell_type": "code",
   "execution_count": null,
   "id": "bed0acb1",
   "metadata": {},
   "outputs": [],
   "source": [
    "c = Cell()"
   ]
  },
  {
   "cell_type": "markdown",
   "id": "4289459c",
   "metadata": {},
   "source": [
    "We can set some values/attributes of the created object the following way:"
   ]
  },
  {
   "cell_type": "code",
   "execution_count": null,
   "id": "16f3529d",
   "metadata": {},
   "outputs": [],
   "source": [
    "c.surface = 10\n",
    "c.volume = 50\n",
    "c.position = [2, 1]"
   ]
  },
  {
   "cell_type": "code",
   "execution_count": null,
   "id": "7dafff24",
   "metadata": {},
   "outputs": [],
   "source": [
    "print(c.surface, c.volume, c.position)"
   ]
  },
  {
   "cell_type": "code",
   "execution_count": null,
   "id": "7f75189a",
   "metadata": {},
   "outputs": [],
   "source": [
    "def test():\n",
    "    print('hello world')\n",
    "c.hello_world = test"
   ]
  },
  {
   "cell_type": "code",
   "execution_count": null,
   "id": "2ed137ac",
   "metadata": {},
   "outputs": [],
   "source": [
    "c.hello_world()"
   ]
  },
  {
   "cell_type": "markdown",
   "id": "afcf9a1c",
   "metadata": {},
   "source": [
    "Functions can also be defined for classes (they are called methods of the class):"
   ]
  },
  {
   "cell_type": "code",
   "execution_count": null,
   "id": "d4477464",
   "metadata": {},
   "outputs": [],
   "source": [
    "pi = 3.14159265358979323846\n",
    "\n",
    "class Cell:\n",
    "    \n",
    "    def sphericity(self):\n",
    "        return pi**(1./3)*(6*self.volume)**(2./3)/self.surface"
   ]
  },
  {
   "cell_type": "markdown",
   "id": "35e2d965",
   "metadata": {},
   "source": [
    "Note the `self` keyword that refers to the object itself and therefore allows to access the attributes of the said object."
   ]
  },
  {
   "cell_type": "code",
   "execution_count": null,
   "id": "787cd170",
   "metadata": {},
   "outputs": [],
   "source": [
    "c = Cell()\n",
    "c.surface = 10\n",
    "c.volume = 50\n",
    "print(c.sphericity())"
   ]
  },
  {
   "cell_type": "markdown",
   "id": "a56f98b5",
   "metadata": {},
   "source": [
    "Note that in that example, if you have not specified the surface and the volume before calling the class method, it will crash:"
   ]
  },
  {
   "cell_type": "code",
   "execution_count": null,
   "id": "b16ce3b4",
   "metadata": {},
   "outputs": [],
   "source": [
    "c = Cell()\n",
    "try:\n",
    "    c.sphericity()\n",
    "except Exception as e:\n",
    "    print('the error was the following:')\n",
    "    print(e)"
   ]
  },
  {
   "cell_type": "markdown",
   "id": "7aa57040",
   "metadata": {},
   "source": [
    "To check whether it is possible to run the method, one can do the following:"
   ]
  },
  {
   "cell_type": "code",
   "execution_count": null,
   "id": "abacbba2",
   "metadata": {},
   "outputs": [],
   "source": [
    "class Cell:\n",
    "    def sphericity(self):\n",
    "        # Checking if the attributes do exist\n",
    "        if hasattr(self, 'volume') and hasattr(self, 'surface'):\n",
    "            return (pi**(1./3)*(6*self.volume)**(2./3))/self.surface\n",
    "        else:\n",
    "            # Sometimes it is better to let the error there to avoid\n",
    "            # unseen errors. One way around it is to have warnings\n",
    "            # though it is not great.\n",
    "            import warnings\n",
    "            warnings.warn('the volume and/or surface was not defined, returning 0')\n",
    "            return 0"
   ]
  },
  {
   "cell_type": "code",
   "execution_count": null,
   "id": "1b7ec5e4",
   "metadata": {},
   "outputs": [],
   "source": [
    "c = Cell()\n",
    "c.sphericity()"
   ]
  },
  {
   "cell_type": "code",
   "execution_count": null,
   "id": "48d062aa",
   "metadata": {},
   "outputs": [],
   "source": [
    "c.volume = 1\n",
    "c.surface = 6\n",
    "c.sphericity()"
   ]
  },
  {
   "cell_type": "markdown",
   "id": "c85d595e",
   "metadata": {},
   "source": [
    "The equivalent without a class would be something like that:"
   ]
  },
  {
   "cell_type": "code",
   "execution_count": null,
   "id": "6b28ce99",
   "metadata": {},
   "outputs": [],
   "source": [
    "def sphericity(volume, surface):\n",
    "    return pi**(1./3)*(6*volume)**(2./3)/surface"
   ]
  },
  {
   "cell_type": "markdown",
   "id": "2b10bbcc",
   "metadata": {},
   "source": [
    "Where the `volume` and `surface` would have been needed as parameters of the function. A typical call would have been like that:"
   ]
  },
  {
   "cell_type": "code",
   "execution_count": null,
   "id": "b1b0f9a1",
   "metadata": {},
   "outputs": [],
   "source": [
    "curr_cell = 1\n",
    "sphericity(volume[curr_cell], surface[curr_cell])"
   ]
  },
  {
   "cell_type": "markdown",
   "id": "e8ec221d",
   "metadata": {},
   "source": [
    "## Initializing a class\n",
    "It is possible to initialise a class with the `__init__` function so the attributes don't have to be initialised manually:"
   ]
  },
  {
   "cell_type": "code",
   "execution_count": null,
   "id": "76e475c4",
   "metadata": {},
   "outputs": [],
   "source": [
    "class Cell:\n",
    "    def sphericity(self):\n",
    "        return pi**(1./3)*(6*self.volume)**(2./3)/self.surface\n",
    "    \n",
    "    def __init__(self, surface, volume, position=[None, None]):\n",
    "        self.surface = surface\n",
    "        self.volume = volume\n",
    "        self.position = position"
   ]
  },
  {
   "cell_type": "markdown",
   "id": "678cd660",
   "metadata": {},
   "source": [
    "It is now possible to call the class like that:"
   ]
  },
  {
   "cell_type": "code",
   "execution_count": null,
   "id": "8ad7fba0",
   "metadata": {},
   "outputs": [],
   "source": [
    "c = Cell(surface=5, volume=10, position=[2, 3])\n",
    "print(c.surface, c.volume, c.position)\n",
    "c.sphericity()"
   ]
  },
  {
   "cell_type": "markdown",
   "id": "cfa0978e",
   "metadata": {},
   "source": [
    "## Private attribute/methods\n",
    "It is possible to write private attribute and or methods so the user will not be exposed to it by putting `__` in front of the name of the attribute or method:"
   ]
  },
  {
   "cell_type": "code",
   "execution_count": null,
   "id": "61b783aa",
   "metadata": {},
   "outputs": [],
   "source": [
    "class Cell:\n",
    "    def __hidden_method(self):\n",
    "        print(\"I'm the hidden method\")\n",
    "    \n",
    "    def call_hidden(self):\n",
    "        self.__hidden_method()\n",
    "    \n",
    "    def print_hidden(self):\n",
    "        print(self.__hidden_attr__)\n",
    "    \n",
    "    def sphericity(self):\n",
    "        return pi**(1./3)*(6*self.volume)**(2./3)/self.surface\n",
    "    \n",
    "    def __init__(self, surface=None, volume=None, position=[None, None]):\n",
    "        self.surface = surface\n",
    "        self.volume = volume\n",
    "        self.position = position\n",
    "        self.__hidden_attr__ = \"I'm the hidden attribute\""
   ]
  },
  {
   "cell_type": "code",
   "execution_count": null,
   "id": "66806ef8",
   "metadata": {},
   "outputs": [],
   "source": [
    "c = Cell(6, 1, [0, 0])\n",
    "c.call_hidden()\n",
    "try:\n",
    "    c.__hidden_function()\n",
    "except Exception as e:\n",
    "    print('\\nThe error was:')\n",
    "    print(e)\n",
    "\n",
    "print()\n",
    "c.print_hidden()\n",
    "try:\n",
    "    print(c.__hidden_attr__)\n",
    "except Exception as e:\n",
    "    print('\\nThe error was:')\n",
    "    print(e)"
   ]
  },
  {
   "cell_type": "markdown",
   "id": "cbafaf94",
   "metadata": {},
   "source": [
    "## Rewritting the \"basic\" functions\n",
    "It is possible to rewrite the basic functions such as the `__str__` function that is called by the `print` function:"
   ]
  },
  {
   "cell_type": "code",
   "execution_count": null,
   "id": "061b1a1f",
   "metadata": {},
   "outputs": [],
   "source": [
    "class Cell:\n",
    "    def __str__(self):\n",
    "        out = ('I am a cell with:\\n'\n",
    "               f'\\tVolume  : {self.volume}\\n'\n",
    "               f'\\tSurface : {self.surface}\\n'\n",
    "               f'\\tPosition: {self.position}\\n')\n",
    "        return out\n",
    "    \n",
    "    def sphericity(self):\n",
    "        return pi**(1./3)*(6*self.volume)**(2./3)/self.surface\n",
    "    \n",
    "    def __init__(self, surface=None, volume=None, position=[None, None]):\n",
    "        self.surface = surface\n",
    "        self.volume = volume\n",
    "        self.position = position"
   ]
  },
  {
   "cell_type": "code",
   "execution_count": null,
   "id": "0d891955",
   "metadata": {},
   "outputs": [],
   "source": [
    "c = Cell(6, 1, [0, 0])\n",
    "print(c)"
   ]
  },
  {
   "cell_type": "markdown",
   "id": "dbb72cfc",
   "metadata": {},
   "source": [
    "## Example of class\n",
    "A class for [Conway's game of life automaton](https://en.wikipedia.org/wiki/Conway%27s_Game_of_Life):"
   ]
  },
  {
   "cell_type": "code",
   "execution_count": null,
   "id": "f2ac385c",
   "metadata": {},
   "outputs": [],
   "source": [
    "a = 1\n",
    "a += 1 # a = a + 1\n",
    "a *= 2\n",
    "# | # bitwise or\n",
    "3 | 4\n",
    "# 4 = 1 0 0 ; 3 = 0 1 1\n",
    "# 4 | 3 = 1 1 1 = 7\n",
    "tmp  = np.array([0, 0, 0, 1]) \n",
    "tmp &= np.array([0, 0, 0, 0])\n",
    "tmp &= np.array([1, 0, 0, 0])\n",
    "tmp"
   ]
  },
  {
   "cell_type": "code",
   "execution_count": null,
   "id": "20d0ec3d",
   "metadata": {},
   "outputs": [],
   "source": [
    "from scipy.signal import convolve2d\n",
    "import numpy as np\n",
    "import matplotlib.pyplot as plt\n",
    "\n",
    "class GameOfLife:\n",
    "    kernel = np.array([\n",
    "        [1, 1, 1],\n",
    "        [1, 0, 1],\n",
    "        [1, 1, 1]\n",
    "    ])\n",
    "    def iteration(self):\n",
    "        # Counting the neighbors\n",
    "        nb_neighbs = convolve2d(self.current_state, self.kernel, boundary='wrap', mode='same')\n",
    "        \n",
    "        # Checking the rules:\n",
    "        #   Any live cell with two or three live neighbours survives.\n",
    "        #   Any dead cell with three live neighbours becomes a live cell.\n",
    "        #   All other live cells die in the next generation. Similarly, all other dead cells stay dead.\n",
    "        new_live  = ((nb_neighbs == 3) | (nb_neighbs == 2)) & self.current_state\n",
    "        new_live |= ((nb_neighbs == 3) & (~self.current_state))\n",
    "        self.current_state = new_live\n",
    "\n",
    "    def plot(self):\n",
    "        fig, ax = plt.subplots()\n",
    "        ax.imshow(self.current_state, interpolation='nearest')\n",
    "        ax.set_xticks([])\n",
    "        ax.set_yticks([])\n",
    "        plt.show()\n",
    "    \n",
    "    def __init__(self, initial_state):\n",
    "        self.initial_state = initial_state\n",
    "        self.current_state = initial_state"
   ]
  },
  {
   "cell_type": "code",
   "execution_count": null,
   "id": "29a24901",
   "metadata": {},
   "outputs": [],
   "source": [
    "init_state = np.array(\n",
    "[\n",
    "[0, 0, 0, 0, 0, 0, 0, 0, 0, 0, 0, 0, 0, 0, 0, 0, 0, 0, 0, 0],\n",
    "[0, 1, 1, 0, 0, 0, 0, 0, 0, 0, 0, 0, 0, 0, 0, 0, 0, 0, 0, 0],\n",
    "[0, 1, 1, 0, 0, 0, 0, 0, 0, 0, 0, 0, 0, 0, 0, 0, 0, 0, 0, 0],\n",
    "[0, 0, 0, 0, 0, 0, 0, 0, 0, 0, 0, 0, 0, 0, 0, 0, 0, 0, 0, 0],\n",
    "[0, 0, 1, 0, 0, 0, 0, 0, 0, 0, 0, 0, 0, 0, 0, 0, 0, 0, 0, 0],\n",
    "[0, 0, 1, 0, 0, 0, 1, 0, 0, 0, 0, 1, 0, 0, 0, 0, 0, 0, 0, 0],\n",
    "[0, 0, 1, 0, 0, 0, 0, 1, 1, 0, 0, 0, 1, 1, 0, 0, 0, 0, 0, 0],\n",
    "[0, 0, 0, 0, 0, 0, 1, 1, 0, 0, 0, 1, 1, 0, 0, 0, 0, 0, 0, 0],\n",
    "[0, 0, 1, 1, 1, 0, 0, 0, 0, 0, 0, 0, 0, 0, 0, 0, 0, 0, 0, 0],\n",
    "[0, 1, 1, 1, 0, 0, 0, 0, 0, 0, 0, 0, 0, 0, 0, 0, 0, 0, 0, 0],\n",
    "[0, 0, 0, 0, 0, 0, 0, 0, 0, 0, 0, 0, 0, 0, 0, 0, 0, 0, 0, 0],\n",
    "[0, 0, 0, 0, 0, 0, 0, 0, 0, 0, 0, 0, 0, 0, 1, 0, 0, 0, 0, 0],\n",
    "[0, 0, 0, 0, 0, 0, 0, 0, 0, 0, 0, 0, 0, 0, 0, 1, 1, 0, 0, 0],\n",
    "[0, 0, 0, 0, 0, 0, 0, 0, 0, 0, 0, 0, 0, 0, 1, 1, 0, 0, 0, 0],\n",
    "[0, 0, 0, 0, 1, 0, 0, 0, 0, 0, 0, 0, 0, 0, 0, 0, 0, 0, 0, 0],\n",
    "[0, 0, 0, 0, 0, 1, 1, 0, 0, 0, 0, 0, 0, 0, 0, 0, 0, 0, 0, 0],\n",
    "[0, 0, 0, 0, 1, 1, 0, 0, 0, 0, 0, 0, 0, 0, 0, 0, 0, 0, 0, 0],\n",
    "[0, 0, 0, 0, 0, 0, 0, 0, 0, 0, 1, 0, 0, 0, 0, 0, 0, 0, 0, 0],\n",
    "[0, 0, 0, 0, 0, 0, 0, 0, 0, 0, 0, 1, 1, 0, 0, 0, 0, 0, 0, 0],\n",
    "[0, 0, 0, 0, 0, 0, 0, 0, 0, 0, 1, 1, 0, 0, 0, 0, 0, 0, 0, 0]\n",
    "]\n",
    ")\n",
    "plt.imshow(init_state, interpolation='nearest')"
   ]
  },
  {
   "cell_type": "code",
   "execution_count": null,
   "id": "14ab7f8b",
   "metadata": {},
   "outputs": [],
   "source": [
    "game_of_life = GameOfLife(init_state)\n",
    "game_of_life.plot()"
   ]
  },
  {
   "cell_type": "code",
   "execution_count": null,
   "id": "31ab6ca4",
   "metadata": {
    "scrolled": true
   },
   "outputs": [],
   "source": [
    "for i in range(10):\n",
    "    game_of_life.iteration()\n",
    "    game_of_life.plot()"
   ]
  },
  {
   "cell_type": "code",
   "execution_count": null,
   "id": "4a36d726",
   "metadata": {},
   "outputs": [],
   "source": []
  },
  {
   "cell_type": "code",
   "execution_count": null,
   "id": "9a4bba0e",
   "metadata": {},
   "outputs": [],
   "source": [
    "from scipy.signal import convolve2d\n",
    "import numpy as np\n",
    "import matplotlib.pyplot as plt\n",
    "\n",
    "class GameOfLife:\n",
    "    kernel = np.array([\n",
    "        [1, 1, 1],\n",
    "        [1, 0, 1],\n",
    "        [1, 1, 1]\n",
    "    ])\n",
    "    def iteration(self):\n",
    "        # Counting the neighbors\n",
    "        nb_neighbs = convolve2d(self.current_state, self.kernel, boundary='wrap', mode='same')\n",
    "        \n",
    "        # Checking the rules:\n",
    "        #   Any live cell with two or three live neighbours survives.\n",
    "        #   Any dead cell with three live neighbours becomes a live cell.\n",
    "        #   All other live cells die in the next generation. Similarly, all other dead cells stay dead.\n",
    "        new_live = np.zeros_like(nb_neighbs, dtype=bool)\n",
    "        for th in self.th_live:\n",
    "            new_live |= (nb_neighbs == th) & self.current_state\n",
    "        for th in self.th_dead:\n",
    "            new_live |= ((nb_neighbs == th) & (~self.current_state))\n",
    "        self.current_state = new_live\n",
    "\n",
    "    def plot(self):\n",
    "        fig, ax = plt.subplots()\n",
    "        ax.imshow(self.current_state, interpolation='nearest')\n",
    "        ax.set_xticks([])\n",
    "        ax.set_yticks([])\n",
    "        plt.show()\n",
    "    \n",
    "    def __init__(self, initial_state, th_live=[2, 3], th_dead=[3]):\n",
    "        self.initial_state = initial_state.astype(bool)\n",
    "        self.current_state = initial_state.astype(bool)\n",
    "        self.th_live = th_live\n",
    "        self.th_dead = th_dead"
   ]
  },
  {
   "cell_type": "code",
   "execution_count": null,
   "id": "227dd1e2",
   "metadata": {},
   "outputs": [],
   "source": [
    "game_of_life2 = GameOfLife(init_state, th_live=[3, 4], th_dead=[1, 2, 3])\n",
    "for i in range(10):\n",
    "    game_of_life2.iteration()\n",
    "    game_of_life2.plot()"
   ]
  }
 ],
 "metadata": {
  "kernelspec": {
   "display_name": "Python 3 (ipykernel)",
   "language": "python",
   "name": "python3"
  },
  "language_info": {
   "codemirror_mode": {
    "name": "ipython",
    "version": 3
   },
   "file_extension": ".py",
   "mimetype": "text/x-python",
   "name": "python",
   "nbconvert_exporter": "python",
   "pygments_lexer": "ipython3",
   "version": "3.10.4"
  }
 },
 "nbformat": 4,
 "nbformat_minor": 5
}
