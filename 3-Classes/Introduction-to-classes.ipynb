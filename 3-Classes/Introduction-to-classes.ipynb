{
 "cells": [
  {
   "cell_type": "markdown",
   "id": "33d72ce6",
   "metadata": {},
   "source": [
    "# Introduction to classes\n",
    "\n",
    "Classes are \"just\" a way to organise your code.\n",
    "\n",
    "You've probably been exposed to classes already.\n",
    "\n",
    "For example, a `ndarray` from `numpy` is a class.\n",
    "\n",
    "## A little bit of semantics (from the [Python official page](https://docs.python.org/3/tutorial/classes.html)):\n",
    "Creating a new class creates a new _type_ of object, allowing new _instances_ of that type to be made. Each class instance can have attributes attached to it for maintaining its state. Class instances can also have methods (defined by its class) for modifying its state.\n",
    "\n",
    "## What is the use of classes?\n",
    "As mentioned before, classes are:\n",
    "1. a different (better?) way to organise your code.\n",
    "2. a way of storing attributes/parameters more efficiently\n",
    "\n",
    "For example, you need to work with cells that have several metrics attached to them. Let say surface, volume and position. Without a class one way to maintain a list of such cells could be the following:"
   ]
  },
  {
   "cell_type": "code",
   "execution_count": null,
   "id": "b1adc9ec",
   "metadata": {},
   "outputs": [],
   "source": [
    "# We have for cells with ids 0, 1, 2, 3\n",
    "cell_ids = [0, 1, 2, 3]\n",
    "\n",
    "# The surfaces (resp. volumes and positions) are stored as a dictionary\n",
    "# that maps to a cell id its measured surface (resp. volume and position)\n",
    "surface = {\n",
    "    0: 2,\n",
    "    1: 4,\n",
    "    2: 6,\n",
    "    3: 8\n",
    "}\n",
    "\n",
    "\n",
    "volume = {\n",
    "    0: 10,\n",
    "    1: 20,\n",
    "    2: 30,\n",
    "    3: 40\n",
    "}\n",
    "\n",
    "position = {\n",
    "    0: [1, 2],\n",
    "    1: [2, 5],\n",
    "    2: [0, 2],\n",
    "    3: [3, 1],\n",
    "    \n",
    "}"
   ]
  },
  {
   "cell_type": "markdown",
   "id": "abc1e857",
   "metadata": {},
   "source": [
    "Now, if one wants to add a cell to the list they need to make sure to update all the dictionaries together:"
   ]
  },
  {
   "cell_type": "code",
   "execution_count": null,
   "id": "a8389e2b",
   "metadata": {},
   "outputs": [],
   "source": [
    "cell_ids.append(4)\n",
    "surface[4] = 10\n",
    "volume[4] = 50\n",
    "position[4] = [2, 1]"
   ]
  },
  {
   "cell_type": "markdown",
   "id": "f1e26767",
   "metadata": {},
   "source": [
    "Instead of carrying all the dictionaries we can rather create a class `Cell` that will have as attribute the surface, volume and position:"
   ]
  },
  {
   "cell_type": "code",
   "execution_count": null,
   "id": "638a6be2",
   "metadata": {},
   "outputs": [],
   "source": [
    "class Cell:\n",
    "    pass"
   ]
  },
  {
   "cell_type": "markdown",
   "id": "f89d5096",
   "metadata": {},
   "source": [
    "We now have a class named `Cell`. You can create/instantiate a new object the following way:"
   ]
  },
  {
   "cell_type": "code",
   "execution_count": null,
   "id": "6ae56d7d",
   "metadata": {},
   "outputs": [],
   "source": [
    "c = Cell()"
   ]
  },
  {
   "cell_type": "markdown",
   "id": "fe1d05d3",
   "metadata": {},
   "source": [
    "We can set values for the previously mentionned measurements the following way:"
   ]
  },
  {
   "cell_type": "code",
   "execution_count": null,
   "id": "b11cecf5",
   "metadata": {},
   "outputs": [],
   "source": [
    "c.surface = 10\n",
    "c.volume = 50\n",
    "c.position = [2, 1]"
   ]
  },
  {
   "cell_type": "code",
   "execution_count": null,
   "id": "0a6572ab",
   "metadata": {},
   "outputs": [],
   "source": [
    "print(c.surface, c.volume, c.position)"
   ]
  },
  {
   "cell_type": "markdown",
   "id": "77e8f6b0",
   "metadata": {},
   "source": [
    "Functions can also be defined for classes (they are called methods of the class):"
   ]
  },
  {
   "cell_type": "code",
   "execution_count": null,
   "id": "dc4e668d",
   "metadata": {},
   "outputs": [],
   "source": [
    "pi = 3.14159265358979323846\n",
    "class Cell:\n",
    "    def sphericity(self):\n",
    "        return pi**(1./3)*(6*self.volume)**(2./3)/self.surface"
   ]
  },
  {
   "cell_type": "markdown",
   "id": "10767eb1",
   "metadata": {},
   "source": [
    "Note the `self` keyword that refers to the object itself and therefore allows to access the attributes of the said object."
   ]
  },
  {
   "cell_type": "code",
   "execution_count": null,
   "id": "eb972dc4",
   "metadata": {},
   "outputs": [],
   "source": [
    "c = Cell()\n",
    "c.surface = 10\n",
    "c.volume = 50\n",
    "c.position = [2, 1]\n",
    "print(c.sphericity())"
   ]
  },
  {
   "cell_type": "markdown",
   "id": "c6ec6f91",
   "metadata": {},
   "source": [
    "Note that in that example, if you have not specified the surface and the volume before calling the class method, it will crash:"
   ]
  },
  {
   "cell_type": "code",
   "execution_count": null,
   "id": "b30cf572",
   "metadata": {},
   "outputs": [],
   "source": [
    "c = Cell()\n",
    "try:\n",
    "    c.sphericity()\n",
    "except Exception as e:\n",
    "    print('the error was the following:')\n",
    "    print(e)"
   ]
  },
  {
   "cell_type": "markdown",
   "id": "86c93d0c",
   "metadata": {},
   "source": [
    "To check whether it is possible to run the method, one can do the following:"
   ]
  },
  {
   "cell_type": "code",
   "execution_count": null,
   "id": "e4ad3ae4",
   "metadata": {},
   "outputs": [],
   "source": [
    "class Cell:\n",
    "    def sphericity(self):\n",
    "        # Checking if the attributes do exist\n",
    "        if hasattr(self, 'volume') and hasattr(self, 'surface'):\n",
    "            return (pi**(1./3)*(6*self.volume)**(2./3))/self.surface\n",
    "        else:\n",
    "            # Sometimes it is better to let the error there to avoid\n",
    "            # unseen errors. One way around it is to have warnings\n",
    "            # though it is not great.\n",
    "            import warnings\n",
    "            warnings.warn('the volume and/or surface was not defined, returning 0')\n",
    "            return 0"
   ]
  },
  {
   "cell_type": "code",
   "execution_count": null,
   "id": "d42dc27b",
   "metadata": {},
   "outputs": [],
   "source": [
    "c = Cell()\n",
    "c.sphericity()"
   ]
  },
  {
   "cell_type": "code",
   "execution_count": null,
   "id": "6d4a1808",
   "metadata": {},
   "outputs": [],
   "source": [
    "c.volume = 1\n",
    "c.surface = 6\n",
    "c.sphericity()"
   ]
  },
  {
   "cell_type": "markdown",
   "id": "1ad27d78",
   "metadata": {},
   "source": [
    "The equivalent without a class would be something like that:"
   ]
  },
  {
   "cell_type": "code",
   "execution_count": null,
   "id": "6a63bf1c",
   "metadata": {},
   "outputs": [],
   "source": [
    "def sphericity(volume, surface):\n",
    "    return pi**(1./3)*(6*volume)**(2./3)/surface"
   ]
  },
  {
   "cell_type": "markdown",
   "id": "68940f4e",
   "metadata": {},
   "source": [
    "Where the `volume` and `surface` would have been needed as parameters of the function. A typical call would have been like that:"
   ]
  },
  {
   "cell_type": "code",
   "execution_count": null,
   "id": "990c436c",
   "metadata": {},
   "outputs": [],
   "source": [
    "curr_cell = 1\n",
    "sphericity(volume[curr_cell], surface[curr_cell])"
   ]
  },
  {
   "cell_type": "markdown",
   "id": "e903b0cd",
   "metadata": {},
   "source": [
    "## Initializing a class\n",
    "It is possible to initialise a class with the `__init__` function so the attributes don't have to be initialised manually:"
   ]
  },
  {
   "cell_type": "code",
   "execution_count": null,
   "id": "491751cd",
   "metadata": {},
   "outputs": [],
   "source": [
    "class Cell:\n",
    "    def sphericity(self):\n",
    "        return pi**(1./3)*(6*self.volume)**(2./3)/self.surface\n",
    "    \n",
    "    def __init__(self, surface=None, volume=None, position=[None, None]):\n",
    "        self.surface = surface\n",
    "        self.volume = volume\n",
    "        self.position = position"
   ]
  },
  {
   "cell_type": "markdown",
   "id": "43c6eb60",
   "metadata": {},
   "source": [
    "It is now possible to call the class like that:"
   ]
  },
  {
   "cell_type": "code",
   "execution_count": null,
   "id": "59a24bd2",
   "metadata": {},
   "outputs": [],
   "source": [
    "c = Cell(surface=5, volume=10, position=[2, 3])\n",
    "print(c.surface, c.volume, c.position)"
   ]
  },
  {
   "cell_type": "markdown",
   "id": "de205f71",
   "metadata": {},
   "source": [
    "## Private attribute/methods\n",
    "It is possible to write private attribute and or methods so the user will not be exposed to it by putting `__` in front of the name of the attribute or method:"
   ]
  },
  {
   "cell_type": "code",
   "execution_count": null,
   "id": "17a4d8bb",
   "metadata": {},
   "outputs": [],
   "source": [
    "class Cell:\n",
    "    def __hidden_function(self):\n",
    "        print(\"I'm hidden\")\n",
    "    \n",
    "    def call_hidden(self):\n",
    "        self.__hidden_function()\n",
    "    \n",
    "    def sphericity(self):\n",
    "        return pi**(1./3)*(6*self.volume)**(2./3)/self.surface\n",
    "    \n",
    "    def __init__(self, surface=None, volume=None, position=[None, None]):\n",
    "        self.surface = surface\n",
    "        self.volume = volume\n",
    "        self.position = position"
   ]
  },
  {
   "cell_type": "code",
   "execution_count": null,
   "id": "7bf5f6d0",
   "metadata": {},
   "outputs": [],
   "source": [
    "c = Cell(6, 1, [0, 0])\n",
    "c.call_hidden()\n",
    "try:\n",
    "    c.__hidden_function()\n",
    "except Exception as e:\n",
    "    print('The error was:')\n",
    "    print(e)"
   ]
  }
 ],
 "metadata": {
  "kernelspec": {
   "display_name": "Python 3 (ipykernel)",
   "language": "python",
   "name": "python3"
  },
  "language_info": {
   "codemirror_mode": {
    "name": "ipython",
    "version": 3
   },
   "file_extension": ".py",
   "mimetype": "text/x-python",
   "name": "python",
   "nbconvert_exporter": "python",
   "pygments_lexer": "ipython3",
   "version": "3.10.4"
  }
 },
 "nbformat": 4,
 "nbformat_minor": 5
}
