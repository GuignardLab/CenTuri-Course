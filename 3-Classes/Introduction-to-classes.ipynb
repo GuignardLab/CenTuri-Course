{
 "cells": [
  {
   "cell_type": "markdown",
   "id": "244d3c3f",
   "metadata": {},
   "source": [
    "# Introduction to classes\n",
    "\n",
    "Classes are \"just\" a way to organise your code.\n",
    "\n",
    "You've probably been exposed to classes already.\n",
    "\n",
    "For example, a `ndarray` from `numpy` is a class.\n",
    "\n",
    "## A little bit of semantics (from the [Python official page](https://docs.python.org/3/tutorial/classes.html)):\n",
    "Creating a new class creates a new _type_ of object, allowing new _instances_ of that type to be made. Each class instance can have attributes attached to it for maintaining its state. Class instances can also have methods (defined by its class) for modifying its state.\n",
    "\n",
    "## What is the use of classes?\n",
    "As mentioned before, classes are:\n",
    "1. a different (better?) way to organise your code.\n",
    "2. a way of storing attributes/parameters more efficiently\n",
    "3. a way aggregate data and methods together\n",
    "\n",
    "For example, you need to work with cells that have several metrics attached to them. Let say surface, volume and position. Without a class one way to maintain a list of such cells could be the following:"
   ]
  },
  {
   "cell_type": "code",
   "execution_count": null,
   "id": "1ee0149c",
   "metadata": {},
   "outputs": [],
   "source": [
    "# We have for cells with ids 0, 1, 2, 3\n",
    "cell_ids = [0, 1, 2, 3]\n",
    "\n",
    "# The surfaces (resp. volumes and positions) are stored as a dictionary\n",
    "# that maps to a cell id its measured surface (resp. volume and position)\n",
    "surface = {\n",
    "    0: 2,\n",
    "    1: 4,\n",
    "    4: 6,\n",
    "    5: 8\n",
    "}\n",
    "\n",
    "volume = {\n",
    "    0: 10,\n",
    "    1: 20,\n",
    "    2: 30,\n",
    "    3: 40\n",
    "}\n",
    "\n",
    "position = {\n",
    "    0: [1, 2],\n",
    "    1: [2, 5],\n",
    "    2: [0, 2],\n",
    "    3: [3, 1],\n",
    "    \n",
    "}"
   ]
  },
  {
   "cell_type": "markdown",
   "id": "d2ebc1fa",
   "metadata": {},
   "source": [
    "Now, if one wants to add a cell to the list they need to make sure to update all the dictionaries together:"
   ]
  },
  {
   "cell_type": "code",
   "execution_count": null,
   "id": "5969fdba",
   "metadata": {},
   "outputs": [],
   "source": [
    "cell_ids.append(4)\n",
    "surface[4] = 10\n",
    "volume[4] = 50\n",
    "position[4] = [2, 1]"
   ]
  },
  {
   "cell_type": "markdown",
   "id": "e4630136",
   "metadata": {},
   "source": [
    "Another way might be like that:"
   ]
  },
  {
   "cell_type": "code",
   "execution_count": null,
   "id": "af318fd4",
   "metadata": {},
   "outputs": [],
   "source": [
    "cells = {}\n",
    "cells[0] = {}\n",
    "cells[0]['surface'] = 2\n",
    "cells[0]['volume'] = 10\n",
    "cells[0]['position'] = [1, 2]\n",
    "...\n",
    "print(cells)"
   ]
  },
  {
   "cell_type": "markdown",
   "id": "9fd27b32",
   "metadata": {},
   "source": [
    "And to add a cell:"
   ]
  },
  {
   "cell_type": "code",
   "execution_count": null,
   "id": "cfa87d7a",
   "metadata": {},
   "outputs": [],
   "source": [
    "cells[1] = {}\n",
    "cells[1]['surface'] = 4\n",
    "cells[1]['volume'] = 20\n",
    "cells[1]['position'] = [2, 5]\n",
    "print(cells)"
   ]
  },
  {
   "cell_type": "markdown",
   "id": "b0b11bf3",
   "metadata": {},
   "source": [
    "Instead of carrying all the dictionaries we can rather create a class `Cell` that will have as attribute the surface, volume and position."
   ]
  },
  {
   "cell_type": "markdown",
   "id": "add69b79",
   "metadata": {},
   "source": [
    "## How to create a class\n",
    "\n",
    "The syntax to create a class is the following:"
   ]
  },
  {
   "cell_type": "code",
   "execution_count": null,
   "id": "f071f60b",
   "metadata": {},
   "outputs": [],
   "source": [
    "class Cell:\n",
    "    '''\n",
    "    <statment-1>\n",
    "    ...\n",
    "    <statment-n>\n",
    "    '''\n",
    "    ..."
   ]
  },
  {
   "cell_type": "markdown",
   "id": "cf03f675",
   "metadata": {},
   "source": [
    "We now have a class named `Cell`. You can create/instantiate a new object the following way:"
   ]
  },
  {
   "cell_type": "code",
   "execution_count": null,
   "id": "90196fb8",
   "metadata": {},
   "outputs": [],
   "source": [
    "c = Cell()"
   ]
  },
  {
   "cell_type": "markdown",
   "id": "05cc174b",
   "metadata": {},
   "source": [
    "We can set some values/attributes of the created object the following way:"
   ]
  },
  {
   "cell_type": "code",
   "execution_count": null,
   "id": "a7b945a9",
   "metadata": {},
   "outputs": [],
   "source": [
    "c.surface = 10\n",
    "c.volume = 50\n",
    "c.position = [2, 1]"
   ]
  },
  {
   "cell_type": "code",
   "execution_count": null,
   "id": "6e6599a6",
   "metadata": {},
   "outputs": [],
   "source": [
    "print(c.surface, c.volume, c.position)"
   ]
  },
  {
   "cell_type": "code",
   "execution_count": null,
   "id": "dbf2a7a0",
   "metadata": {},
   "outputs": [],
   "source": [
    "def test():\n",
    "    print('hello world')\n",
    "c.hello_world = test"
   ]
  },
  {
   "cell_type": "code",
   "execution_count": null,
   "id": "fdab447c",
   "metadata": {},
   "outputs": [],
   "source": [
    "c.hello_world()"
   ]
  },
  {
   "cell_type": "markdown",
   "id": "db6bc398",
   "metadata": {},
   "source": [
    "Functions can also be defined for classes (they are called methods of the class):"
   ]
  },
  {
   "cell_type": "code",
   "execution_count": null,
   "id": "eaebb230",
   "metadata": {},
   "outputs": [],
   "source": [
    "pi = 3.14159265358979323846\n",
    "\n",
    "class Cell:\n",
    "    \n",
    "    def sphericity(self):\n",
    "        return pi**(1./3)*(6*self.volume)**(2./3)/self.surface"
   ]
  },
  {
   "cell_type": "markdown",
   "id": "ff97d590",
   "metadata": {},
   "source": [
    "Note the `self` keyword that refers to the object itself and therefore allows to access the attributes of the said object."
   ]
  },
  {
   "cell_type": "code",
   "execution_count": null,
   "id": "42f949be",
   "metadata": {},
   "outputs": [],
   "source": [
    "c = Cell()\n",
    "c.surface = 10\n",
    "c.volume = 50\n",
    "print(c.sphericity())"
   ]
  },
  {
   "cell_type": "markdown",
   "id": "175aed7d",
   "metadata": {},
   "source": [
    "Note that in that example, if you have not specified the surface and the volume before calling the class method, it will crash:"
   ]
  },
  {
   "cell_type": "code",
   "execution_count": null,
   "id": "1c2140a9",
   "metadata": {},
   "outputs": [],
   "source": [
    "c = Cell()\n",
    "try:\n",
    "    c.sphericity()\n",
    "except Exception as e:\n",
    "    print('the error was the following:')\n",
    "    print(e)"
   ]
  },
  {
   "cell_type": "markdown",
   "id": "3d3db678",
   "metadata": {},
   "source": [
    "To check whether it is possible to run the method, one can do the following:"
   ]
  },
  {
   "cell_type": "code",
   "execution_count": null,
   "id": "5f1eb179",
   "metadata": {},
   "outputs": [],
   "source": [
    "class Cell:\n",
    "    def sphericity(self):\n",
    "        # Checking if the attributes do exist\n",
    "        if hasattr(self, 'volume') and hasattr(self, 'surface'):\n",
    "            return (pi**(1./3)*(6*self.volume)**(2./3))/self.surface\n",
    "        else:\n",
    "            # Sometimes it is better to let the error there to avoid\n",
    "            # unseen errors. One way around it is to have warnings\n",
    "            # though it is not great.\n",
    "            import warnings\n",
    "            warnings.warn('the volume and/or surface was not defined, returning 0')\n",
    "            return 0"
   ]
  },
  {
   "cell_type": "code",
   "execution_count": null,
   "id": "efc53bc2",
   "metadata": {},
   "outputs": [],
   "source": [
    "c = Cell()\n",
    "c.sphericity()"
   ]
  },
  {
   "cell_type": "code",
   "execution_count": null,
   "id": "ee8bc29f",
   "metadata": {},
   "outputs": [],
   "source": [
    "c.volume = 1\n",
    "c.surface = 6\n",
    "c.sphericity()"
   ]
  },
  {
   "cell_type": "markdown",
   "id": "c6535933",
   "metadata": {},
   "source": [
    "The equivalent without a class would be something like that:"
   ]
  },
  {
   "cell_type": "code",
   "execution_count": null,
   "id": "41fb1cdc",
   "metadata": {},
   "outputs": [],
   "source": [
    "def sphericity(volume, surface):\n",
    "    return pi**(1./3)*(6*volume)**(2./3)/surface"
   ]
  },
  {
   "cell_type": "markdown",
   "id": "e6aca357",
   "metadata": {},
   "source": [
    "Where the `volume` and `surface` would have been needed as parameters of the function. A typical call would have been like that:"
   ]
  },
  {
   "cell_type": "code",
   "execution_count": null,
   "id": "cfee5727",
   "metadata": {},
   "outputs": [],
   "source": [
    "curr_cell = 1\n",
    "sphericity(volume[curr_cell], surface[curr_cell])"
   ]
  },
  {
   "cell_type": "markdown",
   "id": "eee73fcc",
   "metadata": {},
   "source": [
    "## Initializing a class\n",
    "It is possible to initialise a class with the `__init__` function so the attributes don't have to be initialised manually:"
   ]
  },
  {
   "cell_type": "code",
   "execution_count": null,
   "id": "4d4fe661",
   "metadata": {},
   "outputs": [],
   "source": [
    "class Cell:\n",
    "    def sphericity(self):\n",
    "        return pi**(1./3)*(6*self.volume)**(2./3)/self.surface\n",
    "    \n",
    "    def __init__(self, surface, volume, position=[None, None]):\n",
    "        self.surface = surface\n",
    "        self.volume = volume\n",
    "        self.position = position"
   ]
  },
  {
   "cell_type": "markdown",
   "id": "1e897707",
   "metadata": {},
   "source": [
    "It is now possible to call the class like that:"
   ]
  },
  {
   "cell_type": "code",
   "execution_count": null,
   "id": "3ef526ca",
   "metadata": {},
   "outputs": [],
   "source": [
    "c = Cell(surface=5, volume=10, position=[2, 3])\n",
    "print(c.surface, c.volume, c.position)\n",
    "c.sphericity()"
   ]
  },
  {
   "cell_type": "markdown",
   "id": "a24967ec",
   "metadata": {},
   "source": [
    "## Private attribute/methods\n",
    "It is possible to write private attribute and or methods so the user will not be exposed to it by putting `__` in front of the name of the attribute or method:"
   ]
  },
  {
   "cell_type": "code",
   "execution_count": null,
   "id": "88c93033",
   "metadata": {},
   "outputs": [],
   "source": [
    "class Cell:\n",
    "    def __hidden_method(self):\n",
    "        print(\"I'm the hidden method\")\n",
    "    \n",
    "    def call_hidden(self):\n",
    "        self.__hidden_method()\n",
    "    \n",
    "    def print_hidden(self):\n",
    "        print(self.__hidden_attr__)\n",
    "    \n",
    "    def sphericity(self):\n",
    "        return pi**(1./3)*(6*self.volume)**(2./3)/self.surface\n",
    "    \n",
    "    def __init__(self, surface=None, volume=None, position=[None, None]):\n",
    "        self.surface = surface\n",
    "        self.volume = volume\n",
    "        self.position = position\n",
    "        self.__hidden_attr__ = \"I'm the hidden attribute\""
   ]
  },
  {
   "cell_type": "code",
   "execution_count": null,
   "id": "1818daba",
   "metadata": {},
   "outputs": [],
   "source": [
    "c = Cell(6, 1, [0, 0])\n",
    "c.call_hidden()\n",
    "try:\n",
    "    c.__hidden_function()\n",
    "except Exception as e:\n",
    "    print('\\nThe error was:')\n",
    "    print(e)\n",
    "\n",
    "print()\n",
    "c.print_hidden()\n",
    "try:\n",
    "    print(c.__hidden_attr__)\n",
    "except Exception as e:\n",
    "    print('\\nThe error was:')\n",
    "    print(e)"
   ]
  },
  {
   "cell_type": "markdown",
   "id": "75762844",
   "metadata": {},
   "source": [
    "## Rewritting the \"basic\" functions\n",
    "It is possible to rewrite the basic functions such as the `__str__` function that is called by the `print` function:"
   ]
  },
  {
   "cell_type": "code",
   "execution_count": null,
   "id": "40c21edc",
   "metadata": {},
   "outputs": [],
   "source": [
    "class Cell:\n",
    "    def __str__(self):\n",
    "        out = ('I am a cell with:\\n'\n",
    "               f'\\tVolume  : {self.volume}\\n'\n",
    "               f'\\tSurface : {self.surface}\\n'\n",
    "               f'\\tPosition: {self.position}\\n')\n",
    "        return out\n",
    "    \n",
    "    def sphericity(self):\n",
    "        return pi**(1./3)*(6*self.volume)**(2./3)/self.surface\n",
    "    \n",
    "    def __init__(self, surface=None, volume=None, position=[None, None]):\n",
    "        self.surface = surface\n",
    "        self.volume = volume\n",
    "        self.position = position"
   ]
  },
  {
   "cell_type": "code",
   "execution_count": null,
   "id": "8f7c72bb",
   "metadata": {},
   "outputs": [],
   "source": [
    "c = Cell(6, 1, [0, 0])\n",
    "print(c)"
   ]
  },
  {
   "cell_type": "markdown",
   "id": "e554e550",
   "metadata": {},
   "source": [
    "## Example of class\n",
    "A class for [Conway's game of life automaton](https://en.wikipedia.org/wiki/Conway%27s_Game_of_Life):"
   ]
  },
  {
   "cell_type": "code",
   "execution_count": null,
   "id": "d34eb09c",
   "metadata": {},
   "outputs": [],
   "source": [
    "a = 1\n",
    "a += 1 # a = a + 1\n",
    "a *= 2\n",
    "# | # bitwise or\n",
    "3 | 4\n",
    "# 4 = 1 0 0 ; 3 = 0 1 1\n",
    "# 4 | 3 = 1 1 1 = 7\n",
    "tmp  = np.array([0, 0, 0, 1]) \n",
    "tmp &= np.array([0, 0, 0, 0])\n",
    "tmp &= np.array([1, 0, 0, 0])\n",
    "tmp"
   ]
  },
  {
   "cell_type": "code",
   "execution_count": null,
   "id": "a08bc05f",
   "metadata": {},
   "outputs": [],
   "source": [
    "from scipy.signal import convolve2d\n",
    "import numpy as np\n",
    "import matplotlib.pyplot as plt\n",
    "\n",
    "class GameOfLife:\n",
    "    kernel = np.array([\n",
    "        [1, 1, 1],\n",
    "        [1, 0, 1],\n",
    "        [1, 1, 1]\n",
    "    ])\n",
    "    def iteration(self):\n",
    "        # Counting the neighbors\n",
    "        nb_neighbs = convolve2d(self.current_state, self.kernel, boundary='wrap', mode='same')\n",
    "        \n",
    "        # Checking the rules:\n",
    "        #   Any live cell with two or three live neighbours survives.\n",
    "        #   Any dead cell with three live neighbours becomes a live cell.\n",
    "        #   All other live cells die in the next generation. Similarly, all other dead cells stay dead.\n",
    "        new_live  = ((nb_neighbs == 3) | (nb_neighbs == 2)) & self.current_state\n",
    "        new_live |= ((nb_neighbs == 3) & (~self.current_state))\n",
    "        self.current_state = new_live\n",
    "\n",
    "    def plot(self):\n",
    "        fig, ax = plt.subplots()\n",
    "        ax.imshow(self.current_state, interpolation='nearest')\n",
    "        ax.set_xticks([])\n",
    "        ax.set_yticks([])\n",
    "        plt.show()\n",
    "    \n",
    "    def __init__(self, initial_state):\n",
    "        self.initial_state = initial_state\n",
    "        self.current_state = initial_state"
   ]
  },
  {
   "cell_type": "code",
   "execution_count": null,
   "id": "4f83ce50",
   "metadata": {},
   "outputs": [],
   "source": [
    "init_state = np.array(\n",
    "[\n",
    "[0, 0, 0, 0, 0, 0, 0, 0, 0, 0, 0, 0, 0, 0, 0, 0, 0, 0, 0, 0],\n",
    "[0, 1, 1, 0, 0, 0, 0, 0, 0, 0, 0, 0, 0, 0, 0, 0, 0, 0, 0, 0],\n",
    "[0, 1, 1, 0, 0, 0, 0, 0, 0, 0, 0, 0, 0, 0, 0, 0, 0, 0, 0, 0],\n",
    "[0, 0, 0, 0, 0, 0, 0, 0, 0, 0, 0, 0, 0, 0, 0, 0, 0, 0, 0, 0],\n",
    "[0, 0, 1, 0, 0, 0, 0, 0, 0, 0, 0, 0, 0, 0, 0, 0, 0, 0, 0, 0],\n",
    "[0, 0, 1, 0, 0, 0, 1, 0, 0, 0, 0, 1, 0, 0, 0, 0, 0, 0, 0, 0],\n",
    "[0, 0, 1, 0, 0, 0, 0, 1, 1, 0, 0, 0, 1, 1, 0, 0, 0, 0, 0, 0],\n",
    "[0, 0, 0, 0, 0, 0, 1, 1, 0, 0, 0, 1, 1, 0, 0, 0, 0, 0, 0, 0],\n",
    "[0, 0, 1, 1, 1, 0, 0, 0, 0, 0, 0, 0, 0, 0, 0, 0, 0, 0, 0, 0],\n",
    "[0, 1, 1, 1, 0, 0, 0, 0, 0, 0, 0, 0, 0, 0, 0, 0, 0, 0, 0, 0],\n",
    "[0, 0, 0, 0, 0, 0, 0, 0, 0, 0, 0, 0, 0, 0, 0, 0, 0, 0, 0, 0],\n",
    "[0, 0, 0, 0, 0, 0, 0, 0, 0, 0, 0, 0, 0, 0, 1, 0, 0, 0, 0, 0],\n",
    "[0, 0, 0, 0, 0, 0, 0, 0, 0, 0, 0, 0, 0, 0, 0, 1, 1, 0, 0, 0],\n",
    "[0, 0, 0, 0, 0, 0, 0, 0, 0, 0, 0, 0, 0, 0, 1, 1, 0, 0, 0, 0],\n",
    "[0, 0, 0, 0, 1, 0, 0, 0, 0, 0, 0, 0, 0, 0, 0, 0, 0, 0, 0, 0],\n",
    "[0, 0, 0, 0, 0, 1, 1, 0, 0, 0, 0, 0, 0, 0, 0, 0, 0, 0, 0, 0],\n",
    "[0, 0, 0, 0, 1, 1, 0, 0, 0, 0, 0, 0, 0, 0, 0, 0, 0, 0, 0, 0],\n",
    "[0, 0, 0, 0, 0, 0, 0, 0, 0, 0, 1, 0, 0, 0, 0, 0, 0, 0, 0, 0],\n",
    "[0, 0, 0, 0, 0, 0, 0, 0, 0, 0, 0, 1, 1, 0, 0, 0, 0, 0, 0, 0],\n",
    "[0, 0, 0, 0, 0, 0, 0, 0, 0, 0, 1, 1, 0, 0, 0, 0, 0, 0, 0, 0]\n",
    "]\n",
    ")\n",
    "plt.imshow(init_state, interpolation='nearest')"
   ]
  },
  {
   "cell_type": "code",
   "execution_count": null,
   "id": "806ffb4c",
   "metadata": {},
   "outputs": [],
   "source": [
    "game_of_life = GameOfLife(init_state)\n",
    "game_of_life.plot()"
   ]
  },
  {
   "cell_type": "code",
   "execution_count": null,
   "id": "d2b99926",
   "metadata": {
    "scrolled": true
   },
   "outputs": [],
   "source": [
    "for i in range(10):\n",
    "    game_of_life.iteration()\n",
    "    game_of_life.plot()"
   ]
  },
  {
   "cell_type": "code",
   "execution_count": null,
   "id": "e1187077",
   "metadata": {},
   "outputs": [],
   "source": []
  },
  {
   "cell_type": "code",
   "execution_count": null,
   "id": "4535bd47",
   "metadata": {},
   "outputs": [],
   "source": [
    "from scipy.signal import convolve2d\n",
    "import numpy as np\n",
    "import matplotlib.pyplot as plt\n",
    "\n",
    "class GameOfLife:\n",
    "    kernel = np.array([\n",
    "        [1, 1, 1],\n",
    "        [1, 0, 1],\n",
    "        [1, 1, 1]\n",
    "    ])\n",
    "    def iteration(self):\n",
    "        # Counting the neighbors\n",
    "        nb_neighbs = convolve2d(self.current_state, self.kernel, boundary='wrap', mode='same')\n",
    "        \n",
    "        # Checking the rules:\n",
    "        #   Any live cell with two or three live neighbours survives.\n",
    "        #   Any dead cell with three live neighbours becomes a live cell.\n",
    "        #   All other live cells die in the next generation. Similarly, all other dead cells stay dead.\n",
    "        new_live = np.zeros_like(nb_neighbs, dtype=bool)\n",
    "        for th in self.th_live:\n",
    "            new_live |= (nb_neighbs == th) & self.current_state\n",
    "        for th in self.th_dead:\n",
    "            new_live |= ((nb_neighbs == 3) & (~self.current_state))\n",
    "        self.current_state = new_live\n",
    "\n",
    "    def plot(self):\n",
    "        fig, ax = plt.subplots()\n",
    "        ax.imshow(self.current_state, interpolation='nearest')\n",
    "        ax.set_xticks([])\n",
    "        ax.set_yticks([])\n",
    "        plt.show()\n",
    "    \n",
    "    def __init__(self, initial_state, th_live=[2, 3], th_dead=[3]):\n",
    "        self.initial_state = initial_state.astype(bool)\n",
    "        self.current_state = initial_state.astype(bool)\n",
    "        self.th_live = th_live\n",
    "        self.th_dead = th_dead"
   ]
  },
  {
   "cell_type": "code",
   "execution_count": null,
   "id": "b408124d",
   "metadata": {},
   "outputs": [],
   "source": [
    "game_of_life2 = GameOfLife(init_state, th_live=[3, 4], th_dead=[1, 2, 3])\n",
    "for i in range(10):\n",
    "    game_of_life2.iteration()\n",
    "    game_of_life2.plot()"
   ]
  }
 ],
 "metadata": {
  "kernelspec": {
   "display_name": "Python 3 (ipykernel)",
   "language": "python",
   "name": "python3"
  },
  "language_info": {
   "codemirror_mode": {
    "name": "ipython",
    "version": 3
   },
   "file_extension": ".py",
   "mimetype": "text/x-python",
   "name": "python",
   "nbconvert_exporter": "python",
   "pygments_lexer": "ipython3",
   "version": "3.10.4"
  }
 },
 "nbformat": 4,
 "nbformat_minor": 5
}
