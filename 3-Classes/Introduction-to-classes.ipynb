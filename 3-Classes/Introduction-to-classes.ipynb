{
 "cells": [
  {
   "cell_type": "markdown",
   "id": "ee892f9a",
   "metadata": {},
   "source": [
    "# Introduction to classes\n",
    "\n",
    "Classes are \"just\" a way to organise your code.\n",
    "\n",
    "You've probably been exposed to classes already.\n",
    "\n",
    "For example, a `ndarray` from `numpy` is a class.\n",
    "\n",
    "## A little bit of semantics (from the [Python official page](https://docs.python.org/3/tutorial/classes.html)):\n",
    "Creating a new class creates a new _type_ of object, allowing new _instances_ of that type to be made. Each class instance can have attributes attached to it for maintaining its state. Class instances can also have methods (defined by its class) for modifying its state.\n",
    "\n",
    "## What is the use of classes?\n",
    "As mentioned before, classes are:\n",
    "1. a different (better?) way to organise your code.\n",
    "2. a way of storing attributes/parameters more efficiently\n",
    "\n",
    "For example, you need to work with cells that have several metrics attached to them. Let say surface, volume and position. Without a class one way to maintain a list of such cells could be the following:"
   ]
  },
  {
   "cell_type": "code",
   "execution_count": 1,
   "id": "3a8d1d94",
   "metadata": {},
   "outputs": [],
   "source": [
    "# We have for cells with ids 0, 1, 2, 3\n",
    "cell_ids = [0, 1, 2, 3]\n",
    "\n",
    "# The surfaces (resp. volumes and positions) are stored as a dictionary\n",
    "# that maps to a cell id its measured surface (resp. volume and position)\n",
    "surface = {\n",
    "    0: 2,\n",
    "    1: 4,\n",
    "    2: 6,\n",
    "    3: 8\n",
    "}\n",
    "\n",
    "\n",
    "volume = {\n",
    "    0: 10,\n",
    "    1: 20,\n",
    "    2: 30,\n",
    "    3: 40\n",
    "}\n",
    "\n",
    "position = {\n",
    "    0: [1, 2],\n",
    "    1: [2, 5],\n",
    "    2: [0, 2],\n",
    "    3: [3, 1],\n",
    "    \n",
    "}"
   ]
  },
  {
   "cell_type": "markdown",
   "id": "f53bba4c",
   "metadata": {},
   "source": [
    "Now, if one wants to add a cell to the list they need to make sure to update all the dictionaries together:"
   ]
  },
  {
   "cell_type": "code",
   "execution_count": 2,
   "id": "4b879f99",
   "metadata": {},
   "outputs": [],
   "source": [
    "cell_ids.append(4)\n",
    "surface[4] = 10\n",
    "volume[4] = 50\n",
    "position[4] = [2, 1]"
   ]
  },
  {
   "cell_type": "markdown",
   "id": "cb60b5a2",
   "metadata": {},
   "source": [
    "Instead of carrying all the dictionaries we can rather create a class `Cell` that will have as attribute the surface, volume and position:"
   ]
  },
  {
   "cell_type": "code",
   "execution_count": 3,
   "id": "c95b47e4",
   "metadata": {},
   "outputs": [],
   "source": [
    "class Cell:\n",
    "    pass"
   ]
  },
  {
   "cell_type": "markdown",
   "id": "7075f92e",
   "metadata": {},
   "source": [
    "We now have a class named `Cell`. You can create/instantiate a new object the following way:"
   ]
  },
  {
   "cell_type": "code",
   "execution_count": 4,
   "id": "6ed7af30",
   "metadata": {},
   "outputs": [],
   "source": [
    "c = Cell()"
   ]
  },
  {
   "cell_type": "markdown",
   "id": "5a407d38",
   "metadata": {},
   "source": [
    "We can set values for the previously mentionned measurements the following way:"
   ]
  },
  {
   "cell_type": "code",
   "execution_count": 5,
   "id": "a646e6e2",
   "metadata": {},
   "outputs": [],
   "source": [
    "c.surface = 10\n",
    "c.volume = 50\n",
    "c.position = [2, 1]"
   ]
  },
  {
   "cell_type": "code",
   "execution_count": 6,
   "id": "ffbfec8a",
   "metadata": {},
   "outputs": [
    {
     "name": "stdout",
     "output_type": "stream",
     "text": [
      "10 50 [2, 1]\n"
     ]
    }
   ],
   "source": [
    "print(c.surface, c.volume, c.position)"
   ]
  },
  {
   "cell_type": "markdown",
   "id": "9a421ea0",
   "metadata": {},
   "source": [
    "Functions can also be defined for classes (they are called methods of the class):"
   ]
  },
  {
   "cell_type": "code",
   "execution_count": 7,
   "id": "fa600f34",
   "metadata": {},
   "outputs": [],
   "source": [
    "pi = 3.14159265358979323846\n",
    "class Cell:\n",
    "    def sphericity(self):\n",
    "        return pi**(1./3)*(6*self.volume)**(2./3)/self.surface"
   ]
  },
  {
   "cell_type": "markdown",
   "id": "525a6016",
   "metadata": {},
   "source": [
    "Note the `self` keyword that refers to the object itself and therefore allows to access the attributes of the said object."
   ]
  },
  {
   "cell_type": "code",
   "execution_count": 8,
   "id": "2717826d",
   "metadata": {},
   "outputs": [
    {
     "name": "stdout",
     "output_type": "stream",
     "text": [
      "6.563429036687326\n"
     ]
    }
   ],
   "source": [
    "c = Cell()\n",
    "c.surface = 10\n",
    "c.volume = 50\n",
    "c.position = [2, 1]\n",
    "print(c.sphericity())"
   ]
  },
  {
   "cell_type": "markdown",
   "id": "2970c567",
   "metadata": {},
   "source": [
    "Note that in that example, if you have not specified the surface and the volume before calling the class method, it will crash:"
   ]
  },
  {
   "cell_type": "code",
   "execution_count": 9,
   "id": "274644a2",
   "metadata": {},
   "outputs": [
    {
     "name": "stdout",
     "output_type": "stream",
     "text": [
      "the error was the following:\n",
      "'Cell' object has no attribute 'volume'\n"
     ]
    }
   ],
   "source": [
    "c = Cell()\n",
    "try:\n",
    "    c.sphericity()\n",
    "except Exception as e:\n",
    "    print('the error was the following:')\n",
    "    print(e)"
   ]
  },
  {
   "cell_type": "markdown",
   "id": "c0afe023",
   "metadata": {},
   "source": [
    "To check whether it is possible to run the method, one can do the following:"
   ]
  },
  {
   "cell_type": "code",
   "execution_count": 10,
   "id": "75647555",
   "metadata": {},
   "outputs": [],
   "source": [
    "class Cell:\n",
    "    def sphericity(self):\n",
    "        # Checking if the attributes do exist\n",
    "        if hasattr(self, 'volume') and hasattr(self, 'surface'):\n",
    "            return (pi**(1./3)*(6*self.volume)**(2./3))/self.surface\n",
    "        else:\n",
    "            # Sometimes it is better to let the error there to avoid\n",
    "            # unseen errors. One way around it is to have warnings\n",
    "            # though it is not great.\n",
    "            import warnings\n",
    "            warnings.warn('the volume and/or surface was not defined, returning 0')\n",
    "            return 0"
   ]
  },
  {
   "cell_type": "code",
   "execution_count": 11,
   "id": "3cce4f88",
   "metadata": {},
   "outputs": [
    {
     "name": "stderr",
     "output_type": "stream",
     "text": [
      "/var/folders/78/4tskqbhd46jg4r1qcv_tqs9c0000gn/T/ipykernel_63722/1356701579.py:11: UserWarning: the volume and/or surface was not defined, returning 0\n",
      "  warnings.warn('the volume and/or surface was not defined, returning 0')\n"
     ]
    },
    {
     "data": {
      "text/plain": [
       "0"
      ]
     },
     "execution_count": 11,
     "metadata": {},
     "output_type": "execute_result"
    }
   ],
   "source": [
    "c = Cell()\n",
    "c.sphericity()"
   ]
  },
  {
   "cell_type": "code",
   "execution_count": 12,
   "id": "ad64e944",
   "metadata": {},
   "outputs": [
    {
     "data": {
      "text/plain": [
       "0.8059959770082347"
      ]
     },
     "execution_count": 12,
     "metadata": {},
     "output_type": "execute_result"
    }
   ],
   "source": [
    "c.volume = 1\n",
    "c.surface = 6\n",
    "c.sphericity()"
   ]
  },
  {
   "cell_type": "markdown",
   "id": "880c1ee7",
   "metadata": {},
   "source": [
    "The equivalent without a class would be something like that:"
   ]
  },
  {
   "cell_type": "code",
   "execution_count": 13,
   "id": "0b42ebdd",
   "metadata": {},
   "outputs": [],
   "source": [
    "def sphericity(volume, surface):\n",
    "    return pi**(1./3)*(6*volume)**(2./3)/surface"
   ]
  },
  {
   "cell_type": "markdown",
   "id": "1f4f166e",
   "metadata": {},
   "source": [
    "Where the `volume` and `surface` would have been needed as parameters of the function. A typical call would have been like that:"
   ]
  },
  {
   "cell_type": "code",
   "execution_count": 14,
   "id": "1a3e62cc",
   "metadata": {},
   "outputs": [
    {
     "data": {
      "text/plain": [
       "8.907943701227307"
      ]
     },
     "execution_count": 14,
     "metadata": {},
     "output_type": "execute_result"
    }
   ],
   "source": [
    "curr_cell = 1\n",
    "sphericity(volume[curr_cell], surface[curr_cell])"
   ]
  },
  {
   "cell_type": "markdown",
   "id": "3c69f559",
   "metadata": {},
   "source": [
    "## Initializing a class\n",
    "It is possible to initialise a class with the `__init__` function so the attributes don't have to be initialised manually:"
   ]
  },
  {
   "cell_type": "code",
   "execution_count": 15,
   "id": "3d222dd1",
   "metadata": {},
   "outputs": [],
   "source": [
    "class Cell:\n",
    "    def sphericity(self):\n",
    "        return pi**(1./3)*(6*self.volume)**(2./3)/self.surface\n",
    "    \n",
    "    def __init__(self, surface=None, volume=None, position=[None, None]):\n",
    "        self.surface = surface\n",
    "        self.volume = volume\n",
    "        self.position = position"
   ]
  },
  {
   "cell_type": "markdown",
   "id": "4f488a40",
   "metadata": {},
   "source": [
    "It is now possible to call the class like that:"
   ]
  },
  {
   "cell_type": "code",
   "execution_count": 16,
   "id": "4fa12e9f",
   "metadata": {},
   "outputs": [
    {
     "name": "stdout",
     "output_type": "stream",
     "text": [
      "5 10 [2, 3]\n"
     ]
    }
   ],
   "source": [
    "c = Cell(surface=5, volume=10, position=[2, 3])\n",
    "print(c.surface, c.volume, c.position)"
   ]
  },
  {
   "cell_type": "markdown",
   "id": "b72c2724",
   "metadata": {},
   "source": [
    "## Private attribute/methods\n",
    "It is possible to write private attribute and or methods so the user will not be exposed to it by putting `__` in front of the name of the attribute or method:"
   ]
  },
  {
   "cell_type": "code",
   "execution_count": 17,
   "id": "a3cd51d7",
   "metadata": {},
   "outputs": [],
   "source": [
    "class Cell:\n",
    "    def __hidden_function(self):\n",
    "        print(\"I'm hidden\")\n",
    "    \n",
    "    def call_hidden(self):\n",
    "        self.__hidden_function()\n",
    "    \n",
    "    def sphericity(self):\n",
    "        return pi**(1./3)*(6*self.volume)**(2./3)/self.surface\n",
    "    \n",
    "    def __init__(self, surface=None, volume=None, position=[None, None]):\n",
    "        self.surface = surface\n",
    "        self.volume = volume\n",
    "        self.position = position"
   ]
  },
  {
   "cell_type": "code",
   "execution_count": 18,
   "id": "c6595c50",
   "metadata": {},
   "outputs": [
    {
     "name": "stdout",
     "output_type": "stream",
     "text": [
      "I'm hidden\n",
      "The error was:\n",
      "'Cell' object has no attribute '__hidden_function'\n"
     ]
    }
   ],
   "source": [
    "c = Cell(6, 1, [0, 0])\n",
    "c.call_hidden()\n",
    "try:\n",
    "    c.__hidden_function()\n",
    "except Exception as e:\n",
    "    print('The error was:')\n",
    "    print(e)"
   ]
  },
  {
   "cell_type": "markdown",
   "id": "c29b1ff2",
   "metadata": {},
   "source": [
    "## Rewritting the \"basic\" functions\n",
    "It is possible to rewrite the basic functions such as the `__str__` function that is called by the `print` function:"
   ]
  },
  {
   "cell_type": "code",
   "execution_count": 21,
   "id": "89006b60",
   "metadata": {},
   "outputs": [],
   "source": [
    "class Cell:\n",
    "    def __str__(self):\n",
    "        out = ('I am a cell with:\\n'\n",
    "               f'\\tVolume  : {self.volume}\\n'\n",
    "               f'\\tSurface : {self.surface}\\n'\n",
    "               f'\\tPosition: {self.position}\\n')\n",
    "        return out\n",
    "    \n",
    "    def sphericity(self):\n",
    "        return pi**(1./3)*(6*self.volume)**(2./3)/self.surface\n",
    "    \n",
    "    def __init__(self, surface=None, volume=None, position=[None, None]):\n",
    "        self.surface = surface\n",
    "        self.volume = volume\n",
    "        self.position = position"
   ]
  },
  {
   "cell_type": "code",
   "execution_count": 23,
   "id": "dfd02c58",
   "metadata": {},
   "outputs": [
    {
     "name": "stdout",
     "output_type": "stream",
     "text": [
      "I am a cell with:\n",
      "\tVolume  : 1\n",
      "\tSurface : 6\n",
      "\tPosition: [0, 0]\n",
      "\n"
     ]
    }
   ],
   "source": [
    "c = Cell(6, 1, [0, 0])\n",
    "print(c)"
   ]
  }
 ],
 "metadata": {
  "kernelspec": {
   "display_name": "Python 3 (ipykernel)",
   "language": "python",
   "name": "python3"
  },
  "language_info": {
   "codemirror_mode": {
    "name": "ipython",
    "version": 3
   },
   "file_extension": ".py",
   "mimetype": "text/x-python",
   "name": "python",
   "nbconvert_exporter": "python",
   "pygments_lexer": "ipython3",
   "version": "3.10.4"
  }
 },
 "nbformat": 4,
 "nbformat_minor": 5
}
