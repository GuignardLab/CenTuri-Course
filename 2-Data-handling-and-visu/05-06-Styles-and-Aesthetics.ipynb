{
 "cells": [
  {
   "cell_type": "markdown",
   "id": "7e404817",
   "metadata": {},
   "source": [
    "## 5. Plot styles\n",
    "Different styles are available with matplotlib to customise your plots, you can list them with the command `plt.style.available`:"
   ]
  },
  {
   "cell_type": "code",
   "execution_count": null,
   "id": "52a05239",
   "metadata": {},
   "outputs": [],
   "source": [
    "import numpy as np\n",
    "import matplotlib as mpl\n",
    "import matplotlib.pyplot as plt\n",
    "import seaborn as sns"
   ]
  },
  {
   "cell_type": "code",
   "execution_count": null,
   "id": "df118246",
   "metadata": {},
   "outputs": [],
   "source": [
    "print(plt.style.available)"
   ]
  },
  {
   "cell_type": "markdown",
   "id": "06151f38",
   "metadata": {},
   "source": [
    "And you can use them with the command `plt.style.context`:"
   ]
  },
  {
   "cell_type": "code",
   "execution_count": null,
   "id": "f8cee9c3",
   "metadata": {},
   "outputs": [],
   "source": [
    "with plt.style.context(\"seaborn-v0_8-paper\"):\n",
    "    X1 = np.linspace(0, 2 * np.pi)\n",
    "    X2 = np.linspace(0, 2 * np.pi)\n",
    "    Y1 = np.sin(X1 * 2) / 2\n",
    "    Y2 = np.cos(X2)\n",
    "\n",
    "    fig, ax = plt.subplots(figsize=(10, 3))\n",
    "    ax.plot(X1, Y1, \"-\", label=\"sin\", lw=5)\n",
    "    ax.plot(X2, Y2, \"-\", label=\"cosin\", lw=3, alpha=0.5)\n",
    "    ax.fill_between(X1[5:30], Y1[5:30], Y2[5:30], color=\"y\")\n",
    "    ax.legend()"
   ]
  },
  {
   "cell_type": "code",
   "execution_count": null,
   "id": "978eec19",
   "metadata": {},
   "outputs": [],
   "source": [
    "with plt.style.context(\"seaborn-v0_8-poster\"):\n",
    "    X1 = np.linspace(0, 2 * np.pi)\n",
    "    X2 = np.linspace(0, 2 * np.pi)\n",
    "    Y1 = np.sin(X1 * 2) / 2\n",
    "    Y2 = np.cos(X2)\n",
    "\n",
    "    fig, ax = plt.subplots(figsize=(10, 3), sharex=True, sharey=True)\n",
    "    ax.plot(X1, Y1, \"-\", label=\"sin\", lw=5)\n",
    "    ax.plot(X2, Y2, \"-\", label=\"cosin\", lw=3, alpha=0.5)\n",
    "    ax.fill_between(X1[5:30], Y1[5:30], Y2[5:30], color=\"y\")\n",
    "    ax.legend()"
   ]
  },
  {
   "cell_type": "code",
   "execution_count": null,
   "id": "0b3ba357",
   "metadata": {},
   "outputs": [],
   "source": [
    "with plt.style.context(\"dark_background\"):\n",
    "    X1 = np.linspace(0, 2 * np.pi)\n",
    "    X2 = np.linspace(0, 2 * np.pi)\n",
    "    Y1 = np.sin(X1 * 2) / 2\n",
    "    Y2 = np.cos(X2)\n",
    "\n",
    "    fig, ax = plt.subplots(figsize=(10, 3))\n",
    "    ax.plot(X1, Y1, \"-\", label=\"sin\", lw=5)\n",
    "    ax.plot(X2, Y2, \"-\", label=\"cosin\", lw=3, alpha=0.5)\n",
    "    ax.fill_between(X1[5:30], Y1[5:30], Y2[5:30], color=\"y\")\n",
    "    ax.legend()"
   ]
  },
  {
   "cell_type": "markdown",
   "id": "3ed32d75",
   "metadata": {},
   "source": [
    "Note the use of the `with` statement.\n",
    "It is not necessary, but if you want to use a given style for only one figure, that is the easiest way to do so.\n",
    "If you do not put the `with` statement, you will keep the style for the whole session.\n",
    "\n",
    "All these styles are based on parameters that are stored in `rcParams` and can be seen from the dictionary `plt.style.library`"
   ]
  },
  {
   "cell_type": "code",
   "execution_count": null,
   "id": "a0723458",
   "metadata": {},
   "outputs": [],
   "source": [
    "plt.style.library[\"dark_background\"]"
   ]
  },
  {
   "cell_type": "code",
   "execution_count": null,
   "id": "24145a95",
   "metadata": {},
   "outputs": [],
   "source": [
    "plt.style.library[\"seaborn-v0_8-poster\"]"
   ]
  },
  {
   "cell_type": "markdown",
   "id": "c68516d7",
   "metadata": {},
   "source": [
    "Each of these parameters can be checked and changed via `mpl.rcParams`:"
   ]
  },
  {
   "cell_type": "code",
   "execution_count": null,
   "id": "cdd93217",
   "metadata": {},
   "outputs": [],
   "source": [
    "mpl.rcParams[\"lines.linestyle\"] = \"--\"\n",
    "X1 = np.linspace(0, 2 * np.pi)\n",
    "X2 = np.linspace(0, 2 * np.pi)\n",
    "Y1 = np.sin(X1 * 2) / 2\n",
    "Y2 = np.cos(X2)\n",
    "\n",
    "fig, ax = plt.subplots(figsize=(10, 3))\n",
    "ax.plot(X1, Y1, label=\"sin\", lw=5)\n",
    "ax.plot(X2, Y2, label=\"cosin\", lw=3, alpha=0.5)\n",
    "ax.fill_between(X1[5:30], Y1[5:30], Y2[5:30], color=\"y\")\n",
    "ax.legend();"
   ]
  },
  {
   "cell_type": "markdown",
   "id": "333c7855",
   "metadata": {},
   "source": [
    "If you made too many changes and you do not remember what were the original settings you can call the function `mpl.rcdefaults()`:"
   ]
  },
  {
   "cell_type": "code",
   "execution_count": null,
   "id": "11f2853f",
   "metadata": {},
   "outputs": [],
   "source": [
    "# mpl.rcdefaults()\n",
    "mpl.rcParams[\"lines.linestyle\"] = \"-\""
   ]
  },
  {
   "cell_type": "code",
   "execution_count": null,
   "id": "18bdafca",
   "metadata": {},
   "outputs": [],
   "source": [
    "X1 = np.linspace(0, 2 * np.pi)\n",
    "X2 = np.linspace(0, 2 * np.pi)\n",
    "Y1 = np.sin(X1 * 2) / 2\n",
    "Y2 = np.cos(X2)\n",
    "\n",
    "fig, ax = plt.subplots(figsize=(10, 3))\n",
    "ax.plot(X1, Y1, \"-\", label=\"sin\", lw=5)\n",
    "ax.plot(X2, Y2, \"-\", label=\"cosin\", lw=3, alpha=0.5)\n",
    "ax.fill_between(X1[5:30], Y1[5:30], Y2[5:30], color=\"y\")\n",
    "ax.legend();"
   ]
  },
  {
   "cell_type": "markdown",
   "id": "ca569bea",
   "metadata": {},
   "source": [
    "## 6. Changing the aesthetics of the figure\n",
    "On top of the previous styles and parameters you can further customise your plots, for example you can remove the frame:"
   ]
  },
  {
   "cell_type": "code",
   "execution_count": null,
   "id": "2b13fa89",
   "metadata": {},
   "outputs": [],
   "source": [
    "X1 = np.linspace(0, 2 * np.pi)\n",
    "X2 = np.linspace(0, 2 * np.pi)\n",
    "Y1 = np.sin(X1 * 2) / 2\n",
    "Y2 = np.cos(X2)\n",
    "\n",
    "fig, ax = plt.subplots(figsize=(10, 3))\n",
    "ax.plot(X1, Y1, \"-\", label=\"sin\", lw=5)\n",
    "ax.plot(X2, Y2, \"-\", label=\"cosin\", lw=3, alpha=0.5)\n",
    "ax.fill_between(X1[5:30], Y1[5:30], Y2[5:30], color=\"y\")\n",
    "# Here is the line to remove the frame:\n",
    "ax.set_frame_on(False)\n",
    "# And the lines to remove the ticks in the x and y axes\n",
    "ax.set_xticks([])\n",
    "ax.set_yticks([])\n",
    "ax.legend();"
   ]
  },
  {
   "cell_type": "markdown",
   "id": "b37e98e5",
   "metadata": {},
   "source": [
    "Or just the right and top part of the frame:"
   ]
  },
  {
   "cell_type": "code",
   "execution_count": null,
   "id": "6ca3c90b",
   "metadata": {},
   "outputs": [],
   "source": [
    "X1 = np.linspace(0, 2 * np.pi)\n",
    "X2 = np.linspace(0, 2 * np.pi)\n",
    "Y1 = np.sin(X1 * 2) / 2\n",
    "Y2 = np.cos(X2)\n",
    "\n",
    "fig, ax = plt.subplots(figsize=(10, 3))\n",
    "ax.plot(X1, Y1, \"-\", label=\"sin\", lw=5)\n",
    "ax.plot(X2, Y2, \"-\", label=\"cosin\", lw=3, alpha=0.5)\n",
    "ax.fill_between(X1[5:30], Y1[5:30], Y2[5:30], color=\"y\")\n",
    "ax.spines[\"right\"].set_visible(False)\n",
    "ax.spines[\"top\"].set_visible(False)\n",
    "ax.legend();"
   ]
  },
  {
   "cell_type": "markdown",
   "id": "1fcb84ca",
   "metadata": {},
   "source": [
    "Offsetting the axes:"
   ]
  },
  {
   "cell_type": "code",
   "execution_count": null,
   "id": "d31c7a59",
   "metadata": {},
   "outputs": [],
   "source": [
    "X1 = np.linspace(0, 2 * np.pi)\n",
    "X2 = np.linspace(0, 2 * np.pi)\n",
    "Y1 = np.sin(X1 * 2) / 2\n",
    "Y2 = np.cos(X2)\n",
    "\n",
    "fig, ax = plt.subplots(figsize=(10, 3))\n",
    "ax.plot(X1, Y1, \"-\", label=\"sin\", lw=5)\n",
    "ax.plot(X2, Y2, \"-\", label=\"cosin\", lw=3, alpha=0.5)\n",
    "ax.fill_between(X1[5:30], Y1[5:30], Y2[5:30], color=\"y\")\n",
    "ax.spines[\"right\"].set_visible(False)\n",
    "ax.spines[\"top\"].set_visible(False)\n",
    "# Here is the offset\n",
    "ax.spines[\"bottom\"].set_position((\"outward\", 15))\n",
    "ax.spines[\"left\"].set_position((\"outward\", 15))\n",
    "ax.legend();"
   ]
  },
  {
   "cell_type": "markdown",
   "id": "1f4eb77e",
   "metadata": {},
   "source": [
    "Even triming the axes (slightly more complicated):"
   ]
  },
  {
   "cell_type": "code",
   "execution_count": null,
   "id": "112db082",
   "metadata": {},
   "outputs": [],
   "source": [
    "X1 = np.linspace(0, 2 * np.pi)\n",
    "X2 = np.linspace(0, 2 * np.pi)\n",
    "Y1 = np.sin(X1 * 2) / 2\n",
    "Y2 = np.cos(X2)\n",
    "\n",
    "fig, ax = plt.subplots(figsize=(10, 3))\n",
    "ax.plot(X1, Y1, \"-\", label=\"sin\", lw=5)\n",
    "ax.plot(X2, Y2, \"-\", label=\"cosin\", lw=3, alpha=0.5)\n",
    "ax.fill_between(X1[5:30], Y1[5:30], Y2[5:30], color=\"y\")\n",
    "ax.spines[\"right\"].set_visible(False)\n",
    "ax.spines[\"top\"].set_visible(False)\n",
    "ax.spines[\"bottom\"].set_position((\"outward\", 15))\n",
    "ax.spines[\"left\"].set_position((\"outward\", 15))\n",
    "\n",
    "# getting the x ticks\n",
    "xticks = np.asarray(ax.get_xticks())\n",
    "# getting the first and last ticks to know where to trim\n",
    "firsttick = xticks[min(ax.get_xlim()) <= xticks][0]\n",
    "lasttick = xticks[xticks <= max(ax.get_xlim())][-1]\n",
    "# setting the bounds of the x axis\n",
    "ax.spines[\"bottom\"].set_bounds(firsttick, lasttick)\n",
    "# cleaning the ticks (sometimes they are unshown ticks)\n",
    "xticks = xticks[(firsttick <= xticks) & (xticks <= lasttick)]\n",
    "ax.set_xticks(xticks)\n",
    "\n",
    "# same for y axis\n",
    "yticks = np.asarray(ax.get_yticks())\n",
    "firsttick = yticks[min(ax.get_ylim()) <= yticks][0]\n",
    "lasttick = yticks[yticks <= max(ax.get_ylim())][-1]\n",
    "ax.spines[\"left\"].set_bounds(firsttick, lasttick)\n",
    "yticks = yticks[(firsttick <= yticks) & (yticks <= lasttick)]\n",
    "ax.set_yticks(yticks)\n",
    "\n",
    "ax.legend();"
   ]
  },
  {
   "cell_type": "markdown",
   "id": "9e743096",
   "metadata": {},
   "source": [
    "There is another way to do that using `seaborn`, but we will explore that later if we have time:"
   ]
  },
  {
   "cell_type": "code",
   "execution_count": null,
   "id": "57bb74d4",
   "metadata": {},
   "outputs": [],
   "source": [
    "X1 = np.linspace(0, 2 * np.pi)\n",
    "X2 = np.linspace(0, 2 * np.pi)\n",
    "Y1 = np.sin(X1 * 2) / 2\n",
    "Y2 = np.cos(X2)\n",
    "\n",
    "fig, ax = plt.subplots(figsize=(10, 3))\n",
    "ax.plot(X1, Y1, \"-\", label=\"sin\", lw=5)\n",
    "ax.plot(X2, Y2, \"-\", label=\"cosin\", lw=3, alpha=0.5)\n",
    "ax.fill_between(X1[5:30], Y1[5:30], Y2[5:30], color=\"y\")\n",
    "\n",
    "sns.despine(trim=True, offset=15, ax=ax)\n",
    "\n",
    "ax.legend();"
   ]
  }
 ],
 "metadata": {
  "kernelspec": {
   "display_name": "Python 3 (ipykernel)",
   "language": "python",
   "name": "python3"
  },
  "language_info": {
   "codemirror_mode": {
    "name": "ipython",
    "version": 3
   },
   "file_extension": ".py",
   "mimetype": "text/x-python",
   "name": "python",
   "nbconvert_exporter": "python",
   "pygments_lexer": "ipython3",
   "version": "3.10.13"
  }
 },
 "nbformat": 4,
 "nbformat_minor": 5
}
