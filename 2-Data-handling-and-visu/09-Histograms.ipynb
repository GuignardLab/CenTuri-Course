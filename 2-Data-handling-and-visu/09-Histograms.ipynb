{
 "cells": [
  {
   "cell_type": "markdown",
   "id": "c8bacf98",
   "metadata": {},
   "source": [
    "## 9. Histograms\n",
    "\n",
    "Histograms are a good way to look at a given distribution."
   ]
  },
  {
   "cell_type": "code",
   "execution_count": null,
   "id": "e96eff86",
   "metadata": {},
   "outputs": [],
   "source": [
    "import numpy as np\n",
    "import matplotlib.pyplot as plt"
   ]
  },
  {
   "cell_type": "code",
   "execution_count": null,
   "id": "d9f96805",
   "metadata": {},
   "outputs": [],
   "source": [
    "# creating some random data taken from a normal distribution\n",
    "# centered in 0 with a standard deviation of 1\n",
    "data1 = np.random.normal(size=1000)"
   ]
  },
  {
   "cell_type": "code",
   "execution_count": null,
   "id": "0d028359",
   "metadata": {},
   "outputs": [],
   "source": [
    "fig, ax = plt.subplots(figsize=(10, 8))\n",
    "ax.hist(data1, cumulative=True);"
   ]
  },
  {
   "cell_type": "markdown",
   "id": "8c3a2c73",
   "metadata": {},
   "source": [
    "Multiple parameters of the histogram can of course be changed.\n",
    "For example the colour, whether it is cumulative or not, filled or not, the number of bins, [...]"
   ]
  },
  {
   "cell_type": "markdown",
   "id": "2e80f474",
   "metadata": {},
   "source": [
    "Be careful with histograms, they are best suited to look at continuous datasets.\n",
    "Weird things can happen with discrete datasets, especially when keeping the default parameters.\n",
    "\n",
    "Look at the following example (note that the [binomial distribution](https://en.wikipedia.org/wiki/Binomial_distribution) is a discrete distribution):"
   ]
  },
  {
   "cell_type": "code",
   "execution_count": null,
   "id": "4301a21b",
   "metadata": {},
   "outputs": [],
   "source": [
    "np.random.seed(0)\n",
    "data2 = np.random.binomial(8, 0.2, size=1000)\n",
    "fig, ax = plt.subplots(figsize=(6, 5))\n",
    "ax.hist(data2)"
   ]
  },
  {
   "cell_type": "markdown",
   "id": "eac00b49",
   "metadata": {},
   "source": [
    "One way to deal with that is to have as many bins as you have observations, have a range that span the range of your data and reduce the size of your bins to show the discrete nature of your data:"
   ]
  },
  {
   "cell_type": "code",
   "execution_count": null,
   "id": "3d4806f6",
   "metadata": {},
   "outputs": [],
   "source": [
    "fig, ax = plt.subplots(figsize=(6, 5))\n",
    "data_range = np.min(data2), np.max(data2) + 1\n",
    "nb_bins = data_range[1] - data_range[0]\n",
    "ax.hist(data2, bins=nb_bins, range=data_range, rwidth=0.8, align=\"left\");"
   ]
  },
  {
   "cell_type": "markdown",
   "id": "da83a8a9",
   "metadata": {},
   "source": [
    "To look at two different distributions, histograms can do the job but they might not be the best"
   ]
  },
  {
   "cell_type": "code",
   "execution_count": null,
   "id": "8544281c",
   "metadata": {},
   "outputs": [],
   "source": [
    "np.random.seed(0)\n",
    "data3 = np.random.gamma(2, size=1000)\n",
    "fig, ax = plt.subplots(figsize=(6, 5))\n",
    "ax.hist([data1, data3], label=(\"data1\", \"data2\"))\n",
    "ax.legend()"
   ]
  },
  {
   "cell_type": "markdown",
   "id": "013b971b",
   "metadata": {},
   "source": [
    "Different histogram type can be chosen with the `histtype` parameter:"
   ]
  },
  {
   "cell_type": "code",
   "execution_count": null,
   "id": "7da4b302",
   "metadata": {},
   "outputs": [],
   "source": [
    "fig, ax = plt.subplots(figsize=(6, 5))\n",
    "ax.hist([data1, data3], label=(\"data1\", \"data2\"), histtype=\"step\")\n",
    "ax.legend()"
   ]
  },
  {
   "cell_type": "code",
   "execution_count": null,
   "id": "95977d28",
   "metadata": {},
   "outputs": [],
   "source": [
    "fig, ax = plt.subplots(figsize=(6, 5))\n",
    "ax.hist([data1, data3], label=(\"data1\", \"data2\"), histtype=\"barstacked\")\n",
    "ax.legend()"
   ]
  },
  {
   "cell_type": "markdown",
   "id": "be968d07",
   "metadata": {},
   "source": [
    "Moreover, the more distributions you add, the worse visible it gets:"
   ]
  },
  {
   "cell_type": "code",
   "execution_count": null,
   "id": "00ba253e",
   "metadata": {},
   "outputs": [],
   "source": [
    "np.random.seed(2)\n",
    "mean = np.random.uniform(-10, 10, size=5)\n",
    "std = np.random.uniform(1, 5, size=5)\n",
    "data = np.random.normal(loc=mean, scale=std, size=(1000, 5))\n",
    "labels = [f\"Mean: {m:.2f}, std: {s:.2f}\" for m, s in zip(mean, std)]"
   ]
  },
  {
   "cell_type": "code",
   "execution_count": null,
   "id": "44343e55",
   "metadata": {},
   "outputs": [],
   "source": [
    "fig, ax = plt.subplots(figsize=(6, 5))\n",
    "ax.hist(data, label=labels)\n",
    "ax.legend()"
   ]
  },
  {
   "cell_type": "code",
   "execution_count": null,
   "id": "e8a18f5c",
   "metadata": {
    "scrolled": true
   },
   "outputs": [],
   "source": [
    "fig, ax = plt.subplots(figsize=(6, 5))\n",
    "ax.hist(data, histtype=\"step\", label=labels)\n",
    "ax.legend()"
   ]
  },
  {
   "cell_type": "code",
   "execution_count": null,
   "id": "c3815cb9",
   "metadata": {},
   "outputs": [],
   "source": [
    "fig, ax = plt.subplots(figsize=(6, 5))\n",
    "ax.hist(data, histtype=\"barstacked\", label=labels)\n",
    "ax.legend()"
   ]
  },
  {
   "cell_type": "markdown",
   "id": "a95e7d19",
   "metadata": {},
   "source": [
    "## Exercise 2:\n",
    "\n",
    "Plot the following cumulative histograms (note that to plot the infinite bins you need to use `plot` and not `hist`):\n",
    "\n",
    "![png](Resources/exercise_2.png)"
   ]
  },
  {
   "cell_type": "code",
   "execution_count": null,
   "id": "e58715e7",
   "metadata": {},
   "outputs": [],
   "source": [
    "## Write your solution here"
   ]
  }
 ],
 "metadata": {
  "kernelspec": {
   "display_name": "Python 3 (ipykernel)",
   "language": "python",
   "name": "python3"
  },
  "language_info": {
   "codemirror_mode": {
    "name": "ipython",
    "version": 3
   },
   "file_extension": ".py",
   "mimetype": "text/x-python",
   "name": "python",
   "nbconvert_exporter": "python",
   "pygments_lexer": "ipython3",
   "version": "3.10.13"
  }
 },
 "nbformat": 4,
 "nbformat_minor": 5
}
