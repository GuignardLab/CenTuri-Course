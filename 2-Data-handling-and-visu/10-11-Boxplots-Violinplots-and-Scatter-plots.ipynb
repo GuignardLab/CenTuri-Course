{
 "cells": [
  {
   "cell_type": "markdown",
   "id": "3111a3b0",
   "metadata": {},
   "source": [
    "## 10. Boxplots and violin plots\n",
    "Another way to look at distribution is to use boxplots:"
   ]
  },
  {
   "cell_type": "code",
   "execution_count": null,
   "id": "fbbb852a",
   "metadata": {},
   "outputs": [],
   "source": [
    "import numpy as np\n",
    "import matplotlib as mpl\n",
    "import matplotlib.pyplot as plt\n",
    "\n",
    "np.random.seed(2)\n",
    "mean = np.random.uniform(-10, 10, size=5)\n",
    "std = np.random.uniform(1, 5, size=5)\n",
    "data = np.random.normal(loc=mean, scale=std, size=(1000, 5))\n",
    "labels = [f'Mean: {m:.2f}, std: {s:.2f}' for m, s in zip(mean, std)]"
   ]
  },
  {
   "cell_type": "code",
   "execution_count": null,
   "id": "97ac7794",
   "metadata": {},
   "outputs": [],
   "source": [
    "fig, ax = plt.subplots(figsize=(6, 5))\n",
    "ax.boxplot(data, labels=labels);"
   ]
  },
  {
   "cell_type": "markdown",
   "id": "433207c8",
   "metadata": {},
   "source": [
    "Slightly better but the labels are overlapping.\n",
    "\n",
    "We can modify that by changing the setting the labels afterwards:"
   ]
  },
  {
   "cell_type": "code",
   "execution_count": null,
   "id": "94a3224a",
   "metadata": {},
   "outputs": [],
   "source": [
    "fig, ax = plt.subplots(figsize=(6, 5))\n",
    "ax.boxplot(data)\n",
    "ax.set_xticklabels(labels, rotation=30, ha='right');"
   ]
  },
  {
   "cell_type": "code",
   "execution_count": null,
   "id": "acd415e9",
   "metadata": {},
   "outputs": [],
   "source": [
    "fig, ax = plt.subplots(figsize=(6, 5))\n",
    "ax.boxplot(data)\n",
    "ax.set_xticklabels(labels, rotation=90);"
   ]
  },
  {
   "cell_type": "markdown",
   "id": "ec13b395",
   "metadata": {},
   "source": [
    "Though, as a general point, it is not advised to ask your reader/audience to bend their head.\n",
    "A far better solution is the following:"
   ]
  },
  {
   "cell_type": "code",
   "execution_count": null,
   "id": "98f7e895",
   "metadata": {},
   "outputs": [],
   "source": [
    "fig, ax = plt.subplots(figsize=(6, 5))\n",
    "ax.boxplot(data, labels=labels, vert=False);"
   ]
  },
  {
   "cell_type": "markdown",
   "id": "497f889c",
   "metadata": {},
   "source": [
    "A similar way to visualise your data is using violin plots:"
   ]
  },
  {
   "cell_type": "code",
   "execution_count": null,
   "id": "5f6d65a5",
   "metadata": {},
   "outputs": [],
   "source": [
    "fig, ax = plt.subplots(figsize=(6, 5))\n",
    "ax.violinplot(data, vert=False);\n",
    "ax.set_yticks(range(1, data.shape[1]+1))\n",
    "ax.set_yticklabels(labels);"
   ]
  },
  {
   "cell_type": "markdown",
   "id": "38592d33",
   "metadata": {},
   "source": [
    "Or combining both since they provide since they don't provide exactly the same informations"
   ]
  },
  {
   "cell_type": "code",
   "execution_count": null,
   "id": "63f5ba9e",
   "metadata": {},
   "outputs": [],
   "source": [
    "fig, ax = plt.subplots(figsize=(6, 5))\n",
    "ax.boxplot(data, labels=labels, vert=False, zorder=100, sym='')\n",
    "ax.violinplot(data, showextrema=False, vert=False);"
   ]
  },
  {
   "cell_type": "markdown",
   "id": "8ad4bbdb",
   "metadata": {},
   "source": [
    "When looking at unimodal distribution, looking at boxplots is sufficient, it is not the case for multimodal distributions, we are losing too much information:"
   ]
  },
  {
   "cell_type": "code",
   "execution_count": null,
   "id": "1f945e34",
   "metadata": {},
   "outputs": [],
   "source": [
    "np.random.seed(0)\n",
    "d1 = np.random.normal(0, 1, size=500)\n",
    "d2 = np.random.normal(10, 3, size=500)\n",
    "d_multi = np.hstack([d1, d2])"
   ]
  },
  {
   "cell_type": "code",
   "execution_count": null,
   "id": "96c33505",
   "metadata": {},
   "outputs": [],
   "source": [
    "fig, ax = plt.subplots(3, 1, figsize=(8, 5), sharex=True)\n",
    "ax[0].boxplot(d_multi, vert=False, widths=.8);\n",
    "ax[1].violinplot(d_multi, showextrema=False, vert=False);\n",
    "ax[2].hist(d_multi);\n",
    "fig.tight_layout()"
   ]
  },
  {
   "cell_type": "markdown",
   "id": "8286623d",
   "metadata": {},
   "source": [
    "## 11. Scatter plots\n",
    "Scatter plots are useful when one wants to look at two measurements from and their potential correlation"
   ]
  },
  {
   "cell_type": "code",
   "execution_count": null,
   "id": "3930bbd5",
   "metadata": {
    "scrolled": true
   },
   "outputs": [],
   "source": [
    "X = np.random.normal(-10, 15, size = 500)\n",
    "Y = np.random.normal(0, 5, size = 500)\n",
    "X = np.hstack([X, np.random.normal(80, 10, size = 200)])\n",
    "Y = np.hstack([Y, np.random.normal(30, 20, size = 200)])\n",
    "fig, ax = plt.subplots(figsize=(8, 5))\n",
    "ax.scatter(X, Y)\n",
    "ax.set_aspect('equal')"
   ]
  },
  {
   "cell_type": "markdown",
   "id": "49401a4b",
   "metadata": {},
   "source": [
    "Colours and sizes can be assigned to each point:"
   ]
  },
  {
   "cell_type": "code",
   "execution_count": null,
   "id": "d5302a78",
   "metadata": {},
   "outputs": [],
   "source": [
    "cmap = mpl.cm.get_cmap('viridis')\n",
    "colors = np.linspace(0, 1, 700)\n",
    "sizes = np.linspace(5, 100, 700)\n",
    "fig, ax = plt.subplots(figsize=(8, 5))\n",
    "ax.scatter(X, Y, color=cmap(colors), s=sizes, alpha=.6, edgecolor='k')\n",
    "ax.set_aspect('equal')"
   ]
  }
 ],
 "metadata": {
  "kernelspec": {
   "display_name": "Python 3 (ipykernel)",
   "language": "python",
   "name": "python3"
  },
  "language_info": {
   "codemirror_mode": {
    "name": "ipython",
    "version": 3
   },
   "file_extension": ".py",
   "mimetype": "text/x-python",
   "name": "python",
   "nbconvert_exporter": "python",
   "pygments_lexer": "ipython3",
   "version": "3.10.4"
  }
 },
 "nbformat": 4,
 "nbformat_minor": 5
}
