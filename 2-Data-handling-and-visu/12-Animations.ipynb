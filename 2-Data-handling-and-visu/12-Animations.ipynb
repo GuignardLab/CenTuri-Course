{
 "cells": [
  {
   "cell_type": "markdown",
   "id": "7150e54e",
   "metadata": {},
   "source": [
    "## 12. Animations\n",
    "\n",
    "### How to build the animations we made earlier?\n",
    "\n",
    "First we need to load one of the patterns that we made earlier.\n",
    "If you saved it your own way, you should be able to work out how to load it.\n",
    "If you did not manage to save it (or to produce it in the first place), you can use the file `Turing_pattern.npy` in the folder `Resources`.\n",
    "You can load this kind of files using the `numpy` function `load`:"
   ]
  },
  {
   "cell_type": "code",
   "execution_count": null,
   "id": "45810009",
   "metadata": {},
   "outputs": [],
   "source": [
    "import numpy as np\n",
    "import matplotlib as mpl\n",
    "import matplotlib.pyplot as plt"
   ]
  },
  {
   "cell_type": "code",
   "execution_count": null,
   "id": "809c3bcb",
   "metadata": {},
   "outputs": [],
   "source": [
    "A = np.load('Turing_pattern.npz')['arr_0']"
   ]
  },
  {
   "cell_type": "markdown",
   "id": "aa5e3f69",
   "metadata": {},
   "source": [
    "Now, the first step is to display just one time-point as a 2D image (in the following case it is the last time-point):"
   ]
  },
  {
   "cell_type": "code",
   "execution_count": null,
   "id": "8d597c21",
   "metadata": {},
   "outputs": [],
   "source": [
    "fig, ax = plt.subplots(figsize=(5, 5))\n",
    "ax.axis('off')\n",
    "ax.imshow(A[:,:, -1], interpolation='bilinear')"
   ]
  },
  {
   "cell_type": "markdown",
   "id": "a536c00b",
   "metadata": {},
   "source": [
    "There are a multiple parameters coming with `imshow`:"
   ]
  },
  {
   "cell_type": "code",
   "execution_count": null,
   "id": "a15eabea",
   "metadata": {},
   "outputs": [],
   "source": [
    "plt.imshow?"
   ]
  },
  {
   "cell_type": "markdown",
   "id": "2469ca74",
   "metadata": {},
   "source": [
    "You can play with them a little bit:"
   ]
  },
  {
   "cell_type": "code",
   "execution_count": null,
   "id": "0dc3bb18",
   "metadata": {},
   "outputs": [],
   "source": [
    "# Here"
   ]
  },
  {
   "cell_type": "markdown",
   "id": "e2655db3",
   "metadata": {},
   "source": [
    "Now the animation part:\n",
    "\n",
    "The idea behind creating an animation is that you will be updating a pre-created figure with a pre-existing dataset. Here, in our case, the created figure will be our `imshow` figure and our dataset will be `A`, our Turing pattern.\n",
    "\n",
    "Before starting doing anything, we will need to import the `animation` package from matplotlib (done in line `1` of the following cell) to create the animation. It is imported in the first line of the next cell.\n",
    "\n",
    "Then, once we have created our animation, we will need to display it. To do so we will use the `HTML` function from the library `IPython.display`. It is imported in the second line of the next cell.\n",
    "\n",
    "Now that we have all we need, we have to first create this initial figure as we did previously, that is what we do in the lines `4` to `7` of this plot: we create the figure of our pattern at the first time-point.\n",
    "\n",
    "Then we need to create the function to update our image, not the figure itself (the function is named `update` in the next cell).\n",
    "This update function modifies our image with the data at the adequate time-point `t`.\n",
    "Note the coma at the end of the `return` statement. It is because multiple images/lines/scatter plots could be needed to be updated, in our case it is just one, it might not always be the case.\n",
    "\n",
    "Once all that is in place, we need to define how many time-points we want to display (the more time-points, the longer it will take). It is our `nb_times_im` parameter in the next cell.\n",
    "\n",
    "Before creating our animation, because we do not want to display all our time-points (it would be too long) we need to reduce our original image, which is done in line `14`.\n",
    "\n",
    "Now we can create our animation (lines `15` to `17`), and display it (line `18`):"
   ]
  },
  {
   "cell_type": "code",
   "execution_count": null,
   "id": "b47c1e73",
   "metadata": {},
   "outputs": [],
   "source": [
    "from matplotlib import animation\n",
    "from IPython.display import HTML\n",
    "\n",
    "fig, ax = plt.subplots(figsize=(5, 5))\n",
    "ax.axis('off')\n",
    "im = ax.imshow(A[..., 0], interpolation='bilinear')\n",
    "fig.tight_layout()\n",
    "\n",
    "def update(t):\n",
    "    im.set_data(A_anim[...,t])\n",
    "    return im,\n",
    "\n",
    "nb_times_im = 100\n",
    "A_anim = A[..., ::A.shape[-1]//nb_times_im]\n",
    "anim = animation.FuncAnimation(fig, update,\n",
    "                               frames=nb_times_im, interval=50, \n",
    "                               blit=True)\n",
    "HTML(anim.to_jshtml())"
   ]
  },
  {
   "cell_type": "markdown",
   "id": "5c02f1be",
   "metadata": {},
   "source": [
    "## Exercice:\n",
    "Create your own animation of any plot you want. If you are out of idea, you can try to recreate the following one (or part of it):\n",
    "![png](Resources/cos-sin.gif)"
   ]
  },
  {
   "cell_type": "markdown",
   "id": "9e17bec5",
   "metadata": {},
   "source": [
    "Or something like this:\n",
    "![png](Resources/square.gif)\n",
    "\n",
    "Or that:\n",
    "![png](Resources/circle.gif)"
   ]
  },
  {
   "cell_type": "markdown",
   "id": "1e51f82e",
   "metadata": {},
   "source": [
    "Or even like the one proposed in [Nicolas Rougier's book](https://github.com/rougier/scientific-visualization-book):"
   ]
  },
  {
   "cell_type": "code",
   "execution_count": null,
   "id": "4e67606a",
   "metadata": {},
   "outputs": [],
   "source": [
    "%run Resources/rain.py\n",
    "HTML(anim.to_jshtml())"
   ]
  }
 ],
 "metadata": {
  "kernelspec": {
   "display_name": "Python 3 (ipykernel)",
   "language": "python",
   "name": "python3"
  },
  "language_info": {
   "codemirror_mode": {
    "name": "ipython",
    "version": 3
   },
   "file_extension": ".py",
   "mimetype": "text/x-python",
   "name": "python",
   "nbconvert_exporter": "python",
   "pygments_lexer": "ipython3",
   "version": "3.10.4"
  }
 },
 "nbformat": 4,
 "nbformat_minor": 5
}
