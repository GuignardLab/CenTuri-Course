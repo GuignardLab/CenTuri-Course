{
 "cells": [
  {
   "cell_type": "markdown",
   "id": "4889198d",
   "metadata": {},
   "source": [
    "## 7. Preparing and saving a figure\n",
    "Once we are happy with our figure, we can save it with `fig.savefig`. The function `fig.savefig` can take multiple out formats such as png, jpeg, pdf or svg:"
   ]
  },
  {
   "cell_type": "code",
   "execution_count": null,
   "id": "259b2fd2",
   "metadata": {},
   "outputs": [],
   "source": [
    "import numpy as np\n",
    "import matplotlib as mpl\n",
    "import matplotlib.pyplot as plt\n",
    "import seaborn as sns"
   ]
  },
  {
   "cell_type": "code",
   "execution_count": null,
   "id": "8957250a",
   "metadata": {},
   "outputs": [],
   "source": [
    "X1 = np.linspace(0, 2 * np.pi)\n",
    "X2 = np.linspace(0, 2 * np.pi)\n",
    "Y1 = np.sin(X1 * 2) / 2\n",
    "Y2 = np.cos(X2)\n",
    "\n",
    "fig, ax = plt.subplots(figsize=(10, 3))\n",
    "ax.plot(X1, Y1, \"-\", label=\"sin\", lw=5)\n",
    "ax.plot(X2, Y2, \"-\", label=\"cosin\", lw=3, alpha=0.5)\n",
    "ax.fill_between(X1[5:30], Y1[5:30], Y2[5:30], color=\"y\")\n",
    "sns.despine(trim=True, offset=15, ax=ax)\n",
    "ax.legend()\n",
    "fig.savefig(\"Sin-test.pdf\")\n",
    "fig.savefig(\"Sin-test.png\")\n",
    "fig.savefig(\"Sin-test.jpeg\")"
   ]
  },
  {
   "cell_type": "markdown",
   "id": "dcd194ba",
   "metadata": {},
   "source": [
    "You should see that the figure actually does not fit in the figure produced. It can happen sometimes (we choose here an example when it happens). There is a very efficient and practical way to solve the issue: `fig.tight_layout`:"
   ]
  },
  {
   "cell_type": "code",
   "execution_count": null,
   "id": "cea0f49c",
   "metadata": {},
   "outputs": [],
   "source": [
    "import seaborn as sns\n",
    "\n",
    "X1 = np.linspace(0, 2 * np.pi)\n",
    "X2 = np.linspace(0, 2 * np.pi)\n",
    "Y1 = np.sin(X1 * 2) / 2\n",
    "Y2 = np.cos(X2)\n",
    "\n",
    "fig, ax = plt.subplots(figsize=(10, 3))\n",
    "ax.plot(X1, Y1, \"-\", label=\"sin\", lw=5)\n",
    "ax.plot(X2, Y2, \"-\", label=\"cosin\", lw=3, alpha=0.5)\n",
    "ax.fill_between(X1[5:30], Y1[5:30], Y2[5:30], color=\"y\")\n",
    "sns.despine(trim=True, offset=15, ax=ax)\n",
    "ax.legend()\n",
    "fig.tight_layout()\n",
    "fig.savefig(\"Sin-test-2.png\")"
   ]
  },
  {
   "cell_type": "markdown",
   "id": "b81253da",
   "metadata": {},
   "source": [
    "The function `fig.tight_layout` actually takes your current figure and adjusts it so that it fits as best as possible within your output figure layout, conserving all the current properties of the figure (the scaling for example). What it means is that to be as efficient as possible, this function should be called just before saving the figure.\n",
    "\n",
    "Moreover, there are multiple potentially useful options to save a figure for example:\n",
    "- `dpi`: gives the resolution of the figure in dots per inch. The higher the value is the higher the quality but also the higher the weight of the figure (the dpi makes less sense when plotting in vectorial formats such as `pdf`)\n",
    "- `transparent`: a boolean, if `True` then all the background of the figure is transparent (if it was not given an colour)"
   ]
  },
  {
   "cell_type": "markdown",
   "id": "887e497b",
   "metadata": {},
   "source": [
    "## 8. Using colormaps\n",
    "Choosing colours can be a fairly hard task. Thankfully, matplotlib has a handful of colormaps already made for us, you can find them [there](https://matplotlib.org/stable/tutorials/colors/colormaps.html).\n",
    "\n",
    "The way colormaps usually work within matplotlib is by giving a colour code provided a value between 0 and 1.\n",
    "In other words, the colormap is a linear mapping between the interval $[0, 1]$ and the colours of the colormap.\n",
    "\n",
    "Here is an example on how to use them:"
   ]
  },
  {
   "cell_type": "code",
   "execution_count": null,
   "id": "4221fc40",
   "metadata": {},
   "outputs": [],
   "source": [
    "# here, we get the colormap\n",
    "cmap = mpl.cm.get_cmap(\"viridis\")\n",
    "\n",
    "X = np.linspace(0, 2 * np.pi)\n",
    "nb_curves = 30\n",
    "fig, ax = plt.subplots(figsize=(10, 8))\n",
    "for i in range(nb_curves):\n",
    "    curve = np.sin(X + i * 2 * np.pi / nb_curves)\n",
    "    color = cmap(i / nb_curves)\n",
    "    ax.plot(curve, color=color)"
   ]
  },
  {
   "cell_type": "code",
   "execution_count": null,
   "id": "0cf961d9",
   "metadata": {},
   "outputs": [],
   "source": [
    "cmap(0.5)"
   ]
  },
  {
   "cell_type": "markdown",
   "id": "bdedcba2",
   "metadata": {},
   "source": [
    "While, unfortunately, I don't know a way of listing all the available colormaps in matplotlib (you should therefore go [there](https://matplotlib.org/stable/tutorials/colors/colormaps.html)), calling `mpl.cm.get_cmap` without assigning it to a variable plots the colormap:"
   ]
  },
  {
   "cell_type": "code",
   "execution_count": null,
   "id": "27fbbb52",
   "metadata": {},
   "outputs": [],
   "source": [
    "mpl.cm.get_cmap(\"Spectral\")"
   ]
  },
  {
   "cell_type": "markdown",
   "id": "cbebf8da",
   "metadata": {},
   "source": [
    "### Exercise 1:\n",
    "Make a plot that resemble the following one:\n",
    "\n",
    "![png](Resources/exercice_1.png)\n",
    "\n",
    "To do so you will need to use the parameter `zorder` from `ax.plot` and `ax.fill_between`.\n",
    "You can find some documentation [there](https://matplotlib.org/stable/gallery/misc/zorder_demo.html).\n",
    "\n",
    "You can find in `Resources.UsefulFunctions` the function `build_curve` to help you generate random curves. That being said, you building such a function would be a good training (that's why it is not directly accessible from the help, to prevent a bit the temptation)"
   ]
  },
  {
   "cell_type": "code",
   "execution_count": null,
   "id": "766e6fbe",
   "metadata": {},
   "outputs": [],
   "source": [
    "np.random.seed(1)\n",
    "from centuri_course.utils import build_curve\n",
    "\n",
    "?build_curve"
   ]
  },
  {
   "cell_type": "markdown",
   "id": "6a3bb6c8",
   "metadata": {},
   "source": [
    "Now, we know more or less how to plot curves using matplotlib.\n",
    "While looking at curves is interesting it might not encapsulate everything you would need.\n",
    "For example, when looking at the distribution of a given variable, curves are less useful.\n",
    "There are many other ways to plot data, we will go through some amount of it through this session.\n",
    "\n",
    "If there are specific types of plots that you can think of that we will not deal with during this course, feel free to let me know.\n",
    "\n",
    "Here is the list of plots that we will look at:\n",
    "- uni-dimensional datas:\n",
    "    - histograms\n",
    "    - boxplot\n",
    "    - violin plot\n",
    "- bi-dimensional datas:\n",
    "    - scatterplot\n",
    "    \n",
    "We will __*NOT*__ look at barplots."
   ]
  }
 ],
 "metadata": {
  "kernelspec": {
   "display_name": "Python 3 (ipykernel)",
   "language": "python",
   "name": "python3"
  },
  "language_info": {
   "codemirror_mode": {
    "name": "ipython",
    "version": 3
   },
   "file_extension": ".py",
   "mimetype": "text/x-python",
   "name": "python",
   "nbconvert_exporter": "python",
   "pygments_lexer": "ipython3",
   "version": "3.10.13"
  }
 },
 "nbformat": 4,
 "nbformat_minor": 5
}
