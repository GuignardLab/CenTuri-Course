{
 "cells": [
  {
   "cell_type": "markdown",
   "id": "508c9f10",
   "metadata": {},
   "source": [
    "# Visualising data using matplotlib\n",
    "\n",
    "__*We will not look at 3D plots!*__\n",
    "\n",
    "In this course we will look at how to plot data using `matplotlib`.\n",
    "The following [cheatsheets](https://matplotlib.org/cheatsheets/) will be quite useful, for the class and for later.\n",
    "Also, I used a lot the following [book](https://github.com/rougier/scientific-visualization-book) to prepare this course together with the original matplotlib [manual](https://matplotlib.org/stable/index.html).\n",
    "\n",
    "You are strongly advised to have a look at these links for the course.\n",
    "\n",
    "In this course, we will have a look at usual line plots, box plots, violin plots, scatter plots and how to make animations."
   ]
  },
  {
   "cell_type": "markdown",
   "id": "150e92a4",
   "metadata": {},
   "source": [
    "## 1. Loading the necessary libraries\n",
    "---\n",
    "The first step is to import matplotlib and its main class pyplot"
   ]
  },
  {
   "cell_type": "code",
   "execution_count": null,
   "id": "45ab2767",
   "metadata": {},
   "outputs": [],
   "source": [
    "import matplotlib as mpl\n",
    "import matplotlib.pyplot as plt"
   ]
  },
  {
   "cell_type": "markdown",
   "id": "da3baab5",
   "metadata": {},
   "source": [
    "Then, we can use a special matplotlib command:\n",
    "```python\n",
    "%matplotlib inline\n",
    "```\n",
    "to be able to easily visualize the plot in our notebook.\n",
    "\n",
    "Note that it is not necessary to run that line in all browsers.\n",
    "Moreover, you can use the following line:\n",
    "```python\n",
    "%matplotlib notebook\n",
    "```\n",
    "\n",
    "It gives more freedom with the plots but I personally like it less since it puts the focus on the figure and requires more steps to go back to the code."
   ]
  },
  {
   "cell_type": "code",
   "execution_count": null,
   "id": "95c9e702",
   "metadata": {},
   "outputs": [],
   "source": [
    "%matplotlib inline"
   ]
  },
  {
   "cell_type": "markdown",
   "id": "a5b28e1d",
   "metadata": {},
   "source": [
    "## 2. Line plots\n",
    "---\n",
    "\n",
    "Now that we are set up, let's create our first plot.\n",
    "\n",
    "But first, we need to create the data that we will want to plot:\n",
    "\n"
   ]
  },
  {
   "cell_type": "code",
   "execution_count": null,
   "id": "fa579bd1",
   "metadata": {},
   "outputs": [],
   "source": [
    "import numpy as np\n",
    "Y = np.sin(np.linspace(-np.pi, 2*np.pi, 30))"
   ]
  },
  {
   "cell_type": "markdown",
   "id": "b6cc3f28",
   "metadata": {},
   "source": [
    "We can then plot the line that we created the following way:"
   ]
  },
  {
   "cell_type": "code",
   "execution_count": null,
   "id": "4594a597",
   "metadata": {},
   "outputs": [],
   "source": [
    "plt.plot(Y)"
   ]
  },
  {
   "cell_type": "markdown",
   "id": "aa5d9df5",
   "metadata": {},
   "source": [
    "We are plotting what we want but, the `x` values are not the correct ones (in $[0, 30]$ instead of $[-\\pi, 2\\pi]$).\n",
    "\n",
    "The reason is that we are only giving the `y` axis values (note that they are indeed ranging in $[-1, 1]$). So let's give the `x` values:\n",
    "\n"
   ]
  },
  {
   "cell_type": "code",
   "execution_count": null,
   "id": "41516d68",
   "metadata": {},
   "outputs": [],
   "source": [
    "X = np.linspace(-np.pi, 2*np.pi, 30)\n",
    "Y = np.sin(X)\n",
    "plt.plot(X, Y)"
   ]
  },
  {
   "cell_type": "markdown",
   "id": "3422b417",
   "metadata": {},
   "source": [
    "Matplotlib, by default, shows us such data as blue lines between data points. We can change that and show only the measured points in red:"
   ]
  },
  {
   "cell_type": "code",
   "execution_count": null,
   "id": "6acbd20c",
   "metadata": {},
   "outputs": [],
   "source": [
    "plt.plot(X, Y, marker='o', linestyle='', color='red')"
   ]
  },
  {
   "cell_type": "markdown",
   "id": "eb02c2aa",
   "metadata": {},
   "source": [
    "You can find all the different kind of markers, line styles and colours in the [cheatsheet](https://github.com/matplotlib/cheatsheets#cheatsheets) mentioned before.\n",
    "\n",
    "Moreover, matplotlib is \"nice\" and, because the marker, linestyle and colour are properties that are often changed they allow an easier way to modify them:"
   ]
  },
  {
   "cell_type": "code",
   "execution_count": null,
   "id": "c1169db3",
   "metadata": {},
   "outputs": [],
   "source": [
    "plt.plot(X, Y, 'or')"
   ]
  },
  {
   "cell_type": "code",
   "execution_count": null,
   "id": "52ca925b",
   "metadata": {},
   "outputs": [],
   "source": [
    "plt.plot(X, Y, 'b-.>')"
   ]
  }
 ],
 "metadata": {
  "kernelspec": {
   "display_name": "Python 3 (ipykernel)",
   "language": "python",
   "name": "python3"
  },
  "language_info": {
   "codemirror_mode": {
    "name": "ipython",
    "version": 3
   },
   "file_extension": ".py",
   "mimetype": "text/x-python",
   "name": "python",
   "nbconvert_exporter": "python",
   "pygments_lexer": "ipython3",
   "version": "3.10.4"
  }
 },
 "nbformat": 4,
 "nbformat_minor": 5
}
