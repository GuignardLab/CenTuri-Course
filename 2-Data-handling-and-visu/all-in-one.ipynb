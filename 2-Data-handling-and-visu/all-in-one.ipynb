{
 "cells": [
  {
   "cell_type": "markdown",
   "id": "508c9f10",
   "metadata": {},
   "source": [
    "# Visualising data using matplotlib\n",
    "\n",
    "__*We will not look at 3D plots!*__\n",
    "\n",
    "In this course we will look at how to plot data using `matplotlib`.\n",
    "The following [cheatsheets](https://matplotlib.org/cheatsheets/) will be quite useful, for the class and for later.\n",
    "Also, I used a lot the following [book](https://github.com/rougier/scientific-visualization-book) to prepare this course together with the original matplotlib [manual](https://matplotlib.org/stable/index.html).\n",
    "\n",
    "You are strongly advised to have a look at these links for the course.\n",
    "\n",
    "In this course, we will have a look at usual line plots, box plots, violin plots, scatter plots and how to make animations."
   ]
  },
  {
   "cell_type": "markdown",
   "id": "79e379d9",
   "metadata": {},
   "source": [
    "## 1. Loading the necessary libraries\n",
    "---\n",
    "The first step is to import matplotlib and its main class pyplot"
   ]
  },
  {
   "cell_type": "code",
   "execution_count": null,
   "id": "8d6b2eeb",
   "metadata": {},
   "outputs": [],
   "source": [
    "import matplotlib as mpl\n",
    "import matplotlib.pyplot as plt"
   ]
  },
  {
   "cell_type": "markdown",
   "id": "f03c5e59",
   "metadata": {},
   "source": [
    "Then, we can use a special matplotlib command:\n",
    "```python\n",
    "%matplotlib inline\n",
    "```\n",
    "to be able to easily visualize the plot in our notebook.\n",
    "\n",
    "Note that it is not necessary to run that line in all browsers.\n",
    "Moreover, you can use the following line:\n",
    "```python\n",
    "%matplotlib notebook\n",
    "```\n",
    "\n",
    "It gives more freedom with the plots but I personally like it less since it puts the focus on the figure and requires more steps to go back to the code."
   ]
  },
  {
   "cell_type": "code",
   "execution_count": null,
   "id": "95c9e702",
   "metadata": {},
   "outputs": [],
   "source": [
    "%matplotlib inline"
   ]
  },
  {
   "cell_type": "markdown",
   "id": "a5b28e1d",
   "metadata": {},
   "source": [
    "## 2. Line plots\n",
    "---\n",
    "\n",
    "Now that we are set up, let's create our first plot.\n",
    "\n",
    "But first, we need to create the data that we will want to plot:\n",
    "\n"
   ]
  },
  {
   "cell_type": "code",
   "execution_count": null,
   "id": "fa579bd1",
   "metadata": {},
   "outputs": [],
   "source": [
    "import numpy as np\n",
    "Y = np.sin(np.linspace(-np.pi, 2*np.pi, 30))"
   ]
  },
  {
   "cell_type": "markdown",
   "id": "478b8e1a",
   "metadata": {},
   "source": [
    "We can then plot the line that we created the following way:"
   ]
  },
  {
   "cell_type": "code",
   "execution_count": null,
   "id": "4594a597",
   "metadata": {},
   "outputs": [],
   "source": [
    "plt.plot(Y)"
   ]
  },
  {
   "cell_type": "markdown",
   "id": "aa5d9df5",
   "metadata": {},
   "source": [
    "We are plotting what we want but, the `x` values are not the correct ones (in $[0, 30|]$ instead of $[-\\pi, 2\\pi]$).\n",
    "\n",
    "The reason is that we are only giving the `y` axis values (note that they are indeed ranging in $[-1, 1]$). So let's give the `x` values:\n",
    "\n"
   ]
  },
  {
   "cell_type": "code",
   "execution_count": null,
   "id": "41516d68",
   "metadata": {},
   "outputs": [],
   "source": [
    "X = np.linspace(-np.pi, 2*np.pi, 30)\n",
    "Y = np.sin(X)\n",
    "plt.plot(X, Y)"
   ]
  },
  {
   "cell_type": "markdown",
   "id": "3422b417",
   "metadata": {},
   "source": [
    "Matplotlib, by default, shows us such data as blue lines between data points. We can change that and show only the measured points in red:"
   ]
  },
  {
   "cell_type": "code",
   "execution_count": null,
   "id": "6acbd20c",
   "metadata": {},
   "outputs": [],
   "source": [
    "plt.plot(X, Y, marker='o', linestyle='', color='red')"
   ]
  },
  {
   "cell_type": "markdown",
   "id": "eb02c2aa",
   "metadata": {},
   "source": [
    "You can find all the different kind of markers, line styles and colours in the [cheatsheet](https://github.com/matplotlib/cheatsheets#cheatsheets) mentioned before.\n",
    "\n",
    "Moreover, matplotlib is \"nice\" and, because the marker, linestyle and colour are properties that are often changed they allow an easier way to modify them:"
   ]
  },
  {
   "cell_type": "code",
   "execution_count": null,
   "id": "c1169db3",
   "metadata": {},
   "outputs": [],
   "source": [
    "plt.plot(X, Y, 'or')"
   ]
  },
  {
   "cell_type": "code",
   "execution_count": null,
   "id": "52ca925b",
   "metadata": {},
   "outputs": [],
   "source": [
    "plt.plot(X, Y, 'b-.>')"
   ]
  },
  {
   "cell_type": "markdown",
   "id": "05ddda96",
   "metadata": {},
   "source": [
    "## 3. Figures\n",
    "There is a very large number of parameters for the plots, we will not go through them all here but we will some of them along this course.\n",
    "\n",
    "Now, calling the plot function directly from matplotlib can sometimes be convenient but it has some disadvantages.\n",
    "One of the main disadvantages is that all the parameters that are not specified are filled with default values.\n",
    "For example, the size of the figure.\n",
    "\n",
    "Another way to create a figure in a more explicit way is the following:"
   ]
  },
  {
   "cell_type": "code",
   "execution_count": null,
   "id": "ad597553",
   "metadata": {},
   "outputs": [],
   "source": [
    "fig = plt.figure(figsize=(10, 8))\n",
    "ax = fig.add_subplot(aspect=1)\n",
    "ax.plot(X, Y)"
   ]
  },
  {
   "cell_type": "markdown",
   "id": "f31f72fb",
   "metadata": {},
   "source": [
    "In the previous cell, the command:\n",
    "```python\n",
    "fig = plt.figure(figsize=(10, 8))\n",
    "```\n",
    "creates our figure with a size of 10 by 8.\n",
    "Then, we create a subplot that we store in the variable `ax` with a forced aspect ratio of `1` with the line\n",
    "```python\n",
    "ax = fig.add_subplot(aspect=1)\n",
    "```\n",
    "Then, we plot our figure with the usual command `plot` but directly in the axis that we created.\n",
    "\n",
    "We can write the previous line in a slightly more compact way as follow:"
   ]
  },
  {
   "cell_type": "code",
   "execution_count": null,
   "id": "d7f7d34e",
   "metadata": {},
   "outputs": [],
   "source": [
    "fig, ax = plt.subplots(figsize=(10, 8), subplot_kw={'aspect':1})\n",
    "ax.plot(X, Y)"
   ]
  },
  {
   "cell_type": "markdown",
   "id": "94dde5f1",
   "metadata": {},
   "source": [
    "It is then possible to access many parameters of the subplot `ax` in the figure `fig`.\n",
    "For example, we can change the minimum and maximum value of the `x` axis with `ax.set_xlim`, change the label of the `y` axis with `ax.set_ylabel`:"
   ]
  },
  {
   "cell_type": "code",
   "execution_count": null,
   "id": "e7a51fcf",
   "metadata": {},
   "outputs": [],
   "source": [
    "fig, ax = plt.subplots(figsize=(10, 8), subplot_kw={'aspect':1})\n",
    "ax.plot(X, Y)\n",
    "ax.set_xlim(-np.pi, 2*np.pi)\n",
    "ax.set_ylabel('Values')"
   ]
  },
  {
   "cell_type": "markdown",
   "id": "4672c658",
   "metadata": {},
   "source": [
    "The figures generated by matplotlib have a very specific organisation that is good to keep in mind when one wants to precisely build a plot, here is its anatomy (this is taken from Nicolas Rougier's book, [there](https://github.com/rougier/scientific-visualization-book/blob/master/code/anatomy/anatomy.py), note that this is a figure that was created with matplotlib, not a image that already exist.):"
   ]
  },
  {
   "cell_type": "code",
   "execution_count": null,
   "id": "aab11c4d",
   "metadata": {},
   "outputs": [],
   "source": [
    "%run Resources/anatomy.py"
   ]
  },
  {
   "cell_type": "markdown",
   "id": "74f2c03d",
   "metadata": {},
   "source": [
    "You can find the code to create such a plot in the folder `2-Data-handling-and-visu/Resources/anatomy.py`."
   ]
  },
  {
   "cell_type": "markdown",
   "id": "911cb9c6",
   "metadata": {},
   "source": [
    "## Exercise 1\n",
    "Using the previous data and with the help of the previous figure, build a plot that is fully \"legended\"."
   ]
  },
  {
   "cell_type": "code",
   "execution_count": null,
   "id": "4e4f7700",
   "metadata": {},
   "outputs": [],
   "source": [
    "# Do that here"
   ]
  },
  {
   "cell_type": "markdown",
   "id": "27f19201",
   "metadata": {},
   "source": [
    "> Side note, it is sometimes useful to have access to mathematical characters, for example to display units. Matplotlib allows to do that using the [$\\LaTeX$](https://en.wikipedia.org/wiki/LaTeX) formating:\n",
    ">\n",
    "> You can put a `r` before the string and use the usual [$\\LaTeX$](https://en.wikipedia.org/wiki/LaTeX) formating like that for example:"
   ]
  },
  {
   "cell_type": "code",
   "execution_count": null,
   "id": "96785ceb",
   "metadata": {},
   "outputs": [],
   "source": [
    "X = np.linspace(-np.pi, 2*np.pi, 30)\n",
    "Y = np.sin(X)\n",
    "\n",
    "fig, ax = plt.subplots(figsize=(10, 8), subplot_kw={'aspect':1})\n",
    "ax.plot(X, Y)\n",
    "ax.set_xlabel(r'Some label $[\\frac{1}{\\mu m^2}]$', size=20);"
   ]
  },
  {
   "cell_type": "markdown",
   "id": "edf5ccab",
   "metadata": {},
   "source": [
    "## 4. Multiple subplots/axis\n",
    "\n",
    "If you want to display multiple plots within the same figure, it is of course possible too. The `plt.subplots` parameters `nrows` and `ncols` are there for that:"
   ]
  },
  {
   "cell_type": "code",
   "execution_count": null,
   "id": "95ee59ca",
   "metadata": {},
   "outputs": [],
   "source": [
    "fig, ax = plt.subplots(nrows=3, ncols=2, figsize=(7, 7))\n",
    "print(ax.shape)"
   ]
  },
  {
   "cell_type": "markdown",
   "id": "2bb03a1e",
   "metadata": {},
   "source": [
    "Now, let's say that we have two time series recorded at two different times `X1` and `X2`. We can plot them under each other to compare them:"
   ]
  },
  {
   "cell_type": "code",
   "execution_count": null,
   "id": "03d54c57",
   "metadata": {},
   "outputs": [],
   "source": [
    "X1 = np.linspace(np.pi/2, 5*np.pi/2)\n",
    "X2 = np.linspace(0, 2*np.pi)\n",
    "Y1 = np.sin(X1)\n",
    "Y2 = np.cos(X2)\n",
    "\n",
    "fig, ax = plt.subplots(nrows=2, ncols=1, figsize=(10, 5))\n",
    "ax[0].plot(X1, Y1, '-')\n",
    "ax[1].plot(X2, Y2, '-')"
   ]
  },
  {
   "cell_type": "markdown",
   "id": "d2005de9",
   "metadata": {},
   "source": [
    "The problem here is that the two curves look similar because they are plotted on a different `x` axis. There would be multiple ways to make different curves look similar using different `x` or `y` minimum and maximum values:"
   ]
  },
  {
   "cell_type": "code",
   "execution_count": null,
   "id": "572a0f38",
   "metadata": {},
   "outputs": [],
   "source": [
    "X1 = np.linspace(np.pi/4, 5*np.pi/4)\n",
    "X2 = np.linspace(0, 2*np.pi)\n",
    "Y1 = np.sin(X1*2)/2\n",
    "Y2 = np.cos(X2)\n",
    "\n",
    "fig, ax = plt.subplots(nrows=2, ncols=1, figsize=(10, 5))\n",
    "ax[0].plot(X1, Y1, '-')\n",
    "ax[1].plot(X2, Y2, '-')"
   ]
  },
  {
   "cell_type": "markdown",
   "id": "912d8efb",
   "metadata": {},
   "source": [
    "In order to keep the `x` and `y` axis similar across subplots, one can either do it manually using the `ax.set_xlim` or `ax.set_ylim` functions or one can use the `sharex` and `sharey` parameters:"
   ]
  },
  {
   "cell_type": "code",
   "execution_count": null,
   "id": "be60a046",
   "metadata": {},
   "outputs": [],
   "source": [
    "X1 = np.linspace(np.pi/4, 5*np.pi/4)\n",
    "X2 = np.linspace(0, 2*np.pi)\n",
    "Y1 = np.sin(X1*2)/2\n",
    "Y2 = np.cos(X2)\n",
    "\n",
    "fig, ax = plt.subplots(nrows=2, ncols=1, figsize=(10, 5), sharex=True, sharey=True)\n",
    "ax[0].plot(X1, Y1, '-')\n",
    "ax[1].plot(X2, Y2, '-')"
   ]
  },
  {
   "cell_type": "markdown",
   "id": "2608636c",
   "metadata": {},
   "source": [
    "Another way to ensure that the two curves are comparable, it is also possible to plot them on the same graph:"
   ]
  },
  {
   "cell_type": "code",
   "execution_count": null,
   "id": "c72fb4e2",
   "metadata": {},
   "outputs": [],
   "source": [
    "X1 = np.linspace(np.pi/4, 5*np.pi/4)\n",
    "X2 = np.linspace(0, 2*np.pi)\n",
    "Y1 = np.sin(X1*2)/2\n",
    "Y2 = np.cos(X2)\n",
    "\n",
    "fig, ax = plt.subplots(figsize=(10, 3))\n",
    "ax.plot(X1, Y1, '-', label='sin', lw=5)\n",
    "ax.plot(X2, Y2, '-', label='cosin', lw=3, alpha=.5)\n",
    "ax.legend()"
   ]
  },
  {
   "cell_type": "markdown",
   "id": "e1078bbd",
   "metadata": {},
   "source": [
    "It is also possible to fill below a curve or between two curves using the function `ax.fill_between`:"
   ]
  },
  {
   "cell_type": "code",
   "execution_count": null,
   "id": "e48a4b79",
   "metadata": {},
   "outputs": [],
   "source": [
    "X1 = np.linspace(0, 2*np.pi)\n",
    "X2 = np.linspace(0, 2*np.pi)\n",
    "Y1 = np.sin(X1*2)/2\n",
    "Y2 = np.cos(X2)\n",
    "\n",
    "fig, ax = plt.subplots(figsize=(10, 3))\n",
    "ax.plot(X1, Y1, '-', label='sin', lw=5)\n",
    "ax.plot(X2, Y2, '-', label='cosin', lw=3, alpha=.5)\n",
    "ax.fill_between(X1[5:30], Y1[5:30], Y2[5:30], color='y')\n",
    "ax.legend()"
   ]
  },
  {
   "cell_type": "markdown",
   "id": "7e404817",
   "metadata": {},
   "source": [
    "## 5. Plot styles\n",
    "Different styles are available with matplotlib to customise your plots, you can list them with the command `plt.style.available`:"
   ]
  },
  {
   "cell_type": "code",
   "execution_count": null,
   "id": "df118246",
   "metadata": {},
   "outputs": [],
   "source": [
    "print(plt.style.available)"
   ]
  },
  {
   "cell_type": "markdown",
   "id": "06151f38",
   "metadata": {},
   "source": [
    "And you can use them with the command `plt.style.context`:"
   ]
  },
  {
   "cell_type": "code",
   "execution_count": null,
   "id": "f8cee9c3",
   "metadata": {},
   "outputs": [],
   "source": [
    "with plt.style.context('seaborn-paper'):\n",
    "    X1 = np.linspace(0, 2*np.pi)\n",
    "    X2 = np.linspace(0, 2*np.pi)\n",
    "    Y1 = np.sin(X1*2)/2\n",
    "    Y2 = np.cos(X2)\n",
    "\n",
    "    fig, ax = plt.subplots(figsize=(10, 3))\n",
    "    ax.plot(X1, Y1, '-', label='sin', lw=5)\n",
    "    ax.plot(X2, Y2, '-', label='cosin', lw=3, alpha=.5)\n",
    "    ax.fill_between(X1[5:30], Y1[5:30], Y2[5:30], color='y')\n",
    "    ax.legend()"
   ]
  },
  {
   "cell_type": "code",
   "execution_count": null,
   "id": "978eec19",
   "metadata": {},
   "outputs": [],
   "source": [
    "with plt.style.context('seaborn-poster'):\n",
    "    X1 = np.linspace(0, 2*np.pi)\n",
    "    X2 = np.linspace(0, 2*np.pi)\n",
    "    Y1 = np.sin(X1*2)/2\n",
    "    Y2 = np.cos(X2)\n",
    "\n",
    "    fig, ax = plt.subplots(figsize=(10, 3), sharex=True, sharey=True)\n",
    "    ax.plot(X1, Y1, '-', label='sin', lw=5)\n",
    "    ax.plot(X2, Y2, '-', label='cosin', lw=3, alpha=.5)\n",
    "    ax.fill_between(X1[5:30], Y1[5:30], Y2[5:30], color='y')\n",
    "    ax.legend()"
   ]
  },
  {
   "cell_type": "code",
   "execution_count": null,
   "id": "0b3ba357",
   "metadata": {},
   "outputs": [],
   "source": [
    "with plt.style.context('dark_background'):\n",
    "    X1 = np.linspace(0, 2*np.pi)\n",
    "    X2 = np.linspace(0, 2*np.pi)\n",
    "    Y1 = np.sin(X1*2)/2\n",
    "    Y2 = np.cos(X2)\n",
    "\n",
    "    fig, ax = plt.subplots(figsize=(10, 3))\n",
    "    ax.plot(X1, Y1, '-', label='sin', lw=5)\n",
    "    ax.plot(X2, Y2, '-', label='cosin', lw=3, alpha=.5)\n",
    "    ax.fill_between(X1[5:30], Y1[5:30], Y2[5:30], color='y')\n",
    "    ax.legend()"
   ]
  },
  {
   "cell_type": "markdown",
   "id": "3ed32d75",
   "metadata": {},
   "source": [
    "Note the use of the `with` statement.\n",
    "It is not necessary, but if you want to use a given style for only one figure, that is the easiest way to do so.\n",
    "If you do not put the `with` statement, you will keep the style for the whole session.\n",
    "\n",
    "All these styles are based on parameters that are stored in `rcParams` and can be seen from the dictionary `plt.style.library`"
   ]
  },
  {
   "cell_type": "code",
   "execution_count": null,
   "id": "a0723458",
   "metadata": {},
   "outputs": [],
   "source": [
    "plt.style.library['dark_background']"
   ]
  },
  {
   "cell_type": "code",
   "execution_count": null,
   "id": "24145a95",
   "metadata": {},
   "outputs": [],
   "source": [
    "plt.style.library['seaborn-poster']"
   ]
  },
  {
   "cell_type": "markdown",
   "id": "c68516d7",
   "metadata": {},
   "source": [
    "Each of these parameters can be checked and changed via `mpl.rcParams`:"
   ]
  },
  {
   "cell_type": "code",
   "execution_count": null,
   "id": "cdd93217",
   "metadata": {},
   "outputs": [],
   "source": [
    "mpl.rcParams['lines.linestyle'] = '--'\n",
    "X1 = np.linspace(0, 2*np.pi)\n",
    "X2 = np.linspace(0, 2*np.pi)\n",
    "Y1 = np.sin(X1*2)/2\n",
    "Y2 = np.cos(X2)\n",
    "\n",
    "fig, ax = plt.subplots(figsize=(10, 3))\n",
    "ax.plot(X1, Y1, label='sin', lw=5)\n",
    "ax.plot(X2, Y2, label='cosin', lw=3, alpha=.5)\n",
    "ax.fill_between(X1[5:30], Y1[5:30], Y2[5:30], color='y')\n",
    "ax.legend();"
   ]
  },
  {
   "cell_type": "markdown",
   "id": "333c7855",
   "metadata": {},
   "source": [
    "If you made too many changes and you do not remember what were the original settings you can call the function `mpl.rcdefaults()`:"
   ]
  },
  {
   "cell_type": "code",
   "execution_count": null,
   "id": "11f2853f",
   "metadata": {},
   "outputs": [],
   "source": [
    "# mpl.rcdefaults()\n",
    "mpl.rcParams['lines.linestyle'] = '-'"
   ]
  },
  {
   "cell_type": "code",
   "execution_count": null,
   "id": "18bdafca",
   "metadata": {},
   "outputs": [],
   "source": [
    "X1 = np.linspace(0, 2*np.pi)\n",
    "X2 = np.linspace(0, 2*np.pi)\n",
    "Y1 = np.sin(X1*2)/2\n",
    "Y2 = np.cos(X2)\n",
    "\n",
    "fig, ax = plt.subplots(figsize=(10, 3))\n",
    "ax.plot(X1, Y1, '-', label='sin', lw=5)\n",
    "ax.plot(X2, Y2, '-', label='cosin', lw=3, alpha=.5)\n",
    "ax.fill_between(X1[5:30], Y1[5:30], Y2[5:30], color='y')\n",
    "ax.legend();"
   ]
  },
  {
   "cell_type": "markdown",
   "id": "ca569bea",
   "metadata": {},
   "source": [
    "## 6. Changing the aesthetics of the figure\n",
    "On top of the previous styles and parameters you can further customise your plots, for example you can remove the frame:"
   ]
  },
  {
   "cell_type": "code",
   "execution_count": null,
   "id": "2b13fa89",
   "metadata": {},
   "outputs": [],
   "source": [
    "X1 = np.linspace(0, 2*np.pi)\n",
    "X2 = np.linspace(0, 2*np.pi)\n",
    "Y1 = np.sin(X1*2)/2\n",
    "Y2 = np.cos(X2)\n",
    "\n",
    "fig, ax = plt.subplots(figsize=(10, 3))\n",
    "ax.plot(X1, Y1, '-', label='sin', lw=5)\n",
    "ax.plot(X2, Y2, '-', label='cosin', lw=3, alpha=.5)\n",
    "ax.fill_between(X1[5:30], Y1[5:30], Y2[5:30], color='y')\n",
    "# Here is the line to remove the frame:\n",
    "ax.set_frame_on(False)\n",
    "# And the lines to remove the ticks in the x and y axes\n",
    "ax.set_xticks([])\n",
    "ax.set_yticks([])\n",
    "ax.legend();"
   ]
  },
  {
   "cell_type": "markdown",
   "id": "b37e98e5",
   "metadata": {},
   "source": [
    "Or just the right and top part of the frame:"
   ]
  },
  {
   "cell_type": "code",
   "execution_count": null,
   "id": "6ca3c90b",
   "metadata": {},
   "outputs": [],
   "source": [
    "X1 = np.linspace(0, 2*np.pi)\n",
    "X2 = np.linspace(0, 2*np.pi)\n",
    "Y1 = np.sin(X1*2)/2\n",
    "Y2 = np.cos(X2)\n",
    "\n",
    "fig, ax = plt.subplots(figsize=(10, 3))\n",
    "ax.plot(X1, Y1, '-', label='sin', lw=5)\n",
    "ax.plot(X2, Y2, '-', label='cosin', lw=3, alpha=.5)\n",
    "ax.fill_between(X1[5:30], Y1[5:30], Y2[5:30], color='y')\n",
    "ax.spines['right'].set_visible(False)\n",
    "ax.spines['top'].set_visible(False)\n",
    "ax.legend();"
   ]
  },
  {
   "cell_type": "markdown",
   "id": "1fcb84ca",
   "metadata": {},
   "source": [
    "Offsetting the axes:"
   ]
  },
  {
   "cell_type": "code",
   "execution_count": null,
   "id": "d31c7a59",
   "metadata": {},
   "outputs": [],
   "source": [
    "X1 = np.linspace(0, 2*np.pi)\n",
    "X2 = np.linspace(0, 2*np.pi)\n",
    "Y1 = np.sin(X1*2)/2\n",
    "Y2 = np.cos(X2)\n",
    "\n",
    "fig, ax = plt.subplots(figsize=(10, 3))\n",
    "ax.plot(X1, Y1, '-', label='sin', lw=5)\n",
    "ax.plot(X2, Y2, '-', label='cosin', lw=3, alpha=.5)\n",
    "ax.fill_between(X1[5:30], Y1[5:30], Y2[5:30], color='y')\n",
    "ax.spines['right'].set_visible(False)\n",
    "ax.spines['top'].set_visible(False)\n",
    "# Here is the offset\n",
    "ax.spines['bottom'].set_position(('outward', 15))\n",
    "ax.spines['left'].set_position(('outward', 15))\n",
    "ax.legend();"
   ]
  },
  {
   "cell_type": "markdown",
   "id": "1f4eb77e",
   "metadata": {},
   "source": [
    "Even triming the axes (slightly more complicated):"
   ]
  },
  {
   "cell_type": "code",
   "execution_count": null,
   "id": "112db082",
   "metadata": {},
   "outputs": [],
   "source": [
    "X1 = np.linspace(0, 2*np.pi)\n",
    "X2 = np.linspace(0, 2*np.pi)\n",
    "Y1 = np.sin(X1*2)/2\n",
    "Y2 = np.cos(X2)\n",
    "\n",
    "fig, ax = plt.subplots(figsize=(10, 3))\n",
    "ax.plot(X1, Y1, '-', label='sin', lw=5)\n",
    "ax.plot(X2, Y2, '-', label='cosin', lw=3, alpha=.5)\n",
    "ax.fill_between(X1[5:30], Y1[5:30], Y2[5:30], color='y')\n",
    "ax.spines['right'].set_visible(False)\n",
    "ax.spines['top'].set_visible(False)\n",
    "ax.spines['bottom'].set_position(('outward', 15))\n",
    "ax.spines['left'].set_position(('outward', 15))\n",
    "\n",
    "# getting the x ticks\n",
    "xticks = np.asarray(ax.get_xticks())\n",
    "# getting the first and last ticks to know where to trim\n",
    "firsttick = xticks[min(ax.get_xlim()) <= xticks][0]\n",
    "lasttick = xticks[xticks <= max(ax.get_xlim())][-1]\n",
    "# setting the bounds of the x axis\n",
    "ax.spines['bottom'].set_bounds(firsttick, lasttick)\n",
    "# cleaning the ticks (sometimes they are unshown ticks)\n",
    "xticks = xticks[(firsttick <= xticks) & (xticks <= lasttick)]\n",
    "ax.set_xticks(xticks)\n",
    "\n",
    "# same for y axis\n",
    "yticks = np.asarray(ax.get_yticks())\n",
    "firsttick = yticks[min(ax.get_ylim()) <= yticks][0]\n",
    "lasttick = yticks[yticks <= max(ax.get_ylim())][-1]\n",
    "ax.spines['left'].set_bounds(firsttick, lasttick)\n",
    "yticks = yticks[(firsttick <= yticks) & (yticks <= lasttick)]\n",
    "ax.set_yticks(yticks)\n",
    "\n",
    "ax.legend();"
   ]
  },
  {
   "cell_type": "markdown",
   "id": "9e743096",
   "metadata": {},
   "source": [
    "There is another way to do that using `seaborn`, but we will explore that later if we have time:"
   ]
  },
  {
   "cell_type": "code",
   "execution_count": null,
   "id": "57bb74d4",
   "metadata": {},
   "outputs": [],
   "source": [
    "import seaborn as sns\n",
    "X1 = np.linspace(0, 2*np.pi)\n",
    "X2 = np.linspace(0, 2*np.pi)\n",
    "Y1 = np.sin(X1*2)/2\n",
    "Y2 = np.cos(X2)\n",
    "\n",
    "fig, ax = plt.subplots(figsize=(10, 3))\n",
    "ax.plot(X1, Y1, '-', label='sin', lw=5)\n",
    "ax.plot(X2, Y2, '-', label='cosin', lw=3, alpha=.5)\n",
    "ax.fill_between(X1[5:30], Y1[5:30], Y2[5:30], color='y')\n",
    "sns.despine(trim=True, offset=15, ax=ax)\n",
    "ax.legend();"
   ]
  },
  {
   "cell_type": "markdown",
   "id": "4889198d",
   "metadata": {},
   "source": [
    "## 7. Preparing and saving a figure\n",
    "Once we are happy with our figure, we can save it with `fig.savefig`. The function `fig.savefig` can take multiple out formats such as png, jpeg, pdf or svg:"
   ]
  },
  {
   "cell_type": "code",
   "execution_count": null,
   "id": "8957250a",
   "metadata": {},
   "outputs": [],
   "source": [
    "X1 = np.linspace(0, 2*np.pi)\n",
    "X2 = np.linspace(0, 2*np.pi)\n",
    "Y1 = np.sin(X1*2)/2\n",
    "Y2 = np.cos(X2)\n",
    "\n",
    "fig, ax = plt.subplots(figsize=(10, 3))\n",
    "ax.plot(X1, Y1, '-', label='sin', lw=5)\n",
    "ax.plot(X2, Y2, '-', label='cosin', lw=3, alpha=.5)\n",
    "ax.fill_between(X1[5:30], Y1[5:30], Y2[5:30], color='y')\n",
    "sns.despine(trim=True, offset=15, ax=ax)\n",
    "ax.legend();\n",
    "fig.savefig('Sin-test.pdf')\n",
    "fig.savefig('Sin-test.png')\n",
    "fig.savefig('Sin-test.jpeg')"
   ]
  },
  {
   "cell_type": "markdown",
   "id": "dcd194ba",
   "metadata": {},
   "source": [
    "You should see that the figure actually does not fit in the figure produced. It can happen sometimes (we choose here an example when it happens). There is a very efficient and practical way to solve the issue: `fig.tight_layout`:"
   ]
  },
  {
   "cell_type": "code",
   "execution_count": null,
   "id": "cea0f49c",
   "metadata": {},
   "outputs": [],
   "source": [
    "import seaborn as sns\n",
    "X1 = np.linspace(0, 2*np.pi)\n",
    "X2 = np.linspace(0, 2*np.pi)\n",
    "Y1 = np.sin(X1*2)/2\n",
    "Y2 = np.cos(X2)\n",
    "\n",
    "fig, ax = plt.subplots(figsize=(10, 3))\n",
    "ax.plot(X1, Y1, '-', label='sin', lw=5)\n",
    "ax.plot(X2, Y2, '-', label='cosin', lw=3, alpha=.5)\n",
    "ax.fill_between(X1[5:30], Y1[5:30], Y2[5:30], color='y')\n",
    "sns.despine(trim=True, offset=15, ax=ax)\n",
    "ax.legend();\n",
    "fig.tight_layout()\n",
    "fig.savefig('Sin-test-2.png')"
   ]
  },
  {
   "cell_type": "markdown",
   "id": "b81253da",
   "metadata": {},
   "source": [
    "The function `fig.tight_layout` actually takes your current figure and adjusts it so that it fits as best as possible within your output figure layout, conserving all the current properties of the figure (the scaling for example). What it means is that to be as efficient as possible, this function should be called just before saving the figure.\n",
    "\n",
    "Moreover, there are multiple potentially useful options to save a figure for example:\n",
    "- `dpi`: gives the resolution of the figure in dots per inch. The higher the value is the higher the quality but also the higher the weight of the figure (the dpi makes less sense when plotting in vectorial formats such as `pdf`)\n",
    "- `transparent`: a boolean, if `True` then all the background of the figure is transparent (if it was not given an colour)"
   ]
  },
  {
   "cell_type": "markdown",
   "id": "887e497b",
   "metadata": {},
   "source": [
    "## 8. Using colormaps\n",
    "Choosing colours can be a fairly hard task. Thankfully, matplotlib has a handful of colormaps already made for us, you can find them [there](https://matplotlib.org/stable/tutorials/colors/colormaps.html).\n",
    "\n",
    "The way colormaps usually work within matplotlib is by giving a colour code provided a value between 0 and 1.\n",
    "In other words, the colormap is a linear mapping between the interval $[0, 1]$ and the colours of the colormap.\n",
    "\n",
    "Here is an example on how to use them:"
   ]
  },
  {
   "cell_type": "code",
   "execution_count": null,
   "id": "4221fc40",
   "metadata": {},
   "outputs": [],
   "source": [
    "# here, we get the colormap\n",
    "cmap = mpl.cm.get_cmap('viridis')\n",
    "\n",
    "X = np.linspace(0, 2*np.pi)\n",
    "nb_curves = 30\n",
    "fig, ax = plt.subplots(figsize=(10, 8))\n",
    "for i in range(nb_curves):\n",
    "    curve = np.sin(X + i*2*np.pi/nb_curves)\n",
    "    color = cmap(i/nb_curves)\n",
    "    ax.plot(curve, color=color)"
   ]
  },
  {
   "cell_type": "markdown",
   "id": "bdedcba2",
   "metadata": {},
   "source": [
    "While, unfortunately, I don't know a way of listing all the available colormaps in matplotlib (you should therefore go [there](https://matplotlib.org/stable/tutorials/colors/colormaps.html)), calling `mpl.cm.get_cmap` without assigning it to a variable plots the colormap:"
   ]
  },
  {
   "cell_type": "code",
   "execution_count": null,
   "id": "27fbbb52",
   "metadata": {},
   "outputs": [],
   "source": [
    "mpl.cm.get_cmap('Spectral')"
   ]
  },
  {
   "cell_type": "markdown",
   "id": "cbebf8da",
   "metadata": {},
   "source": [
    "### Exercise 1:\n",
    "Make a plot that resemble the following one:\n",
    "\n",
    "![png](Resources/exercice_1.png)\n",
    "\n",
    "To do so you will need to use the parameter `zorder` from `ax.plot` and `ax.fill_between`.\n",
    "You can find some documentation [there](https://matplotlib.org/stable/gallery/misc/zorder_demo.html).\n",
    "\n",
    "You can find in `Resources.UsefulFunctions` the function `build_curve` to help you generate random curves. That being said, you building such a function would be a good training (that's why it is not directly accessible from the help, to prevent a bit the temptation)"
   ]
  },
  {
   "cell_type": "code",
   "execution_count": null,
   "id": "766e6fbe",
   "metadata": {},
   "outputs": [],
   "source": [
    "np.random.seed(1)\n",
    "from Resources.UsefulFunctions import build_curve\n",
    "..."
   ]
  },
  {
   "cell_type": "markdown",
   "id": "6a3bb6c8",
   "metadata": {},
   "source": [
    "Now, we know more or less how to plot curves using matplotlib.\n",
    "While looking at curves is interesting it might not encapsulate everything you would need.\n",
    "For example, when looking at the distribution of a given variable, curves are less useful.\n",
    "There are many other ways to plot data, we will go through some amount of it through this session.\n",
    "\n",
    "If there are specific types of plots that you can think of that we will not deal with during this course, feel free to let me know.\n",
    "\n",
    "Here is the list of plots that we will look at:\n",
    "- uni-dimensional datas:\n",
    "    - histograms\n",
    "    - boxplot\n",
    "    - violin plot\n",
    "- bi-dimensional datas:\n",
    "    - scatterplot\n",
    "    \n",
    "We will __*NOT*__ look at barplots."
   ]
  },
  {
   "cell_type": "markdown",
   "id": "c8bacf98",
   "metadata": {},
   "source": [
    "## 9. Histograms\n",
    "\n",
    "Histograms are a good way to look at a given distribution."
   ]
  },
  {
   "cell_type": "code",
   "execution_count": null,
   "id": "d9f96805",
   "metadata": {},
   "outputs": [],
   "source": [
    "# creating some random data taken from a normal distribution\n",
    "# centered in 0 with a standard deviation of 1\n",
    "data1 = np.random.normal(size=(1000))"
   ]
  },
  {
   "cell_type": "code",
   "execution_count": null,
   "id": "0d028359",
   "metadata": {},
   "outputs": [],
   "source": [
    "fig, ax = plt.subplots(figsize=(10, 8))\n",
    "ax.hist(data1);"
   ]
  },
  {
   "cell_type": "markdown",
   "id": "8c3a2c73",
   "metadata": {},
   "source": [
    "Multiple parameters of the histogram can of course be changed.\n",
    "For example the colour, whether it is cumulative or not, filled or not, the number of bins, [...]\n",
    "\n",
    "## Exercise 2:\n",
    "\n",
    "Plot the following cumulative histograms (note that to plot the infinite bins you need to use `plot` and not `hist`):\n",
    "\n",
    "![png](Resources/exercise_2.png)"
   ]
  },
  {
   "cell_type": "code",
   "execution_count": null,
   "id": "e58715e7",
   "metadata": {},
   "outputs": [],
   "source": [
    "## Write your solution here"
   ]
  },
  {
   "cell_type": "markdown",
   "id": "2e80f474",
   "metadata": {},
   "source": [
    "Be careful with histograms, they are best suited to look at continuous datasets.\n",
    "Weird things can happen with discrete datasets, especially when keeping the default parameters.\n",
    "\n",
    "Look at the following example (note that the [binomial distribution](https://en.wikipedia.org/wiki/Binomial_distribution) is a discrete distribution):"
   ]
  },
  {
   "cell_type": "code",
   "execution_count": null,
   "id": "4301a21b",
   "metadata": {},
   "outputs": [],
   "source": [
    "np.random.seed(0)\n",
    "data2 = np.random.binomial(8, .2, size=1000)\n",
    "fig, ax = plt.subplots(figsize=(6, 5))\n",
    "ax.hist(data2)"
   ]
  },
  {
   "cell_type": "markdown",
   "id": "eac00b49",
   "metadata": {},
   "source": [
    "One way to deal with that is to have as many bins as you have observations, have a range that span the range of your data and reduce the size of your bins to show the discrete nature of your data:"
   ]
  },
  {
   "cell_type": "code",
   "execution_count": null,
   "id": "3d4806f6",
   "metadata": {},
   "outputs": [],
   "source": [
    "fig, ax = plt.subplots(figsize=(6, 5))\n",
    "data_range = np.min(data2), np.max(data2) +1\n",
    "nb_bins = data_range[1] - data_range[0]\n",
    "ax.hist(data2, bins=nb_bins, range=data_range, rwidth=.8, align='left');"
   ]
  },
  {
   "cell_type": "markdown",
   "id": "da83a8a9",
   "metadata": {},
   "source": [
    "To look at two different distributions, histograms can do the job but they might not be the best"
   ]
  },
  {
   "cell_type": "code",
   "execution_count": null,
   "id": "8544281c",
   "metadata": {},
   "outputs": [],
   "source": [
    "np.random.seed(0)\n",
    "data3 = np.random.gamma(2, size=1000)\n",
    "fig, ax = plt.subplots(figsize=(6, 5))\n",
    "ax.hist([data1, data3], label=('data1', 'data2'))\n",
    "ax.legend()"
   ]
  },
  {
   "cell_type": "markdown",
   "id": "013b971b",
   "metadata": {},
   "source": [
    "Different histogram type can be chosen with the `histtype` parameter:"
   ]
  },
  {
   "cell_type": "code",
   "execution_count": null,
   "id": "7da4b302",
   "metadata": {},
   "outputs": [],
   "source": [
    "fig, ax = plt.subplots(figsize=(6, 5))\n",
    "ax.hist([data1, data3], label=('data1', 'data2'), histtype='step')\n",
    "ax.legend()"
   ]
  },
  {
   "cell_type": "code",
   "execution_count": null,
   "id": "95977d28",
   "metadata": {},
   "outputs": [],
   "source": [
    "fig, ax = plt.subplots(figsize=(6, 5))\n",
    "ax.hist([data1, data3], label=('data1', 'data2'), histtype='barstacked')\n",
    "ax.legend()"
   ]
  },
  {
   "cell_type": "markdown",
   "id": "be968d07",
   "metadata": {},
   "source": [
    "Moreover, the more distributions you add, the worse visible it gets:"
   ]
  },
  {
   "cell_type": "code",
   "execution_count": null,
   "id": "00ba253e",
   "metadata": {},
   "outputs": [],
   "source": [
    "np.random.seed(2)\n",
    "mean = np.random.uniform(-10, 10, size=5)\n",
    "std = np.random.uniform(1, 5, size=5)\n",
    "data = np.random.normal(loc=mean, scale=std, size=(1000, 5))\n",
    "labels = [f'Mean: {m:.2f}, std: {s:.2f}' for m, s in zip(mean, std)]"
   ]
  },
  {
   "cell_type": "code",
   "execution_count": null,
   "id": "44343e55",
   "metadata": {},
   "outputs": [],
   "source": [
    "fig, ax = plt.subplots(figsize=(6, 5))\n",
    "ax.hist(data, label=labels)\n",
    "ax.legend()"
   ]
  },
  {
   "cell_type": "code",
   "execution_count": null,
   "id": "e8a18f5c",
   "metadata": {
    "scrolled": true
   },
   "outputs": [],
   "source": [
    "fig, ax = plt.subplots(figsize=(6, 5))\n",
    "ax.hist(data, histtype='step', label=labels)\n",
    "ax.legend()"
   ]
  },
  {
   "cell_type": "code",
   "execution_count": null,
   "id": "c3815cb9",
   "metadata": {},
   "outputs": [],
   "source": [
    "fig, ax = plt.subplots(figsize=(6, 5))\n",
    "ax.hist(data, histtype='barstacked', label=labels)\n",
    "ax.legend()"
   ]
  },
  {
   "cell_type": "markdown",
   "id": "3111a3b0",
   "metadata": {},
   "source": [
    "## 10. Boxplots and violin plots\n",
    "Another way to look at distribution is to use boxplots:"
   ]
  },
  {
   "cell_type": "code",
   "execution_count": null,
   "id": "97ac7794",
   "metadata": {},
   "outputs": [],
   "source": [
    "fig, ax = plt.subplots(figsize=(6, 5))\n",
    "ax.boxplot(data, labels=labels);"
   ]
  },
  {
   "cell_type": "markdown",
   "id": "433207c8",
   "metadata": {},
   "source": [
    "Slightly better but the labels are overlapping.\n",
    "\n",
    "We can modify that by changing the setting the labels afterwards:"
   ]
  },
  {
   "cell_type": "code",
   "execution_count": null,
   "id": "94a3224a",
   "metadata": {},
   "outputs": [],
   "source": [
    "fig, ax = plt.subplots(figsize=(6, 5))\n",
    "ax.boxplot(data)\n",
    "ax.set_xticklabels(labels, rotation=30, ha='right');"
   ]
  },
  {
   "cell_type": "code",
   "execution_count": null,
   "id": "acd415e9",
   "metadata": {},
   "outputs": [],
   "source": [
    "fig, ax = plt.subplots(figsize=(6, 5))\n",
    "ax.boxplot(data)\n",
    "ax.set_xticklabels(labels, rotation=90);"
   ]
  },
  {
   "cell_type": "markdown",
   "id": "ec13b395",
   "metadata": {},
   "source": [
    "Though, as a general point, it is not advised to ask your reader/audience to bend their head.\n",
    "A far better solution is the following:"
   ]
  },
  {
   "cell_type": "code",
   "execution_count": null,
   "id": "98f7e895",
   "metadata": {},
   "outputs": [],
   "source": [
    "fig, ax = plt.subplots(figsize=(6, 5))\n",
    "ax.boxplot(data, labels=labels, vert=False);"
   ]
  },
  {
   "cell_type": "markdown",
   "id": "497f889c",
   "metadata": {},
   "source": [
    "A similar way to visualise your data is using violin plots:"
   ]
  },
  {
   "cell_type": "code",
   "execution_count": null,
   "id": "5f6d65a5",
   "metadata": {},
   "outputs": [],
   "source": [
    "fig, ax = plt.subplots(figsize=(6, 5))\n",
    "ax.violinplot(data, vert=False);\n",
    "ax.set_yticks(range(1, data.shape[1]+1))\n",
    "ax.set_yticklabels(labels);"
   ]
  },
  {
   "cell_type": "markdown",
   "id": "38592d33",
   "metadata": {},
   "source": [
    "Or combining both since they provide since they don't provide exactly the same informations"
   ]
  },
  {
   "cell_type": "code",
   "execution_count": null,
   "id": "63f5ba9e",
   "metadata": {},
   "outputs": [],
   "source": [
    "fig, ax = plt.subplots(figsize=(6, 5))\n",
    "ax.boxplot(data, labels=labels, vert=False, zorder=100, sym='')\n",
    "ax.violinplot(data, showextrema=False, vert=False);"
   ]
  },
  {
   "cell_type": "markdown",
   "id": "8ad4bbdb",
   "metadata": {},
   "source": [
    "When looking at unimodal distribution, looking at boxplots is sufficient, it is not the case for multimodal distributions, we are losing too much information:"
   ]
  },
  {
   "cell_type": "code",
   "execution_count": null,
   "id": "1f945e34",
   "metadata": {},
   "outputs": [],
   "source": [
    "np.random.seed(0)\n",
    "d1 = np.random.normal(0, 1, size=500)\n",
    "d2 = np.random.normal(10, 3, size=500)\n",
    "d_multi = np.hstack([d1, d2])"
   ]
  },
  {
   "cell_type": "code",
   "execution_count": null,
   "id": "96c33505",
   "metadata": {},
   "outputs": [],
   "source": [
    "fig, ax = plt.subplots(3, 1, figsize=(8, 5), sharex=True)\n",
    "ax[0].boxplot(d_multi, vert=False, widths=.8);\n",
    "ax[1].violinplot(d_multi, showextrema=False, vert=False);\n",
    "ax[2].hist(d_multi);\n",
    "fig.tight_layout()"
   ]
  },
  {
   "cell_type": "markdown",
   "id": "8286623d",
   "metadata": {},
   "source": [
    "### Scatter plots\n",
    "Scatter plots are useful when one wants to look at two measurements from and their potential correlation"
   ]
  },
  {
   "cell_type": "code",
   "execution_count": null,
   "id": "3930bbd5",
   "metadata": {
    "scrolled": true
   },
   "outputs": [],
   "source": [
    "X = np.random.normal(-10, 15, size = 500)\n",
    "Y = np.random.normal(0, 5, size = 500)\n",
    "X = np.hstack([X, np.random.normal(80, 10, size = 200)])\n",
    "Y = np.hstack([Y, np.random.normal(30, 20, size = 200)])\n",
    "fig, ax = plt.subplots(figsize=(8, 5))\n",
    "ax.scatter(X, Y)\n",
    "ax.set_aspect('equal')"
   ]
  },
  {
   "cell_type": "markdown",
   "id": "7150e54e",
   "metadata": {},
   "source": [
    "## 11. Animations\n",
    "\n",
    "### How to build the animations we made earlier?\n",
    "\n",
    "First we need to load one of the patterns that we made earlier.\n",
    "If you saved it your own way, you should be able to work out how to load it.\n",
    "If you did not manage to save it (or to produce it in the first place), you can use the file `Turing_pattern.npy` in the folder `Resources`.\n",
    "You can load this kind of files using the `numpy` function `load`:"
   ]
  },
  {
   "cell_type": "code",
   "execution_count": null,
   "id": "809c3bcb",
   "metadata": {},
   "outputs": [],
   "source": [
    "A = np.load('Resources/Turing_pattern.npy')"
   ]
  },
  {
   "cell_type": "markdown",
   "id": "aa5e3f69",
   "metadata": {},
   "source": [
    "Now, the first step is to display just one time-point as a 2D image (in the following case it is the last time-point):"
   ]
  },
  {
   "cell_type": "code",
   "execution_count": null,
   "id": "8d597c21",
   "metadata": {},
   "outputs": [],
   "source": [
    "fig, ax = plt.subplots(figsize=(5, 5))\n",
    "ax.axis('off')\n",
    "ax.imshow(A[:,:, -1], interpolation='bilinear')"
   ]
  },
  {
   "cell_type": "markdown",
   "id": "a536c00b",
   "metadata": {},
   "source": [
    "There are a multiple parameters coming with `imshow`:"
   ]
  },
  {
   "cell_type": "code",
   "execution_count": null,
   "id": "a15eabea",
   "metadata": {},
   "outputs": [],
   "source": [
    "plt.imshow?"
   ]
  },
  {
   "cell_type": "markdown",
   "id": "2469ca74",
   "metadata": {},
   "source": [
    "You can play with them a little bit:"
   ]
  },
  {
   "cell_type": "code",
   "execution_count": null,
   "id": "0dc3bb18",
   "metadata": {},
   "outputs": [],
   "source": [
    "# Here"
   ]
  },
  {
   "cell_type": "markdown",
   "id": "e2655db3",
   "metadata": {},
   "source": [
    "Now the animation part:\n",
    "\n",
    "The idea behind creating an animation is that you will be updating a pre-created figure with a pre-existing dataset. Here, in our case, the created figure will be our `imshow` figure and our dataset will be `A`, our Turing pattern.\n",
    "\n",
    "Before starting doing anything, we will need to import the `animation` package from matplotlib (done in line `1` of the following cell) to create the animation. It is imported in the first line of the next cell.\n",
    "\n",
    "Then, once we have created our animation, we will need to display it. To do so we will use the `HTML` function from the library `IPython.display`. It is imported in the second line of the next cell.\n",
    "\n",
    "Now that we have all we need, we have to first create this initial figure as we did previously, that is what we do in the lines `4` to `7` of this plot: we create the figure of our pattern at the first time-point.\n",
    "\n",
    "Then we need to create the function to update our image, not the figure itself (the function is named `update` in the next cell).\n",
    "This update function modifies our image with the data at the adequate time-point `t`.\n",
    "Note the coma at the end of the `return` statement. It is because multiple images/lines/scatter plots could be needed to be updated, in our case it is just one, it might not always be the case.\n",
    "\n",
    "Once all that is in place, we need to define how many time-points we want to display (the more time-points, the longer it will take). It is our `nb_times_im` parameter in the next cell.\n",
    "\n",
    "Before creating our animation, because we do not want to display all our time-points (it would be too long) we need to reduce our original image, which is done in line `14`.\n",
    "\n",
    "Now we can create our animation (lines `15` to `17`), and display it (line `18`):"
   ]
  },
  {
   "cell_type": "code",
   "execution_count": null,
   "id": "b47c1e73",
   "metadata": {},
   "outputs": [],
   "source": [
    "from matplotlib import animation\n",
    "from IPython.display import HTML\n",
    "\n",
    "fig, ax = plt.subplots(figsize=(5, 5))\n",
    "ax.axis('off')\n",
    "im = ax.imshow(A[..., 0], interpolation='bilinear')\n",
    "fig.tight_layout()\n",
    "\n",
    "def update(t):\n",
    "    im.set_data(A_anim[...,t])\n",
    "    return im,\n",
    "\n",
    "nb_times_im = 100\n",
    "A_anim = A[..., ::A.shape[-1]//nb_times_im]\n",
    "anim = animation.FuncAnimation(fig, update,\n",
    "                               frames=nb_times_im, interval=50, \n",
    "                               blit=True)\n",
    "HTML(anim.to_jshtml())"
   ]
  },
  {
   "cell_type": "markdown",
   "id": "5c02f1be",
   "metadata": {},
   "source": [
    "## Exercice:\n",
    "Create your own animation of any plot you want. If you are out of idea, you can try to recreate the following one (or part of it):\n",
    "![png](Resources/cos-sin.gif)"
   ]
  },
  {
   "cell_type": "markdown",
   "id": "9e17bec5",
   "metadata": {},
   "source": [
    "Or something like this:\n",
    "![png](Resources/square.gif)\n",
    "\n",
    "Or that:\n",
    "![png](Resources/circle.gif)"
   ]
  },
  {
   "cell_type": "markdown",
   "id": "1e51f82e",
   "metadata": {},
   "source": [
    "Or even like the one proposed in [Nicolas Rougier's book](https://github.com/rougier/scientific-visualization-book):"
   ]
  },
  {
   "cell_type": "code",
   "execution_count": null,
   "id": "4e67606a",
   "metadata": {},
   "outputs": [],
   "source": [
    "%run Resources/rain.py\n",
    "HTML(anim.to_jshtml())"
   ]
  }
 ],
 "metadata": {
  "kernelspec": {
   "display_name": "Python 3 (ipykernel)",
   "language": "python",
   "name": "python3"
  },
  "language_info": {
   "codemirror_mode": {
    "name": "ipython",
    "version": 3
   },
   "file_extension": ".py",
   "mimetype": "text/x-python",
   "name": "python",
   "nbconvert_exporter": "python",
   "pygments_lexer": "ipython3",
   "version": "3.10.4"
  }
 },
 "nbformat": 4,
 "nbformat_minor": 5
}
