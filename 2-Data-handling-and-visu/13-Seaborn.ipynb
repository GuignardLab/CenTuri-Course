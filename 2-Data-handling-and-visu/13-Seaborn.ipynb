{
 "cells": [
  {
   "cell_type": "markdown",
   "id": "73586a1b",
   "metadata": {},
   "source": [
    "## On the usage of seaborn\n",
    "\n",
    "Seaborn is a library to use matplotlib in an \"easier\" way.\n",
    "You can find information about it [there](seaborn.pydata.org/).\n",
    "\n",
    "Eventhough it does not have to be that way, it mainly uses pandas dataframes as input (more info [there](pandas.pydata.org/))."
   ]
  },
  {
   "cell_type": "code",
   "execution_count": null,
   "id": "dc2682fb",
   "metadata": {},
   "outputs": [],
   "source": [
    "import pandas as pd\n",
    "import seaborn as sns"
   ]
  },
  {
   "cell_type": "code",
   "execution_count": null,
   "id": "3286dc68",
   "metadata": {},
   "outputs": [],
   "source": [
    "dataset = sns.load_dataset('penguins')"
   ]
  },
  {
   "cell_type": "code",
   "execution_count": null,
   "id": "be86ab23",
   "metadata": {},
   "outputs": [],
   "source": [
    "dataset"
   ]
  },
  {
   "cell_type": "code",
   "execution_count": null,
   "id": "de6b033a",
   "metadata": {},
   "outputs": [],
   "source": [
    "sns.scatterplot(data=dataset, x='flipper_length_mm', y='bill_depth_mm', hue='species')"
   ]
  },
  {
   "cell_type": "code",
   "execution_count": null,
   "id": "6bbe9250",
   "metadata": {},
   "outputs": [],
   "source": [
    "sns.swarmplot(data=dataset, x='species', y='bill_depth_mm', hue='sex')"
   ]
  },
  {
   "cell_type": "code",
   "execution_count": null,
   "id": "d472abbc",
   "metadata": {},
   "outputs": [],
   "source": [
    "sns.histplot(data=dataset, y='bill_depth_mm', hue='species', multiple='stack')"
   ]
  },
  {
   "cell_type": "code",
   "execution_count": null,
   "id": "f3aa71c5",
   "metadata": {},
   "outputs": [],
   "source": [
    "sns.histplot(data=dataset, y='species', hue='sex', discrete=True, multiple='fill')"
   ]
  },
  {
   "cell_type": "code",
   "execution_count": null,
   "id": "9ab4d836",
   "metadata": {},
   "outputs": [],
   "source": [
    "sns.histplot(data=dataset, y='species', hue='sex', discrete=True, multiple='dodge')"
   ]
  },
  {
   "cell_type": "code",
   "execution_count": null,
   "id": "8441fd78",
   "metadata": {},
   "outputs": [],
   "source": [
    "sns.histplot(data=dataset, x='bill_depth_mm', kde=True)"
   ]
  },
  {
   "cell_type": "code",
   "execution_count": null,
   "id": "97ea2439",
   "metadata": {},
   "outputs": [],
   "source": [
    "sns.violinplot(data=dataset, y='bill_depth_mm', x='species', inner='points', hue='sex')"
   ]
  },
  {
   "cell_type": "code",
   "execution_count": null,
   "id": "8e45f54c",
   "metadata": {},
   "outputs": [],
   "source": [
    "sns.violinplot(data=dataset, y='bill_depth_mm', x='species',\n",
    "               hue='sex', split=True)"
   ]
  },
  {
   "cell_type": "code",
   "execution_count": null,
   "id": "20bbdcfb",
   "metadata": {
    "scrolled": false
   },
   "outputs": [],
   "source": [
    "sns.lmplot(data=dataset, x='flipper_length_mm', y='bill_depth_mm', hue='species')"
   ]
  }
 ],
 "metadata": {
  "kernelspec": {
   "display_name": "Python 3 (ipykernel)",
   "language": "python",
   "name": "python3"
  },
  "language_info": {
   "codemirror_mode": {
    "name": "ipython",
    "version": 3
   },
   "file_extension": ".py",
   "mimetype": "text/x-python",
   "name": "python",
   "nbconvert_exporter": "python",
   "pygments_lexer": "ipython3",
   "version": "3.10.4"
  }
 },
 "nbformat": 4,
 "nbformat_minor": 5
}
