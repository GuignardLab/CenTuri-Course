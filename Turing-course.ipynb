{
 "cells": [
  {
   "cell_type": "markdown",
   "id": "45fc64df",
   "metadata": {},
   "source": [
    "# Introduction to Python using Turing patterns"
   ]
  },
  {
   "cell_type": "markdown",
   "id": "c0deffdb",
   "metadata": {},
   "source": [
    "## 1. Introduction\n",
    "**First of, within this course [this page](https://docs.python.org/3/tutorial/index.html) will be mentioned a lot. It is a really good (but a bit crude) source for informations and it is the official Python page so it is also quite accurate.**\n",
    "\n",
    "### 1.1 Goal of this course\n",
    "This course aim at teaching the basics of coding using reaction diffusion simulations as a support, more specifically the Turing patterns.\n",
    "The mathematics or the biology behind the Turing patterns is not necessary but it might help to understand better what is happening behind the hood.\n",
    "\n",
    "At the end of the course, we would like you to be able to write small pieces of code to do basic data analysis.\n",
    "No computation level is required though it is good to keep in mind that at the time being, this notebook alone might not be enough: the teachers are still necessary (unfortunately?) to introduce the concepts and to help answering the potential questions.\n",
    "\n",
    "### 1.2 Turing patterns\n",
    "Now about Turing patterns, they were introduced by Alan Turing in the article [The Chemical Basis of Morphogenesis](https://www.dna.caltech.edu/courses/cs191/paperscs191/turing.pdf).\n",
    "They will not been much discussed here but fill free to ask questions or to look over [there](https://en.wikipedia.org/wiki/Reaction%E2%80%93diffusion_system) for more information.\n",
    "\n",
    "What is important to keep in mind is that a Turing pattern is the result of the interaction between an activator and its inhibitor and their co-diffusion across a set of cells.\n",
    "\n",
    "It is this interaction and diffusion that we will model in this course. We will also learn how to represent these patterns.\n",
    "\n",
    "A little bit of knowledge about how to model these interactions is necessary to better understand the remaining of the course.\n",
    "First, we will be talking about an activator that will name $A$ and an inhibitor that will name $I$. Their concentration values will be refered to as $a$ and $i$ respectively.\n",
    "\n",
    "The gene regulation network that we are considering here is the simple one where $A$ auto-activates and activates $I$ and $I$ inhibits $A$:\n",
    "\n",
    "<img src=\"Images/GRN.png\" alt=\"Gene Regulation Network\" width=\"200\"/>\n",
    "\n",
    "> _**To go a little bit further (not required):**_\n",
    "> \n",
    "> From this network, we can extrat the interaction between activator $A$ and an inhibitor $I$ as follow:\n",
    "> \n",
    "> $A \\rightarrow A$ ($A$ is auto activated)\n",
    "> \n",
    "> $A \\rightarrow I$ ($A$ activates $I$)\n",
    "> \n",
    "> $I \\dashv A$ ($I$ inhibits $A$)\n",
    "> \n",
    "> These interactions can be modeled multiple ways.\n",
    "> We decided here to use the [FitzHugh–Nagumo model](https://en.wikipedia.org/wiki/FitzHugh%E2%80%93Nagumo_model) (for no particular reason) resulting in the following equations:\n",
    "> \n",
    "> $\\frac{\\delta a}{\\delta t} = d_a\\Delta a + a - a^3 - i + k$ [1]\n",
    "> \n",
    "> $\\tau \\frac{\\delta i}{\\delta t} = d_i\\Delta i + a - i$ [2]\n",
    "> \n",
    "> These are partial differential equations that represent the change of concentration of $A$ ($\\delta a$) or $I$ ($\\delta i$) when the time changes by a small amount ($\\delta t$).\n",
    ">\n",
    "> In equation [1], $\\Delta a$ is the potential diffusion $A$ and $d_a$ is the diffusion coefficient.\n",
    "> $+ a$ is the auto-activation of $A$, $-a^3$ is the degradation, $-i$ is the inhibition from $I$ and $k$ is a constant.\n",
    ">\n",
    "> In equation [2], $\\Delta i$ is the potential diffusion of $I$ and $d_i$ is the diffusion coefficient.\n",
    "> $+a$ is the activation from $A$ and $-i$ is the degradation.\n",
    "\n",
    "It is important to know that to model the previous network it is necessary to decide on some values, the parameters of the model:\n",
    "- the diffusion coefficients $d_a$ and $d_i$ (refered to as `d_a` and `d_i` in the code)\n",
    "- the constant $\\tau$ (refered to as `tau`)\n",
    "- the constant $k$ (refered to as `k`)\n",
    "\n",
    "Moreover other values are necessary for the computation also need to be decided:\n",
    "- the size of the grid we will be working on (`size`)\n",
    "- the distance between two cells (ie the space step: `dx` and `dy`)\n",
    "- the total time of the simulation (`T`)\n",
    "- the time step for the simulation (`dt`)\n",
    "- the number of iterations (`n`, which is determined by the ratio of `T` over `dt`)"
   ]
  },
  {
   "cell_type": "markdown",
   "id": "f2eda5a7",
   "metadata": {},
   "source": [
    "## 2. Variables\n",
    "Variables are symbolic names where information or values can be stored.\n",
    "\n",
    "They are the cornerstone of coding, they allow to store in memory values and to access them later on. In our example the variables have been decribed earlier (`d_a`, `tau`, `size`, ...)\n",
    "\n",
    "To assign an information to a variable, the `=` operator is used.\n",
    "\n",
    "---\n",
    "⚠️ be careful, `=` is the assignment operator. To check the equality between two variables, the required operator is `==` ⚠️\n",
    "\n",
    "---\n",
    "\n",
    "For example after the following line of code is ran:"
   ]
  },
  {
   "cell_type": "code",
   "execution_count": 30,
   "id": "831989c5",
   "metadata": {},
   "outputs": [],
   "source": [
    "a_number = 0\n",
    "a_number = 10\n",
    "another_number = 1"
   ]
  },
  {
   "cell_type": "markdown",
   "id": "68e9198d",
   "metadata": {},
   "source": [
    "The variable `a_number` used to contain the value `0` and now contains the value `10`.\n",
    "\n",
    "The variable `another_number` contains the values `1`.\n",
    "\n",
    "It is possible to display what is contained in a variable using the fuction `print` for example:"
   ]
  },
  {
   "cell_type": "code",
   "execution_count": 31,
   "id": "e31c1885",
   "metadata": {},
   "outputs": [
    {
     "name": "stdout",
     "output_type": "stream",
     "text": [
      "a_number --> 10\n"
     ]
    }
   ],
   "source": [
    "print(f'a_number --> {a_number}')"
   ]
  },
  {
   "cell_type": "markdown",
   "id": "2baf5349",
   "metadata": {},
   "source": [
    "The content of a variable can be stored in another variable and then changed without altering it:"
   ]
  },
  {
   "cell_type": "code",
   "execution_count": 6,
   "id": "fb6fb574",
   "metadata": {},
   "outputs": [
    {
     "name": "stdout",
     "output_type": "stream",
     "text": [
      "another_number --> 5\n",
      "a_number --> 1\n"
     ]
    }
   ],
   "source": [
    "a_number = 5\n",
    "another_number = a_number\n",
    "a_number = 1\n",
    "print(f'another_number --> {another_number}')\n",
    "print(f'a_number --> {a_number}')"
   ]
  },
  {
   "cell_type": "markdown",
   "id": "9fe69e0a",
   "metadata": {},
   "source": [
    "Variables can contain most (computational) things (especially in Python).\n",
    "For example they can contain different types of data such as `list`, `dictionary` or `ndarray` (we will see what they are right after)"
   ]
  },
  {
   "cell_type": "markdown",
   "id": "5b42be7b",
   "metadata": {},
   "source": [
    "### 2.1 Exercices:\n",
    "Before any exercice, import the `Correction` module which allows you to check out the correction of the exercices the following way:\n",
    "```python\n",
    "Correction(<exo_num>)\n",
    "```\n",
    "You can import the function as shown just bellow. It needs to be imported only once."
   ]
  },
  {
   "cell_type": "code",
   "execution_count": 1,
   "id": "61b43c36",
   "metadata": {},
   "outputs": [],
   "source": [
    "from Resources.Answers import answer"
   ]
  },
  {
   "cell_type": "markdown",
   "id": "357f2d7c",
   "metadata": {},
   "source": [
    "#### Exercice 1:\n",
    "Set the value of the variables necessary for the model as follow:\n",
    "- a: 0.0002.8\n",
    "- b: 0.005\n",
    "- tau: 0.1\n",
    "- k: -0.005\n",
    "- size: 100 \n",
    "- dx: 2 divided by the size of the grid\n",
    "- T: 9\n",
    "- dt: 0.001\n",
    "- n: number of iterations which is the total time `T` divided by the time step `dt`"
   ]
  },
  {
   "cell_type": "code",
   "execution_count": null,
   "id": "4e33ad64",
   "metadata": {},
   "outputs": [],
   "source": [
    "### Write the answer of the previous question here.\n",
    "# You can check the answer by running answer(1)"
   ]
  },
  {
   "cell_type": "markdown",
   "id": "b7a7be3b",
   "metadata": {},
   "source": [
    "#### Exercice 2:\n",
    "Given a variable `nb1` and a variable `nb2`, put the values of each other variables in the other one\n",
    "\n",
    "(Note that we are using the library `random` to generate random numbers)"
   ]
  },
  {
   "cell_type": "code",
   "execution_count": 8,
   "id": "f12a5734",
   "metadata": {},
   "outputs": [
    {
     "name": "stdout",
     "output_type": "stream",
     "text": [
      "nb1 before: 2\n",
      "nb2 before: 7\n",
      "nb1 after: 2\n",
      "nb2 after: 7\n"
     ]
    }
   ],
   "source": [
    "from random import randint # To generate random numbers so you can't really cheat\n",
    "nb1 = randint(0, 5)\n",
    "nb2 = randint(6, 10)\n",
    "print(f'nb1 before: {nb1}')\n",
    "print(f'nb2 before: {nb2}')\n",
    "'''\n",
    "To do: swap a and b values\n",
    "'''\n",
    "print(f'nb1 after: {nb1}')\n",
    "print(f'nb2 after: {nb2}')"
   ]
  },
  {
   "cell_type": "markdown",
   "id": "12768ce3",
   "metadata": {},
   "source": [
    "## 3. Data structures\n",
    "When coding, different type of data structures can be used. For example we already saw few types of data:\n",
    "- Integers (refered to as `int` in Python): `0`, `1`, `-10`, ...\n",
    "- Floating numbers (refered to as `float` in Python): `0.01`, `1.0`, `1.2e10`, ...\n",
    "\n",
    "But of course other data types exist:\n",
    "- Lists (`list`): `[1, 2, 3]`, `[1, None, 0.4]`, `[1, [1, 2], [3], ['Hello'], 'World']`, ...\n",
    "- Tuples (`tuple`): `(1, 2, 3)`, `(1, None, 0.4)`, ...\n",
    "- Dictionaries (`dict`): `{'a': 10, 3:[2, 3, 4], '5': -0.2}`, ..."
   ]
  },
  {
   "cell_type": "markdown",
   "id": "86e66561",
   "metadata": {},
   "source": [
    "### 3.1 The lists: `list`\n",
    "As their name suggest a `list` allows to store a list of elements. These elements can then be accessed via their position, starting at `0`.\n",
    "\n",
    "There is a lot of possible operations on lists that can be found [there](https://docs.python.org/3/tutorial/datastructures.html#more-on-lists)\n",
    "\n",
    "The Python language is so that a `list` is surrounded by brackets:"
   ]
  },
  {
   "cell_type": "code",
   "execution_count": 25,
   "id": "661a5403",
   "metadata": {},
   "outputs": [
    {
     "name": "stdout",
     "output_type": "stream",
     "text": [
      "l1    --> [1, 2, 3, 4]\n",
      "positions: 0  1  2  3\n",
      "l1[0] --> 1\n",
      "l1[3] --> 4\n"
     ]
    }
   ],
   "source": [
    "l1 = [1, 2, 3, 4]\n",
    "print(f'l1    --> {l1}')\n",
    "print(f'positions: 0  1  2  3')\n",
    "print(f'l1[0] --> {l1[0]}')\n",
    "print(f'l1[3] --> {l1[3]}')"
   ]
  },
  {
   "cell_type": "markdown",
   "id": "8b75346f",
   "metadata": {},
   "source": [
    "It is also possible to access to the values in a list using negative numbers, `-1` being the last element, `-2` the one before last and so on and so forth:"
   ]
  },
  {
   "cell_type": "code",
   "execution_count": 29,
   "id": "3d3573e7",
   "metadata": {},
   "outputs": [
    {
     "name": "stdout",
     "output_type": "stream",
     "text": [
      "l1     --> [1, 2, 3, 4]\n",
      "positions: -4 -3 -2 -1\n",
      "l1[-1] --> 4\n",
      "l1[-3] --> 2\n"
     ]
    }
   ],
   "source": [
    "print(f'l1     --> {l1}')\n",
    "print(f'positions: -4 -3 -2 -1')\n",
    "print(f'l1[-1] --> {l1[-1]}')\n",
    "print(f'l1[-3] --> {l1[-3]}')"
   ]
  },
  {
   "cell_type": "markdown",
   "id": "76193f8b",
   "metadata": {},
   "source": [
    "It is also possible to access to part of the list, it is called a slice.\n",
    "\n",
    "To do so the syntax is the following:\n",
    "```\n",
    "list[start:stop:step]\n",
    "```\n",
    "`start` is included, `stop` is not, `step` is the step size."
   ]
  },
  {
   "cell_type": "code",
   "execution_count": 59,
   "id": "73a9093e",
   "metadata": {},
   "outputs": [
    {
     "name": "stdout",
     "output_type": "stream",
     "text": [
      "l1        --> [3, 4, 5, 6, 7, 8, 9, 10, 11, 12]\n",
      "positions --> [0, 1, 2, 3, 4, 5, 6, 7, 8, 9]\n",
      "l1[3:7]   --> [6, 7, 8, 9]\n",
      "l1[:2]    --> [3, 4]\n",
      "l1[6:]    --> [9, 10, 11, 12]\n",
      "l1[1:7:2] --> [4, 6, 8]\n"
     ]
    }
   ],
   "source": [
    "l1 = list(range(3, 13))\n",
    "print(f'l1        --> {l1}')\n",
    "print(f'positions --> {list(range(len(l1)))}')\n",
    "print(f'l1[3:7]   --> {l1[3:7]}')\n",
    "print(f'l1[:2]    --> {l1[:2]}')\n",
    "print(f'l1[6:]    --> {l1[6:]}')\n",
    "print(f'l1[1:7:2] --> {l1[1:7:2]}')"
   ]
  },
  {
   "cell_type": "markdown",
   "id": "97299db4",
   "metadata": {},
   "source": [
    "A `list` can be modified by adding values into them using the method `append`:"
   ]
  },
  {
   "cell_type": "code",
   "execution_count": 60,
   "id": "cb590ca5",
   "metadata": {},
   "outputs": [
    {
     "name": "stdout",
     "output_type": "stream",
     "text": [
      "l1    --> [1, 2, 3, 4]\n",
      "l1    --> [1, 2, 3, 4, 'hello']\n",
      "l1[4] --> hello\n"
     ]
    }
   ],
   "source": [
    "l1 = [1, 2, 3, 4]\n",
    "print(f'l1    --> {l1}')\n",
    "l1.append('hello')\n",
    "print(f'l1    --> {l1}')\n",
    "print(f'l1[4] --> {l1[4]}')"
   ]
  },
  {
   "cell_type": "markdown",
   "id": "ed69ecab",
   "metadata": {},
   "source": [
    "They can also be modified by removing elements from it using the method `pop` which removes the last element of the list by default:"
   ]
  },
  {
   "cell_type": "code",
   "execution_count": 63,
   "id": "ccbb4d7e",
   "metadata": {},
   "outputs": [
    {
     "name": "stdout",
     "output_type": "stream",
     "text": [
      "l1    --> [1, 2, 3, 4]\n",
      "l1    --> [1, 2, 3]\n"
     ]
    }
   ],
   "source": [
    "l1 = [1, 2, 3, 4]\n",
    "print(f'l1    --> {l1}')\n",
    "l1.pop()\n",
    "print(f'l1    --> {l1}')"
   ]
  },
  {
   "cell_type": "markdown",
   "id": "d79e81e7",
   "metadata": {},
   "source": [
    "By removing a specific element of the list using the method `remove`:"
   ]
  },
  {
   "cell_type": "code",
   "execution_count": 65,
   "id": "8ab336b0",
   "metadata": {},
   "outputs": [
    {
     "name": "stdout",
     "output_type": "stream",
     "text": [
      "l1    --> [4, 5, 6, 7]\n",
      "l1    --> [4, 6, 7]\n"
     ]
    }
   ],
   "source": [
    "l1 = [4, 5, 6, 7]\n",
    "print(f'l1    --> {l1}')\n",
    "l1.remove(5)\n",
    "print(f'l1    --> {l1}')"
   ]
  },
  {
   "cell_type": "markdown",
   "id": "0cd0763f",
   "metadata": {},
   "source": [
    "Or by modifying already existing values by accessing them:"
   ]
  },
  {
   "cell_type": "code",
   "execution_count": 16,
   "id": "7d282525",
   "metadata": {},
   "outputs": [
    {
     "name": "stdout",
     "output_type": "stream",
     "text": [
      "l1 --> [1, 2, 3, 4]\n",
      "l1 --> [1, 3, 3, 4]\n",
      "l1 --> [1, 3, 2, 4]\n"
     ]
    }
   ],
   "source": [
    "l1 = [1, 2, 3, 4]\n",
    "print(f'l1 --> {l1}')\n",
    "l1[1] = 3\n",
    "print(f'l1 --> {l1}')\n",
    "l1[2] = l1[0]+1\n",
    "print(f'l1 --> {l1}')"
   ]
  },
  {
   "cell_type": "markdown",
   "id": "73b3292e",
   "metadata": {},
   "source": [
    "Two lists can be concatenated togheter either by using the method `extend` or the `+` operator.\n",
    "\n",
    "⚠️ It is important to remember that the `extend` method is performed 'in place' meaning that it modifies the list from which it is called from ⚠️"
   ]
  },
  {
   "cell_type": "code",
   "execution_count": 19,
   "id": "503cc2f0",
   "metadata": {},
   "outputs": [
    {
     "name": "stdout",
     "output_type": "stream",
     "text": [
      "l3 --> [1, 2, 3, 4, 'a', 'b', 'c', 'd']\n",
      "l1 --> [1, 2, 3, 4, 'a', 'b', 'c', 'd']\n",
      "l4 --> [1, 2, 3, 4, 'a', 'b', 'c', 'd', 'a', 'b', 'c', 'd']\n"
     ]
    }
   ],
   "source": [
    "l1 = [1, 2, 3, 4]\n",
    "l2 = ['a', 'b', 'c', 'd']\n",
    "l3 = l1 + l2\n",
    "print(f'l3 --> {l3}')\n",
    "l1.extend(l2)\n",
    "print(f'l1 --> {l1}')\n",
    "l4 = l1 + l2\n",
    "print(f'l4 --> {l4}')"
   ]
  },
  {
   "cell_type": "markdown",
   "id": "f69a1561",
   "metadata": {},
   "source": [
    "### 3.2 The dictionaries: `dict`\n",
    "A dictionary is a data structure that maps a key to a value. It is somewhat similar to a `list` except that instead of refering to a value by its position in the `list` it is refered to by its key.\n",
    "\n",
    "Dictonaries are defined using curved brackets `{`:"
   ]
  },
  {
   "cell_type": "code",
   "execution_count": 78,
   "id": "9f5d2806",
   "metadata": {},
   "outputs": [
    {
     "name": "stdout",
     "output_type": "stream",
     "text": [
      "d1      --> {4: '1', '3': 'Hello'}\n",
      "d1[4]   --> 1\n",
      "d1['3'] --> Hello\n"
     ]
    }
   ],
   "source": [
    "d1 = {4: '1', '3':'Hello'}\n",
    "print(f'd1      --> {d1}')\n",
    "print(f'd1[4]   --> {d1[4]}')\n",
    "print(f'd1[\\'3\\'] --> {d1[\"3\"]}')"
   ]
  },
  {
   "cell_type": "markdown",
   "id": "d7ffcc1f",
   "metadata": {},
   "source": [
    "For reasons that we will not explain here, a `list` cannot be used as a key for a dictionary (though it can be used as values):"
   ]
  },
  {
   "cell_type": "code",
   "execution_count": 79,
   "id": "9b9e3ce4",
   "metadata": {},
   "outputs": [
    {
     "name": "stdout",
     "output_type": "stream",
     "text": [
      "d1 --> {1: [1, 2, 3, 4], 4: 4}\n"
     ]
    }
   ],
   "source": [
    "d1 = {1: [1, 2, 3, 4], 4:4}\n",
    "print(f'd1 --> {d1}')"
   ]
  },
  {
   "cell_type": "code",
   "execution_count": 80,
   "id": "b6afd55e",
   "metadata": {},
   "outputs": [
    {
     "ename": "TypeError",
     "evalue": "unhashable type: 'list'",
     "output_type": "error",
     "traceback": [
      "\u001b[0;31m---------------------------------------------------------------------------\u001b[0m",
      "\u001b[0;31mTypeError\u001b[0m                                 Traceback (most recent call last)",
      "\u001b[0;32m/var/folders/dk/gjswl12567v7htcvqh6qhh7jp9y77k/T/ipykernel_9275/2083811529.py\u001b[0m in \u001b[0;36m<module>\u001b[0;34m\u001b[0m\n\u001b[0;32m----> 1\u001b[0;31m \u001b[0md1\u001b[0m \u001b[0;34m=\u001b[0m \u001b[0;34m{\u001b[0m\u001b[0;34m[\u001b[0m\u001b[0;36m1\u001b[0m\u001b[0;34m,\u001b[0m \u001b[0;36m2\u001b[0m\u001b[0;34m]\u001b[0m\u001b[0;34m:\u001b[0m \u001b[0;36m1\u001b[0m\u001b[0;34m}\u001b[0m\u001b[0;34m\u001b[0m\u001b[0;34m\u001b[0m\u001b[0m\n\u001b[0m",
      "\u001b[0;31mTypeError\u001b[0m: unhashable type: 'list'"
     ]
    }
   ],
   "source": [
    "d1 = {[1, 2]: 1}"
   ]
  },
  {
   "cell_type": "markdown",
   "id": "f83c577e",
   "metadata": {},
   "source": [
    "Dictionaries can be modified but cannot be sliced (since there is not always an order on the keys):"
   ]
  },
  {
   "cell_type": "code",
   "execution_count": 81,
   "id": "48db5bc0",
   "metadata": {},
   "outputs": [
    {
     "name": "stdout",
     "output_type": "stream",
     "text": [
      "d1 --> {1: [1, 2, 3, 4], 4: 4}\n",
      "d1 --> {1: [1, 2, 3, 4], 4: 4, 3: 5}\n"
     ]
    }
   ],
   "source": [
    "d1 = {1: [1, 2, 3, 4], 4:4}\n",
    "print(f'd1 --> {d1}')\n",
    "d1[3] = 5\n",
    "print(f'd1 --> {d1}')"
   ]
  },
  {
   "cell_type": "markdown",
   "id": "89d9d62d",
   "metadata": {},
   "source": [
    "You can find more information about dictionaries [there](https://docs.python.org/3/tutorial/datastructures.html#dictionaries)"
   ]
  },
  {
   "cell_type": "markdown",
   "id": "4cd3280b",
   "metadata": {},
   "source": [
    "### 3.3 The numpy arrays `ndarray`\n",
    "A very useful data structure is the `ndarray` from [NumPy](https://numpy.org/). It is usually very fast and allows you to manipulate arrays of $n$ dimensions (hence the name).\n",
    "\n",
    "`ndarray` are complex data structures and we will not go in depth into what you can do with them here, we will only look at what we need along the class.\n",
    "> _**To go a little bit further (not required):**_\n",
    ">\n",
    "> You can find more information about `ndarray`s [there](https://numpy.org/doc/stable/reference/arrays.ndarray.html)\n",
    ">\n",
    "> If you want to learn interactively about `ndarray`s, you can check out the [following exercices](https://www.machinelearningplus.com/python/101-numpy-exercises-python/).\n",
    "\n",
    "Note that the previous exercices are not required but they could be very useful for the following classes.\n",
    "\n",
    "To use `ndarray`s, it is necessary to load the NumPy library (and therefore for it to be installed): "
   ]
  },
  {
   "cell_type": "code",
   "execution_count": 83,
   "id": "dabd3e12",
   "metadata": {},
   "outputs": [],
   "source": [
    "import numpy as np"
   ]
  },
  {
   "cell_type": "markdown",
   "id": "6a6b045b",
   "metadata": {},
   "source": [
    "Then, one can create a `ndarray` the following ways (note that many other ways exist):"
   ]
  },
  {
   "cell_type": "code",
   "execution_count": 87,
   "id": "938d2b3f",
   "metadata": {},
   "outputs": [
    {
     "name": "stdout",
     "output_type": "stream",
     "text": [
      "arr1 -->\n",
      "[[1 2 3]\n",
      " [2 3 4]]\n",
      "arr2 -->\n",
      "[[0. 0. 0. 0.]\n",
      " [0. 0. 0. 0.]\n",
      " [0. 0. 0. 0.]\n",
      " [0. 0. 0. 0.]]\n",
      "arr3 -->\n",
      "[0 1 2 3 4 5 6 7 8 9]\n"
     ]
    }
   ],
   "source": [
    "arr1 = np.array([[1, 2, 3], [2, 3, 4]]) # Create an array from a list\n",
    "arr2 = np.zeros((4, 4))                 # Create an array filled with 0s of size 4x4\n",
    "arr3 = np.arange(10)                    # Create a 1d array with values from 0 to 9\n",
    "print(f'arr1 -->\\n{arr1}')\n",
    "print(f'arr2 -->\\n{arr2}')\n",
    "print(f'arr3 -->\\n{arr3}')"
   ]
  },
  {
   "cell_type": "markdown",
   "id": "1dc08469",
   "metadata": {},
   "source": [
    "`ndarray`s are useful because many operations can be performed on them in a direct way.\n",
    "\n",
    "The same access operations and slicing as the ones for the `list` exists for the `ndarray`.\n",
    "\n",
    "But on top of that, one can add a scalar to all the values in the array with the `+` operator."
   ]
  },
  {
   "cell_type": "code",
   "execution_count": 93,
   "id": "5ef80011",
   "metadata": {},
   "outputs": [
    {
     "name": "stdout",
     "output_type": "stream",
     "text": [
      "arr1 -->\n",
      "[[ 0  1  2  3]\n",
      " [ 4  5  6  7]\n",
      " [ 8  9 10 11]\n",
      " [12 13 14 15]]\n",
      "arr1 -->\n",
      "[[ 2  3  4  5]\n",
      " [ 6  7  8  9]\n",
      " [10 11 12 13]\n",
      " [14 15 16 17]]\n"
     ]
    }
   ],
   "source": [
    "arr1 = np.arange(16).reshape(4, 4)\n",
    "print(f'arr1 -->\\n{arr1}')\n",
    "arr1 = arr1 + 2\n",
    "print(f'arr1 -->\\n{arr1}')"
   ]
  },
  {
   "cell_type": "markdown",
   "id": "230990c8",
   "metadata": {},
   "source": [
    "Similar operations exist for the substraction, multiplication or division or exponent (`**` in Python):"
   ]
  },
  {
   "cell_type": "code",
   "execution_count": 96,
   "id": "bd044d86",
   "metadata": {},
   "outputs": [
    {
     "name": "stdout",
     "output_type": "stream",
     "text": [
      "arr1 -->\n",
      "[[ 0  1  2  3]\n",
      " [ 4  5  6  7]\n",
      " [ 8  9 10 11]\n",
      " [12 13 14 15]]\n",
      "arr1 -->\n",
      "[[ 0  2  4  6]\n",
      " [ 8 10 12 14]\n",
      " [16 18 20 22]\n",
      " [24 26 28 30]]\n",
      "arr1 -->\n",
      "[[  0   4  16  36]\n",
      " [ 64 100 144 196]\n",
      " [256 324 400 484]\n",
      " [576 676 784 900]]\n"
     ]
    }
   ],
   "source": [
    "arr1 = np.arange(16).reshape(4, 4)\n",
    "print(f'arr1 -->\\n{arr1}')\n",
    "arr1 = arr1 * 2\n",
    "print(f'arr1 -->\\n{arr1}')\n",
    "arr1 = arr1 ** 2\n",
    "print(f'arr1 -->\\n{arr1}')"
   ]
  },
  {
   "cell_type": "markdown",
   "id": "38c5af9e",
   "metadata": {},
   "source": [
    "Operations between arrays are also possible.\n",
    "\n",
    "The `*` will multiply all term of an array to there corresponding terms (note that it means that the two arrays need to be of the same size):"
   ]
  },
  {
   "cell_type": "code",
   "execution_count": 99,
   "id": "369b7ead",
   "metadata": {},
   "outputs": [
    {
     "name": "stdout",
     "output_type": "stream",
     "text": [
      "arr1 -->\n",
      "[[ 0  1  2  3]\n",
      " [ 4  5  6  7]\n",
      " [ 8  9 10 11]\n",
      " [12 13 14 15]]\n",
      "arr2 -->\n",
      "[[16 17 18 19]\n",
      " [20 21 22 23]\n",
      " [24 25 26 27]\n",
      " [28 29 30 31]]\n",
      "arr3 -->\n",
      "[[  0  17  36  57]\n",
      " [ 80 105 132 161]\n",
      " [192 225 260 297]\n",
      " [336 377 420 465]]\n"
     ]
    }
   ],
   "source": [
    "arr1 = np.arange(16).reshape(4, 4)\n",
    "arr2 = np.arange(16, 32).reshape(4, 4)\n",
    "arr3 = arr1 * arr2\n",
    "print(f'arr1 -->\\n{arr1}')\n",
    "print(f'arr2 -->\\n{arr2}')\n",
    "print(f'arr3 -->\\n{arr3}')"
   ]
  },
  {
   "cell_type": "markdown",
   "id": "46cf07d7",
   "metadata": {},
   "source": [
    "The matrix multiplication operator is the following: `@`.\n",
    "\n",
    "Note: Again, when performing matrix multiplication, one has to remember that the matrix dimensions have to be matching"
   ]
  },
  {
   "cell_type": "code",
   "execution_count": 113,
   "id": "98415890",
   "metadata": {},
   "outputs": [
    {
     "name": "stdout",
     "output_type": "stream",
     "text": [
      "arr1 -->\n",
      "[[0 1 2 3]\n",
      " [4 5 6 7]]\n",
      "arr2 -->\n",
      "[[0 1]\n",
      " [2 3]\n",
      " [4 5]\n",
      " [6 7]]\n",
      "arr3 -->\n",
      "[[28 34]\n",
      " [76 98]]\n"
     ]
    }
   ],
   "source": [
    "arr1 = np.arange(8).reshape(2, 4)\n",
    "arr2 = np.arange(8).reshape(4, 2)\n",
    "arr3 = arr1 @ arr2\n",
    "arr4 = arr2 @ arr1\n",
    "print(f'arr1 -->\\n{arr1}')\n",
    "print(f'arr2 -->\\n{arr2}')\n",
    "print(f'arr3 -->\\n{arr3}')"
   ]
  },
  {
   "cell_type": "markdown",
   "id": "33784cd0",
   "metadata": {},
   "source": [
    "A lot of operations on `ndarray`s are available, for example computing the derterminant (`np.linalg.det`) of a matrix or inversing (`np.linalg.inv`) it:"
   ]
  },
  {
   "cell_type": "code",
   "execution_count": 136,
   "id": "4e153b10",
   "metadata": {},
   "outputs": [
    {
     "name": "stdout",
     "output_type": "stream",
     "text": [
      "arr1 -->\n",
      "[[ 6  1  1  3]\n",
      " [ 4 -2  5  1]\n",
      " [ 2  8  7  6]\n",
      " [ 3  1  9  7]]\n",
      "\n",
      "arr1 determinant -->\n",
      "-1308.9999999999993\n",
      "\n",
      "arr1_inv -->\n",
      "[[ 0.13368984  0.10695187  0.02139037 -0.09090909]\n",
      " [-0.00229183  0.02673797  0.14820474 -0.12987013]\n",
      " [-0.12987013  0.18181818  0.06493506 -0.02597403]\n",
      " [ 0.11000764 -0.28342246 -0.11382735  0.23376623]]\n",
      "\n",
      "arr1 . arr1_inv -->\n",
      "[[ 1.  0.  0.  0.]\n",
      " [ 0.  1.  0.  0.]\n",
      " [ 0. -0.  1.  0.]\n",
      " [ 0.  0.  0.  1.]]\n",
      "\n"
     ]
    }
   ],
   "source": [
    "arr1 = np.array([[6, 1, 1, 3],\n",
    "                 [4, -2, 5, 1],\n",
    "                 [2, 8, 7, 6],\n",
    "                 [3, 1, 9, 7]])\n",
    "print(f'arr1 -->\\n{arr1}\\n')\n",
    "det = np.linalg.det(arr1)\n",
    "arr1_inv = np.linalg.inv(arr1)\n",
    "print(f'arr1 determinant -->\\n{det}\\n')\n",
    "print(f'arr1_inv -->\\n{arr1_inv}\\n')\n",
    "print(f'arr1 . arr1_inv -->\\n{np.round(arr1 @ arr1_inv)}\\n')"
   ]
  },
  {
   "cell_type": "markdown",
   "id": "e34b0d59",
   "metadata": {},
   "source": [
    "## 3. Conditional statements\n",
    "Another important part of coding are the conditional statements.\n",
    "\n",
    "Conditional statements allow you to perform a given set of instruction(s) if a statement is true.\n",
    "\n",
    "If necessary, it is possible to run a different set of instructions when the statement is false.\n",
    "\n",
    "More information about conditional statements can be found [there](https://docs.python.org/3/tutorial/datastructures.html#more-on-conditions) for example\n",
    "\n",
    "This is usually called an `if`/`else` statement:"
   ]
  },
  {
   "cell_type": "code",
   "execution_count": 137,
   "id": "6c05db76",
   "metadata": {},
   "outputs": [
    {
     "name": "stdout",
     "output_type": "stream",
     "text": [
      "the number is equal to 2\n"
     ]
    }
   ],
   "source": [
    "a_number = 2 # by changing this number, you'll change what will be printed\n",
    "if a_number == 2:\n",
    "    print('the number is equal to 2')\n",
    "else:\n",
    "    print('the number is not equal to 2')"
   ]
  },
  {
   "cell_type": "markdown",
   "id": "ae1e8dea",
   "metadata": {},
   "source": [
    "If multiple conditions need to be checked, the `elif` statement can be used:"
   ]
  },
  {
   "cell_type": "code",
   "execution_count": 144,
   "id": "9c1fba1b",
   "metadata": {},
   "outputs": [
    {
     "name": "stdout",
     "output_type": "stream",
     "text": [
      "the number is stricly smaller than 2\n"
     ]
    }
   ],
   "source": [
    "a_number = 1 # by changing this number, you'll change what will be printed\n",
    "if a_number < 2:\n",
    "    print('the number is stricly smaller than 2')\n",
    "elif a_number == 2:\n",
    "    print('the number is equal to 2')\n",
    "elif 2 < a_number < 10:\n",
    "    print('the number is strictly between 2 and 10')\n",
    "else:\n",
    "    print('the number is larger or equal to 10')"
   ]
  },
  {
   "cell_type": "markdown",
   "id": "96e7b715",
   "metadata": {},
   "source": [
    "> _**To go a little bit further (not required):**_\n",
    ">\n",
    "> `if`/`else` statements can be used within a line of code to assign values for example:"
   ]
  },
  {
   "cell_type": "code",
   "execution_count": 154,
   "id": "96e10602",
   "metadata": {},
   "outputs": [
    {
     "name": "stdout",
     "output_type": "stream",
     "text": [
      "a_number --> Strictly smaller than 10\n"
     ]
    }
   ],
   "source": [
    "previous_number = 8 # By changing this value you can change the value of a_number\n",
    "a_number = 1 if 10 <= previous_number else 'Strictly smaller than 10'\n",
    "print(f'a_number --> {a_number}')\n",
    "\n",
    "# The previous line is equivalent to the following ones:\n",
    "if 10 < previous_number:\n",
    "    a_number = 1\n",
    "else:\n",
    "    a_number = 2"
   ]
  },
  {
   "cell_type": "markdown",
   "id": "679454bd",
   "metadata": {},
   "source": [
    "## 4. Loops\n",
    "Loops are the core of coding! They are the reason why computers are so fast!\n",
    "\n",
    "In Python two types of loops exist the `for` loop and the `while` loop. The difference between the two kinds of loops can be minimum but basically you can always make one with the other though making some `while` loops using `for` loops is sometimes a bit convoluted.\n",
    "\n",
    "Basically, a `for` loop is when you are iterating over a predefined set of objects or when you know the number of loops you want to do (which might not be a fixed number). The `while` loop on the other hand is used when the end of a loop is conditioned.\n",
    "\n",
    "The syntax for a `for` loop is the following:\n",
    "```python\n",
    "for iterator in iteration_\n",
    "```"
   ]
  },
  {
   "cell_type": "markdown",
   "id": "f90ed2d7",
   "metadata": {},
   "source": [
    "# Turing patterns\n",
    "You can find here a simple, naive implementation of the Turing patterns.\n",
    "\n",
    "There are few cosmetic deviations from a normal implementation (especially the variable dt).\n",
    "\n",
    "For info: [@guignardlab](https://twitter.com/guignardlab)"
   ]
  },
  {
   "cell_type": "code",
   "execution_count": null,
   "id": "3ba1fa59",
   "metadata": {},
   "outputs": [],
   "source": [
    "import numpy as np\n",
    "from colorsys import rgb_to_hsv, hsv_to_rgb\n",
    "from matplotlib import pyplot as plt\n",
    "from matplotlib import animation, rc\n",
    "from matplotlib.colors import LinearSegmentedColormap\n",
    "from IPython.display import HTML\n",
    "from scipy.signal import convolve2d\n",
    "from scipy.stats import logistic\n",
    "%matplotlib inline\n",
    "\n",
    "## CenTuri \"colormap\"\n",
    "RGB = np.array([0, 137, 179])/255\n",
    "HSV = rgb_to_hsv(*RGB)\n",
    "colors = [hsv_to_rgb(HSV[0], 0, HSV[1]), hsv_to_rgb(HSV[0], 1, HSV[1])]\n",
    "cmap = LinearSegmentedColormap.from_list(\"CenTuri_cmap\", colors)\n",
    "\n",
    "# Useful functions\n",
    "def norm_array(array, mask, th=None, func=None):\n",
    "    \"\"\"\n",
    "    Normalizing an array between 0 and 1\n",
    "    \n",
    "    Parameters\n",
    "    ----------\n",
    "    array : ndarray of shape 2 or 3\n",
    "        The array to be normalize. If the shape of the\n",
    "        array is 3, each 2D arrays will be normalized\n",
    "        independently along the axis 0\n",
    "    mask : ndarray of with the same shape of array\n",
    "        Puts to 0 values that are outside of the mask\n",
    "    th : float\n",
    "        any value bellow the threshold are put to 0\n",
    "    func : function\n",
    "        a function that will be applied to the normalized\n",
    "        array if th is None\n",
    "    Returns\n",
    "    -------\n",
    "    out : ndarray\n",
    "        The normalized array\n",
    "    \"\"\"\n",
    "    if len(array.shape)==2:\n",
    "        vals_to_norm = array[mask!=0]\n",
    "        out = (array-vals_to_norm.min())/(vals_to_norm.max() - vals_to_norm.min())\n",
    "        out[mask==0] = 0\n",
    "    else:\n",
    "        vals_to_norm = array[mask!=0]\n",
    "        out = (array-vals_to_norm.min(axis=0))/(vals_to_norm.max(axis=0) - vals_to_norm.min(axis=0))\n",
    "        out[mask==0] = 0\n",
    "    if th:\n",
    "        out[out<th] = 0\n",
    "    elif func:\n",
    "        out = func(out)\n",
    "    return out\n",
    "\n",
    "def outer_circle(XY, centre, r):\n",
    "    \"\"\"\n",
    "    From an np.mgrid `XY`, builds a mask that is True within\n",
    "    the circle centered in `centre` and of radius `r`\n",
    "\n",
    "    Parameters\n",
    "    ----------\n",
    "    XY : 2D mgrid\n",
    "        The support of the mask\n",
    "    centre: tuple of floats\n",
    "        The coordinates of the centre of circle\n",
    "    r: float\n",
    "        Radius of the circle\n",
    "    \n",
    "    Returns\n",
    "    -------\n",
    "    out : ndarray of the same shape of XY\n",
    "        The mask\n",
    "    \"\"\"\n",
    "    return (XY[0]-centre[0])**2 + (XY[1]-centre[1])**2 < r**2"
   ]
  },
  {
   "cell_type": "markdown",
   "id": "18f79461",
   "metadata": {},
   "source": [
    "We have an activator $A$ and an inhibitor $I$ which interact as follow:\n",
    "\n",
    "$A \\rightarrow A$\n",
    "\n",
    "$A \\rightarrow I$\n",
    "\n",
    "$I \\dashv A$\n",
    "\n",
    "Resulting in the following equations:\n",
    "\n",
    "$\\frac{\\delta A}{\\delta t} = k_{AA} A - k_{IA} I$\n",
    "\n",
    "$\\frac{\\delta I}{\\delta t} = k_{AI} A - k_{II} I$"
   ]
  },
  {
   "cell_type": "code",
   "execution_count": null,
   "id": "383b0160",
   "metadata": {},
   "outputs": [],
   "source": [
    "# Functions for the evolution of A and I\n",
    "dA_dt = lambda AI: (kAA * AI[0] - kIA * AI[1])\n",
    "dI_dt = lambda AI: (kAI * AI[0] - kII * AI[1])\n",
    "\n",
    "def dAI_dt(AI):\n",
    "    return dA_dt(AI), dI_dt(AI)"
   ]
  },
  {
   "cell_type": "markdown",
   "id": "b071d90c",
   "metadata": {},
   "source": [
    "The antagonist (resp. inhibitor) diffuses according to a diffusion coefficient $\\mu$ (resp. $\\nu$) to the 4 neighboring cells. The diffusion is modeled as follow:\n",
    "\n",
    "$\\frac{\\delta A_{x, y}}{\\delta x \\delta y} = \\mu(A_{x+\\delta x, y} + A_{x-\\delta x, y} + A_{x, y+\\delta y} + A_{x, y-\\delta y} - 4A_{x, y})$\n",
    "\n",
    "$\\frac{\\delta I_{x, y}}{\\delta x \\delta y} = \\nu(I_{x+\\delta x, y} + I_{x-\\delta x, y} + I_{x, y+\\delta y} + I_{x, y-\\delta y} - 4I_{x, y})$"
   ]
  },
  {
   "cell_type": "code",
   "execution_count": null,
   "id": "57321a31",
   "metadata": {},
   "outputs": [],
   "source": [
    "def diffusion(array, weights):\n",
    "    \"\"\"\n",
    "    Computes the diffusion in 2D given a set of weights.\n",
    "    The weights are useful for the average at the borders\n",
    "    of the region considered.\n",
    "    If this is the region considered:\n",
    "    [[ 0 0 0 0 0 0 ]\n",
    "     [ 0 0 1 1 0 0 ]\n",
    "     [ 0 1 1 1 1 0 ]\n",
    "     [ 0 1 1 1 1 0 ]\n",
    "     [ 0 0 1 1 0 0 ]\n",
    "     [ 0 0 0 0 0 0 ]]\n",
    "    the weights should be the number of neighbors\n",
    "    within the mask:\n",
    "    [[ 0 0 0 0 0 0 ]\n",
    "     [ 0 0 2 2 0 0 ]\n",
    "     [ 0 2 4 4 2 0 ]\n",
    "     [ 0 2 4 4 2 0 ]\n",
    "     [ 0 0 2 2 0 0 ]\n",
    "     [ 0 0 0 0 0 0 ]]\n",
    "    this can be obtained by convolving\n",
    "    the mask with the following kernel:\n",
    "    [[ 0 1 0 ]\n",
    "     [ 1 0 1 ]\n",
    "     [ 0 1 0 ]]\n",
    "    \n",
    "    Parameters\n",
    "    ----------\n",
    "    array : ndarray of floats shape NxM\n",
    "        The array with the initial concentrations\n",
    "    weights : ndarray of floats of shape NxM\n",
    "        The weights for the diffusion\n",
    "    \n",
    "    Returns\n",
    "    -------\n",
    "    out : ndarray of shape NxM\n",
    "        the initial array after diffusion\n",
    "        (without taking into account the\n",
    "        diffusion coefficients)\n",
    "    \"\"\"\n",
    "    kernel = [[0, 1, 0],\n",
    "              [1, 0, 1],\n",
    "              [0, 1, 0]]\n",
    "    out = convolve2d(array, kernel, boundary='symm', mode='same')\n",
    "    out -= array * weights\n",
    "    return out"
   ]
  },
  {
   "cell_type": "markdown",
   "id": "aaae76bc",
   "metadata": {},
   "source": [
    "Then we combine the activation/inhibition and diffusion and we get:\n",
    "\n",
    "$\\frac{\\delta A_{x, y}}{\\delta t\\delta x \\delta y} = k_{f} A - k_{r} I + \\mu(A_{x+\\delta x, y} + A_{x-\\delta x, y} + A_{x, y+\\delta y} + A_{x, y-\\delta y} - 4A_{x, y})$\n",
    "\n",
    "$\\frac{\\delta I_{x, y}}{\\delta t\\delta x \\delta y} = k_{e} A - k_{d} I + \\nu(I_{x+\\delta x, y} + I_{x-\\delta x, y} + I_{x, y+\\delta y} + I_{x, y-\\delta y} - 4I_{x, y})$"
   ]
  },
  {
   "cell_type": "code",
   "execution_count": null,
   "id": "414d6c8d",
   "metadata": {},
   "outputs": [],
   "source": [
    "def dAI_dtxy(A, I, dt, dx, dy, mu, nu, weights):\n",
    "    \"\"\"\n",
    "    Integrating activation, inhibition and diffusion\n",
    "    \n",
    "    Parameters\n",
    "    ----------\n",
    "    A : ndarray of floats of shape NxM\n",
    "        The array containing the initial\n",
    "        concentration of activators\n",
    "    I : ndarray of floats of shape NxM\n",
    "        The array containing the initial\n",
    "        concentration of inhibitors\n",
    "    dt : float\n",
    "        time increment\n",
    "    dx : float\n",
    "        size of a pixel in `A` and `I` in µm\n",
    "        along the `x` dimension\n",
    "    dy : float\n",
    "        size of a pixel in `A` and `I` in µm\n",
    "        along the `y` dimension\n",
    "    mu : float\n",
    "        diffusion coefficient for the activator\n",
    "    nu : float\n",
    "        diffusion coefficient for the inhibitor\n",
    "    weights : ndarray of shape NxM\n",
    "        weights for the diffusion average related\n",
    "        to the mask considered\n",
    "    \n",
    "    Returns\n",
    "    -------\n",
    "    A : ndarray of floats of shape NxM\n",
    "        The array containing the new\n",
    "        concentration of activators after\n",
    "        a time dt\n",
    "    I : ndarray of floats of shape NxM\n",
    "        The array containing the new\n",
    "        concentration of inhibitors after\n",
    "        a time dt\n",
    "    \"\"\"\n",
    "    diffusion_A = diffusion(A, weights)/(dx*dy)\n",
    "    diffusion_I = diffusion(I, weights)/(dx*dy)\n",
    "    new_A = A + dt*(dA_dt([A, I]) + mu*diffusion_A)\n",
    "    new_I = I + dt*(dI_dt([A, I]) + nu*diffusion_I)\n",
    "    A = new_A\n",
    "    I = new_I\n",
    "    A[mask==0] = 0\n",
    "    I[mask==0] = 0\n",
    "    return A, I"
   ]
  },
  {
   "cell_type": "markdown",
   "id": "c9c94453",
   "metadata": {},
   "source": [
    "Carefully chosen parameters, thanks to [Alice Gros](https://twitter.com/_AliceGros) in [@Equipe_lenne](https://twitter.com/Equipe_lenne)"
   ]
  },
  {
   "cell_type": "code",
   "execution_count": null,
   "id": "4076dabb",
   "metadata": {},
   "outputs": [],
   "source": [
    "kAA, kIA, kAI, kII = 10, 12, 31, 20\n",
    "mu = 0.001\n",
    "nu = 0.025\n",
    "\n",
    "# voxel size in the x and y dimensions\n",
    "dx = dy = 0.02\n",
    "\n",
    "# step size of time in seconds\n",
    "dt = 0.000001\n",
    "# because the timestep has to be smaller\n",
    "# at the begining we use a variable dt\n",
    "dt_final = 0.001\n",
    "variable_dt = np.linspace(dt, dt_final, n)\n",
    "\n",
    "# Number of iterations\n",
    "n = 20000\n",
    "# Number of timepoints to save\n",
    "nb_times_im = 200"
   ]
  },
  {
   "cell_type": "markdown",
   "id": "77662562",
   "metadata": {},
   "source": [
    "Random initialisation of the circle\n",
    "\n",
    "Computation of the weight mask\n",
    "\n",
    "Initialisation of the final array which will contain our data"
   ]
  },
  {
   "cell_type": "code",
   "execution_count": null,
   "id": "b579d29c",
   "metadata": {},
   "outputs": [],
   "source": [
    "# size of the grid onto which the model is run\n",
    "grid_size = 100\n",
    "# centre and radius of the circle onto wich\n",
    "# the model is run\n",
    "circle_center = [49, 49]\n",
    "radius = 45\n",
    "\n",
    "# randomizing the initial state\n",
    "# change the seed from 1 to any other value\n",
    "# to observe different results\n",
    "generator = np.random.default_rng(1)\n",
    "init_A = generator.uniform(size=(grid_size, grid_size))\n",
    "init_I = generator.uniform(size=(grid_size, grid_size))\n",
    "\n",
    "# building the mask to get a circle\n",
    "# together with the weights related\n",
    "# to this specific mask.\n",
    "mask = (outer_circle(np.mgrid[:grid_size, :grid_size], circle_center, r=radius)).astype(np.uint8)\n",
    "kernel = [[0, 1, 0],\n",
    "          [1, 0, 1],\n",
    "          [0, 1, 0]]\n",
    "weights = convolve2d(mask, kernel, boundary='symm', mode='same')\n",
    "\n",
    "# Masking the initial position and\n",
    "# copying it for safety\n",
    "init_A[mask==0] = 0\n",
    "init_I[mask==0] = 0\n",
    "A = init_A.copy()\n",
    "I = init_I.copy()\n",
    "\n",
    "# ndarray in which will be stored the results\n",
    "final_A = np.zeros(A.shape + (nb_times_im+1,))"
   ]
  },
  {
   "cell_type": "markdown",
   "id": "e8085dbd",
   "metadata": {},
   "source": [
    "Running the simulation"
   ]
  },
  {
   "cell_type": "code",
   "execution_count": null,
   "id": "04bbff79",
   "metadata": {},
   "outputs": [],
   "source": [
    "for i in range(n):\n",
    "    if variable_dt is not None:\n",
    "        dt = variable_dt[i]\n",
    "    if i%(n//nb_times_im)==0:\n",
    "        final_A[...,int(i//(n/nb_times_im))] = A\n",
    "    A, I = dAI_dtxy(A, I, dt, dx, dx, mu, nu, weights)\n",
    "    \n",
    "final_A[...,-1] = A"
   ]
  },
  {
   "cell_type": "code",
   "execution_count": null,
   "id": "5f82ed16",
   "metadata": {},
   "outputs": [],
   "source": [
    "# Normalizing the final array using a logistic function\n",
    "# centered in 0.5 to have values between 0 and 1 but\n",
    "# a sharper slope between low and high expression\n",
    "normed_array = norm_array(final_A, mask, func=lambda x:logistic.cdf(x, .5, .05))"
   ]
  },
  {
   "cell_type": "markdown",
   "id": "fb35c99e",
   "metadata": {},
   "source": [
    "Plotting the results"
   ]
  },
  {
   "cell_type": "code",
   "execution_count": null,
   "id": "4ceb4d50",
   "metadata": {},
   "outputs": [],
   "source": [
    "fig, ax = plt.subplots(figsize=(10,10))\n",
    "ax.axis('off')\n",
    "im = ax.imshow(init_A, cmap=cmap)\n",
    "fig.tight_layout()\n",
    "\n",
    "def init():\n",
    "    im.set_data(init_A)\n",
    "    return(im,)\n",
    "\n",
    "def animate(i):\n",
    "    im.set_data(normed_array[...,i])\n",
    "    return(im,)\n",
    "\n",
    "anim = animation.FuncAnimation(fig, animate, init_func=init,\n",
    "                               frames=nb_times_im, interval=25, \n",
    "                               blit=True)\n",
    "\n",
    "HTML(anim.to_jshtml())"
   ]
  },
  {
   "cell_type": "code",
   "execution_count": null,
   "id": "e767bdb4",
   "metadata": {},
   "outputs": [],
   "source": [
    "anim.save('turing.gif', dpi=50)"
   ]
  }
 ],
 "metadata": {
  "kernelspec": {
   "display_name": "Python 3 (ipykernel)",
   "language": "python",
   "name": "python3"
  },
  "language_info": {
   "codemirror_mode": {
    "name": "ipython",
    "version": 3
   },
   "file_extension": ".py",
   "mimetype": "text/x-python",
   "name": "python",
   "nbconvert_exporter": "python",
   "pygments_lexer": "ipython3",
   "version": "3.9.7"
  }
 },
 "nbformat": 4,
 "nbformat_minor": 5
}
