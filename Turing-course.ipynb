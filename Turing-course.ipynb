{
 "cells": [
  {
   "cell_type": "markdown",
   "id": "45fc64df",
   "metadata": {},
   "source": [
    "# Introduction to Python using Turing patterns"
   ]
  },
  {
   "cell_type": "markdown",
   "id": "c0deffdb",
   "metadata": {},
   "source": [
    "## 1. Introduction\n",
    "---\n",
    "**First of, within this course [this page](https://docs.python.org/3/tutorial/index.html) will be mentioned a lot. It is a really good (maybe a bit crude) source for information and it is the official Python page so it should also be quite accurate.**\n",
    "\n",
    "**Moreover, if you would like to read more about python, you can find a good list of books about Python [there](https://wiki.python.org/moin/PythonBooks) (not all of them are free).**\n",
    "\n",
    "**Here are two free online books that could be worth reading to go further:**\n",
    "- **[IPython Cookbook, Second Edition (2018)](https://ipython-books.github.io/) In depth book about python. While the book is of general interest and definitely worth reading, [that](https://ipython-books.github.io/124-simulating-a-partial-differential-equation-reaction-diffusion-systems-and-turing-patterns/) part was especially helpful for this course**\n",
    "- **[From Python to Numpy](https://www.labri.fr/perso/nrougier/from-python-to-numpy/) Especially useful when wanting to use Numpy, which you should!**\n",
    "\n",
    "### 1.1 Goal of this course\n",
    "This course aim at teaching the basics of coding using reaction diffusion simulations as a support, more specifically the Turing patterns.\n",
    "The mathematics or the biology behind the Turing patterns is not necessary but it might help to understand better what is happening behind the hood.\n",
    "\n",
    "At the end of the course, we would like you to be able to write small pieces of code to do basic data analysis.\n",
    "No computation level is required though it is good to keep in mind that at the time being, this notebook alone might not be enough: the teachers are still necessary (unfortunately?) to introduce the concepts and to help answering the potential questions.\n",
    "\n",
    "### 1.2 Turing patterns\n",
    "Now about Turing patterns, they were introduced by Alan Turing in the article [The Chemical Basis of Morphogenesis](https://www.dna.caltech.edu/courses/cs191/paperscs191/turing.pdf).\n",
    "They will not been much discussed here but fill free to ask questions or to look over [there](https://en.wikipedia.org/wiki/Reaction%E2%80%93diffusion_system) for more information.\n",
    "\n",
    "What is important to keep in mind is that a Turing pattern is the result of the interaction between an activator and its inhibitor and their co-diffusion across a set of cells.\n",
    "\n",
    "It is this interaction and diffusion that we will model in this course. We will also learn how to represent these patterns.\n",
    "\n",
    "A little bit of knowledge about how to model these interactions is necessary to better understand the remaining of the course.\n",
    "First, we will be talking about an activator that will name $A$ and an inhibitor that will name $I$. Their concentration values will be refered to as $a$ and $i$ respectively.\n",
    "\n",
    "The gene regulation network that we are considering here is the simple one where $A$ auto-activates and activates $I$ and $I$ inhibits $A$:\n",
    "\n",
    "<img src=\"Images/GRN.png\" alt=\"Gene Regulation Network\" width=\"200\"/>\n",
    "\n",
    "> _**To go a little bit further (not required):**_\n",
    "> \n",
    "> From this network, we can extrat the interaction between activator $A$ and an inhibitor $I$ as follow:\n",
    "> \n",
    "> $A \\rightarrow A$ ($A$ is auto activated)\n",
    "> \n",
    "> $A \\rightarrow I$ ($A$ activates $I$)\n",
    "> \n",
    "> $I \\dashv A$ ($I$ inhibits $A$)\n",
    "> \n",
    "> These interactions can be modeled multiple ways.\n",
    "> We decided here to use the [FitzHugh–Nagumo model](https://en.wikipedia.org/wiki/FitzHugh%E2%80%93Nagumo_model) (for no particular reason) resulting in the following equations:\n",
    "> \n",
    "> $\\frac{\\delta a}{\\delta t} = d_a\\Delta a + a - a^3 - i + k$ [1]\n",
    "> \n",
    "> $\\tau \\frac{\\delta i}{\\delta t} = d_i\\Delta i + a - i$ [2]\n",
    "> \n",
    "> These are partial differential equations that represent the change of concentration of $A$ ($\\delta a$) or $I$ ($\\delta i$) in time.\n",
    ">\n",
    "> In equation [1], $\\Delta a$ is the potential diffusion $A$ and $d_a$ is the diffusion coefficient.\n",
    "> $+ a$ is the auto-activation of $A$, $-a^3$ is the degradation, $-i$ is the inhibition from $I$ and $k$ is a constant to determine whether $A$ acts as a source ($0<k$), a sink ($k<0$) or is neutral.\n",
    ">\n",
    "> In equation [2], $\\Delta i$ is the potential diffusion of $I$ and $d_i$ is the diffusion coefficient.\n",
    "> $+a$ is the activation from $A$, $-i$ is the degradation and $\\tau$ allows to modulate the amplitude of change of concentration of $I$ compared to the one of the activator $A$.\n",
    "\n",
    "It is important to know that to model the previous network it is necessary to decide on some values, the parameters of the model:\n",
    "- the diffusion coefficients $d_a$ and $d_i$ (refered to as `d_a` and `d_i` in the code)\n",
    "- the constant $\\tau$ (refered to as `tau`)\n",
    "- the constant $k$ (refered to as `k`)\n",
    "\n",
    "Because we will solve the differential equations numerically (as opposed to analytically) using simple numerical models, we will fix the value of $\\delta t$. Therefore:\n",
    "- $\\delta t$ is a parameter (refered to as `dt`)\n",
    "\n",
    "Moreover other values are necessary for the computation also need to be decided:\n",
    "- the size of the grid we will be working on (`size`)\n",
    "- the distance between two cells (ie the space step: `dx` and `dy`)\n",
    "- the total time of the simulation (`T`)\n",
    "- the number of iterations (`n`, which is determined by the ratio of `T` over `dt`)"
   ]
  },
  {
   "cell_type": "markdown",
   "id": "f2eda5a7",
   "metadata": {},
   "source": [
    "## 2. Variables\n",
    "---\n",
    "Variables are symbolic names where information or values can be stored.\n",
    "\n",
    "They are the cornerstone of coding, they allow to store in memory values and to access them later on. In our example the variables have been decribed earlier (`d_a`, `tau`, `size`, ...)\n",
    "\n",
    "To assign an information to a variable, the `=` operator is used.\n",
    "\n",
    "> ⚠️ be careful, `=` is the assignment operator. To check the equality between two variables, the required operator is `==` ⚠️\n",
    "\n",
    "For example after the following line of code is ran:"
   ]
  },
  {
   "cell_type": "code",
   "execution_count": 1,
   "id": "831989c5",
   "metadata": {},
   "outputs": [],
   "source": [
    "a_number = 0\n",
    "a_number = 10\n",
    "another_number = 1"
   ]
  },
  {
   "cell_type": "markdown",
   "id": "68e9198d",
   "metadata": {},
   "source": [
    "The variable `a_number` used to contain the value `0` and now contains the value `10`.\n",
    "\n",
    "The variable `another_number` contains the values `1`.\n",
    "\n",
    "It is possible to display what is contained in a variable using the fuction `print` for example:"
   ]
  },
  {
   "cell_type": "code",
   "execution_count": 2,
   "id": "e31c1885",
   "metadata": {},
   "outputs": [
    {
     "name": "stdout",
     "output_type": "stream",
     "text": [
      "a_number --> 10\n"
     ]
    }
   ],
   "source": [
    "print(f'a_number --> {a_number}')"
   ]
  },
  {
   "cell_type": "markdown",
   "id": "2baf5349",
   "metadata": {},
   "source": [
    "The content of a variable can be stored in another variable and then changed without altering it:"
   ]
  },
  {
   "cell_type": "code",
   "execution_count": 3,
   "id": "fb6fb574",
   "metadata": {},
   "outputs": [
    {
     "name": "stdout",
     "output_type": "stream",
     "text": [
      "another_number --> 5\n",
      "a_number --> 1\n"
     ]
    }
   ],
   "source": [
    "a_number = 5\n",
    "another_number = a_number\n",
    "a_number = 1\n",
    "print(f'another_number --> {another_number}')\n",
    "print(f'a_number --> {a_number}')"
   ]
  },
  {
   "cell_type": "markdown",
   "id": "9fe69e0a",
   "metadata": {},
   "source": [
    "Variables can contain most (computational) things (especially in Python).\n",
    "For example they can contain different types of data such as `list`, `dictionary` or `ndarray` (we will see what they are right after)"
   ]
  },
  {
   "cell_type": "markdown",
   "id": "5b42be7b",
   "metadata": {},
   "source": [
    "### 2.1 Exercices:\n",
    "Before any exercice, import the `Correction` module which allows you to check out the correction of the exercices the following way:\n",
    "```python\n",
    "Correction(<exo_num>)\n",
    "```\n",
    "You can import the function as shown just bellow. It needs to be imported only once."
   ]
  },
  {
   "cell_type": "code",
   "execution_count": 4,
   "id": "61b43c36",
   "metadata": {},
   "outputs": [],
   "source": [
    "from Resources.Answers import answer"
   ]
  },
  {
   "cell_type": "markdown",
   "id": "357f2d7c",
   "metadata": {},
   "source": [
    "#### Exercice 1\n",
    "Set the value of the variables necessary for the model as follow:\n",
    "- a: 0.0002.8\n",
    "- b: 0.005\n",
    "- tau: 0.1\n",
    "- k: -0.005\n",
    "- size: 100 \n",
    "- dx: 2 divided by the size of the grid\n",
    "- T: 9\n",
    "- dt: 0.001\n",
    "- n: number of iterations which is the total time `T` divided by the time step `dt`"
   ]
  },
  {
   "cell_type": "code",
   "execution_count": 5,
   "id": "4e33ad64",
   "metadata": {},
   "outputs": [],
   "source": [
    "### Write the answer of the previous question here.\n",
    "# You can check the answer by running answer(1)"
   ]
  },
  {
   "cell_type": "markdown",
   "id": "b7a7be3b",
   "metadata": {},
   "source": [
    "#### Exercice 2\n",
    "Given a variable `nb1` and a variable `nb2`, put the values of each other variables in the other one\n",
    "\n",
    "(Note that we are using the library `random` to generate random numbers)"
   ]
  },
  {
   "cell_type": "code",
   "execution_count": 6,
   "id": "f12a5734",
   "metadata": {},
   "outputs": [
    {
     "name": "stdout",
     "output_type": "stream",
     "text": [
      "nb1 before: 4\n",
      "nb2 before: 8\n",
      "nb1 after: 4\n",
      "nb2 after: 8\n"
     ]
    }
   ],
   "source": [
    "from random import randint # To generate random numbers so you can't really cheat\n",
    "nb1 = randint(0, 5)\n",
    "nb2 = randint(6, 10)\n",
    "print(f'nb1 before: {nb1}')\n",
    "print(f'nb2 before: {nb2}')\n",
    "'''\n",
    "To do: swap a and b values\n",
    "'''\n",
    "print(f'nb1 after: {nb1}')\n",
    "print(f'nb2 after: {nb2}')"
   ]
  },
  {
   "cell_type": "markdown",
   "id": "12768ce3",
   "metadata": {},
   "source": [
    "## 3. Data structures\n",
    "---\n",
    "When coding, different type of data structures can be used. For example we already saw few types of data:\n",
    "- Integers (refered to as `int` in Python): `0`, `1`, `-10`, ...\n",
    "- Floating numbers (refered to as `float` in Python): `0.01`, `1.0`, `1.2e10`, ...\n",
    "- Strings (refered to as `str` in Python): `'Hello'`, `\"world\"`, `'12+34'`, ...\n",
    "\n",
    "But of course other data types exist:\n",
    "- Lists (`list`): `[1, 2, 3]`, `[1, None, 0.4]`, `[1, [1, 2], [3], ['Hello'], 'World']`, ...\n",
    "- Tuples (`tuple`): `(1, 2, 3)`, `(1, None, 0.4)`, ...\n",
    "- Dictionaries (`dict`): `{'a': 10, 3:[2, 3, 4], '5': -0.2}`, ..."
   ]
  },
  {
   "cell_type": "markdown",
   "id": "89e9381a",
   "metadata": {},
   "source": [
    "### 3.1 The lists: `list`\n",
    "As their name suggest a `list` allows to store a list of elements. These elements can then be accessed via their position, starting at `0`.\n",
    "\n",
    "There is a lot of possible operations on lists that can be found [there](https://docs.python.org/3/tutorial/datastructures.html#more-on-lists)\n",
    "\n",
    "The Python language is so that a `list` is surrounded by brackets:"
   ]
  },
  {
   "cell_type": "code",
   "execution_count": 7,
   "id": "661a5403",
   "metadata": {},
   "outputs": [
    {
     "name": "stdout",
     "output_type": "stream",
     "text": [
      "l1    --> [1, 2, 3, 4]\n",
      "positions: 0  1  2  3\n",
      "l1[0] --> 1\n",
      "l1[3] --> 4\n"
     ]
    }
   ],
   "source": [
    "l1 = [1, 2, 3, 4]\n",
    "print(f'l1    --> {l1}')\n",
    "print(f'positions: 0  1  2  3')\n",
    "print(f'l1[0] --> {l1[0]}')\n",
    "print(f'l1[3] --> {l1[3]}')"
   ]
  },
  {
   "cell_type": "markdown",
   "id": "51359cbd",
   "metadata": {},
   "source": [
    "It is also possible to access to the values in a list using negative numbers, `-1` being the last element, `-2` the one before last and so on and so forth:"
   ]
  },
  {
   "cell_type": "code",
   "execution_count": 8,
   "id": "3cbac8a2",
   "metadata": {},
   "outputs": [
    {
     "name": "stdout",
     "output_type": "stream",
     "text": [
      "l1     --> [1, 2, 3, 4]\n",
      "positions: -4 -3 -2 -1\n",
      "l1[-1] --> 4\n",
      "l1[-3] --> 2\n"
     ]
    }
   ],
   "source": [
    "print(f'l1     --> {l1}')\n",
    "print(f'positions: -4 -3 -2 -1')\n",
    "print(f'l1[-1] --> {l1[-1]}')\n",
    "print(f'l1[-3] --> {l1[-3]}')"
   ]
  },
  {
   "cell_type": "markdown",
   "id": "904eb0fd",
   "metadata": {},
   "source": [
    "It is also possible to access to part of the list, it is called a slice.\n",
    "\n",
    "To do so the syntax is the following:\n",
    "```\n",
    "list[start:stop:step]\n",
    "```\n",
    "`start` is included, `stop` is not, `step` is the step size."
   ]
  },
  {
   "cell_type": "code",
   "execution_count": 9,
   "id": "f89861d7",
   "metadata": {},
   "outputs": [
    {
     "name": "stdout",
     "output_type": "stream",
     "text": [
      "l1        --> [3, 4, 5, 6, 7, 8, 9, 10, 11, 12]\n",
      "positions --> [0, 1, 2, 3, 4, 5, 6, 7, 8, 9]\n",
      "l1[3:7]   --> [6, 7, 8, 9]\n",
      "l1[:2]    --> [3, 4]\n",
      "l1[6:]    --> [9, 10, 11, 12]\n",
      "l1[1:7:2] --> [4, 6, 8]\n"
     ]
    }
   ],
   "source": [
    "l1 = list(range(3, 13))\n",
    "print(f'l1        --> {l1}')\n",
    "print(f'positions --> {list(range(len(l1)))}')\n",
    "print(f'l1[3:7]   --> {l1[3:7]}')\n",
    "print(f'l1[:2]    --> {l1[:2]}')\n",
    "print(f'l1[6:]    --> {l1[6:]}')\n",
    "print(f'l1[1:7:2] --> {l1[1:7:2]}')"
   ]
  },
  {
   "cell_type": "markdown",
   "id": "a579920c",
   "metadata": {},
   "source": [
    "A `list` can be modified by adding values into them using the method `append`:"
   ]
  },
  {
   "cell_type": "code",
   "execution_count": 10,
   "id": "8a3ea59f",
   "metadata": {},
   "outputs": [
    {
     "name": "stdout",
     "output_type": "stream",
     "text": [
      "l1    --> [1, 2, 3, 4]\n",
      "l1    --> [1, 2, 3, 4, 'hello']\n",
      "l1[4] --> hello\n"
     ]
    }
   ],
   "source": [
    "l1 = [1, 2, 3, 4]\n",
    "print(f'l1    --> {l1}')\n",
    "l1.append('hello')\n",
    "print(f'l1    --> {l1}')\n",
    "print(f'l1[4] --> {l1[4]}')"
   ]
  },
  {
   "cell_type": "markdown",
   "id": "b263a77f",
   "metadata": {},
   "source": [
    "They can also be modified by removing elements from it using the method `pop` which removes the last element of the list by default:"
   ]
  },
  {
   "cell_type": "code",
   "execution_count": 11,
   "id": "2e22bcb2",
   "metadata": {},
   "outputs": [
    {
     "name": "stdout",
     "output_type": "stream",
     "text": [
      "l1    --> [1, 2, 3, 4]\n",
      "l1    --> [1, 2, 3]\n"
     ]
    }
   ],
   "source": [
    "l1 = [1, 2, 3, 4]\n",
    "print(f'l1    --> {l1}')\n",
    "l1.pop()\n",
    "print(f'l1    --> {l1}')"
   ]
  },
  {
   "cell_type": "markdown",
   "id": "112f674f",
   "metadata": {},
   "source": [
    "By removing a specific element of the list using the method `remove`:"
   ]
  },
  {
   "cell_type": "code",
   "execution_count": 12,
   "id": "1785e3b6",
   "metadata": {},
   "outputs": [
    {
     "name": "stdout",
     "output_type": "stream",
     "text": [
      "l1    --> [4, 5, 6, 7]\n",
      "l1    --> [4, 6, 7]\n"
     ]
    }
   ],
   "source": [
    "l1 = [4, 5, 6, 7]\n",
    "print(f'l1    --> {l1}')\n",
    "l1.remove(5)\n",
    "print(f'l1    --> {l1}')"
   ]
  },
  {
   "cell_type": "markdown",
   "id": "25906a1a",
   "metadata": {},
   "source": [
    "Or by modifying already existing values by accessing them:"
   ]
  },
  {
   "cell_type": "code",
   "execution_count": 13,
   "id": "d15b396a",
   "metadata": {},
   "outputs": [
    {
     "name": "stdout",
     "output_type": "stream",
     "text": [
      "l1 --> [1, 2, 3, 4]\n",
      "l1 --> [1, 3, 3, 4]\n",
      "l1 --> [1, 3, 2, 4]\n"
     ]
    }
   ],
   "source": [
    "l1 = [1, 2, 3, 4]\n",
    "print(f'l1 --> {l1}')\n",
    "l1[1] = 3\n",
    "print(f'l1 --> {l1}')\n",
    "l1[2] = l1[0]+1\n",
    "print(f'l1 --> {l1}')"
   ]
  },
  {
   "cell_type": "markdown",
   "id": "6d2febfa",
   "metadata": {},
   "source": [
    "Two lists can be concatenated togheter either by using the method `extend` or the `+` operator.\n",
    "\n",
    "> ⚠️ It is important to remember that the `extend` method is performed 'in place' meaning that it modifies the list from which it is called from ⚠️"
   ]
  },
  {
   "cell_type": "code",
   "execution_count": 14,
   "id": "d0ced940",
   "metadata": {},
   "outputs": [
    {
     "name": "stdout",
     "output_type": "stream",
     "text": [
      "l3 --> [1, 2, 3, 4, 'a', 'b', 'c', 'd']\n",
      "l1 --> [1, 2, 3, 4, 'a', 'b', 'c', 'd']\n",
      "l4 --> [1, 2, 3, 4, 'a', 'b', 'c', 'd', 'a', 'b', 'c', 'd']\n"
     ]
    }
   ],
   "source": [
    "l1 = [1, 2, 3, 4]\n",
    "l2 = ['a', 'b', 'c', 'd']\n",
    "l3 = l1 + l2\n",
    "print(f'l3 --> {l3}')\n",
    "l1.extend(l2)\n",
    "print(f'l1 --> {l1}')\n",
    "l4 = l1 + l2\n",
    "print(f'l4 --> {l4}')"
   ]
  },
  {
   "cell_type": "markdown",
   "id": "6ae43d84",
   "metadata": {},
   "source": [
    "### 3.2 The dictionaries: `dict`\n",
    "A dictionary is a data structure that maps a key to a value. It is somewhat similar to a `list` except that instead of refering to a value by its position in the `list` it is refered to by its key.\n",
    "\n",
    "Dictonaries are defined using curved brackets `{`:"
   ]
  },
  {
   "cell_type": "code",
   "execution_count": 15,
   "id": "748d4cc9",
   "metadata": {},
   "outputs": [
    {
     "name": "stdout",
     "output_type": "stream",
     "text": [
      "d1      --> {4: '1', '3': 'Hello'}\n",
      "d1[4]   --> 1\n",
      "d1['3'] --> Hello\n"
     ]
    }
   ],
   "source": [
    "d1 = {4: '1', '3':'Hello'}\n",
    "print(f'd1      --> {d1}')\n",
    "print(f'd1[4]   --> {d1[4]}')\n",
    "print(f'd1[\\'3\\'] --> {d1[\"3\"]}')"
   ]
  },
  {
   "cell_type": "markdown",
   "id": "626e8e03",
   "metadata": {},
   "source": [
    "For reasons that we will not explain here, a `list` cannot be used as a key for a dictionary (though it can be used as values):"
   ]
  },
  {
   "cell_type": "code",
   "execution_count": 16,
   "id": "0ce51435",
   "metadata": {},
   "outputs": [
    {
     "name": "stdout",
     "output_type": "stream",
     "text": [
      "d1 --> {1: [1, 2, 3, 4], 4: 4}\n"
     ]
    }
   ],
   "source": [
    "d1 = {1: [1, 2, 3, 4], 4:4}\n",
    "print(f'd1 --> {d1}')"
   ]
  },
  {
   "cell_type": "code",
   "execution_count": 17,
   "id": "56419211",
   "metadata": {},
   "outputs": [
    {
     "name": "stdout",
     "output_type": "stream",
     "text": [
      "The error was:\n",
      "\tunhashable type: 'list'\n"
     ]
    }
   ],
   "source": [
    "try:\n",
    "    d1 = {[1, 2]: 1}\n",
    "except Exception as e:\n",
    "    print(f'The error was:\\n\\t{e}')"
   ]
  },
  {
   "cell_type": "markdown",
   "id": "c0dcbdf9",
   "metadata": {},
   "source": [
    "Dictionaries can be modified but cannot be sliced (since there is no explicit order on the keys):"
   ]
  },
  {
   "cell_type": "code",
   "execution_count": 18,
   "id": "982d5c84",
   "metadata": {},
   "outputs": [
    {
     "name": "stdout",
     "output_type": "stream",
     "text": [
      "d1 --> {1: [1, 2, 3, 4], 4: 4}\n",
      "d1 --> {1: [1, 2, 3, 4], 4: 4, 3: 5}\n"
     ]
    }
   ],
   "source": [
    "d1 = {1: [1, 2, 3, 4], 4:4}\n",
    "print(f'd1 --> {d1}')\n",
    "d1[3] = 5\n",
    "print(f'd1 --> {d1}')"
   ]
  },
  {
   "cell_type": "markdown",
   "id": "8eb47b8f",
   "metadata": {},
   "source": [
    "You can find more information about dictionaries [there](https://docs.python.org/3/tutorial/datastructures.html#dictionaries)"
   ]
  },
  {
   "cell_type": "markdown",
   "id": "1515c40b",
   "metadata": {},
   "source": [
    "### 3.3 The numpy arrays `ndarray`\n",
    "A very useful data structure is the `ndarray` from [NumPy](https://numpy.org/). It is usually very fast and allows you to manipulate arrays of $n$ dimensions (hence the name).\n",
    "\n",
    "`ndarray` are complex data structures and we will not go in depth into what you can do with them here, we will only look at what we need along the class.\n",
    "> _**To go a little bit further (not required):**_\n",
    ">\n",
    "> You can find more information about `ndarray`s [there](https://numpy.org/doc/stable/reference/arrays.ndarray.html)\n",
    ">\n",
    "> If you want to learn interactively about `ndarray`s, you can check out the [following exercices](https://www.machinelearningplus.com/python/101-numpy-exercises-python/).\n",
    "\n",
    "Note that the previous exercices are not required but they could be very useful for the following classes.\n",
    "\n",
    "To use `ndarray`s, it is necessary to load the NumPy library (and therefore for it to be installed): "
   ]
  },
  {
   "cell_type": "code",
   "execution_count": 19,
   "id": "2a99ee7f",
   "metadata": {},
   "outputs": [],
   "source": [
    "import numpy as np"
   ]
  },
  {
   "cell_type": "markdown",
   "id": "f3cd756a",
   "metadata": {},
   "source": [
    "Then, one can create a `ndarray` the following ways (note that many other ways exist):"
   ]
  },
  {
   "cell_type": "code",
   "execution_count": 20,
   "id": "f5a55b28",
   "metadata": {},
   "outputs": [
    {
     "name": "stdout",
     "output_type": "stream",
     "text": [
      "arr1 -->\n",
      "[[1 2 3]\n",
      " [2 3 4]]\n",
      "arr2 -->\n",
      "[[0. 0. 0. 0.]\n",
      " [0. 0. 0. 0.]\n",
      " [0. 0. 0. 0.]\n",
      " [0. 0. 0. 0.]]\n",
      "arr3 -->\n",
      "[0 1 2 3 4 5 6 7 8 9]\n"
     ]
    }
   ],
   "source": [
    "arr1 = np.array([[1, 2, 3], [2, 3, 4]]) # Create an array from a list\n",
    "arr2 = np.zeros((4, 4))                 # Create an array filled with 0s of size 4x4\n",
    "arr3 = np.arange(10)                    # Create a 1d array with values from 0 to 9\n",
    "print(f'arr1 -->\\n{arr1}')\n",
    "print(f'arr2 -->\\n{arr2}')\n",
    "print(f'arr3 -->\\n{arr3}')"
   ]
  },
  {
   "cell_type": "markdown",
   "id": "6c02f7f8",
   "metadata": {},
   "source": [
    "`ndarray`s are useful because many operations can be performed on them in a direct way.\n",
    "\n",
    "The same access operations and slicing as the ones for the `list` exists for the `ndarray`.\n",
    "\n",
    "But on top of that, one can add a scalar to all the values in the array with the `+` operator."
   ]
  },
  {
   "cell_type": "code",
   "execution_count": 21,
   "id": "21513145",
   "metadata": {},
   "outputs": [
    {
     "name": "stdout",
     "output_type": "stream",
     "text": [
      "arr1 -->\n",
      "[[ 0  1  2  3]\n",
      " [ 4  5  6  7]\n",
      " [ 8  9 10 11]\n",
      " [12 13 14 15]]\n",
      "arr1 -->\n",
      "[[ 2  3  4  5]\n",
      " [ 6  7  8  9]\n",
      " [10 11 12 13]\n",
      " [14 15 16 17]]\n"
     ]
    }
   ],
   "source": [
    "arr1 = np.arange(16).reshape(4, 4)\n",
    "print(f'arr1 -->\\n{arr1}')\n",
    "arr1 = arr1 + 2\n",
    "print(f'arr1 -->\\n{arr1}')"
   ]
  },
  {
   "cell_type": "markdown",
   "id": "4b2de0f0",
   "metadata": {},
   "source": [
    "Note the use of the function `reshape` which allows to change the dimensions (`shape`) of an array:"
   ]
  },
  {
   "cell_type": "code",
   "execution_count": 22,
   "id": "e4dd2c17",
   "metadata": {},
   "outputs": [
    {
     "name": "stdout",
     "output_type": "stream",
     "text": [
      "arr1 -->\n",
      "[ 0  1  2  3  4  5  6  7  8  9 10 11 12 13 14 15]\n",
      "arr1 (reshape(4,  4)) -->\n",
      "[[ 0  1  2  3]\n",
      " [ 4  5  6  7]\n",
      " [ 8  9 10 11]\n",
      " [12 13 14 15]]\n",
      "arr1 (reshape(2, -1)) -->\n",
      "[[ 0  1  2  3  4  5  6  7]\n",
      " [ 8  9 10 11 12 13 14 15]]\n"
     ]
    }
   ],
   "source": [
    "arr1 = np.arange(16)\n",
    "print(f'arr1 -->\\n{arr1}')\n",
    "print(f'arr1 (reshape(4,  4)) -->\\n{arr1.reshape(4, 4)}')\n",
    "print(f'arr1 (reshape(2, -1)) -->\\n{arr1.reshape(2, -1)}')"
   ]
  },
  {
   "cell_type": "markdown",
   "id": "c6ac0606",
   "metadata": {},
   "source": [
    "Similar operations exist for the substraction, multiplication or division or exponent (`**` in Python):"
   ]
  },
  {
   "cell_type": "code",
   "execution_count": 23,
   "id": "ebff050c",
   "metadata": {},
   "outputs": [
    {
     "name": "stdout",
     "output_type": "stream",
     "text": [
      "arr1 -->\n",
      "[[ 0  1  2  3]\n",
      " [ 4  5  6  7]\n",
      " [ 8  9 10 11]\n",
      " [12 13 14 15]]\n",
      "arr1 * 2 -->\n",
      "[[ 0  2  4  6]\n",
      " [ 8 10 12 14]\n",
      " [16 18 20 22]\n",
      " [24 26 28 30]]\n",
      "arr1 ** 2 -->\n",
      "[[  0   1   4   9]\n",
      " [ 16  25  36  49]\n",
      " [ 64  81 100 121]\n",
      " [144 169 196 225]]\n"
     ]
    }
   ],
   "source": [
    "arr1 = np.arange(16).reshape(4, 4)\n",
    "print(f'arr1 -->\\n{arr1}')\n",
    "arr2 = arr1 * 2\n",
    "print(f'arr1 * 2 -->\\n{arr2}')\n",
    "arr3 = arr1 ** 2\n",
    "print(f'arr1 ** 2 -->\\n{arr3}')"
   ]
  },
  {
   "cell_type": "markdown",
   "id": "2fdc031a",
   "metadata": {},
   "source": [
    "Operations between arrays are also possible.\n",
    "\n",
    "The `*` will multiply all term of an array to there corresponding terms (note that it means that the two arrays need to be of the same size):"
   ]
  },
  {
   "cell_type": "code",
   "execution_count": 24,
   "id": "5cc5c923",
   "metadata": {},
   "outputs": [
    {
     "name": "stdout",
     "output_type": "stream",
     "text": [
      "arr1 -->\n",
      "[[ 0  1  2  3]\n",
      " [ 4  5  6  7]\n",
      " [ 8  9 10 11]\n",
      " [12 13 14 15]]\n",
      "arr2 -->\n",
      "[[16 17 18 19]\n",
      " [20 21 22 23]\n",
      " [24 25 26 27]\n",
      " [28 29 30 31]]\n",
      "arr1 * arr2 -->\n",
      "[[  0  17  36  57]\n",
      " [ 80 105 132 161]\n",
      " [192 225 260 297]\n",
      " [336 377 420 465]]\n"
     ]
    }
   ],
   "source": [
    "arr1 = np.arange(16).reshape(4, 4)\n",
    "arr2 = np.arange(16, 32).reshape(4, 4)\n",
    "arr3 = arr1 * arr2\n",
    "print(f'arr1 -->\\n{arr1}')\n",
    "print(f'arr2 -->\\n{arr2}')\n",
    "print(f'arr1 * arr2 -->\\n{arr3}')"
   ]
  },
  {
   "cell_type": "markdown",
   "id": "06c8f516",
   "metadata": {},
   "source": [
    "The matrix multiplication operator is the following: `@`.\n",
    "\n",
    "Note: Again, when performing matrix multiplication, one has to remember that the matrices dimensions have to be matching.\n",
    "\n",
    "Moreover, the `dot` fuction also exists, doing `A @ B` is equivalent to `np.dot(A, B)`."
   ]
  },
  {
   "cell_type": "code",
   "execution_count": 25,
   "id": "2ec20e6a",
   "metadata": {},
   "outputs": [
    {
     "name": "stdout",
     "output_type": "stream",
     "text": [
      "arr1 -->\n",
      "[[0 1 2 3]\n",
      " [4 5 6 7]]\n",
      "arr2 -->\n",
      "[[0 1]\n",
      " [2 3]\n",
      " [4 5]\n",
      " [6 7]]\n",
      "arr1 @ arr2 -->\n",
      "[[28 34]\n",
      " [76 98]]\n",
      "np.dot(arr1, arr2) -->\n",
      "[[28 34]\n",
      " [76 98]]\n",
      "arr2 @ arr1 -->\n",
      "[[ 4  5  6  7]\n",
      " [12 17 22 27]\n",
      " [20 29 38 47]\n",
      " [28 41 54 67]]\n"
     ]
    }
   ],
   "source": [
    "arr1 = np.arange(8).reshape(2, 4)\n",
    "arr2 = np.arange(8).reshape(4, 2)\n",
    "arr3 = arr1 @ arr2\n",
    "arr4 = arr2 @ arr1\n",
    "print(f'arr1 -->\\n{arr1}')\n",
    "print(f'arr2 -->\\n{arr2}')\n",
    "print(f'arr1 @ arr2 -->\\n{arr3}')\n",
    "print(f'np.dot(arr1, arr2) -->\\n{np.dot(arr1, arr2)}')\n",
    "print(f'arr2 @ arr1 -->\\n{arr4}')"
   ]
  },
  {
   "cell_type": "markdown",
   "id": "6ffa29c5",
   "metadata": {},
   "source": [
    "A lot of operations on `ndarray`s are available, for example computing the derterminant (`np.linalg.det`) of a matrix or inversing (`np.linalg.inv`) it:"
   ]
  },
  {
   "cell_type": "code",
   "execution_count": 26,
   "id": "64187a3e",
   "metadata": {},
   "outputs": [
    {
     "name": "stdout",
     "output_type": "stream",
     "text": [
      "arr1 -->\n",
      "[[ 6  1  1  3]\n",
      " [ 4 -2  5  1]\n",
      " [ 2  8  7  6]\n",
      " [ 3  1  9  7]]\n",
      "\n",
      "arr1 determinant -->\n",
      "-1308.9999999999993\n",
      "\n",
      "arr1_inv -->\n",
      "[[ 0.13368984  0.10695187  0.02139037 -0.09090909]\n",
      " [-0.00229183  0.02673797  0.14820474 -0.12987013]\n",
      " [-0.12987013  0.18181818  0.06493506 -0.02597403]\n",
      " [ 0.11000764 -0.28342246 -0.11382735  0.23376623]]\n",
      "\n",
      "arr1 . arr1_inv -->\n",
      "[[ 1.  0.  0.  0.]\n",
      " [ 0.  1.  0.  0.]\n",
      " [ 0. -0.  1.  0.]\n",
      " [ 0.  0.  0.  1.]]\n",
      "\n"
     ]
    }
   ],
   "source": [
    "arr1 = np.array([[6, 1, 1, 3],\n",
    "                 [4, -2, 5, 1],\n",
    "                 [2, 8, 7, 6],\n",
    "                 [3, 1, 9, 7]])\n",
    "print(f'arr1 -->\\n{arr1}\\n')\n",
    "det = np.linalg.det(arr1)\n",
    "arr1_inv = np.linalg.inv(arr1)\n",
    "print(f'arr1 determinant -->\\n{det}\\n')\n",
    "print(f'arr1_inv -->\\n{arr1_inv}\\n')\n",
    "print(f'arr1 . arr1_inv -->\\n{np.round(arr1 @ arr1_inv)}\\n')"
   ]
  },
  {
   "cell_type": "markdown",
   "id": "e34b0d59",
   "metadata": {},
   "source": [
    "## 3. Conditional statements\n",
    "---\n",
    "Another important part of coding are the conditional statements.\n",
    "\n",
    "Conditional statements allow you to perform a given set of instruction(s) if a statement is true.\n",
    "\n",
    "If necessary, it is possible to run a different set of instructions when the statement is false.\n",
    "\n",
    "More information about conditional statements can be found [there](https://docs.python.org/3/tutorial/datastructures.html#more-on-conditions) for example\n",
    "\n",
    "This is usually called an `if`/`else` statement:"
   ]
  },
  {
   "cell_type": "code",
   "execution_count": 27,
   "id": "e36864b3",
   "metadata": {},
   "outputs": [
    {
     "name": "stdout",
     "output_type": "stream",
     "text": [
      "Please enter a number and press enter: 2\n",
      "the number is equal to 2\n"
     ]
    }
   ],
   "source": [
    "a_number = eval(input('Please enter a number and press enter: '))\n",
    "if a_number == 2:\n",
    "    print('the number is equal to 2')\n",
    "else:\n",
    "    print('the number is not equal to 2')"
   ]
  },
  {
   "cell_type": "markdown",
   "id": "bcb9b80f",
   "metadata": {},
   "source": [
    "Note the function `input` which allows to ask for an input to the user.\n",
    "Note also the function `eval` which allows to evaluate the input from the user.\n",
    "In place of `eval` could be used the function `int` which would tranform the input into an integer.\n",
    "If that was the case, the Python interpreter could not take as an input a decimal value like `0.9` for example.\n",
    "To do so the function `float` could have been used. Now, with `eval`, one can even enter an operation such as `1+1` and it will be evaluated and then treated as `2` in that case.\n",
    "\n",
    "You can try to play with the function `eval` with the example above.\n",
    "\n",
    "If multiple conditions need to be checked, the `elif` statement can be used:"
   ]
  },
  {
   "cell_type": "code",
   "execution_count": 28,
   "id": "741c4e3f",
   "metadata": {},
   "outputs": [
    {
     "name": "stdout",
     "output_type": "stream",
     "text": [
      "Please enter a number and press enter: 2\n",
      "the number is equal to 2\n"
     ]
    }
   ],
   "source": [
    "a_number = eval(input('Please enter a number and press enter: '))\n",
    "if a_number < 2:\n",
    "    print('the number is stricly smaller than 2')\n",
    "elif a_number == 2:\n",
    "    print('the number is equal to 2')\n",
    "elif 2 < a_number < 10:\n",
    "    print('the number is strictly between 2 and 10')\n",
    "else:\n",
    "    print('the number is larger or equal to 10')"
   ]
  },
  {
   "cell_type": "markdown",
   "id": "6be9292d",
   "metadata": {},
   "source": [
    "> _**To go a little bit further:**_\n",
    ">\n",
    "> `if`/`else` statements can be used within a line of code to assign values for example:"
   ]
  },
  {
   "cell_type": "code",
   "execution_count": 29,
   "id": "e28befeb",
   "metadata": {},
   "outputs": [
    {
     "name": "stdout",
     "output_type": "stream",
     "text": [
      "Please enter a number and press enter: 2\n",
      "a_number --> Strictly smaller than 10\n"
     ]
    }
   ],
   "source": [
    "previous_number = eval(input('Please enter a number and press enter: '))\n",
    "a_number = 1 if 10 <= previous_number else 'Strictly smaller than 10'\n",
    "print(f'a_number --> {a_number}')\n",
    "\n",
    "# The previous line is equivalent to the following ones:\n",
    "if 10 < previous_number:\n",
    "    a_number = 1\n",
    "else:\n",
    "    a_number = 2"
   ]
  },
  {
   "cell_type": "markdown",
   "id": "18186653",
   "metadata": {},
   "source": [
    "## 4. Loops\n",
    "---\n",
    "Loops are probably the core of coding! They are the reason why computers are so useful!\n",
    "\n",
    "In Python two types of loops exist the `for` loop and the `while` loop.\n",
    "The difference between the two kinds of loops can be small but basically you can almost alway make one with the other though making some `while` loops using `for` loops is sometimes a bit convoluted (but that's thoughts for an other time).\n",
    "\n",
    "A `for` loop in Python allows you to iterate over the items of any sequence (`list`, `str` for example). Note that it is different than loops in C, C++ or Pascal for example.\n",
    "\n",
    "A `while` loop allows you to iterate as long as a given condition is `True`.\n",
    "\n",
    "The syntax for a `for` loop is the following:\n",
    "```python\n",
    "for item in sequence:\n",
    "    # do_something\n",
    "```\n",
    "\n",
    "The syntax for a `while` loop is the following:\n",
    "```python\n",
    "while condition:\n",
    "    # do_something\n",
    "```\n",
    "\n",
    "Here is an example of a `for` loop:"
   ]
  },
  {
   "cell_type": "code",
   "execution_count": 30,
   "id": "812075de",
   "metadata": {},
   "outputs": [
    {
     "name": "stdout",
     "output_type": "stream",
     "text": [
      "Hello, how are you? "
     ]
    }
   ],
   "source": [
    "words = ['Hello,', 'how', 'are', 'you?']\n",
    "for w in words:\n",
    "    print(w, end=' ')"
   ]
  },
  {
   "cell_type": "markdown",
   "id": "1d2edc10",
   "metadata": {},
   "source": [
    "Here the loop iterates over the items of the sequence `words` (which is a `list`) and prints them.\n",
    "\n",
    "The equivalent with a `while` loop would look like that:"
   ]
  },
  {
   "cell_type": "code",
   "execution_count": 31,
   "id": "5db9f020",
   "metadata": {},
   "outputs": [
    {
     "name": "stdout",
     "output_type": "stream",
     "text": [
      "Hello, how are you? "
     ]
    }
   ],
   "source": [
    "i = 0\n",
    "while i<len(words):\n",
    "    print(words[i], end=' ')\n",
    "    i = i + 1"
   ]
  },
  {
   "cell_type": "markdown",
   "id": "32a75eab",
   "metadata": {},
   "source": [
    "One can easily see that in that context, the `while` loop is a bit more convoluted.\n",
    "\n",
    "Now, here is an example where the `while` loop is _better_."
   ]
  },
  {
   "cell_type": "code",
   "execution_count": 32,
   "id": "9a591f35",
   "metadata": {},
   "outputs": [
    {
     "name": "stdout",
     "output_type": "stream",
     "text": [
      "i --> 8, number_sum --> 36\n"
     ]
    }
   ],
   "source": [
    "stopping_value = 35\n",
    "i = 0\n",
    "number_sum = 0\n",
    "while number_sum < stopping_value:\n",
    "    i += 1\n",
    "    number_sum += i\n",
    "print(f'i --> {i}, number_sum --> {number_sum}')"
   ]
  },
  {
   "cell_type": "markdown",
   "id": "15f38912",
   "metadata": {},
   "source": [
    "The equivalent `for` loop would be the following:"
   ]
  },
  {
   "cell_type": "code",
   "execution_count": 33,
   "id": "bdaa65c9",
   "metadata": {},
   "outputs": [
    {
     "name": "stdout",
     "output_type": "stream",
     "text": [
      "i --> 8, number_sum --> 36\n"
     ]
    }
   ],
   "source": [
    "number_sum = 0\n",
    "for i in range(stopping_value+1): # Here we assume that the maximum value\n",
    "                                  # necessary to stop is the stopping value itself\n",
    "    number_sum += i\n",
    "    if stopping_value <= number_sum:\n",
    "        break\n",
    "print(f'i --> {i}, number_sum --> {number_sum}')"
   ]
  },
  {
   "cell_type": "markdown",
   "id": "d1a69879",
   "metadata": {},
   "source": [
    "Note that in the case of the `for`, it is necessary to use the ```break``` statement to stop the loop according to a given condition.\n",
    "\n",
    "> _**To go a little bit further (not required):**_\n",
    "> Note that if you exchange lines 5 and 6 in the `while` loop you do not get the same result, can you find out why?"
   ]
  },
  {
   "cell_type": "code",
   "execution_count": 34,
   "id": "73cb3cc3",
   "metadata": {},
   "outputs": [
    {
     "name": "stdout",
     "output_type": "stream",
     "text": [
      "i --> 9, number_sum --> 36\n"
     ]
    }
   ],
   "source": [
    "i = 0\n",
    "number_sum = 0\n",
    "while number_sum < stopping_value:\n",
    "    number_sum += i\n",
    "    i += 1\n",
    "print(f'i --> {i}, number_sum --> {number_sum}')"
   ]
  },
  {
   "cell_type": "markdown",
   "id": "7fb32891",
   "metadata": {},
   "source": [
    "**More on `for` loops can be found [there](https://docs.python.org/3/tutorial/controlflow.html#for-statements)**"
   ]
  },
  {
   "cell_type": "markdown",
   "id": "520c7851",
   "metadata": {},
   "source": [
    "## 4. Some exercices\n",
    "---\n",
    "Now, you should have enough to go through a small batch of exercices 🥳 🥳 🥳.\n",
    "\n",
    "They might be a bit hard, but that's normal, please don't hesitate to ask us if you have any trouble to understand something.\n",
    "\n",
    "The answers are still accessible using the `answer` function with the number of the question as an argument.\n",
    "Also, for some of the following questions, hints are available, run the command `hint(<question_number>)` to access the hint. For example, for a hint for question 3, you can run `hint(3)`.\n",
    "\n",
    "Moreover, you will need a bit of help for the next exercices so we wrote some functions that will be useful.\n",
    "We will describe how they work and how to use them.\n",
    "To load the said function, please run the line below.\n",
    "\n",
    "Note: If you feel like it, you can try to implement these functions yourself. "
   ]
  },
  {
   "cell_type": "code",
   "execution_count": 35,
   "id": "2e09bff8",
   "metadata": {},
   "outputs": [],
   "source": [
    "from Resources.UsefulFunctions import *\n",
    "from Resources.Answers import answer, hint"
   ]
  },
  {
   "cell_type": "markdown",
   "id": "f3cc9e16",
   "metadata": {},
   "source": [
    "Moreover, we need the parameters described earlier, eventhough it might not be necessary, we rewrite them here for commodity"
   ]
  },
  {
   "cell_type": "code",
   "execution_count": 36,
   "id": "0b0beb91",
   "metadata": {},
   "outputs": [],
   "source": [
    "a = 2.8e-4\n",
    "b = 5e-3\n",
    "tau = .1\n",
    "k = -.005\n",
    "size = 100\n",
    "dx = 2. / size\n",
    "T = 9.0\n",
    "dt = .001\n",
    "n = int(T / dt)"
   ]
  },
  {
   "cell_type": "markdown",
   "id": "bc0d8386",
   "metadata": {},
   "source": [
    "Before creating a working 2D Turing pattern, let work out how to make the concentration within a given cell change over time according to the function we defined earlier.\n",
    "\n",
    "### Exercice 3\n",
    "Write a loop that increments the concentration value of the concentration `a` according to the function `da_alone`.\n",
    "\n",
    "The function `da_alone` implements the change of concentration ($\\delta a$) according to $a$, $\\delta t$ and $k$:\n",
    "\n",
    "$$\\delta a = \\delta t (a - a^3 +k)$$\n",
    "\n",
    "`da_alone` takes as parameters the initial concentration value $a$ (`a`), the $\\delta t$ parameter (`dt`) and the $k$ parameter (`k`) and outputs the differential of concentration $\\delta a$ for that specific initial concentration."
   ]
  },
  {
   "cell_type": "code",
   "execution_count": 37,
   "id": "23cd797b",
   "metadata": {},
   "outputs": [
    {
     "name": "stdout",
     "output_type": "stream",
     "text": [
      "final a                      --> 0.1\n",
      "Expected value (for a = 0.1) --> 0.9974896544606241\n"
     ]
    }
   ],
   "source": [
    "a = 0.1\n",
    "# Write here the code necessary\n",
    "print(f'final a                      --> {a}')\n",
    "print( 'Expected value (for a = 0.1) --> 0.9974896544606241')"
   ]
  },
  {
   "cell_type": "markdown",
   "id": "756789b4",
   "metadata": {},
   "source": [
    "### Exercice 3 (bonus)\n",
    "If you feel like it, you can write the function `da_alone`.\n",
    "\n",
    "For a solution you can type `da_alone??` to have access to its implementation."
   ]
  },
  {
   "cell_type": "code",
   "execution_count": 38,
   "id": "925392f9",
   "metadata": {},
   "outputs": [],
   "source": [
    "# da_alone??"
   ]
  },
  {
   "cell_type": "markdown",
   "id": "36e5e15b",
   "metadata": {},
   "source": [
    "### Exercice 4\n",
    "Now we have access to the last value of the concentration but we would like to be able to access all the values in order to plot them.\n",
    "\n",
    "To do so, write a piece of code that stores all the intermediary results in a list."
   ]
  },
  {
   "cell_type": "code",
   "execution_count": 39,
   "id": "e7b74a1a",
   "metadata": {},
   "outputs": [
    {
     "name": "stdout",
     "output_type": "stream",
     "text": [
      "Last value of A (A[-1])           --> 0.01\n",
      "Expected value (for A[-1] = 0.01) --> 0.9971706727639877\n"
     ]
    }
   ],
   "source": [
    "A = [.01]\n",
    "print(f'Last value of A (A[-1])           --> {A[-1]}')\n",
    "print( 'Expected value (for A[-1] = 0.01) --> 0.9971706727639877')"
   ]
  },
  {
   "cell_type": "markdown",
   "id": "f3fa5109",
   "metadata": {},
   "source": [
    "Given the list of concentrations, one can plot its evolution over time using the function `plot_concentration_1cell`:"
   ]
  },
  {
   "cell_type": "code",
   "execution_count": 40,
   "id": "bacf182f",
   "metadata": {},
   "outputs": [],
   "source": [
    "# plot_concentration_1cell(A)"
   ]
  },
  {
   "cell_type": "markdown",
   "id": "621ea709",
   "metadata": {},
   "source": [
    "### Exercice 5\n",
    "Now that we know how to compute the evolution of a given concentration, we want to compute the co-evolution of a activator and its inhibitor.\n",
    "\n",
    "To do so we can use the functions `da` and `di` that implements the following equations:\n",
    "\n",
    "$$\\delta a = \\delta t(a-a^3-i+k)$$\n",
    "$$\\delta i = \\frac{\\delta t}{\\tau}(a -i)$$\n",
    "Note that the function `da` is slightly different to `da_alone` since it incorporates the inhibitor action $-i$.\n",
    "\n",
    "The function `da` takes as an input the original concentration $a$ (`a`), the time increment parameter $\\delta t$ (`dt`), the constant $k$ (`k`) as for the function `da_alone` but also the original inhibitor concentration $i$ (`i`).\n",
    "\n",
    "The function `di` takes as an input the original concentration $i$ (`i`), the time increment parameter $\\delta t$, the constant $\\tau$ (`tau`) and the original activator concentration $a$ (`a`).\n",
    "\n",
    "**Write code to store in two lists the evolution of the concentrations of the activator and the inhibitor.**"
   ]
  },
  {
   "cell_type": "code",
   "execution_count": 41,
   "id": "a5ee43b4",
   "metadata": {},
   "outputs": [
    {
     "name": "stdout",
     "output_type": "stream",
     "text": [
      "For the starting values of A[0]=0.4 and I[0]=0.15:\n",
      "Last value of A --> 0.4\n",
      "Expected value  --> 0.17217946292184916\n",
      "Last value of I --> 0.15\n",
      "Expected value  --> 0.1733148395515316\n"
     ]
    }
   ],
   "source": [
    "A = [0.4]\n",
    "I = [0.15]\n",
    "# Write the code here\n",
    "print('For the starting values of A[0]=0.4 and I[0]=0.15:')\n",
    "print(f'Last value of A --> {A[-1]}')\n",
    "print( 'Expected value  --> 0.17217946292184916')\n",
    "print(f'Last value of I --> {I[-1]}')\n",
    "print( 'Expected value  --> 0.1733148395515316')"
   ]
  },
  {
   "cell_type": "markdown",
   "id": "c4c0b69a",
   "metadata": {},
   "source": [
    "As before, it is possible to plot the values of the concentrations over time using the function `plot_concentration_1cell`.\n",
    "\n",
    "> _**Side note !**_\n",
    "> \n",
    "> If you were not able to solve the previous question, or if you cannot wait before looking what the graph looks like, the function `answer_results` is there for you!\n",
    ">\n",
    "> You can call it the following way:\n",
    "> \n",
    "> `answer_results(<question_number>, <param_name>=<param_value>, ...)`\n",
    ">\n",
    "> For example, to get the values of A and I from question 4 you can call `answer_results` the following way:\n",
    "> ```python\n",
    "> A, I = answer_results(4, A=0.4, I=0.15, dt=dt, k=k, tau=tau, n=n)\n",
    "> ```\n",
    "> \n",
    "> If you don't know how what parameters to give, you can just call `answer_results(<question_number>)` and hopefully it will help ...\n",
    "\n",
    "Now, you can call the function `plot_concentration_1cell` with as input `A` and `I` to see the concentration evolution!"
   ]
  },
  {
   "cell_type": "code",
   "execution_count": 42,
   "id": "e3d01ac9",
   "metadata": {},
   "outputs": [
    {
     "data": {
      "image/png": "[encoded data removed]",
      "text/plain": [
       "<Figure size 360x288 with 1 Axes>"
      ]
     },
     "metadata": {
      "needs_background": "light"
     },
     "output_type": "display_data"
    }
   ],
   "source": [
    "# Uncomment the following line if you have not computed yet A and I\n",
    "# A, I = answer_results(4, A=0.4, I=0.15, dt=dt, k=k, tau=tau, n=n)\n",
    "plot_concentration_1cell(A, I)"
   ]
  },
  {
   "cell_type": "markdown",
   "id": "b086c3a5",
   "metadata": {},
   "source": [
    "## 4. Introduction to functions\n",
    "---\n",
    "You have seen some functions previously, for example the functions `print`, `eval`, `input` or `range` for example which are `builtin` functions, functions that are \"in\" Python. You've also seen the functions `anwser`, `hint`, `da_alone`, `da` or `di` which are function that have been imported (here via the commands `from Resources.UsefulFunctions import *` and `from Resources.Answers import answer, hint`)\n",
    "\n",
    "A function is a piece of code that can be called at any time once defined. Functions are especially useful as you may have notice, when you know that you will want to call a piece of code multiple times, maybe with different inputs. For example, you called the function `print` with many different inputs.\n",
    "\n",
    "Functions are extremely powerful and can be manipulated in an extremely precise way. You can find all about that [there](https://docs.python.org/3/tutorial/controlflow.html#defining-functions).\n",
    "\n",
    "That being said, the main idea is that a function can be defined the following way:\n",
    "```python\n",
    "def fib(n):\n",
    "    \"\"\"\n",
    "    This function returns the highest fibonacci\n",
    "    number which is lower than n.\n",
    "    \n",
    "    Args:\n",
    "        n (int): upper boundary for the fibonacci number\n",
    "    \n",
    "    Returns:\n",
    "        (int): higher fibo number lower than n\n",
    "    \"\"\"\n",
    "    a, b = 0, 1\n",
    "    while b < n:\n",
    "        a, b = b, a+b\n",
    "    return a\n",
    "```\n",
    "As explained, this function has to do with Fibonacci numbers (they are pretty cool, you can find out more [here](https://en.wikipedia.org/wiki/Fibonacci_number)).\n",
    "\n",
    "The first line:\n",
    "```python\n",
    "def fib(n):\n",
    "```\n",
    "is the name of the function (`fib`) followed by the sequence of arguments of the function (here there is only one: `n`).\n",
    "\n",
    "The following lines:\n",
    "```python\n",
    "    \"\"\"\n",
    "    This function returns the highest fibonacci\n",
    "    number which is lower than n.\n",
    "    \n",
    "    Args:\n",
    "        n (int): upper boundary for the fibonacci number\n",
    "    \n",
    "    Returns:\n",
    "        (int): higher fibo number lower than n\n",
    "    \"\"\"\n",
    "```\n",
    "are the description of the function.\n",
    "\n",
    "Then, there is the code of the function:\n",
    "```python\n",
    "    a, b = 0, 1\n",
    "    while b < n:\n",
    "        a, b = b, a+b\n",
    "```\n",
    "\n",
    "And finally the last last line:\n",
    "```python\n",
    "    return a\n",
    "```\n",
    "which informs the program what will the function return.\n",
    "\n",
    "You can run the code bellow to define the function and to test it:"
   ]
  },
  {
   "cell_type": "code",
   "execution_count": 43,
   "id": "b42612fa",
   "metadata": {},
   "outputs": [],
   "source": [
    "def fib(n):\n",
    "    \"\"\"\n",
    "    This function returns the highest fibonacci\n",
    "    number which is lower than n.\n",
    "    \n",
    "    Args:\n",
    "        n (int): upper boundary for the fibonacci number\n",
    "    \n",
    "    Returns:\n",
    "        (int): higher fibo number lower than n\n",
    "    \"\"\"\n",
    "    a, b = 0, 1\n",
    "    while b<n:\n",
    "        a, b = b, a+b\n",
    "    return a\n",
    "\n",
    "fib(2000)\n",
    "fib?"
   ]
  },
  {
   "cell_type": "markdown",
   "id": "7855f443",
   "metadata": {},
   "source": [
    "### Exercice 6\n",
    "Write a function that returns the lists of concentrations `A` and `I` given the parameters `dt`, `k`, `tau` and `n` and the initial concentrations `a` and `i`."
   ]
  },
  {
   "cell_type": "code",
   "execution_count": 44,
   "id": "1b5a5937",
   "metadata": {},
   "outputs": [
    {
     "data": {
      "image/png": "[encoded data removed]",
      "text/plain": [
       "<Figure size 360x288 with 1 Axes>"
      ]
     },
     "metadata": {
      "needs_background": "light"
     },
     "output_type": "display_data"
    }
   ],
   "source": [
    "def compute_AI(): # Don't forget to add arguments\n",
    "    # A, I = [a], [i] \n",
    "    # Uncoment above and\n",
    "    # Do something here\n",
    "    return A, I\n",
    "\n",
    "A, I = compute_AI()\n",
    "plot_concentration_1cell(A, I)"
   ]
  },
  {
   "cell_type": "markdown",
   "id": "487f9b64",
   "metadata": {},
   "source": [
    "> __*To go (a little bit) further*__\n",
    "> \n",
    "> If one wants to use a function, expecially a function that you have not write yourself, it is extremely important to document the function.\n",
    "> You might have seen earlier one way to document a function (the function `fib`).\n",
    "> It is one way to help a user to understand what your function is doing, what should be the parameters given as an input and what the user should expect as an output.\n",
    "> To write comments, there are rules that can be followed, you can find a version of these rules there: [Google Python Style Guide](https://google.github.io/styleguide/pyguide.html#38-comments-and-docstrings).\n",
    "> Another way to help the user is by specifying the types of the input and outputs in the function name like that for example:\n",
    "> ```python\n",
    "> def fib(n: int) -> int:\n",
    ">     \"\"\"\n",
    ">     This function returns the highest fibonacci\n",
    ">     number which is lower than n.\n",
    ">     \n",
    ">     Args:\n",
    ">         n (int): upper boundary for the fibonacci number\n",
    ">     \n",
    ">     Returns:\n",
    ">         (int): higher fibo number lower than n\n",
    ">     \"\"\"\n",
    ">     a, b = 0, 1\n",
    ">     while b<n:\n",
    ">         a, b = b, a+b\n",
    ">     return a\n",
    "> ```\n",
    "> Another example:\n",
    "> ```python\n",
    "> def foo(a: int, b: np.ndarray, c: bool, d: str) -> (dict, list, float):\n",
    ">     # Function that does something\n",
    ">     a, b, c = {1:2}, [1, 2], 3.14\n",
    ">     return a, b, c\n",
    "> ```\n",
    "> Note that here, for the format of b (np.ndarray) to work, numpy has to be imported first."
   ]
  },
  {
   "cell_type": "code",
   "execution_count": 45,
   "id": "e49df557",
   "metadata": {},
   "outputs": [],
   "source": [
    "import numpy as np\n",
    "def foo(a: int, b: np.ndarray, c: bool, d: str) -> (dict, list, float):\n",
    "    # Function that does something\n",
    "    a, b, c = {1:2}, [1, 2], 3.14\n",
    "    return a, b, c\n",
    "foo?"
   ]
  },
  {
   "cell_type": "markdown",
   "id": "308f4e1d",
   "metadata": {},
   "source": [
    "### Exercice 7\n",
    "**(With an intermezzo about file manipulation)**\n",
    "\n",
    "You can play with the different parameters to see how the concentration dynamics change according to these parameters.\n",
    "\n",
    "Here we would like you to systematically try different parameters and save the produced plots as png files with names containing the parameter values (for example `'test_a0.4_i0.15_dt0.001_k-0.005_tau0.1.png'`).\n",
    "\n",
    "To save the produced plots, you can use the argument `save_path` of the function `plot_concentration_1cell`.\n",
    "If you set its value to the file name and path you want to create, it will save it there under its name.\n",
    "\n",
    "Before being able to do so, you might need some information about how to manipulate strings.\n",
    "In the previous exercices you might have seen that it is possible to insert values from variables within a string using the curved brackets `{` and `}`.\n",
    "\n",
    "Simply putted, the way it works is by putting the character `f` before your string and then everything within curved brackets will be transformed in string if possible.\n",
    "For example:\n",
    "```python\n",
    "f'test_a{A[0]}_i{I[0]}_dt{dt}'\n",
    "```\n",
    "will produce the following string:\n",
    "```python\n",
    "'test_a0.4_i0.15_dt0.001'\n",
    "```\n",
    "Note that if the `f` is not in front of the string, the curved brackets will be interpreted as normal characters.\n",
    "\n",
    "**For more on string manipulation, you can read [there](https://docs.python.org/3/tutorial/inputoutput.html#input-and-output)**"
   ]
  },
  {
   "cell_type": "code",
   "execution_count": 46,
   "id": "9d50f8b1",
   "metadata": {},
   "outputs": [
    {
     "name": "stdout",
     "output_type": "stream",
     "text": [
      "test_a0.4_i0.15_dt0.001\n",
      "test_a{A[0]}_i{I[0]}_dt{dt}\n"
     ]
    }
   ],
   "source": [
    "print(f'test_a{A[0]}_i{I[0]}_dt{dt}')\n",
    "print('test_a{A[0]}_i{I[0]}_dt{dt}')"
   ]
  },
  {
   "cell_type": "markdown",
   "id": "7a0eef70",
   "metadata": {},
   "source": [
    "#### Avoiding cramping up you current folder\n",
    "If you want to be a little bit cleaner, you can create a folder in which you will save your images.\n",
    "\n",
    "You can create such a folder directly in python using `Path` from the `pathlib` library and the command:\n",
    "```python\n",
    "Path.mkdir('<folder_name>')\n",
    "```\n",
    "For example, to crate a folder named `question_7` one could run the command\n",
    "```python\n",
    "Path.mkdir('question_7')\n",
    "```\n",
    "\n",
    "Though, if the folder already exists, the command line will not work and stop the notebook from running.\n",
    "To avoid such a problem, it is possible to check whether the folder already exists using the method `exists` of `Path` as shown below.\n",
    "\n",
    "Let's create the folder `question_7`:"
   ]
  },
  {
   "cell_type": "code",
   "execution_count": 47,
   "id": "c484937e",
   "metadata": {},
   "outputs": [],
   "source": [
    "from pathlib import Path\n",
    "folder = Path('question_7')\n",
    "if not folder.exists():\n",
    "    Path.mkdir(folder)"
   ]
  },
  {
   "cell_type": "markdown",
   "id": "a079292d",
   "metadata": {},
   "source": [
    "#### Path manipulation\n",
    "Some of you might already be aware that playing with path can be a pain.\n",
    "The problem comes from the fact that Windows has a different way to represent a path to a folder than Linux and MacOs.\n",
    "\n",
    "> **_Side Note: what's a path?!_**\n",
    "> \n",
    "> In a computer the folders and files are organized hierarchically.\n",
    "> What it means is that each file or folder except for one, the root, is in a folder.\n",
    "> For example, the folder you created earlier (`question_7`) is itself in a folder.\n",
    "> \n",
    "> To access a file or folder, it is sometimes necessary to know the sequence of folders it is in so there is no ambiguity for the computer.\n",
    "> The sequence of folders a folder or a file belongs to is the **path** and it can be represented as a string.\n",
    "> For example, you can call the function `Path.cwd` (for current working directory).\n",
    "> To query the list of directories your notebook is running in:"
   ]
  },
  {
   "cell_type": "code",
   "execution_count": 48,
   "id": "112df024",
   "metadata": {},
   "outputs": [
    {
     "name": "stdout",
     "output_type": "stream",
     "text": [
      "Our current path:\n",
      "/Users/guignardl/dvlp/Perso/CenTuri-Course-2022\n"
     ]
    }
   ],
   "source": [
    "print('Our current path:')\n",
    "print(Path.cwd())"
   ]
  },
  {
   "cell_type": "markdown",
   "id": "b3ac3ae1",
   "metadata": {},
   "source": [
    "> You can maybe see that the folders are separated by a `/` (or a `\\` for Windows).\n",
    "> This difference between Linux or MacOs and Windows has been quite a source of trouble, some of you might have experienced it.\n",
    "\n",
    "Now, to save an image in the folder `'question_7'`, as we would like to do, we just need to concatenate the image name to the folder name:\n",
    "```python\n",
    "folder / 'test_a0.4_i0.15_dt0.001.png'\n",
    "```\n",
    "\n",
    "Note that the `/` in this case is a concatenation operator specific to the objects of the `path` library. The operator concatenates two `Path` or a `Path` and a `str` putting the operating specific folder separator (\n",
    "`/` or `\\`).\n",
    "\n",
    "**More info about the `pathlib` can be found [there](https://docs.python.org/3/library/pathlib.html)**"
   ]
  },
  {
   "cell_type": "code",
   "execution_count": 49,
   "id": "86dfab72",
   "metadata": {},
   "outputs": [
    {
     "name": "stdout",
     "output_type": "stream",
     "text": [
      "question_7/test_a0.4_i0.15_dt0.001.png\n",
      "question_7/test_a0.4_i0.15_dt0.001.png\n"
     ]
    }
   ],
   "source": [
    "## folder is the path previously created\n",
    "# Concatenation of two Paths\n",
    "print(folder / Path('test_a0.4_i0.15_dt0.001.png'))\n",
    "# Concatenation of a Path and a str (same result)\n",
    "print(folder / 'test_a0.4_i0.15_dt0.001.png')"
   ]
  },
  {
   "cell_type": "markdown",
   "id": "f33f9d39",
   "metadata": {},
   "source": [
    "Now we can *cleanly* answer question 6.\n",
    "Let assumes that we want the following values:\n",
    "- `tau` changes from `0.05` to `3` and that we want `5` values within that interval\n",
    "- `k` changes from `-1` to `1` and that we also want `5` values within that interval\n",
    "- and a fixed `dt=0.01`\n",
    "\n",
    "**Write some lines of code to compute and save the requested plots**\n",
    "\n",
    "Note: you can use the function `np.linspace` to generate the desired values"
   ]
  },
  {
   "cell_type": "code",
   "execution_count": 86,
   "id": "ca889228",
   "metadata": {},
   "outputs": [],
   "source": [
    "import numpy as np\n",
    "folder = Path('question_7')\n",
    "for test_tau in np.linspace(.05, 1, 5):\n",
    "    for test_k in np.linspace(-1, 1, 5):\n",
    "        A, I = answer_results(4, A=0.4, I=0.15, dt=dt, k=test_k, tau=test_tau, n=n)\n",
    "        plot_concentration_1cell(A, I,\n",
    "                                 save_path=folder / f'k{test_k}_tau{test_tau}.png')"
   ]
  },
  {
   "cell_type": "markdown",
   "id": "e7fb6bff",
   "metadata": {},
   "source": [
    "An interesting configuration where we can see some oscillations:\n",
    "- `dt=0.01`\n",
    "- `k=0.05`\n",
    "- `tau=2`\n",
    "\n",
    "You can manually change the parameters to try to find other *weird* configurations"
   ]
  },
  {
   "cell_type": "code",
   "execution_count": 51,
   "id": "e233dafe",
   "metadata": {},
   "outputs": [
    {
     "data": {
      "image/png": "[encoded data removed]",
      "text/plain": [
       "<Figure size 360x288 with 1 Axes>"
      ]
     },
     "metadata": {
      "needs_background": "light"
     },
     "output_type": "display_data"
    }
   ],
   "source": [
    "A, I = answer_results(4, A=0.4, I=0.15, dt=.01, k=.05, tau=2, n=n)\n",
    "plot_concentration_1cell(A, I)"
   ]
  },
  {
   "cell_type": "markdown",
   "id": "3fe7da7b",
   "metadata": {},
   "source": [
    "### Exercice 8\n",
    "**This exercice is difficult, it might take a bit longer to solve. If you are stuck, don't hesitate to look at the following cells for some help**\n",
    "\n",
    "For this exercice, we will discuss about file manipulation, in other words how to move files automatically.\n",
    "\n",
    "**Attention here! Proceed with caution for this exercice but also in general. Files removed using Python (or the shell for example) do not end up in the trash but are directly removed!**\n",
    "\n",
    "In this exercice we would like to sort the files created in the previous exercice. We would like to group the plots generated previously in folders by values of `k` and so that the folder are named according to that `k` value.\n",
    "\n",
    "For example if you had the following files in your `exercice_7` folder:\n",
    "```\n",
    "exercice_7:\n",
    " | k0_tau0.png\n",
    " | k0_tau1.png\n",
    " | k0_tau2.png\n",
    " | k1_tau0.png\n",
    " | k1_tau1.png\n",
    " | k1_tau2.png\n",
    " | k2_tau0.png\n",
    " | k2_tau1.png\n",
    " | k2_tau2.png\n",
    "```\n",
    "We would like you to create the following hierarchy:\n",
    "```\n",
    "exercice_7:\n",
    " | k0:\n",
    "   | k0_tau0.png\n",
    "   | k0_tau1.png\n",
    "   | k0_tau2.png\n",
    " | k1:\n",
    "   | k1_tau0.png\n",
    "   | k1_tau1.png\n",
    "   | k1_tau2.png\n",
    " | k2:\n",
    "   | k2_tau0.png\n",
    "   | k2_tau1.png\n",
    "   | k2_tau2.png\n",
    "```\n",
    "\n",
    "To do so you can use the following functions (assuming `p` is a `Path`):\n",
    "- `Path.iterdir` allows to loop through all the files of a directory\n",
    "- `p.name` retrieves the name of the file in `p` as a `str`\n",
    "- `str.split` splits a string\n",
    "- `Path.exists` see above\n",
    "- `p.rename` allows to rename (and therefore move) `p`\n",
    "\n",
    "Do not hesitate to look at the help of each of these functions (you should do it!)."
   ]
  },
  {
   "cell_type": "code",
   "execution_count": 87,
   "id": "fe84cd04",
   "metadata": {},
   "outputs": [],
   "source": [
    "p = Path('question_7')\n",
    "for f in p.iterdir():\n",
    "    name = f.name # get the name of the of the file\n",
    "    if 'png' in name: # check if the file is a png file\n",
    "                      # Note that it is always safer to\n",
    "                      # check that you are actually working\n",
    "                      # with the intended files to avoid\n",
    "                      # removing unintended files!\n",
    "        k_val, tau_val_png = name.split('_') # That is assuming that \n",
    "                                             # your files have the format\n",
    "                                             # described earlier\n",
    "        new_folder = p / k_val # path to the new folder\n",
    "        if not new_folder.exists(): # checking if the new folder already exists\n",
    "            Path.mkdir(new_folder)  # Create it if it does not\n",
    "        f.rename(new_folder / file) #\n",
    "        # Path.rename(f, new_folder / name) # Equivalent to the previous line"
   ]
  },
  {
   "cell_type": "markdown",
   "id": "f90ed2d7",
   "metadata": {},
   "source": [
    "# Turing patterns\n",
    "You can find here a simple, naive implementation of the Turing patterns.\n",
    "\n",
    "There are few cosmetic deviations from a normal implementation (especially the variable dt).\n",
    "\n",
    "For info: [@guignardlab](https://twitter.com/guignardlab)"
   ]
  },
  {
   "cell_type": "code",
   "execution_count": null,
   "id": "3ba1fa59",
   "metadata": {},
   "outputs": [],
   "source": [
    "import numpy as np\n",
    "from colorsys import rgb_to_hsv, hsv_to_rgb\n",
    "from matplotlib import pyplot as plt\n",
    "from matplotlib import animation, rc\n",
    "from matplotlib.colors import LinearSegmentedColormap\n",
    "from IPython.display import HTML\n",
    "from scipy.signal import convolve2d\n",
    "from scipy.stats import logistic\n",
    "%matplotlib inline\n",
    "\n",
    "## CenTuri \"colormap\"\n",
    "RGB = np.array([0, 137, 179])/255\n",
    "HSV = rgb_to_hsv(*RGB)\n",
    "colors = [hsv_to_rgb(HSV[0], 0, HSV[1]), hsv_to_rgb(HSV[0], 1, HSV[1])]\n",
    "cmap = LinearSegmentedColormap.from_list(\"CenTuri_cmap\", colors)\n",
    "\n",
    "# Useful functions\n",
    "def norm_array(array, mask, th=None, func=None):\n",
    "    \"\"\"\n",
    "    Normalizing an array between 0 and 1\n",
    "    \n",
    "    Parameters\n",
    "    ----------\n",
    "    array : ndarray of shape 2 or 3\n",
    "        The array to be normalize. If the shape of the\n",
    "        array is 3, each 2D arrays will be normalized\n",
    "        independently along the axis 0\n",
    "    mask : ndarray of with the same shape of array\n",
    "        Puts to 0 values that are outside of the mask\n",
    "    th : float\n",
    "        any value bellow the threshold are put to 0\n",
    "    func : function\n",
    "        a function that will be applied to the normalized\n",
    "        array if th is None\n",
    "    Returns\n",
    "    -------\n",
    "    out : ndarray\n",
    "        The normalized array\n",
    "    \"\"\"\n",
    "    if len(array.shape)==2:\n",
    "        vals_to_norm = array[mask!=0]\n",
    "        out = (array-vals_to_norm.min())/(vals_to_norm.max() - vals_to_norm.min())\n",
    "        out[mask==0] = 0\n",
    "    else:\n",
    "        vals_to_norm = array[mask!=0]\n",
    "        out = (array-vals_to_norm.min(axis=0))/(vals_to_norm.max(axis=0) - vals_to_norm.min(axis=0))\n",
    "        out[mask==0] = 0\n",
    "    if th:\n",
    "        out[out<th] = 0\n",
    "    elif func:\n",
    "        out = func(out)\n",
    "    return out\n",
    "\n",
    "def outer_circle(XY, centre, r):\n",
    "    \"\"\"\n",
    "    From an np.mgrid `XY`, builds a mask that is True within\n",
    "    the circle centered in `centre` and of radius `r`\n",
    "\n",
    "    Parameters\n",
    "    ----------\n",
    "    XY : 2D mgrid\n",
    "        The support of the mask\n",
    "    centre: tuple of floats\n",
    "        The coordinates of the centre of circle\n",
    "    r: float\n",
    "        Radius of the circle\n",
    "    \n",
    "    Returns\n",
    "    -------\n",
    "    out : ndarray of the same shape of XY\n",
    "        The mask\n",
    "    \"\"\"\n",
    "    return (XY[0]-centre[0])**2 + (XY[1]-centre[1])**2 < r**2"
   ]
  },
  {
   "cell_type": "markdown",
   "id": "18f79461",
   "metadata": {},
   "source": [
    "We have an activator $A$ and an inhibitor $I$ which interact as follow:\n",
    "\n",
    "$A \\rightarrow A$\n",
    "\n",
    "$A \\rightarrow I$\n",
    "\n",
    "$I \\dashv A$\n",
    "\n",
    "Resulting in the following equations:\n",
    "\n",
    "$\\frac{\\delta A}{\\delta t} = k_{AA} A - k_{IA} I$\n",
    "\n",
    "$\\frac{\\delta I}{\\delta t} = k_{AI} A - k_{II} I$"
   ]
  },
  {
   "cell_type": "code",
   "execution_count": null,
   "id": "383b0160",
   "metadata": {},
   "outputs": [],
   "source": [
    "# Functions for the evolution of A and I\n",
    "dA_dt = lambda AI: (kAA * AI[0] - kIA * AI[1])\n",
    "dI_dt = lambda AI: (kAI * AI[0] - kII * AI[1])\n",
    "\n",
    "def dAI_dt(AI):\n",
    "    return dA_dt(AI), dI_dt(AI)"
   ]
  },
  {
   "cell_type": "markdown",
   "id": "b071d90c",
   "metadata": {},
   "source": [
    "The antagonist (resp. inhibitor) diffuses according to a diffusion coefficient $\\mu$ (resp. $\\nu$) to the 4 neighboring cells. The diffusion is modeled as follow:\n",
    "\n",
    "$\\frac{\\delta A_{x, y}}{\\delta x \\delta y} = \\mu(A_{x+\\delta x, y} + A_{x-\\delta x, y} + A_{x, y+\\delta y} + A_{x, y-\\delta y} - 4A_{x, y})$\n",
    "\n",
    "$\\frac{\\delta I_{x, y}}{\\delta x \\delta y} = \\nu(I_{x+\\delta x, y} + I_{x-\\delta x, y} + I_{x, y+\\delta y} + I_{x, y-\\delta y} - 4I_{x, y})$"
   ]
  },
  {
   "cell_type": "code",
   "execution_count": null,
   "id": "57321a31",
   "metadata": {},
   "outputs": [],
   "source": [
    "def diffusion(array, weights):\n",
    "    \"\"\"\n",
    "    Computes the diffusion in 2D given a set of weights.\n",
    "    The weights are useful for the average at the borders\n",
    "    of the region considered.\n",
    "    If this is the region considered:\n",
    "    [[ 0 0 0 0 0 0 ]\n",
    "     [ 0 0 1 1 0 0 ]\n",
    "     [ 0 1 1 1 1 0 ]\n",
    "     [ 0 1 1 1 1 0 ]\n",
    "     [ 0 0 1 1 0 0 ]\n",
    "     [ 0 0 0 0 0 0 ]]\n",
    "    the weights should be the number of neighbors\n",
    "    within the mask:\n",
    "    [[ 0 0 0 0 0 0 ]\n",
    "     [ 0 0 2 2 0 0 ]\n",
    "     [ 0 2 4 4 2 0 ]\n",
    "     [ 0 2 4 4 2 0 ]\n",
    "     [ 0 0 2 2 0 0 ]\n",
    "     [ 0 0 0 0 0 0 ]]\n",
    "    this can be obtained by convolving\n",
    "    the mask with the following kernel:\n",
    "    [[ 0 1 0 ]\n",
    "     [ 1 0 1 ]\n",
    "     [ 0 1 0 ]]\n",
    "    \n",
    "    Parameters\n",
    "    ----------\n",
    "    array : ndarray of floats shape NxM\n",
    "        The array with the initial concentrations\n",
    "    weights : ndarray of floats of shape NxM\n",
    "        The weights for the diffusion\n",
    "    \n",
    "    Returns\n",
    "    -------\n",
    "    out : ndarray of shape NxM\n",
    "        the initial array after diffusion\n",
    "        (without taking into account the\n",
    "        diffusion coefficients)\n",
    "    \"\"\"\n",
    "    kernel = [[0, 1, 0],\n",
    "              [1, 0, 1],\n",
    "              [0, 1, 0]]\n",
    "    out = convolve2d(array, kernel, boundary='symm', mode='same')\n",
    "    out -= array * weights\n",
    "    return out"
   ]
  },
  {
   "cell_type": "markdown",
   "id": "aaae76bc",
   "metadata": {},
   "source": [
    "Then we combine the activation/inhibition and diffusion and we get:\n",
    "\n",
    "$\\frac{\\delta A_{x, y}}{\\delta t\\delta x \\delta y} = k_{f} A - k_{r} I + \\mu(A_{x+\\delta x, y} + A_{x-\\delta x, y} + A_{x, y+\\delta y} + A_{x, y-\\delta y} - 4A_{x, y})$\n",
    "\n",
    "$\\frac{\\delta I_{x, y}}{\\delta t\\delta x \\delta y} = k_{e} A - k_{d} I + \\nu(I_{x+\\delta x, y} + I_{x-\\delta x, y} + I_{x, y+\\delta y} + I_{x, y-\\delta y} - 4I_{x, y})$"
   ]
  },
  {
   "cell_type": "code",
   "execution_count": null,
   "id": "414d6c8d",
   "metadata": {},
   "outputs": [],
   "source": [
    "def dAI_dtxy(A, I, dt, dx, dy, mu, nu, weights):\n",
    "    \"\"\"\n",
    "    Integrating activation, inhibition and diffusion\n",
    "    \n",
    "    Parameters\n",
    "    ----------\n",
    "    A : ndarray of floats of shape NxM\n",
    "        The array containing the initial\n",
    "        concentration of activators\n",
    "    I : ndarray of floats of shape NxM\n",
    "        The array containing the initial\n",
    "        concentration of inhibitors\n",
    "    dt : float\n",
    "        time increment\n",
    "    dx : float\n",
    "        size of a pixel in `A` and `I` in µm\n",
    "        along the `x` dimension\n",
    "    dy : float\n",
    "        size of a pixel in `A` and `I` in µm\n",
    "        along the `y` dimension\n",
    "    mu : float\n",
    "        diffusion coefficient for the activator\n",
    "    nu : float\n",
    "        diffusion coefficient for the inhibitor\n",
    "    weights : ndarray of shape NxM\n",
    "        weights for the diffusion average related\n",
    "        to the mask considered\n",
    "    \n",
    "    Returns\n",
    "    -------\n",
    "    A : ndarray of floats of shape NxM\n",
    "        The array containing the new\n",
    "        concentration of activators after\n",
    "        a time dt\n",
    "    I : ndarray of floats of shape NxM\n",
    "        The array containing the new\n",
    "        concentration of inhibitors after\n",
    "        a time dt\n",
    "    \"\"\"\n",
    "    diffusion_A = diffusion(A, weights)/(dx*dy)\n",
    "    diffusion_I = diffusion(I, weights)/(dx*dy)\n",
    "    new_A = A + dt*(dA_dt([A, I]) + mu*diffusion_A)\n",
    "    new_I = I + dt*(dI_dt([A, I]) + nu*diffusion_I)\n",
    "    A = new_A\n",
    "    I = new_I\n",
    "    A[mask==0] = 0\n",
    "    I[mask==0] = 0\n",
    "    return A, I"
   ]
  },
  {
   "cell_type": "markdown",
   "id": "c9c94453",
   "metadata": {},
   "source": [
    "Carefully chosen parameters, thanks to [Alice Gros](https://twitter.com/_AliceGros) in [@Equipe_lenne](https://twitter.com/Equipe_lenne)"
   ]
  },
  {
   "cell_type": "code",
   "execution_count": null,
   "id": "4076dabb",
   "metadata": {},
   "outputs": [],
   "source": [
    "kAA, kIA, kAI, kII = 10, 12, 31, 20\n",
    "mu = 0.001\n",
    "nu = 0.025\n",
    "\n",
    "# voxel size in the x and y dimensions\n",
    "dx = dy = 0.02\n",
    "\n",
    "# step size of time in seconds\n",
    "dt = 0.000001\n",
    "# because the timestep has to be smaller\n",
    "# at the begining we use a variable dt\n",
    "dt_final = 0.001\n",
    "variable_dt = np.linspace(dt, dt_final, n)\n",
    "\n",
    "# Number of iterations\n",
    "n = 20000\n",
    "# Number of timepoints to save\n",
    "nb_times_im = 200"
   ]
  },
  {
   "cell_type": "markdown",
   "id": "77662562",
   "metadata": {},
   "source": [
    "Random initialisation of the circle\n",
    "\n",
    "Computation of the weight mask\n",
    "\n",
    "Initialisation of the final array which will contain our data"
   ]
  },
  {
   "cell_type": "code",
   "execution_count": null,
   "id": "b579d29c",
   "metadata": {},
   "outputs": [],
   "source": [
    "# size of the grid onto which the model is run\n",
    "grid_size = 100\n",
    "# centre and radius of the circle onto wich\n",
    "# the model is run\n",
    "circle_center = [49, 49]\n",
    "radius = 45\n",
    "\n",
    "# randomizing the initial state\n",
    "# change the seed from 1 to any other value\n",
    "# to observe different results\n",
    "generator = np.random.default_rng(1)\n",
    "init_A = generator.uniform(size=(grid_size, grid_size))\n",
    "init_I = generator.uniform(size=(grid_size, grid_size))\n",
    "\n",
    "# building the mask to get a circle\n",
    "# together with the weights related\n",
    "# to this specific mask.\n",
    "mask = (outer_circle(np.mgrid[:grid_size, :grid_size], circle_center, r=radius)).astype(np.uint8)\n",
    "kernel = [[0, 1, 0],\n",
    "          [1, 0, 1],\n",
    "          [0, 1, 0]]\n",
    "weights = convolve2d(mask, kernel, boundary='symm', mode='same')\n",
    "\n",
    "# Masking the initial position and\n",
    "# copying it for safety\n",
    "init_A[mask==0] = 0\n",
    "init_I[mask==0] = 0\n",
    "A = init_A.copy()\n",
    "I = init_I.copy()\n",
    "\n",
    "# ndarray in which will be stored the results\n",
    "final_A = np.zeros(A.shape + (nb_times_im+1,))"
   ]
  },
  {
   "cell_type": "markdown",
   "id": "e8085dbd",
   "metadata": {},
   "source": [
    "Running the simulation"
   ]
  },
  {
   "cell_type": "code",
   "execution_count": null,
   "id": "04bbff79",
   "metadata": {},
   "outputs": [],
   "source": [
    "for i in range(n):\n",
    "    if variable_dt is not None:\n",
    "        dt = variable_dt[i]\n",
    "    if i%(n//nb_times_im)==0:\n",
    "        final_A[...,int(i//(n/nb_times_im))] = A\n",
    "    A, I = dAI_dtxy(A, I, dt, dx, dx, mu, nu, weights)\n",
    "    \n",
    "final_A[...,-1] = A"
   ]
  },
  {
   "cell_type": "code",
   "execution_count": null,
   "id": "5f82ed16",
   "metadata": {},
   "outputs": [],
   "source": [
    "# Normalizing the final array using a logistic function\n",
    "# centered in 0.5 to have values between 0 and 1 but\n",
    "# a sharper slope between low and high expression\n",
    "normed_array = norm_array(final_A, mask, func=lambda x:logistic.cdf(x, .5, .05))"
   ]
  },
  {
   "cell_type": "markdown",
   "id": "fb35c99e",
   "metadata": {},
   "source": [
    "Plotting the results"
   ]
  },
  {
   "cell_type": "code",
   "execution_count": null,
   "id": "4ceb4d50",
   "metadata": {},
   "outputs": [],
   "source": [
    "fig, ax = plt.subplots(figsize=(10,10))\n",
    "ax.axis('off')\n",
    "im = ax.imshow(init_A, cmap=cmap)\n",
    "fig.tight_layout()\n",
    "\n",
    "def init():\n",
    "    im.set_data(init_A)\n",
    "    return(im,)\n",
    "\n",
    "def animate(i):\n",
    "    im.set_data(normed_array[...,i])\n",
    "    return(im,)\n",
    "\n",
    "anim = animation.FuncAnimation(fig, animate, init_func=init,\n",
    "                               frames=nb_times_im, interval=25, \n",
    "                               blit=True)\n",
    "\n",
    "HTML(anim.to_jshtml())"
   ]
  },
  {
   "cell_type": "code",
   "execution_count": null,
   "id": "e767bdb4",
   "metadata": {},
   "outputs": [],
   "source": [
    "anim.save('turing.gif', dpi=50)"
   ]
  }
 ],
 "metadata": {
  "kernelspec": {
   "display_name": "Python 3 (ipykernel)",
   "language": "python",
   "name": "python3"
  },
  "language_info": {
   "codemirror_mode": {
    "name": "ipython",
    "version": 3
   },
   "file_extension": ".py",
   "mimetype": "text/x-python",
   "name": "python",
   "nbconvert_exporter": "python",
   "pygments_lexer": "ipython3",
   "version": "3.9.7"
  }
 },
 "nbformat": 4,
 "nbformat_minor": 5
}
