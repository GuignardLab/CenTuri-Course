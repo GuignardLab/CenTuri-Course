{
 "cells": [
  {
   "cell_type": "markdown",
   "id": "4d6acef5",
   "metadata": {},
   "source": [
    "# Table of contents\n",
    "0. [Introduction](0-Introduction.ipynb)\n",
    "1. [Variables](1-Variables.ipynb)\n",
    "2. [Data structures](2-Data-Structures.ipynb)\n",
    "3. [Conditional statements and loops](3-Conditional-Statements-Loops.ipynb)\n",
    "4. [Some exercises](4-Some-Exercises.ipynb)\n",
    "5. [Introduction to functions](5-0-Introduction-function.ipynb)\n",
    "    1. [File manipulation](5-1-File-manipulation.ipynb)\n",
    "6. [From 0D to 1D](6-1-From-0D-to-1D.ipynb)\n",
    "    1. [Adding lateral diffusion](6-2-Adding-lateral-diffusion.ipynb)\n",
    "7. [From 1D to 2D](7-From-1D-to-2D.ipynb) $\\leftarrow$\n",
    "8. [Playing with the model](8-Playing-with-the-model.ipynb)"
   ]
  },
  {
   "cell_type": "markdown",
   "id": "3a60c847",
   "metadata": {},
   "source": [
    "## 7. From 1 to 2D!\n",
    "---\n",
    "Now, we've seen diffusion in 1 dimension, expanding it to 2 dimensions is not that complicated.\n",
    "\n",
    "First we need to create our array of cells. This is an array of dimension `(size, size, n)`. We will therefore have `size*size` cells over `n` time-points:"
   ]
  },
  {
   "cell_type": "code",
   "execution_count": null,
   "id": "62bb860f",
   "metadata": {},
   "outputs": [],
   "source": [
    "# importing the numpy library\n",
    "import numpy as np\n",
    "\n",
    "# importing the useful functions\n",
    "from Resources.UsefulFunctions import *\n",
    "from Resources.Answers import answer, hint\n",
    "\n",
    "# and carrying over the previously declared variables\n",
    "mu_a = 2.8e-4\n",
    "mu_i = 5e-3\n",
    "tau = 0.1\n",
    "k = -0.005\n",
    "size = 100\n",
    "dx = dy = 2.0 / size\n",
    "T = 9.0\n",
    "dt = 0.001\n",
    "n = int(T / dt)"
   ]
  },
  {
   "cell_type": "code",
   "execution_count": null,
   "id": "1e9f92d9",
   "metadata": {},
   "outputs": [],
   "source": [
    "A = np.zeros((size, size, n))\n",
    "I = np.zeros((size, size, n))"
   ]
  },
  {
   "cell_type": "markdown",
   "id": "0455dea7",
   "metadata": {},
   "source": [
    "Then, initialise the first time-point:"
   ]
  },
  {
   "cell_type": "code",
   "execution_count": null,
   "id": "24f79ede",
   "metadata": {},
   "outputs": [],
   "source": [
    "np.random.seed(0)\n",
    "A[:, :, 0] = np.random.random((size, size))\n",
    "np.random.seed(1)\n",
    "I[:, :, 0] = np.random.random((size, size))"
   ]
  },
  {
   "cell_type": "markdown",
   "id": "a8f18c3a",
   "metadata": {},
   "source": [
    "Now, the non-diffusive term of our equation are \"simple\":\n",
    "```python\n",
    "A[:, :, t] = A[:, :, t-1] + dt*(A[:, :, t-1] - A[:, :, t-1]**3 + k)\n",
    "```\n",
    "and\n",
    "```python\n",
    "I[:, :, t] = I[:, :, t-1] + dt/tau*(A[:, :, t-1] - I[:, :, t-1])\n",
    "```\n",
    "\n",
    "The diffusion term is slightly more complex since we have to look in the two dimensions as opposed to only one dimension as we did before.\n",
    "\n",
    "Within each cell at a given position `i, j` at time `t` we want to add the concentration of the cells directly next to it at time `t-1`, this is the diffusion of the neighbouring cells to that cell:\n",
    "```python\n",
    "diff_A[i, j] = A[i-1, j, t-1] + A[i+1, j, t-1] + A[i, j-1, t-1] + A[i, j+1, t-1]\n",
    "```\n",
    "- `A[i-1, j  , t-1]` is the concentration value at time `t-1` of the left hand cell.\n",
    "- `A[i+1, j  , t-1]` is the concentration value at time `t-1` of the right hand cell.\n",
    "- `A[i  , j-1, t-1]` is the concentration value at time `t-1` of the lower cell.\n",
    "- `A[i  , j+1, t-1]` is the concentration value at time `t-1` of the upper cell.\n",
    "\n",
    "We then need to subtract 4 times the value at the concentration of that cell, this is the diffusion of that cell towards its 4 neighbours:\n",
    "\n",
    "```python\n",
    "diff_A[i, j] = diff_A[i, j] - 4*A[i, j, t-1]\n",
    "```\n",
    "\n",
    "This value needs to be normalised by the diffusion coefficient $mu_a$ or $mu_i$, the time step $\\delta t$ and the spatial resolution in x and y $\\delta x$ and $\\delta y$:\n",
    "```python\n",
    "diff_A[i, j] = dt*mu_a(  A[i-1, j  , t-1]\n",
    "                       + A[i+1, j  , t-1]\n",
    "                       + A[i  , j-1, t-1]\n",
    "                       + A[i  , j+1, t-1]\n",
    "                       - 4*A[i, j, t-1])/(dx*dy)\n",
    "```\n",
    "\n",
    "(Note that the diffusion is shown for the activator `A` but it is similarly computed for the inhibitor `I`)\n",
    "\n",
    "Now, there are two important things to notice in the computation of `diff_A` (resp. `diff_I`):\n",
    "- we are adding the value of the cells around\n",
    "- we are subtracting the value of the current cell as many times as it has neighbours.\n",
    "\n",
    "There is a way to \"directly\" compute how much a cell is receiving from its neighbours by using the convolution operator.\n",
    "\n",
    "For example, given an image `I` and a kernel `k`:\n",
    "```python\n",
    "k = [[ 0, .5,  0],\n",
    "     [.5,  2, .5],\n",
    "     [ 0, .5,  0]]\n",
    "```\n",
    "convolving `I` by `k` (giving the image `cI`) means that each pixel of `I` will be have a new value:\n",
    "```python\n",
    "cI[i, j] =(   .5 * I[i-1, j  ]\n",
    "            + .5 * I[i+1, j  ]\n",
    "            + .5 * I[i  , j-1]\n",
    "            + .5 * I[i  , j+1]\n",
    "            +  2 * I[i  , j  ] )\n",
    "```\n",
    "\n",
    "This is really close to what we want to do for our diffusion term."
   ]
  },
  {
   "cell_type": "markdown",
   "id": "6b91c142",
   "metadata": {},
   "source": [
    "What would be the kernel that we would like to have to compute the diffusion of neighbouring cells to any given cell?"
   ]
  },
  {
   "cell_type": "code",
   "execution_count": null,
   "id": "34baa8a6",
   "metadata": {},
   "outputs": [],
   "source": [
    "# Write here the kernel\n",
    "# kernel = [[0, 0, 0],\n",
    "#           [0, 0, 0],\n",
    "#           [0, 0, 0]]\n",
    "kernel = np.array([[0, 1, 0], [1, 0, 1], [0, 1, 0]])"
   ]
  },
  {
   "cell_type": "markdown",
   "id": "b0d7bd66",
   "metadata": {},
   "source": [
    "Now we have our kernel and our initial image, we can use the convolve function from scipy:"
   ]
  },
  {
   "cell_type": "code",
   "execution_count": null,
   "id": "ef0bb1de",
   "metadata": {},
   "outputs": [],
   "source": [
    "from scipy.ndimage import convolve\n",
    "\n",
    "?convolve"
   ]
  },
  {
   "cell_type": "markdown",
   "id": "790b29d1",
   "metadata": {},
   "source": [
    "We can use it the following way:"
   ]
  },
  {
   "cell_type": "code",
   "execution_count": null,
   "id": "cb09d351",
   "metadata": {},
   "outputs": [],
   "source": [
    "to_cell = convolve(A[..., 0], kernel, mode=\"constant\", cval=0)"
   ]
  },
  {
   "cell_type": "markdown",
   "id": "19ea5699",
   "metadata": {},
   "source": [
    "Now, because we don't alway have the same number of neighbours, we need to calculate it before subtracting to have our full diffusion term.\n",
    "\n",
    "Using the convolution, can you think of a way to count the number of neighbours for each cell?"
   ]
  },
  {
   "cell_type": "code",
   "execution_count": null,
   "id": "06d1ec70",
   "metadata": {},
   "outputs": [],
   "source": [
    "# Think about how to do it\n",
    "nb_neighbs = ..."
   ]
  },
  {
   "cell_type": "markdown",
   "id": "6ef8167b",
   "metadata": {},
   "source": [
    "Assuming that we have computed the number of neighbours we can compute our diffusion term as follow:"
   ]
  },
  {
   "cell_type": "code",
   "execution_count": null,
   "id": "1c0b98af",
   "metadata": {},
   "outputs": [],
   "source": [
    "# to_cell = convolve(A[..., 0], k, mode='constant', cval=0)\n",
    "# from_cell = nb_neighbs * A[..., 0]\n",
    "# diff_A = to_cell - from_cell"
   ]
  },
  {
   "cell_type": "markdown",
   "id": "7edd2186",
   "metadata": {},
   "source": [
    "### Exercise 16\n",
    "Write a function `diffusion` that takes as an input an array of cells `arr`, the number of neighbours `nb_neighbs`, a kernel `kernel` a diffusion coefficient `mu` and the `dx` and `dy` resolution and outputs the diffusion term."
   ]
  },
  {
   "cell_type": "code",
   "execution_count": null,
   "id": "575e96ad",
   "metadata": {},
   "outputs": [],
   "source": [
    "## Here you write the function\n",
    "def diffusion(arr, nb_neighbs, kernel, mu, dx, dy):\n",
    "    arr_diff = np.zeros_like(arr)\n",
    "    return arr_diff"
   ]
  },
  {
   "cell_type": "code",
   "execution_count": null,
   "id": "8f85a4e0",
   "metadata": {},
   "outputs": [],
   "source": [
    "np.random.seed(0)\n",
    "A[:, :, 0] = np.random.random((size, size))\n",
    "np.random.seed(1)\n",
    "I[:, :, 0] = np.random.random((size, size))\n",
    "\n",
    "kernel = np.array([[0, 1, 0], [1, 0, 1], [0, 1, 0]])\n",
    "mask = np.ones_like(A[:, :, 0])\n",
    "nb_neighbs = convolve(mask, kernel, mode=\"constant\", cval=0)\n",
    "\n",
    "diff_A = diffusion(A[..., 0], nb_neighbs, kernel, mu_a, dx, dy)\n",
    "diff_I = diffusion(I[..., 0], nb_neighbs, kernel, mu_i, dx, dy)\n",
    "test_diff_A = answer_results(\n",
    "    16,\n",
    "    arr=A[:, :, 0],\n",
    "    nb_neighbs=nb_neighbs,\n",
    "    kernel=kernel,\n",
    "    mu=mu_a,\n",
    "    dx=dx,\n",
    "    dy=dy,\n",
    ")\n",
    "test_diff_I = answer_results(\n",
    "    16,\n",
    "    arr=I[:, :, 0],\n",
    "    nb_neighbs=nb_neighbs,\n",
    "    kernel=kernel,\n",
    "    mu=mu_i,\n",
    "    dx=dx,\n",
    "    dy=dy,\n",
    ")\n",
    "if np.alltrue(diff_A == test_diff_A) and np.alltrue(diff_I == test_diff_I):\n",
    "    print(\"My results are the same as what is expected\")\n",
    "elif np.allclose(diff_A, test_diff_A) and np.allclose(diff_I, test_diff_I):\n",
    "    print(\"My results are all close to what is expected\")\n",
    "else:\n",
    "    print(\"My results are different to what was expected\")"
   ]
  },
  {
   "cell_type": "markdown",
   "id": "cd8a1f0f",
   "metadata": {},
   "source": [
    "### Almost there!\n",
    "Now, we know how to compute all the terms of the equation for both the activator and the inhibitor.\n",
    "\n",
    "### Exercise 17\n",
    "Write a function that takes as an input the parameters of the model and returns two arrays of size `size x size x n` with all the computed states of our turing model."
   ]
  },
  {
   "cell_type": "code",
   "execution_count": null,
   "id": "f25247a6",
   "metadata": {},
   "outputs": [],
   "source": [
    "import numpy as np\n",
    "from scipy.ndimage import convolve\n",
    "\n",
    "mu_a = 2.8e-4\n",
    "mu_i = 5e-3\n",
    "tau = 0.1\n",
    "k = -0.005\n",
    "size = 100\n",
    "dx = dy = 2.0 / size\n",
    "T = 9.0\n",
    "dt = 0.001\n",
    "\n",
    "\n",
    "def diffusion(arr, nb_neighbs, kernel, mu, dx, dy):\n",
    "    to_cell = convolve(arr, kernel, mode=\"constant\", cval=0)\n",
    "    from_cell = nb_neighbs * arr\n",
    "    out = mu * (to_cell - from_cell) / (dx * dy)\n",
    "    return out\n",
    "\n",
    "\n",
    "# Write the function here:\n",
    "def compute_turing(dt, k, tau, size, T, mu_a, mu_i, dx, dy, seed=0):\n",
    "    ...\n",
    "\n",
    "\n",
    "# A, I = compute_turing(dt, k, tau, size, T, mu_a, mu_i, dx, dy)"
   ]
  },
  {
   "cell_type": "markdown",
   "id": "22240249",
   "metadata": {},
   "source": [
    "## Displaying the result\n",
    "---\n",
    "We can now display the result of our modeling using matplotlib.\n",
    "\n",
    "Though it is not completely trivial since it is a 3D data (2D + time).\n",
    "\n",
    "First of, we can at least look at some specific time points using the function imshow of matplotlib:"
   ]
  },
  {
   "cell_type": "code",
   "execution_count": null,
   "id": "31f09d6b",
   "metadata": {},
   "outputs": [],
   "source": [
    "import matplotlib.pyplot as plt\n",
    "\n",
    "# Recomputing the previous results if necessary. Comment if it is not necessary.\n",
    "A, I = answer_results(\n",
    "    17, dt=dt, k=k, tau=tau, size=size, T=T, mu_a=mu_a, mu_i=mu_i, dx=dx, dy=dy\n",
    ")"
   ]
  },
  {
   "cell_type": "code",
   "execution_count": null,
   "id": "f903e703",
   "metadata": {},
   "outputs": [],
   "source": [
    "plt.imshow(A[..., -1])"
   ]
  },
  {
   "cell_type": "markdown",
   "id": "b3fdb9ef",
   "metadata": {},
   "source": [
    "We can improve a bit the display:"
   ]
  },
  {
   "cell_type": "code",
   "execution_count": null,
   "id": "c16a9eab",
   "metadata": {},
   "outputs": [],
   "source": [
    "fig, ax = plt.subplots(figsize=(6, 6))\n",
    "ax.imshow(A[..., -1])\n",
    "ax.set_axis_off()\n",
    "fig.tight_layout()"
   ]
  },
  {
   "cell_type": "markdown",
   "id": "00341013",
   "metadata": {},
   "source": [
    "We can show multiple time points at a time:"
   ]
  },
  {
   "cell_type": "code",
   "execution_count": null,
   "id": "807b1345",
   "metadata": {},
   "outputs": [],
   "source": [
    "nb_TP = 9\n",
    "n = A.shape[-1]\n",
    "x_dim = int(nb_TP**0.5)\n",
    "y_dim = nb_TP // x_dim\n",
    "if x_dim * y_dim < nb_TP:\n",
    "    y_dim += 1\n",
    "fig, axes = plt.subplots(x_dim, y_dim, figsize=(6, 6))\n",
    "for i, ax in enumerate(axes.flatten()):\n",
    "    ax.imshow(A[..., int(i * n / nb_TP)])\n",
    "    ax.set_axis_off()\n",
    "    ax.set_title(f\"Time {int(i*n/nb_TP)*dt}\")\n",
    "fig.tight_layout()\n",
    "# int(nb_TP**.5)"
   ]
  },
  {
   "cell_type": "markdown",
   "id": "cb05f742",
   "metadata": {},
   "source": [
    "Now, we can also build animation of the model:"
   ]
  },
  {
   "cell_type": "code",
   "execution_count": null,
   "id": "fc4a6d6b",
   "metadata": {},
   "outputs": [],
   "source": [
    "from matplotlib import animation\n",
    "from IPython.display import HTML\n",
    "\n",
    "fig, ax = plt.subplots(figsize=(5, 5))\n",
    "ax.axis(\"off\")\n",
    "im = ax.imshow(A[..., 0], interpolation=\"bilinear\")\n",
    "fig.tight_layout()\n",
    "\n",
    "\n",
    "def init():\n",
    "    im.set_data(A_anim[..., 0])\n",
    "    return (im,)\n",
    "\n",
    "\n",
    "def animate(i):\n",
    "    im.set_data(A_anim[..., i])\n",
    "    return (im,)\n",
    "\n",
    "\n",
    "nb_times_im = 100\n",
    "A_anim = A[..., :: A.shape[-1] // nb_times_im]\n",
    "anim = animation.FuncAnimation(\n",
    "    fig, animate, init_func=init, frames=nb_times_im, interval=25, blit=True\n",
    ")\n",
    "\n",
    "HTML(anim.to_jshtml())"
   ]
  },
  {
   "cell_type": "code",
   "execution_count": null,
   "id": "c5549627",
   "metadata": {},
   "outputs": [],
   "source": [
    "anim.save(\"My-first-Turing-Pattern.gif\")"
   ]
  }
 ],
 "metadata": {
  "kernelspec": {
   "display_name": "Python 3 (ipykernel)",
   "language": "python",
   "name": "python3"
  },
  "language_info": {
   "codemirror_mode": {
    "name": "ipython",
    "version": 3
   },
   "file_extension": ".py",
   "mimetype": "text/x-python",
   "name": "python",
   "nbconvert_exporter": "python",
   "pygments_lexer": "ipython3",
   "version": "3.10.4"
  }
 },
 "nbformat": 4,
 "nbformat_minor": 5
}
