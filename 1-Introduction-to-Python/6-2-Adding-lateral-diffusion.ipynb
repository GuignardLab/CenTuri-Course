{
 "cells": [
  {
   "cell_type": "markdown",
   "id": "381f976b",
   "metadata": {},
   "source": [
    "# Table of contents\n",
    "0. [Introduction](0-Introduction.ipynb)\n",
    "1. [Variables](1-Variables.ipynb)\n",
    "2. [Data structures](2-Data-Structures.ipynb)\n",
    "3. [Conditional statements and loops](3-Conditional-Statements-Loops.ipynb)\n",
    "4. [Some exercises](4-Some-Exercises.ipynb)\n",
    "5. [Introduction to functions](5-0-Introduction-function.ipynb)\n",
    "    1. [File manipulation](5-1-File-manipulation.ipynb)\n",
    "6. [From 0D to 1D](6-1-From-0D-to-1D.ipynb)\n",
    "    1. [Adding lateral diffusion](6-2-Adding-lateral-diffusion.ipynb) $\\leftarrow$\n",
    "7. [From 1D to 2D](7-From-1D-to-2D.ipynb)\n",
    "8. [Playing with the model](8-Playing-with-the-model.ipynb)"
   ]
  },
  {
   "cell_type": "markdown",
   "id": "c77ca9fb",
   "metadata": {},
   "source": [
    "### 5.2 Adding lateral diffusion\n",
    "Now, we are going to start doing real 1D!\n",
    "\n",
    "The idea is that, up to now, we are able to have a row of cells that are acting next to each other but independently. We want to add to that the diffusion process of the Turing patterns: the $\\mu_a\\nabla^2 a$ and $\\mu_i\\nabla^2 i$.\n",
    "\n",
    "We model the lateral diffusion for a given cell as simply as possible. The diffusion is a proportion (the parameters $\\mu_a$ and $\\mu_i$) of concentration that a cell receive from its direct neighbours minus what that cell gives to its neighbour, which is twice a given proportion of its own concentration (the proportion being $\\mu_a$ for the activator and $\\mu_i$ for the inhibitor).\n",
    "\n",
    "Now, if $a_x$ is the activator concentration in the cell at the position $x$, we can formalise the previous sentence as follow:\n",
    "$$\n",
    "\\mu_a\\nabla^2 a_x = \\mu_a \\frac{a_{x+\\delta x} + a_{x-\\delta x} - 2a_x}{\\delta x}\n",
    "$$\n",
    "\n",
    "Therefore, after diffusion for a given time $\\delta t$, the concentration $a_x$ is:\n",
    "$$\n",
    "a_{x, t+\\delta t} = a_{x, t} + \\delta t\\mu_a\\nabla^2 a_{x,t} = a_{x,t} + \\delta t\\mu_a \\frac{a_{x+\\delta x, t} + a_{x-\\delta x, t} - 2a_{x, t}}{\\delta x}\n",
    "$$\n",
    "We tried to explain that with the following figure:\n",
    "<img src=\"Images/Diffusion.png\" alt=\"Diffusion\" width=\"500\"/>"
   ]
  },
  {
   "cell_type": "markdown",
   "id": "c7aa72fe",
   "metadata": {},
   "source": [
    "Now that we have explained the theory (which might look a bit scary at first glance), let's see how we can implement that in practice.\n",
    "\n",
    "As before, we need to compute the concentration of $A$ and $I$ for each cell.\n",
    "The difference is that before it was only depending on what was in that cell, now it also depends on what was in the neighbouring cells.\n",
    "\n",
    "Before (no neighbourhood interaction), i:\n",
    "```python\n",
    "A[i, t] = A[i, t-1] + dt * (A[i, t-1] - A[i, t-1]**3 - I[i, t-1] + k)\n",
    "I[i, t] = I[i, t-1] + dt/tau * (A[i, t-1] - I[i, t-1])\n",
    "```\n",
    "\n",
    "After (with neighbourhood interaction):\n",
    "```python\n",
    "A[i, t] = A[i, t-1] + dt * (mu_a*(A[i-1, t-1] + A[i+1, t-1] - 2*A[i, t-1]) +\\\n",
    "                            A[i, t-1] - A[i, t-1]**3 - I[i, t-1] + k)\n",
    "I[i, t] = I[i, t-1] + dt/tau * (mu_i*(I[i-1, t-1] + I[i-1, t+1] - 2*I[i, t-1]) +\\\n",
    "                                A[i, t-1] - I[i, t-1])\n",
    "```\n",
    "\n",
    "What it means in practice is that, to compute the concentration of the activator or the inhibitor for a given cell, not only we need to know what was happening at the previous time in that cell but we also need to know what was happening in the neighbouring cells."
   ]
  },
  {
   "cell_type": "markdown",
   "id": "8312b728",
   "metadata": {},
   "source": [
    "### Exercise 14 (kind of a tough one 😨)\n",
    "\n",
    "Because we are adding a new dimension to our problem, most of what we have developed until now becomes obsolete ...\n",
    "\n",
    "This is because our two base functions (`da` and `di`) on which we built everything else do not take neighbouring cells as a parameter.\n",
    "\n",
    "So ... we now have to rewrite the functions `da` and `di` so that they do take into account lateral diffusion. And because we are now a bit more advanced, we will write them into one function that takes as input a row of cells at $t$ and outputs the new row of cells at $t+\\delta t$.\n",
    "\n",
    "The function will therefore have the following header:\n",
    "```python\n",
    "def dA_I(A: np.array, I: np.array, dt: float, k: float, tau: float,\n",
    "         dx: float, mu_a: float, mu_i: float) -> (np.array, np.array):\n",
    "    new_A = np.zeros_like(A)\n",
    "    new_I = np.zeros_like(I)\n",
    "    ## Do the correct thing\n",
    "    return new_A, new_I\n",
    "```"
   ]
  },
  {
   "cell_type": "code",
   "execution_count": null,
   "id": "56693ef6",
   "metadata": {},
   "outputs": [],
   "source": [
    "# Usual reloading of all the previous libraries etc.\n",
    "\n",
    "import numpy as np\n",
    "from Resources.UsefulFunctions import *\n",
    "from Resources.Answers import answer, hint\n",
    "\n",
    "mu_a = 2.8e-4\n",
    "mu_i = 5e-3\n",
    "tau = .1\n",
    "k = -.005\n",
    "size = 100\n",
    "dx = dy = 2. / size\n",
    "T = 9.0\n",
    "dt = .001\n",
    "n = int(T / dt)"
   ]
  },
  {
   "cell_type": "code",
   "execution_count": null,
   "id": "0f2def74",
   "metadata": {},
   "outputs": [],
   "source": [
    "np.random.seed(0)\n",
    "A = np.random.random(100)\n",
    "np.random.seed(1)\n",
    "I = np.random.random(100)\n",
    "\n",
    "def dA_I(A, I, dt, k, tau, dx, mu_a, mu_i):\n",
    "    new_A = np.zeros_like(A)\n",
    "    new_I = np.zeros_like(I)\n",
    "    # Do something here\n",
    "    return new_A, new_I\n",
    "\n",
    "new_A, new_I = dA_I(A, I, dt=dt, k=k, tau=tau,\n",
    "                    dx=dx, mu_a=mu_a, mu_i=mu_i)"
   ]
  },
  {
   "cell_type": "code",
   "execution_count": null,
   "id": "7648300c",
   "metadata": {},
   "outputs": [],
   "source": [
    "## Checking wether your results are correct:\n",
    "A_ans, I_ans = answer_results(14, A=A, I=I, dt=dt, k=k, tau=tau,\n",
    "                              dx=dx, mu_a=mu_a, mu_i=mu_i)\n",
    "\n",
    "if np.alltrue(A_ans==new_A) and np.alltrue(I_ans==new_I):\n",
    "    print('My results are the same as what is expected')\n",
    "elif np.allclose(A_ans, new_A) and np.allclose(I_ans, new_I):\n",
    "    print('My results are all close to what is expected')\n",
    "else:\n",
    "    print('My results are different to what was expected')"
   ]
  },
  {
   "cell_type": "markdown",
   "id": "0991747c",
   "metadata": {},
   "source": [
    "Now, the function `dA_I` gives us the value of `A` and `I` from one time to the next with lateral diffusion.\n",
    "The next step is to write a `for` loop that allows to compute our systems over all the necessary time-points.\n",
    "\n",
    "### Exercise 15\n",
    "Write a `for` loop that computes the concentration of a row of cells over `n` time-points."
   ]
  },
  {
   "cell_type": "code",
   "execution_count": null,
   "id": "06588d64",
   "metadata": {},
   "outputs": [],
   "source": [
    "A = np.zeros((size, n))\n",
    "I = np.zeros((size, n))\n",
    "np.random.seed(0)\n",
    "A[:, 0] = np.random.random(100)\n",
    "np.random.seed(1)\n",
    "I[:, 0] = np.random.random(100)\n",
    "\n",
    "for t in range(1, n):\n",
    "    # do what is necessary\n",
    "    A[:, t], I[:, t] = dA_I(A[:, t-1], I[:, t-1], dt=dt, k=k, tau=tau,\n",
    "                            dx=dx, mu_a=mu_a, mu_i=mu_i)"
   ]
  },
  {
   "cell_type": "code",
   "execution_count": null,
   "id": "f85caf6e",
   "metadata": {},
   "outputs": [],
   "source": [
    "plot_concentration_1D(A, step=100)"
   ]
  },
  {
   "cell_type": "markdown",
   "id": "07d0a21d",
   "metadata": {},
   "source": [
    "While the result is different from what we had before, it is not by a lot.\n",
    "We can now start playing with the parameters a little bit and check what would be happening to the oscillatory behaviour we found earlier:"
   ]
  },
  {
   "cell_type": "code",
   "execution_count": null,
   "id": "ba1e96b4",
   "metadata": {},
   "outputs": [],
   "source": [
    "A = np.zeros((size, n))\n",
    "I = np.zeros((size, n))\n",
    "np.random.seed(0)\n",
    "A[:, 0] = np.random.random(100)\n",
    "np.random.seed(1)\n",
    "I[:, 0] = np.random.random(100)\n",
    "\n",
    "for t in range(1, n):\n",
    "    # do what is necessary\n",
    "    A[:, t], I[:, t] = dA_I(A[:, t-1], I[:, t-1], dt=.01, k=.05, tau=2,\n",
    "                            dx=.0005, mu_a=mu_a, mu_i=mu_i)\n",
    "plot_concentration_1D(A, step=100)"
   ]
  },
  {
   "cell_type": "markdown",
   "id": "8837acc8",
   "metadata": {},
   "source": [
    "We can see the cells actually synchronising!\n",
    "\n",
    "You can now play a bit more with the different parameters before starting the final part: the \"real\" Turing patterns, in 2D."
   ]
  },
  {
   "cell_type": "code",
   "execution_count": null,
   "id": "0ab83bb4",
   "metadata": {},
   "outputs": [],
   "source": [
    "# You can \"play\" here"
   ]
  }
 ],
 "metadata": {
  "kernelspec": {
   "display_name": "Python 3 (ipykernel)",
   "language": "python",
   "name": "python3"
  },
  "language_info": {
   "codemirror_mode": {
    "name": "ipython",
    "version": 3
   },
   "file_extension": ".py",
   "mimetype": "text/x-python",
   "name": "python",
   "nbconvert_exporter": "python",
   "pygments_lexer": "ipython3",
   "version": "3.10.4"
  }
 },
 "nbformat": 4,
 "nbformat_minor": 5
}
