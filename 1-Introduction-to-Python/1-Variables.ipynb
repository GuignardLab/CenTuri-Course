{
 "cells": [
  {
   "cell_type": "markdown",
   "id": "85b3fe97",
   "metadata": {},
   "source": [
    "# Table of contents\n",
    "0. [Introduction](0-Introduction.ipynb)\n",
    "1. [Variables]() $\\leftarrow$\n",
    "2. [Data structures](2-Data-Structures.ipynb)\n",
    "3. [Conditional statements and loops](3-Conditional-Statements-Loops.ipynb)\n",
    "4. [Some exercises](4-Some-Exercises.ipynb)\n",
    "5. [Introduction to functions](5-0-Introduction-function.ipynb)\n",
    "    1. [File manipulation](5-1-File-manipulation.ipynb)\n",
    "6. [From 0D to 1D](6-1-From-0D-to-1D.ipynb)\n",
    "    1. [Adding lateral diffusion](6-2-Adding-lateral-diffusion.ipynb)\n",
    "7. [From 1D to 2D](7-From-1D-to-2D.ipynb)\n",
    "8. [Playing with the model](8-Playing-with-the-model.ipynb)"
   ]
  },
  {
   "cell_type": "markdown",
   "id": "f2eda5a7",
   "metadata": {},
   "source": [
    "## 1. Variables\n",
    "---\n",
    "Variables are symbolic names where information or values can be stored.\n",
    "\n",
    "They are the cornerstone of coding, they allow you to store in memory values and to access them later on. In our example the variables have been described earlier (`mu_a`, `tau`, `size`, ...)\n",
    "\n",
    "To assign an information to a variable, the `=` operator is used.\n",
    "\n",
    "> ⚠️ be careful, `=` is the assignment operator. To check the equality between two variables, the required operator is `==` ⚠️\n",
    "\n",
    "For example after the following line of code is ran:"
   ]
  },
  {
   "cell_type": "code",
   "execution_count": null,
   "id": "831989c5",
   "metadata": {},
   "outputs": [],
   "source": [
    "a_number = 0\n",
    "a_number = 10\n",
    "another_number = 1"
   ]
  },
  {
   "cell_type": "markdown",
   "id": "68e9198d",
   "metadata": {},
   "source": [
    "The variable `a_number` used to contain the value `0` and now contains the value `10`.\n",
    "\n",
    "The variable `another_number` contains the values `1`.\n",
    "\n",
    "It is possible to display what is contained in a variable using the function `print` for example:"
   ]
  },
  {
   "cell_type": "code",
   "execution_count": null,
   "id": "e31c1885",
   "metadata": {},
   "outputs": [],
   "source": [
    "print(f\"{a_number = }\")"
   ]
  },
  {
   "cell_type": "markdown",
   "id": "2baf5349",
   "metadata": {},
   "source": [
    "The content of a variable can be stored in another variable and then changed without altering it:"
   ]
  },
  {
   "cell_type": "code",
   "execution_count": null,
   "id": "fb6fb574",
   "metadata": {},
   "outputs": [],
   "source": [
    "a_number = 5\n",
    "another_number = a_number\n",
    "a_number = 1\n",
    "print(f\"{another_number = }\")\n",
    "print(f\"{a_number = }\")"
   ]
  },
  {
   "cell_type": "markdown",
   "id": "9fe69e0a",
   "metadata": {},
   "source": [
    "Variables can contain most (computational) things (especially in Python).\n",
    "For example they can contain different types of data such as `list`, `dictionary` or `ndarray` (we will see what they are right after)\n",
    "\n",
    "In variables can also be stored the result of an operation:"
   ]
  },
  {
   "cell_type": "code",
   "execution_count": null,
   "id": "9916108b",
   "metadata": {},
   "outputs": [],
   "source": [
    "nb1 = 1\n",
    "nb2 = 3\n",
    "sum_nb1_2 = nb1 + nb2\n",
    "print(f\"{nb1 = }\")\n",
    "print(f\"{nb2 = }\")\n",
    "print(f\"{sum_nb1_2 = }\")"
   ]
  },
  {
   "cell_type": "markdown",
   "id": "5b42be7b",
   "metadata": {},
   "source": [
    "### 1.1 Exercises:\n",
    "Before any exercise, import the `answer` function which allows you to check out the correction of the exercises the following way:\n",
    "```python\n",
    "answer(<exo_num>)\n",
    "```\n",
    "You can import the function as shown just below. It needs to be imported only once for each notebook"
   ]
  },
  {
   "cell_type": "code",
   "execution_count": null,
   "id": "61b43c36",
   "metadata": {},
   "outputs": [],
   "source": [
    "from centuri_course import answer"
   ]
  },
  {
   "cell_type": "markdown",
   "id": "357f2d7c",
   "metadata": {},
   "source": [
    "#### Exercise 1\n",
    "Set the value of the variables necessary for the model as follow:\n",
    "- mu_a: 0.0002.8\n",
    "- mu_i: 0.005\n",
    "- tau: 0.1\n",
    "- k: -0.005\n",
    "- size: 100 \n",
    "- dx: 2 divided by the size of the grid\n",
    "- dy: 2 divided by the size of the grid\n",
    "- T: 9\n",
    "- dt: 0.001\n",
    "- n: number of iterations which is the total time `T` divided by the time step `dt`"
   ]
  },
  {
   "cell_type": "code",
   "execution_count": null,
   "id": "4e33ad64",
   "metadata": {},
   "outputs": [],
   "source": [
    "### Write the answer of the previous question here.\n",
    "# You can check the answer by running answer(1)"
   ]
  },
  {
   "cell_type": "markdown",
   "id": "b7a7be3b",
   "metadata": {},
   "source": [
    "#### Exercise 2\n",
    "Given a variable `nb1` and a variable `nb2`, put the values of each other variables in the other one\n",
    "\n",
    "(Note that we are using the library `random` to generate random numbers)"
   ]
  },
  {
   "cell_type": "code",
   "execution_count": null,
   "id": "f12a5734",
   "metadata": {},
   "outputs": [],
   "source": [
    "from random import (\n",
    "    randint,\n",
    ")  # To generate random numbers so you can't really cheat\n",
    "\n",
    "nb1 = randint(0, 5)\n",
    "nb2 = randint(6, 10)\n",
    "print(\"before\")\n",
    "print(f\"{nb1 = }\")\n",
    "print(f\"{nb2 = }\")\n",
    "\"\"\"\n",
    "To do: swap a and b values\n",
    "\"\"\"\n",
    "print(\"after:\")\n",
    "print(f\"{nb1 = }\")\n",
    "print(f\"{nb2 = }\")"
   ]
  }
 ],
 "metadata": {
  "kernelspec": {
   "display_name": "Python 3 (ipykernel)",
   "language": "python",
   "name": "python3"
  },
  "language_info": {
   "codemirror_mode": {
    "name": "ipython",
    "version": 3
   },
   "file_extension": ".py",
   "mimetype": "text/x-python",
   "name": "python",
   "nbconvert_exporter": "python",
   "pygments_lexer": "ipython3",
   "version": "3.10.13"
  }
 },
 "nbformat": 4,
 "nbformat_minor": 5
}
