{
 "cells": [
  {
   "cell_type": "markdown",
   "id": "a9154f35",
   "metadata": {},
   "source": [
    "# Table of contents\n",
    "0. [Introduction](0-Introduction.ipynb)\n",
    "1. [Variables](1-Variables.ipynb)\n",
    "2. [Data structures](2-Data-Structures.ipynb)\n",
    "3. [Conditional statements and loops](3-Conditional-Statements-Loops.ipynb)\n",
    "4. [Some exercises](4-Some-Exercises.ipynb) $\\leftarrow$\n",
    "5. [Introduction to functions](5-0-Introduction-function.ipynb)\n",
    "    1. [File manipulation](5-1-File-manipulation.ipynb)\n",
    "6. [From 0D to 1D](6-1-From-0D-to-1D.ipynb)\n",
    "    1. [Adding lateral diffusion](6-2-Adding-lateral-diffusion.ipynb)\n",
    "7. [From 1D to 2D](7-From-1D-to-2D.ipynb)\n",
    "8. [Playing with the model](8-Playing-with-the-model.ipynb)"
   ]
  },
  {
   "cell_type": "markdown",
   "id": "520c7851",
   "metadata": {},
   "source": [
    "## 4. Some exercises\n",
    "---\n",
    "Now, you should have enough to go through a small batch of exercises 🥳 🥳 🥳.\n",
    "\n",
    "They might be a bit hard, but that's normal, please don't hesitate to ask us if you have any trouble understanding something.\n",
    "\n",
    "The answers are still accessible using the `answer` function with the number of the question as an argument.\n",
    "Also, for some of the following questions, hints are available, run the command `hint(<question_number>)` to access the hint. For example, for a hint for question 3, you can run `hint(3)`.\n",
    "\n",
    "Moreover, you will need a bit of help for the next exercises so we wrote some functions that will be useful.\n",
    "We will describe how they work and how to use them.\n",
    "To load the said function, please run the line below.\n",
    "\n",
    "Note: If you feel like it, you can try to implement these functions yourself."
   ]
  },
  {
   "cell_type": "code",
   "execution_count": 12,
   "id": "2e09bff8",
   "metadata": {},
   "outputs": [],
   "source": [
    "try:\n",
    "    from centuri_course.utils import da_alone, da, di, plot_concentration_1cell\n",
    "    from centuri_course import answer, hint, answer_results\n",
    "except ImportError:\n",
    "    %pip install centuri_course\n",
    "    from centuri_course.utils import da_alone, da, di, plot_concentration_1cell\n",
    "    from centuri_course import answer, hint, answer_results"
   ]
  },
  {
   "cell_type": "markdown",
   "id": "f3cc9e16",
   "metadata": {},
   "source": [
    "Moreover, we need the parameters described earlier, even though it might not be necessary, we rewrite them here for commodity"
   ]
  },
  {
   "cell_type": "code",
   "execution_count": 16,
   "id": "0b0beb91",
   "metadata": {},
   "outputs": [],
   "source": [
    "mu_a = 2.8e-4\n",
    "mu_i = 5e-3\n",
    "tau = 0.1\n",
    "k = -0.005\n",
    "size = 100\n",
    "dx = dy = 2.0 / size\n",
    "T = 9.0\n",
    "dt = 0.001\n",
    "n = int(T / dt)"
   ]
  },
  {
   "cell_type": "markdown",
   "id": "86128ed1",
   "metadata": {},
   "source": [
    "### \"Small\" exercise that does not count\n",
    "\n",
    "Write a loop that computes the sum of the even numbers between 0 and 30."
   ]
  },
  {
   "cell_type": "code",
   "execution_count": 10,
   "id": "5aebd220",
   "metadata": {},
   "outputs": [
    {
     "name": "stdout",
     "output_type": "stream",
     "text": [
      "240\n"
     ]
    }
   ],
   "source": [
    "# Write the loop here\n",
    "stop = 30\n",
    "i = 0\n",
    "sum = 0\n",
    "# while i <= stop:\n",
    "#     sum += i\n",
    "#     i += 2\n",
    "\n",
    "# for i in range(31):\n",
    "#     if i % 2 == 0:\n",
    "#         sum += i\n",
    "\n",
    "for i in range(0, 31, 2):\n",
    "    sum += i\n",
    "print(sum)"
   ]
  },
  {
   "cell_type": "markdown",
   "id": "bc0d8386",
   "metadata": {},
   "source": [
    "Before creating a working 2D Turing pattern, let work out how to make the concentration within a given cell change over time according to the function we defined earlier.\n",
    "\n",
    "### Exercise 3\n",
    "Write a loop that increments the concentration value of the concentration `a` according to the function `da_alone`.\n",
    "\n",
    "The function `da_alone` implements the change of concentration ($\\delta a$) according to $a$, $\\delta t$ and $k$:\n",
    "\n",
    "$$\\delta a = \\delta t (a - a^3 +k)$$\n",
    "\n",
    "`da_alone` takes as parameters the initial concentration value $a$ (`a`), the $\\delta t$ parameter (`dt`) and the $k$ parameter (`k`) and outputs the differential of concentration $\\delta a$ for that specific initial concentration.\n",
    "\n",
    "We are looking at the evolution of the concentration of $a$ over time and that our equation gives us the change of $a$ over a time $\\delta t$"
   ]
  },
  {
   "cell_type": "code",
   "execution_count": 20,
   "id": "23cd797b",
   "metadata": {},
   "outputs": [
    {
     "name": "stdout",
     "output_type": "stream",
     "text": [
      "a                             = 0.9971706727639877\n",
      "Expected value (for a = 0.01) : 0.9971706727639877\n"
     ]
    }
   ],
   "source": [
    "a_t = 0.01\n",
    "# Write here the code necessary\n",
    "for _ in range(n):\n",
    "    da_dt = da_alone(a_t, dt, k)\n",
    "    \n",
    "    a_t_dt = a_t + da_dt\n",
    "    a_t = a_t_dt\n",
    "\n",
    "a = a_t\n",
    "print(f\"{a                             = }\")\n",
    "print(\"Expected value (for a = 0.01) : 0.9971706727639877\")"
   ]
  },
  {
   "cell_type": "markdown",
   "id": "756789b4",
   "metadata": {},
   "source": [
    "### Exercise 3 (bonus)\n",
    "If you feel like it, you can write the function `da_alone`.\n",
    "\n",
    "For a solution you can type `da_alone??` to have access to its implementation."
   ]
  },
  {
   "cell_type": "code",
   "execution_count": 23,
   "id": "925392f9",
   "metadata": {},
   "outputs": [
    {
     "data": {
      "text/plain": [
       "\u001b[0;31mSignature:\u001b[0m \u001b[0mda_alone\u001b[0m\u001b[0;34m(\u001b[0m\u001b[0ma\u001b[0m\u001b[0;34m,\u001b[0m \u001b[0mdt\u001b[0m\u001b[0;34m,\u001b[0m \u001b[0mk\u001b[0m\u001b[0;34m)\u001b[0m\u001b[0;34m\u001b[0m\u001b[0;34m\u001b[0m\u001b[0m\n",
       "\u001b[0;31mSource:\u001b[0m   \n",
       "\u001b[0;32mdef\u001b[0m \u001b[0mda_alone\u001b[0m\u001b[0;34m(\u001b[0m\u001b[0ma\u001b[0m\u001b[0;34m,\u001b[0m \u001b[0mdt\u001b[0m\u001b[0;34m,\u001b[0m \u001b[0mk\u001b[0m\u001b[0;34m)\u001b[0m\u001b[0;34m:\u001b[0m\u001b[0;34m\u001b[0m\n",
       "\u001b[0;34m\u001b[0m    \u001b[0;34m\"\"\"\u001b[0m\n",
       "\u001b[0;34m    Computes the change of concentration given an initial concentration `a`,\u001b[0m\n",
       "\u001b[0;34m    a time increment `dt` and a constant `k`. Note that there is no `i` in\u001b[0m\n",
       "\u001b[0;34m    the equation since it is supposed to be `a` alone.\u001b[0m\n",
       "\u001b[0;34m\u001b[0m\n",
       "\u001b[0;34m    Args:\u001b[0m\n",
       "\u001b[0;34m        a (float): The initial concentration value\u001b[0m\n",
       "\u001b[0;34m        dt (float): the time increment\u001b[0m\n",
       "\u001b[0;34m        k (float): the constant k\u001b[0m\n",
       "\u001b[0;34m\u001b[0m\n",
       "\u001b[0;34m    Returns:\u001b[0m\n",
       "\u001b[0;34m        (float): the change of concentration\u001b[0m\n",
       "\u001b[0;34m    \"\"\"\u001b[0m\u001b[0;34m\u001b[0m\n",
       "\u001b[0;34m\u001b[0m    \u001b[0;32mreturn\u001b[0m \u001b[0mdt\u001b[0m \u001b[0;34m*\u001b[0m \u001b[0;34m(\u001b[0m\u001b[0ma\u001b[0m \u001b[0;34m-\u001b[0m \u001b[0ma\u001b[0m\u001b[0;34m**\u001b[0m\u001b[0;36m3\u001b[0m \u001b[0;34m+\u001b[0m \u001b[0mk\u001b[0m\u001b[0;34m)\u001b[0m\u001b[0;34m\u001b[0m\u001b[0;34m\u001b[0m\u001b[0m\n",
       "\u001b[0;31mFile:\u001b[0m      ~/miniforge3/envs/centuri-course-2024/lib/python3.10/site-packages/centuri_course/utils.py\n",
       "\u001b[0;31mType:\u001b[0m      function"
      ]
     },
     "metadata": {},
     "output_type": "display_data"
    }
   ],
   "source": [
    "da_alone??"
   ]
  },
  {
   "cell_type": "markdown",
   "id": "36e5e15b",
   "metadata": {},
   "source": [
    "### Exercise 4\n",
    "Now we have access to the last value of the concentration but we would like to be able to access all the values in order to plot them.\n",
    "\n",
    "To do so, write a piece of code that stores all the intermediary results in a list."
   ]
  },
  {
   "cell_type": "code",
   "execution_count": 40,
   "id": "e7b74a1a",
   "metadata": {},
   "outputs": [
    {
     "name": "stdout",
     "output_type": "stream",
     "text": [
      "Last value of A (A[-1])           --> 0.9971706727639877\n",
      "Expected value (for A[-1] = 0.01) --> 0.9971706727639877\n"
     ]
    }
   ],
   "source": [
    "# A = [0.01]\n",
    "import numpy as np\n",
    "A = np.zeros(n+1)\n",
    "A[0] = 0.01\n",
    "for t in range(n):\n",
    "    a_t = A[t]\n",
    "    a_t_dt = a_t + da_alone(a_t, dt, k)\n",
    "    # A.append(a_t_dt)\n",
    "    A[t+1] = a_t_dt\n",
    "\n",
    "print(f\"Last value of A (A[-1])           --> {A[-1]}\")\n",
    "print(\"Expected value (for A[-1] = 0.01) --> 0.9971706727639877\")"
   ]
  },
  {
   "cell_type": "markdown",
   "id": "f3fa5109",
   "metadata": {},
   "source": [
    "Given the list of concentrations, one can plot its evolution over time using the function `plot_concentration_1cell`:"
   ]
  },
  {
   "cell_type": "code",
   "execution_count": 41,
   "id": "bacf182f",
   "metadata": {},
   "outputs": [
    {
     "data": {
      "image/png": "[encoded data removed]",
      "text/plain": [
       "<Figure size 500x400 with 1 Axes>"
      ]
     },
     "metadata": {},
     "output_type": "display_data"
    }
   ],
   "source": [
    "plot_concentration_1cell(A)"
   ]
  },
  {
   "cell_type": "markdown",
   "id": "621ea709",
   "metadata": {},
   "source": [
    "### Exercise 5\n",
    "Now that we know how to compute the evolution of a given concentration, we want to compute the co-evolution of an activator and its inhibitor.\n",
    "\n",
    "To do so we can use the functions `da` and `di` that implements the following equations:\n",
    "\n",
    "$$\\delta a = \\delta t(a-a^3-i+k)$$\n",
    "$$\\delta i = \\frac{\\delta t}{\\tau}(a -i)$$\n",
    "Note that the function `da` is slightly different to `da_alone` since it incorporates the inhibitor action $-i$.\n",
    "\n",
    "The function `da` takes as an input the original concentration $a$ (`a`), the time increment parameter $\\delta t$ (`dt`), the constant $k$ (`k`) as for the function `da_alone` but also the original inhibitor concentration $i$ (`i`).\n",
    "\n",
    "The function `di` takes as an input the original concentration $i$ (`i`), the time increment parameter $\\delta t$, the constant $\\tau$ (`tau`) and the original activator concentration $a$ (`a`).\n",
    "\n",
    "**Write code to store in two lists the evolution of the concentrations of the activator and the inhibitor.**"
   ]
  },
  {
   "cell_type": "code",
   "execution_count": 50,
   "id": "a5ee43b4",
   "metadata": {},
   "outputs": [
    {
     "data": {
      "text/plain": [
       "\u001b[0;31mSignature:\u001b[0m \u001b[0mdi\u001b[0m\u001b[0;34m(\u001b[0m\u001b[0mi\u001b[0m\u001b[0;34m,\u001b[0m \u001b[0ma\u001b[0m\u001b[0;34m,\u001b[0m \u001b[0mdt\u001b[0m\u001b[0;34m,\u001b[0m \u001b[0mtau\u001b[0m\u001b[0;34m)\u001b[0m\u001b[0;34m\u001b[0m\u001b[0;34m\u001b[0m\u001b[0m\n",
       "\u001b[0;31mDocstring:\u001b[0m\n",
       "Computes the change of concentration given an initial concentration `i`,\n",
       "a time increment `dt` and a constant `k`.\n",
       "\n",
       "Args:\n",
       "    a (float): the initial concentration value\n",
       "               of the activator\n",
       "    i (float): the initial concentration value\n",
       "               of the inhibitor\n",
       "    dt (float): the time increment\n",
       "    tau (float): the constant tau\n",
       "\n",
       "Returns:\n",
       "    (float): the change of concentration\n",
       "\u001b[0;31mFile:\u001b[0m      ~/miniforge3/envs/centuri-course-2024/lib/python3.10/site-packages/centuri_course/utils.py\n",
       "\u001b[0;31mType:\u001b[0m      function"
      ]
     },
     "metadata": {},
     "output_type": "display_data"
    }
   ],
   "source": [
    "A = [0.4]\n",
    "I = [0.15]\n",
    "# Write the code here\n",
    "# print(\"For the starting values of A[0]=0.4 and I[0]=0.15:\")\n",
    "# print(f\"Last value of A --> {A[-1]}\")\n",
    "# print(\"Expected value  --> 0.17217946292184916\")\n",
    "# print(f\"Last value of I --> {I[-1]}\")\n",
    "# print(\"Expected value  --> 0.1733148395515316\")"
   ]
  },
  {
   "cell_type": "markdown",
   "id": "c4c0b69a",
   "metadata": {},
   "source": [
    "As before, it is possible to plot the values of the concentrations over time using the function `plot_concentration_1cell`.\n",
    "\n",
    "> _**Side note !**_\n",
    ">\n",
    "> If you were not able to solve the previous question, or if you cannot wait before looking at what the graph looks like, the function `answer_results` is there for you!\n",
    ">\n",
    "> You can call it the following way:\n",
    ">\n",
    "> `answer_results(<question_number>, <param_name>=<param_value>, ...)`\n",
    ">\n",
    "> For example, to get the values of A and I from question 4 you can call `answer_results` the following way:\n",
    "> ```python\n",
    "> A, I = answer_results(4, A=0.4, I=0.15, dt=dt, k=k, tau=tau, n=n)\n",
    "> ```\n",
    ">\n",
    "> If you don't know what parameters to give, you can just call `answer_results(<question_number>)` and hopefully it will help ...\n",
    "\n",
    "Now, you can call the function `plot_concentration_1cell` with input `A` and `I` to see the concentration evolution!"
   ]
  },
  {
   "cell_type": "code",
   "execution_count": 51,
   "id": "e3d01ac9",
   "metadata": {},
   "outputs": [
    {
     "data": {
      "image/png": "[encoded data removed]",
      "text/plain": [
       "<Figure size 500x400 with 1 Axes>"
      ]
     },
     "metadata": {},
     "output_type": "display_data"
    }
   ],
   "source": [
    "# Uncomment the following line if you have not computed yet A and I\n",
    "A, I = answer_results(4, A=0.4, I=0.15, dt=dt, k=k, tau=tau, n=n)\n",
    "plot_concentration_1cell(A, I)"
   ]
  }
 ],
 "metadata": {
  "kernelspec": {
   "display_name": "Python 3 (ipykernel)",
   "language": "python",
   "name": "python3"
  },
  "language_info": {
   "codemirror_mode": {
    "name": "ipython",
    "version": 3
   },
   "file_extension": ".py",
   "mimetype": "text/x-python",
   "name": "python",
   "nbconvert_exporter": "python",
   "pygments_lexer": "ipython3",
   "version": "3.10.13"
  }
 },
 "nbformat": 4,
 "nbformat_minor": 5
}
