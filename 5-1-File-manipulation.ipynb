{
 "cells": [
  {
   "cell_type": "markdown",
   "id": "74a7231e",
   "metadata": {},
   "source": [
    "# Table of contents\n",
    "0. [Introduction](0-Introduction.ipynb)\n",
    "1. [Variables](1-Variables.ipynb)\n",
    "2. [Data structures](2-Data-Structures.ipynb)\n",
    "3. [Conditional statements and loops](3-Conditional-Statements-Loops.ipynb)\n",
    "4. [Some exercises](4-Some-Exercises.ipynb)\n",
    "5. [Introduction to functions](5-0-Introduction-function.ipynb)\n",
    "    1. [File manipulation](5-1-File-manipulation.ipynb) $\\leftarrow$\n",
    "6. [From 0D to 1D](6-1-From-0D-to-1D.ipynb)\n",
    "    1. [Adding lateral diffusion](6-2-Adding-lateral-diffusion.ipynb)\n",
    "7. [From 1D to 2D](7-From-1D-to-2D.ipynb)\n",
    "8. [Playing with the model](8-Playing-with-the-model.ipynb)"
   ]
  },
  {
   "cell_type": "markdown",
   "id": "308f4e1d",
   "metadata": {},
   "source": [
    "### Exercise 7\n",
    "**(With an intermezzo about file manipulation)**\n",
    "\n",
    "You can play with the different parameters to see how the concentration dynamics change according to these parameters.\n",
    "\n",
    "Here we would like you to systematically try different parameters and save the produced plots as png files with names containing the parameter values (for example `'test_a0.4_i0.15_dt0.001_k-0.005_tau0.1.png'`).\n",
    "\n",
    "To save the produced plots, you can use the argument `save_path` of the function `plot_concentration_1cell`.\n",
    "If you set its value to the file name and path you want to create, it will save it there under its name.\n",
    "\n",
    "Before being able to do so, you might need some information about how to manipulate strings.\n",
    "In the previous exercises you might have seen that it is possible to insert values from variables within a string using the curved brackets `{` and `}`.\n",
    "\n",
    "Simply put, the way it works is by putting the character `f` before your string and then everything within curved brackets will be transformed into string if possible.\n",
    "For example:\n",
    "```python\n",
    "f'test_a{A[0]}_i{I[0]}_dt{dt}'\n",
    "```\n",
    "will produce the following string:\n",
    "```python\n",
    "'test_a0.4_i0.15_dt0.001'\n",
    "```\n",
    "Note that if the `f` is not in front of the string, the curved brackets will be interpreted as normal characters.\n",
    "\n",
    "**For more on string manipulation, you can read [there](https://docs.python.org/3/tutorial/inputoutput.html#input-and-output)**"
   ]
  },
  {
   "cell_type": "code",
   "execution_count": null,
   "id": "9d50f8b1",
   "metadata": {},
   "outputs": [],
   "source": [
    "print(f'test_a{A[0]}_i{I[0]}_dt{dt}')\n",
    "print('test_a{A[0]}_i{I[0]}_dt{dt}')"
   ]
  },
  {
   "cell_type": "markdown",
   "id": "7a0eef70",
   "metadata": {},
   "source": [
    "#### Avoiding cramping up you current folder\n",
    "If you want to be a little bit cleaner, you can create a folder in which you will save your images.\n",
    "\n",
    "You can create such a folder directly in python using `Path` from the `pathlib` library and the command:\n",
    "```python\n",
    "Path.mkdir('<folder_name>')\n",
    "```\n",
    "For example, to create a folder named `question_7` one could run the command\n",
    "```python\n",
    "Path.mkdir('question_7')\n",
    "```\n",
    "\n",
    "Though, if the folder already exists, the command line will not work and stop the notebook from running.\n",
    "To avoid such a problem, it is possible to check whether the folder already exists using the method `exists` of `Path` as shown below.\n",
    "\n",
    "Let's create the folder `question_7`:"
   ]
  },
  {
   "cell_type": "code",
   "execution_count": null,
   "id": "c484937e",
   "metadata": {},
   "outputs": [],
   "source": [
    "from pathlib import Path\n",
    "folder = Path('question_7')\n",
    "if not folder.exists():\n",
    "    Path.mkdir(folder)"
   ]
  },
  {
   "cell_type": "markdown",
   "id": "a079292d",
   "metadata": {},
   "source": [
    "#### Path manipulation\n",
    "Some of you might already be aware that playing with paths can be a pain.\n",
    "The problem comes from the fact that Windows has a different way to represent a path to a folder than Linux and MacOs.\n",
    "\n",
    "> **_Side Note: what's a path?!_**\n",
    ">\n",
    "> In a computer the folders and files are organised hierarchically.\n",
    "> What it means is that each file or folder except for one, the root, is in a folder.\n",
    "> For example, the folder you created earlier (`question_7`) is itself in a folder.\n",
    ">\n",
    "> To access a file or folder, it is sometimes necessary to know the sequence of folders it is in so there is no ambiguity for the computer.\n",
    "> The sequence of folders a folder or a file belongs to is the **path** and it can be represented as a string.\n",
    "> For example, you can call the function `Path.cwd` (for the current working directory).\n",
    "> To query the list of directories your notebook is running in:"
   ]
  },
  {
   "cell_type": "code",
   "execution_count": null,
   "id": "112df024",
   "metadata": {},
   "outputs": [],
   "source": [
    "print('Our current path:')\n",
    "print(Path.cwd())"
   ]
  },
  {
   "cell_type": "markdown",
   "id": "b3ac3ae1",
   "metadata": {},
   "source": [
    "> You can maybe see that the folders are separated by a `/` (or a `\\` for Windows).\n",
    "> This difference between Linux or MacOs and Windows has been quite a source of trouble, some of you might have experienced it.\n",
    "\n",
    "Now, to save an image in the folder `'question_7'`, as we would like to do, we just need to concatenate the image name to the folder name:\n",
    "```python\n",
    "folder / 'test_a0.4_i0.15_dt0.001.png'\n",
    "```\n",
    "\n",
    "Note that the `/` in this case is a concatenation operator specific to the objects of the `path` library. The operator concatenates two `Path` or a `Path` and a `str` putting the operating specific folder separator (\n",
    "`/` or `\\`).\n",
    "\n",
    "**More info about the `pathlib` can be found [there](https://docs.python.org/3/library/pathlib.html)**"
   ]
  },
  {
   "cell_type": "code",
   "execution_count": null,
   "id": "86dfab72",
   "metadata": {},
   "outputs": [],
   "source": [
    "## folder is the path previously created\n",
    "# Concatenation of two Paths\n",
    "print(folder / Path('test_a0.4_i0.15_dt0.001.png'))\n",
    "# Concatenation of a Path and a str (same result)\n",
    "print(folder / 'test_a0.4_i0.15_dt0.001.png')"
   ]
  },
  {
   "cell_type": "markdown",
   "id": "f33f9d39",
   "metadata": {},
   "source": [
    "Now we can *cleanly* answer question 6.\n",
    "Let assumes that we want the following values:\n",
    "- `tau` changes from `0.05` to `3` and that we want `5` values within that interval\n",
    "- `k` changes from `-1` to `1` and that we also want `5` values within that interval\n",
    "- and a fixed `dt=0.01`\n",
    "\n",
    "**Write some lines of code to compute and save the requested plots**\n",
    "\n",
    "Note: you can use the function `np.linspace` to generate the desired values"
   ]
  },
  {
   "cell_type": "code",
   "execution_count": null,
   "id": "ca889228",
   "metadata": {},
   "outputs": [],
   "source": [
    "import numpy as np\n",
    "folder = Path('question_7')\n",
    "for test_tau in np.linspace(.05, 1, 5):\n",
    "    for test_k in np.linspace(-1, 1, 5):\n",
    "        A, I = answer_results(4, A=0.4, I=0.15, dt=dt, k=test_k, tau=test_tau, n=n)\n",
    "        plot_concentration_1cell(A, I,\n",
    "                                 save_path=folder / f'k{test_k}_tau{test_tau}.png')"
   ]
  },
  {
   "cell_type": "markdown",
   "id": "e7fb6bff",
   "metadata": {},
   "source": [
    "An interesting configuration where we can see some oscillations:\n",
    "- `dt=0.01`\n",
    "- `k=0.05`\n",
    "- `tau=2`\n",
    "\n",
    "You can manually change the parameters to try to find other *weird* configurations"
   ]
  },
  {
   "cell_type": "code",
   "execution_count": null,
   "id": "e233dafe",
   "metadata": {},
   "outputs": [],
   "source": [
    "A, I = answer_results(4, A=0.4, I=0.15, dt=.01, k=.05, tau=2, n=n)\n",
    "plot_concentration_1cell(A, I)"
   ]
  },
  {
   "cell_type": "markdown",
   "id": "3fe7da7b",
   "metadata": {},
   "source": [
    "### Exercise 8\n",
    "**This exercise is difficult, it might take a bit longer to solve. If you are stuck, don't hesitate to look at the following cells for some help**\n",
    "\n",
    "For this exercise, we will discuss about file manipulation, in other words how to move files automatically.\n",
    "\n",
    "**Attention here! Proceed with caution for this exercise but also in general. Files removed using Python (or the shell for example) do not end up in the trash but are directly removed!**\n",
    "\n",
    "In this exercise we would like to sort the files created in the previous exercise. We would like to group the plots generated previously in folders by values of `k` and so that the folders are named according to that `k` value.\n",
    "\n",
    "For example if you had the following files in your `exercise_7` folder:\n",
    "```\n",
    "exercise_7:\n",
    " | k0_tau0.png\n",
    " | k0_tau1.png\n",
    " | k0_tau2.png\n",
    " | k1_tau0.png\n",
    " | k1_tau1.png\n",
    " | k1_tau2.png\n",
    " | k2_tau0.png\n",
    " | k2_tau1.png\n",
    " | k2_tau2.png\n",
    "```\n",
    "We would like you to create the following hierarchy:\n",
    "```\n",
    "exercise_7:\n",
    " | k0:\n",
    "   | k0_tau0.png\n",
    "   | k0_tau1.png\n",
    "   | k0_tau2.png\n",
    " | k1:\n",
    "   | k1_tau0.png\n",
    "   | k1_tau1.png\n",
    "   | k1_tau2.png\n",
    " | k2:\n",
    "   | k2_tau0.png\n",
    "   | k2_tau1.png\n",
    "   | k2_tau2.png\n",
    "```\n",
    "\n",
    "To do so you can use the following functions (assuming `p` is a `Path`):\n",
    "- `Path.iterdir` allows to loop through all the files of a directory\n",
    "- `p.name` retrieves the name of the file in `p` as a `str`\n",
    "- `str.split` splits a string\n",
    "- `Path.exists` see above\n",
    "- `p.rename` allows to rename (and therefore move) `p`\n",
    "\n",
    "Do not hesitate to look at the help of each of these functions (you should do it!)."
   ]
  },
  {
   "cell_type": "code",
   "execution_count": null,
   "id": "fe84cd04",
   "metadata": {},
   "outputs": [],
   "source": [
    "p = Path('question_7')\n",
    "for file in p.iterdir():\n",
    "    ## Do things here\n",
    "    print(file)"
   ]
  },
  {
   "cell_type": "markdown",
   "id": "60aa0ed9",
   "metadata": {},
   "source": [
    "### Help for exercise 8\n",
    "Because the difficulty increased significantly with this exercise, here are some leads that hopefully will help you solve the exercise!\n",
    "\n",
    "One way to solve a coding problem is to decompose it in multiple smaller problems.\n",
    "There are often multiple ways to decompose a problem, we will show you one here, it might not be the optimal one (regardless of the optimal metric used) but it should be a working one.\n",
    "To build that decomposition, it can sometimes be useful to rephrase the problem in terms of what you want the code to do:\n",
    "\n",
    "<details>\n",
    "    <summary><b>Click here to display the pseudo-code<b/></summary>\n",
    "    \n",
    "```\n",
    "for each file in folder do (1)\n",
    "    if the file is a png file do (2)\n",
    "        k_value <- get what is the value of k for that file (3)\n",
    "        if folder with k value does not exist do (4)\n",
    "            create new folder with k value\n",
    "        end if\n",
    "        move file to folder with k value (5)\n",
    "    end if\n",
    "end for\n",
    "```\n",
    "\n",
    "</details>\n",
    "\n",
    "\n",
    "This decomposition allows to identify the important points in the code and to organise the code to be produced.\n",
    "Here, we want to loop on the files (1), check if the file is a file of interest (2), retrieve the value of `k` in the file name (3), create a folder with the `k` value if necessary (4) and move the file in the appropriate folder (5).\n",
    "        \n",
    "Now, one can try to solve the 5 problems independently and ultimately assemble them to answer the question."
   ]
  }
 ],
 "metadata": {
  "kernelspec": {
   "display_name": "Python 3 (ipykernel)",
   "language": "python",
   "name": "python3"
  },
  "language_info": {
   "codemirror_mode": {
    "name": "ipython",
    "version": 3
   },
   "file_extension": ".py",
   "mimetype": "text/x-python",
   "name": "python",
   "nbconvert_exporter": "python",
   "pygments_lexer": "ipython3",
   "version": "3.10.4"
  }
 },
 "nbformat": 4,
 "nbformat_minor": 5
}
